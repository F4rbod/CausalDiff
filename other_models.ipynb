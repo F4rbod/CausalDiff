{
 "cells": [
  {
   "cell_type": "markdown",
   "metadata": {},
   "source": [
    "# Setup\n"
   ]
  },
  {
   "cell_type": "code",
   "execution_count": 1,
   "metadata": {
    "notebookRunGroups": {
     "groupValue": "1"
    }
   },
   "outputs": [
    {
     "name": "stdout",
     "output_type": "stream",
     "text": [
      "/work/postresearch/Shared/Researchers/Farbod/cancer/code/CausalDiff\n"
     ]
    }
   ],
   "source": [
    "import os\n",
    "# set wd to cancer\n",
    "os.chdir(\"/work/postresearch/Shared/Researchers/Farbod/cancer/code/CausalDiff\")\n",
    "print(os.getcwd())"
   ]
  },
  {
   "cell_type": "code",
   "execution_count": 2,
   "metadata": {
    "notebookRunGroups": {
     "groupValue": "1"
    }
   },
   "outputs": [],
   "source": [
    "import os\n",
    "import sys\n",
    "import math\n",
    "import copy\n",
    "import logging\n",
    "import requests\n",
    "import zipfile\n",
    "import pickle\n",
    "import numpy as np\n",
    "import pandas as pd\n",
    "import matplotlib.pyplot as plt\n",
    "\n",
    "import torch\n",
    "import torch.nn as nn\n",
    "import torch.nn.functional as F\n",
    "from torch.utils.data import DataLoader, Dataset\n",
    "\n",
    "from itertools import chain\n",
    "from typing import Union\n",
    "\n",
    "from sklearn.linear_model import LinearRegression, LogisticRegression\n",
    "from sklearn.multioutput import MultiOutputClassifier, MultiOutputRegressor\n",
    "\n",
    "from pytorch_lightning import LightningModule, Trainer\n",
    "from omegaconf import DictConfig, OmegaConf\n",
    "from omegaconf.errors import MissingMandatoryValue\n",
    "\n",
    "import ray\n",
    "from ray import tune, ray_constants\n",
    "\n",
    "import hydra\n",
    "from hydra import initialize, compose\n",
    "from hydra.utils import instantiate\n",
    "\n",
    "from einops import rearrange, reduce, repeat\n",
    "from einops.layers.torch import Rearrange, Reduce\n",
    "\n",
    "from IPython.core.interactiveshell import InteractiveShell\n",
    "\n",
    "from src.data import RealDatasetCollection, SyntheticDatasetCollection\n",
    "from src.models import TimeVaryingCausalModel\n",
    "from src.models.utils import (\n",
    "    grad_reverse,\n",
    "    BRTreatmentOutcomeHead,\n",
    "    AlphaRise,\n",
    "    clip_normalize_stabilized_weights,\n",
    ")\n",
    "from src.models.utils_lstm import VariationalLSTM\n",
    "from copy import deepcopy\n",
    "\n",
    "InteractiveShell.ast_node_interactivity = \"all\""
   ]
  },
  {
   "cell_type": "code",
   "execution_count": 3,
   "metadata": {
    "notebookRunGroups": {
     "groupValue": "1"
    }
   },
   "outputs": [
    {
     "name": "stdout",
     "output_type": "stream",
     "text": [
      "2.0.0+cu118\n",
      "11.8\n",
      "Number of available GPUs: 4\n",
      "GPU 0: NVIDIA A100 80GB PCIe\n",
      "GPU 1: NVIDIA A100 80GB PCIe\n",
      "GPU 2: NVIDIA A100 80GB PCIe\n",
      "GPU 3: NVIDIA A100 80GB PCIe\n"
     ]
    }
   ],
   "source": [
    "# show pytorch version and cuda version\n",
    "print(torch.__version__)\n",
    "print(torch.version.cuda)\n",
    "\n",
    "if torch.cuda.is_available():\n",
    "    num_gpus = torch.cuda.device_count()\n",
    "    print(f\"Number of available GPUs: {num_gpus}\")\n",
    "    for i in range(num_gpus):\n",
    "        gpu_name = torch.cuda.get_device_name(i)\n",
    "        print(f\"GPU {i}: {gpu_name}\")\n",
    "else:\n",
    "    print(\"CUDA is not available. No GPUs detected.\")"
   ]
  },
  {
   "cell_type": "markdown",
   "metadata": {},
   "source": [
    "# MSM\n"
   ]
  },
  {
   "cell_type": "code",
   "execution_count": null,
   "metadata": {},
   "outputs": [
    {
     "name": "stderr",
     "output_type": "stream",
     "text": [
      "INFO:__main__:\n",
      "dataset:\n",
      "  _target_: src.data.SyntheticCancerDatasetCollection\n",
      "  name: tumor_generator\n",
      "  coeff: 4\n",
      "  chemo_coeff: 4\n",
      "  radio_coeff: 4\n",
      "  seed: 100\n",
      "  num_patients:\n",
      "    train: 10000\n",
      "    val: 1000\n",
      "    test: 100\n",
      "  window_size: 15\n",
      "  lag: 0\n",
      "  max_seq_length: 60\n",
      "  projection_horizon: 5\n",
      "  cf_seq_mode: sliding_treatment\n",
      "  val_batch_size: 512\n",
      "  treatment_mode: multilabel\n",
      "model:\n",
      "  dim_treatments: 4\n",
      "  dim_vitals: 0\n",
      "  dim_static_features: 1\n",
      "  dim_outcomes: 1\n",
      "  min_length: 1\n",
      "  lag_features: 1\n",
      "  name: MSM\n",
      "  propensity_treatment:\n",
      "    _target_: src.models.msm.MSMPropensityTreatment\n",
      "  propensity_history:\n",
      "    _target_: src.models.msm.MSMPropensityHistory\n",
      "  msm_regressor:\n",
      "    _target_: src.models.msm.MSMRegressor\n",
      "exp:\n",
      "  unscale_rmse: true\n",
      "  percentage_rmse: true\n",
      "  seed: 100\n",
      "  max_epochs: 100\n",
      "  gpus:\n",
      "  - 0\n",
      "  logging: true\n",
      "  mlflow_uri: http://127.0.0.1:8081\n",
      "  alpha: 1.0\n",
      "  update_alpha: false\n",
      "  alpha_rate: exp\n",
      "  balancing: null\n",
      "  bce_weight: false\n",
      "  weights_ema: null\n",
      "  beta: 0.99\n",
      "\n",
      "Global seed set to 100\n",
      "INFO:root:Simulating initial volumes for stage I  with norm params: mu=1.72, sigma=4.7, lb=-0.6221218732608373, ub=-0.023523848418276528\n",
      "INFO:root:Simulating initial volumes for stage II  with norm params: mu=1.96, sigma=1.63, lb=-1.9410876100159118, ub=0.3711345751297772\n",
      "INFO:root:Simulating initial volumes for stage IIIA  with norm params: mu=1.91, sigma=9.4, lb=-0.33127370258786554, ub=0.06967546355973796\n",
      "INFO:root:Simulating initial volumes for stage IIIB  with norm params: mu=2.76, sigma=6.87, lb=-0.5769974969906748, ub=-0.02839165102452155\n",
      "INFO:root:Simulating initial volumes for stage IV  with norm params: mu=3.86, sigma=8.82, lb=-0.5741465764541877, ub=-0.14683113860980307\n",
      "INFO:root:Got correlated params for 4597 patients\n",
      "INFO:root:Got correlated params for 9177 patients\n"
     ]
    },
    {
     "name": "stderr",
     "output_type": "stream",
     "text": [
      "INFO:root:Got correlated params for 13793 patients\n",
      "INFO:root:Simulating beta_c parameters\n",
      "INFO:root:Randomising outputs\n",
      "  0%|          | 0/10000 [00:00<?, ?it/s]/work/postresearch/Shared/Researchers/Farbod/cancer/code/CausalDiff/src/data/cancer_sim/cancer_simulation.py:346: RuntimeWarning: overflow encountered in exp\n",
      "  if recovery_rvs[i, t] < np.exp(-cancer_volume[i, t] * TUMOUR_CELL_DENSITY):\n",
      "100%|██████████| 10000/10000 [00:12<00:00, 795.51it/s]\n",
      "INFO:root:Simulating initial volumes for stage I  with norm params: mu=1.72, sigma=4.7, lb=-0.6221218732608373, ub=-0.023523848418276528\n",
      "INFO:root:Simulating initial volumes for stage II  with norm params: mu=1.96, sigma=1.63, lb=-1.9410876100159118, ub=0.3711345751297772\n",
      "INFO:root:Simulating initial volumes for stage IIIA  with norm params: mu=1.91, sigma=9.4, lb=-0.33127370258786554, ub=0.06967546355973796\n",
      "INFO:root:Simulating initial volumes for stage IIIB  with norm params: mu=2.76, sigma=6.87, lb=-0.5769974969906748, ub=-0.02839165102452155\n",
      "INFO:root:Simulating initial volumes for stage IV  with norm params: mu=3.86, sigma=8.82, lb=-0.5741465764541877, ub=-0.14683113860980307\n",
      "INFO:root:Got correlated params for 444 patients\n",
      "INFO:root:Got correlated params for 922 patients\n",
      "INFO:root:Got correlated params for 1372 patients\n",
      "INFO:root:Simulating beta_c parameters\n",
      "INFO:root:Randomising outputs\n",
      "100%|██████████| 1000/1000 [00:01<00:00, 806.61it/s]\n",
      "INFO:root:Simulating initial volumes for stage I  with norm params: mu=1.72, sigma=4.7, lb=-0.6221218732608373, ub=-0.023523848418276528\n",
      "INFO:root:Simulating initial volumes for stage II  with norm params: mu=1.96, sigma=1.63, lb=-1.9410876100159118, ub=0.3711345751297772\n",
      "INFO:root:Simulating initial volumes for stage IIIA  with norm params: mu=1.91, sigma=9.4, lb=-0.33127370258786554, ub=0.06967546355973796\n",
      "INFO:root:Simulating initial volumes for stage IIIB  with norm params: mu=2.76, sigma=6.87, lb=-0.5769974969906748, ub=-0.02839165102452155\n",
      "INFO:root:Simulating initial volumes for stage IV  with norm params: mu=3.86, sigma=8.82, lb=-0.5741465764541877, ub=-0.14683113860980307\n",
      "INFO:root:Got correlated params for 37 patients\n",
      "INFO:root:Got correlated params for 82 patients\n",
      "INFO:root:Got correlated params for 131 patients\n",
      "INFO:root:Simulating beta_c parameters\n",
      "INFO:root:Randomising outputs\n",
      " 31%|███       | 31/100 [00:02<00:05, 12.21it/s]/work/postresearch/Shared/Researchers/Farbod/cancer/code/CausalDiff/src/data/cancer_sim/cancer_simulation.py:39: RuntimeWarning: invalid value encountered in scalar power\n",
      "  return ((volume / (4 / 3 * np.pi)) ** (1 / 3)) * 2\n",
      "100%|██████████| 100/100 [00:07<00:00, 13.14it/s]\n",
      "INFO:root:Simulating initial volumes for stage I  with norm params: mu=1.72, sigma=4.7, lb=-0.6221218732608373, ub=-0.023523848418276528\n",
      "INFO:root:Simulating initial volumes for stage II  with norm params: mu=1.96, sigma=1.63, lb=-1.9410876100159118, ub=0.3711345751297772\n",
      "INFO:root:Simulating initial volumes for stage IIIA  with norm params: mu=1.91, sigma=9.4, lb=-0.33127370258786554, ub=0.06967546355973796\n",
      "INFO:root:Simulating initial volumes for stage IIIB  with norm params: mu=2.76, sigma=6.87, lb=-0.5769974969906748, ub=-0.02839165102452155\n",
      "INFO:root:Simulating initial volumes for stage IV  with norm params: mu=3.86, sigma=8.82, lb=-0.5741465764541877, ub=-0.14683113860980307\n",
      "INFO:root:Got correlated params for 51 patients\n",
      "INFO:root:Got correlated params for 95 patients\n",
      "INFO:root:Got correlated params for 147 patients\n",
      "INFO:root:Simulating beta_c parameters\n",
      "INFO:root:Randomising outputs\n"
     ]
    },
    {
     "name": "stdout",
     "output_type": "stream",
     "text": [
      "Call to simulate counterfactuals data\n"
     ]
    },
    {
     "name": "stderr",
     "output_type": "stream",
     "text": [
      "100%|██████████| 100/100 [00:02<00:00, 43.78it/s]\n",
      "INFO:src.data.cancer_sim.dataset:Processing train dataset before training\n",
      "INFO:src.data.cancer_sim.dataset:Shape of processed train data: {'cancer_volume': (10000, 60), 'chemo_dosage': (10000, 60), 'radio_dosage': (10000, 60), 'chemo_application': (10000, 60), 'radio_application': (10000, 60), 'chemo_probabilities': (10000, 60), 'radio_probabilities': (10000, 60), 'sequence_lengths': (10000,), 'death_flags': (10000, 60), 'recovery_flags': (10000, 60), 'patient_types': (10000,), 'prev_treatments': (10000, 59, 2), 'current_treatments': (10000, 59, 2), 'current_covariates': (10000, 59, 2), 'outputs': (10000, 59, 1), 'active_entries': (10000, 59, 1), 'unscaled_outputs': (10000, 59, 1), 'prev_outputs': (10000, 59, 1), 'static_features': (10000, 1)}\n",
      "INFO:src.data.cancer_sim.dataset:Processing val dataset before training\n",
      "INFO:src.data.cancer_sim.dataset:Shape of processed val data: {'cancer_volume': (1000, 60), 'chemo_dosage': (1000, 60), 'radio_dosage': (1000, 60), 'chemo_application': (1000, 60), 'radio_application': (1000, 60), 'chemo_probabilities': (1000, 60), 'radio_probabilities': (1000, 60), 'sequence_lengths': (1000,), 'death_flags': (1000, 60), 'recovery_flags': (1000, 60), 'patient_types': (1000,), 'prev_treatments': (1000, 59, 2), 'current_treatments': (1000, 59, 2), 'current_covariates': (1000, 59, 2), 'outputs': (1000, 59, 1), 'active_entries': (1000, 59, 1), 'unscaled_outputs': (1000, 59, 1), 'prev_outputs': (1000, 59, 1), 'static_features': (1000, 1)}\n",
      "INFO:src.data.cancer_sim.dataset:Processing test dataset before training\n",
      "INFO:src.data.cancer_sim.dataset:Shape of processed test data: {'cancer_volume': (22260, 60), 'chemo_application': (22260, 60), 'radio_application': (22260, 60), 'sequence_lengths': (22260,), 'patient_types': (22260,), 'median_cancer_volume': (22260, 60), 'cancer_volume_5th_percentile': (22260, 60), 'cancer_volume_95th_percentile': (22260, 60), 'prev_treatments': (22260, 59, 2), 'current_treatments': (22260, 59, 2), 'current_covariates': (22260, 59, 2), 'outputs': (22260, 59, 4), 'active_entries': (22260, 59, 1), 'unscaled_outputs': (22260, 59, 4), 'prev_outputs': (22260, 59, 1), 'static_features': (22260, 1)}\n",
      "INFO:src.data.cancer_sim.dataset:Processing test dataset before training\n",
      "INFO:src.data.cancer_sim.dataset:Shape of processed test data: {'cancer_volume': (57000, 65), 'chemo_application': (57000, 65), 'radio_application': (57000, 65), 'sequence_lengths': (57000,), 'patient_types': (57000,), 'patient_ids_all_trajectories': (57000,), 'patient_current_t': (57000,), 'prev_treatments': (57000, 64, 2), 'current_treatments': (57000, 64, 2), 'current_covariates': (57000, 64, 2), 'outputs': (57000, 64, 1), 'active_entries': (57000, 64, 1), 'unscaled_outputs': (57000, 64, 1), 'prev_outputs': (57000, 64, 1), 'static_features': (57000, 1)}\n",
      "INFO:src.data.cancer_sim.dataset:Processing test dataset before testing (multiple sequences)\n",
      "INFO:src.data.cancer_sim.dataset:Shape of processed test data: {'active_encoder_r': (57000, 59), 'prev_treatments': (57000, 5, 2), 'current_treatments': (57000, 5, 2), 'current_covariates': (57000, 5, 2), 'prev_outputs': (57000, 5, 1), 'static_features': (57000, 1), 'outputs': (57000, 5, 1), 'sequence_lengths': (57000,), 'active_entries': (57000, 5, 1), 'unscaled_outputs': (57000, 5, 1), 'patient_types': (57000,), 'patient_ids_all_trajectories': (57000,), 'patient_current_t': (57000,)}\n",
      "INFO:src.models.msm:Input size of propensity_treatment: 2\n",
      "INFO:src.data.cancer_sim.dataset:Exploding train dataset before testing (multiple sequences)\n",
      "INFO:src.data.cancer_sim.dataset:Shape of processed train data: {'prev_treatments': (561403, 59, 2), 'current_treatments': (561403, 59, 2), 'static_features': (561403, 1), 'prev_outputs': (561403, 59, 1), 'outputs': (561403, 59, 1), 'unscaled_outputs': (561403, 59, 1), 'sequence_lengths': (561403,), 'active_entries': (561403, 59, 1)}\n",
      "INFO:src.models.msm:Input size of propensity_history: 4\n",
      "INFO:src.data.cancer_sim.dataset:Exploding train dataset before testing (multiple sequences)\n",
      "INFO:src.data.cancer_sim.dataset:Shape of processed train data: {'prev_treatments': (561403, 59, 2), 'current_treatments': (561403, 59, 2), 'static_features': (561403, 1), 'prev_outputs': (561403, 59, 1), 'outputs': (561403, 59, 1), 'unscaled_outputs': (561403, 59, 1), 'sequence_lengths': (561403,), 'active_entries': (561403, 59, 1)}\n",
      "INFO:src.models.msm:Input size of msm_regressor: 4\n",
      "INFO:src.models.msm:Propensity scores for train.\n",
      "INFO:src.data.cancer_sim.dataset:Exploding train dataset before testing (multiple sequences)\n",
      "INFO:src.data.cancer_sim.dataset:Shape of processed train data: {'prev_treatments': (580000, 59, 2), 'current_treatments': (580000, 59, 2), 'static_features': (580000, 1), 'prev_outputs': (580000, 59, 1), 'outputs': (580000, 59, 1), 'unscaled_outputs': (580000, 59, 1), 'sequence_lengths': (580000,), 'active_entries': (580000, 59, 1)}\n",
      "INFO:src.models.msm:Propensity scores for train.\n",
      "INFO:src.data.cancer_sim.dataset:Exploding train dataset before testing (multiple sequences)\n",
      "INFO:src.data.cancer_sim.dataset:Shape of processed train data: {'prev_treatments': (580000, 59, 2), 'current_treatments': (580000, 59, 2), 'static_features': (580000, 1), 'prev_outputs': (580000, 59, 1), 'outputs': (580000, 59, 1), 'unscaled_outputs': (580000, 59, 1), 'sequence_lengths': (580000,), 'active_entries': (580000, 59, 1)}\n",
      "INFO:src.data.cancer_sim.dataset:Exploding train dataset before testing (multiple sequences)\n",
      "INFO:src.data.cancer_sim.dataset:Shape of processed train data: {'prev_treatments': (561403, 59, 2), 'current_treatments': (561403, 59, 2), 'static_features': (561403, 1), 'prev_outputs': (561403, 59, 1), 'outputs': (561403, 59, 1), 'unscaled_outputs': (561403, 59, 1), 'sequence_lengths': (561403,), 'active_entries': (561403, 59, 1), 'stabilized_weights': (561403, 59)}\n",
      "INFO:src.data.cancer_sim.dataset:Exploding train dataset before testing (multiple sequences)\n",
      "INFO:src.data.cancer_sim.dataset:Shape of processed train data: {'prev_treatments': (551418, 59, 2), 'current_treatments': (551418, 59, 2), 'static_features': (551418, 1), 'prev_outputs': (551418, 59, 1), 'outputs': (551418, 59, 1), 'unscaled_outputs': (551418, 59, 1), 'sequence_lengths': (551418,), 'active_entries': (551418, 59, 1), 'stabilized_weights': (551418, 59)}\n",
      "INFO:src.data.cancer_sim.dataset:Exploding train dataset before testing (multiple sequences)\n",
      "INFO:src.data.cancer_sim.dataset:Shape of processed train data: {'prev_treatments': (541531, 59, 2), 'current_treatments': (541531, 59, 2), 'static_features': (541531, 1), 'prev_outputs': (541531, 59, 1), 'outputs': (541531, 59, 1), 'unscaled_outputs': (541531, 59, 1), 'sequence_lengths': (541531,), 'active_entries': (541531, 59, 1), 'stabilized_weights': (541531, 59)}\n",
      "INFO:src.data.cancer_sim.dataset:Exploding train dataset before testing (multiple sequences)\n",
      "INFO:src.data.cancer_sim.dataset:Shape of processed train data: {'prev_treatments': (531713, 59, 2), 'current_treatments': (531713, 59, 2), 'static_features': (531713, 1), 'prev_outputs': (531713, 59, 1), 'outputs': (531713, 59, 1), 'unscaled_outputs': (531713, 59, 1), 'sequence_lengths': (531713,), 'active_entries': (531713, 59, 1), 'stabilized_weights': (531713, 59)}\n",
      "INFO:src.data.cancer_sim.dataset:Exploding train dataset before testing (multiple sequences)\n",
      "INFO:src.data.cancer_sim.dataset:Shape of processed train data: {'prev_treatments': (521932, 59, 2), 'current_treatments': (521932, 59, 2), 'static_features': (521932, 1), 'prev_outputs': (521932, 59, 1), 'outputs': (521932, 59, 1), 'unscaled_outputs': (521932, 59, 1), 'sequence_lengths': (521932,), 'active_entries': (521932, 59, 1), 'stabilized_weights': (521932, 59)}\n",
      "INFO:src.data.cancer_sim.dataset:Exploding train dataset before testing (multiple sequences)\n",
      "INFO:src.data.cancer_sim.dataset:Shape of processed train data: {'prev_treatments': (512170, 59, 2), 'current_treatments': (512170, 59, 2), 'static_features': (512170, 1), 'prev_outputs': (512170, 59, 1), 'outputs': (512170, 59, 1), 'unscaled_outputs': (512170, 59, 1), 'sequence_lengths': (512170,), 'active_entries': (512170, 59, 1), 'stabilized_weights': (512170, 59)}\n",
      "INFO:src.models.time_varying_model:RMSE calculation for test.\n",
      "INFO:src.models.time_varying_model:dataset output shape: (22260, 59, 4)\n",
      "INFO:src.models.time_varying_model:dataset output shape: (18700, 59, 1)\n",
      "INFO:src.models.msm:Predictions for test.\n",
      "INFO:src.data.cancer_sim.dataset:Exploding test dataset before testing (multiple sequences)\n",
      "INFO:src.data.cancer_sim.dataset:Shape of processed test data: {'prev_treatments': (580000, 59, 2), 'current_treatments': (580000, 59, 2), 'static_features': (580000, 1), 'prev_outputs': (580000, 59, 1), 'outputs': (580000, 59, 1), 'unscaled_outputs': (580000, 59, 1), 'sequence_lengths': (580000,), 'active_entries': (580000, 59, 1)}\n",
      "INFO:src.data.cancer_sim.dataset:Exploding test dataset before testing (multiple sequences)\n",
      "INFO:src.data.cancer_sim.dataset:Shape of processed test data: {'prev_treatments': (504600, 59, 2), 'current_treatments': (504600, 59, 2), 'static_features': (504600, 1), 'prev_outputs': (504600, 59, 1), 'outputs': (504600, 59, 1), 'unscaled_outputs': (504600, 59, 1), 'sequence_lengths': (504600,), 'active_entries': (504600, 59, 1)}\n",
      "INFO:__main__:Test normalised RMSE (all): 3.770219048532587; Test normalised RMSE (orig): 2.9484263938352724; Test normalised RMSE (only counterfactual): 1.305809047323435\n",
      "INFO:src.models.time_varying_model:RMSE calculation for test.\n",
      "INFO:src.models.msm:Autoregressive Prediction for test.\n",
      "INFO:__main__:Test normalised RMSE (n-step prediction): {'2-step': 2.3833088435242646, '3-step': 2.5292776897711144, '4-step': 2.5056101764583745, '5-step': 2.420787517464479, '6-step': 2.293027285986994}\n"
     ]
    },
    {
     "name": "stdout",
     "output_type": "stream",
     "text": [
      "🏃 View run able-shoat-598 at: http://127.0.0.1:8081/#/experiments/997620564669772123/runs/fc7d02f5a5ab46d2961e07eed761e1aa\n",
      "🧪 View experiment at: http://127.0.0.1:8081/#/experiments/997620564669772123\n"
     ]
    },
    {
     "data": {
      "text/plain": [
       "{'encoder_test_rmse_all': 3.770219048532587,\n",
       " 'encoder_test_rmse_orig': 2.9484263938352724,\n",
       " 'encoder_test_rmse_last': 1.305809047323435,\n",
       " 'decoder_test_rmse_2-step': 2.3833088435242646,\n",
       " 'decoder_test_rmse_3-step': 2.5292776897711144,\n",
       " 'decoder_test_rmse_4-step': 2.5056101764583745,\n",
       " 'decoder_test_rmse_5-step': 2.420787517464479,\n",
       " 'decoder_test_rmse_6-step': 2.293027285986994}"
      ]
     },
     "execution_count": 4,
     "metadata": {},
     "output_type": "execute_result"
    }
   ],
   "source": [
    "import logging\n",
    "import hydra\n",
    "import torch\n",
    "from omegaconf import DictConfig, OmegaConf\n",
    "from hydra.utils import instantiate\n",
    "from pytorch_lightning import seed_everything\n",
    "\n",
    "from src.models.utils import FilteringMlFlowLogger\n",
    "from src.models.msm import MSM\n",
    "\n",
    "\n",
    "logging.basicConfig(level=logging.INFO)\n",
    "logger = logging.getLogger(__name__)\n",
    "torch.set_default_dtype(torch.double)\n",
    "\n",
    "# Load the configuration file\n",
    "config_path = '/work/postresearch/Shared/Researchers/Farbod/cancer/code/CausalDiff/config/cancer_sim_MSM.yaml'\n",
    "args = OmegaConf.load(config_path)\n",
    "# @hydra.main(config_name=f'config.yaml', config_path='../config/')\n",
    "\n",
    "\n",
    "def main(args: DictConfig):\n",
    "    \"\"\"\n",
    "    Training / evaluation script for MSMs\n",
    "    Args:\n",
    "        args: arguments of run as DictConfig\n",
    "\n",
    "    Returns: dict with results (one and nultiple-step-ahead RMSEs)\n",
    "    \"\"\"\n",
    "\n",
    "    results = {}\n",
    "\n",
    "    # Non-strict access to fields\n",
    "    OmegaConf.set_struct(args, False)\n",
    "    OmegaConf.register_new_resolver(\"sum\", lambda x, y: x + y, replace=True)\n",
    "    logger.info('\\n' + OmegaConf.to_yaml(args, resolve=True))\n",
    "\n",
    "    # Initialisation of data to calculate dim_outcomes, dim_treatments, dim_vitals and dim_static_features\n",
    "    seed_everything(args.exp.seed)\n",
    "    dataset_collection = instantiate(args.dataset, _recursive_=True)\n",
    "    # Only binary multilabel regime possible\n",
    "    assert args.dataset.treatment_mode == 'multilabel'\n",
    "    dataset_collection.process_data_multi()\n",
    "    args.model.dim_outcomes = dataset_collection.train_f.data['outputs'].shape[-1]\n",
    "    args.model.dim_treatments = dataset_collection.train_f.data['current_treatments'].shape[-1]\n",
    "    args.model.dim_vitals = dataset_collection.train_f.data[\n",
    "        'vitals'].shape[-1] if dataset_collection.has_vitals else 0\n",
    "    args.model.dim_static_features = dataset_collection.train_f.data['static_features'].shape[-1]\n",
    "\n",
    "    # MlFlow Logger\n",
    "    if args.exp.logging:\n",
    "        experiment_name = f'{args.model.name}/{args.dataset.name}'\n",
    "        mlf_logger = FilteringMlFlowLogger(filter_submodels=MSM.possible_model_types, experiment_name=experiment_name,\n",
    "                                           tracking_uri=args.exp.mlflow_uri)\n",
    "    else:\n",
    "        mlf_logger = None\n",
    "\n",
    "    # ============================== Nominator (treatment propensity network) ==============================\n",
    "    propensity_treatment = instantiate(\n",
    "        args.model.propensity_treatment, args, dataset_collection, _recursive_=False)\n",
    "    mlf_logger.log_hyperparams(propensity_treatment.hparams)\n",
    "    propensity_treatment.fit()\n",
    "\n",
    "    # ============================== Denominator (history propensity network) ==============================\n",
    "    propensity_history = instantiate(\n",
    "        args.model.propensity_history, args, dataset_collection, _recursive_=False)\n",
    "    mlf_logger.log_hyperparams(propensity_history.hparams)\n",
    "    propensity_history.fit()\n",
    "\n",
    "    # ============================== Initialisation & Training of Encoder ==============================\n",
    "    msm_regressor = instantiate(args.model.msm_regressor, args, propensity_treatment, propensity_history, dataset_collection,\n",
    "                                _recursive_=False)\n",
    "    mlf_logger.log_hyperparams(msm_regressor.hparams)\n",
    "    msm_regressor.fit()\n",
    "    encoder_results = {}\n",
    "\n",
    "    if hasattr(dataset_collection, 'test_cf_one_step'):  # Test one_step_counterfactual rmse\n",
    "        test_rmse_orig, test_rmse_all, test_rmse_last = \\\n",
    "            msm_regressor.get_normalised_masked_rmse(\n",
    "                dataset_collection.test_cf_one_step, one_step_counterfactual=True)\n",
    "        logger.info(f'Test normalised RMSE (all): {test_rmse_all}; '\n",
    "                    f'Test normalised RMSE (orig): {test_rmse_orig}; '\n",
    "                    f'Test normalised RMSE (only counterfactual): {test_rmse_last}')\n",
    "        encoder_results = {\n",
    "            'encoder_test_rmse_all': test_rmse_all,\n",
    "            'encoder_test_rmse_orig': test_rmse_orig,\n",
    "            'encoder_test_rmse_last': test_rmse_last\n",
    "        }\n",
    "    elif hasattr(dataset_collection, 'test_f'):  # Test factual rmse\n",
    "        test_rmse_orig, test_rmse_all = msm_regressor.get_normalised_masked_rmse(\n",
    "            dataset_collection.test_f)\n",
    "        logger.info(f'Test normalised RMSE (all): {test_rmse_all}; '\n",
    "                    f'Test normalised RMSE (orig): {test_rmse_orig}.')\n",
    "        encoder_results = {\n",
    "            # 'encoder_val_rmse_all': val_rmse_all,\n",
    "            # 'encoder_val_rmse_orig': val_rmse_orig,\n",
    "            'encoder_test_rmse_all': test_rmse_all,\n",
    "            'encoder_test_rmse_orig': test_rmse_orig\n",
    "        }\n",
    "\n",
    "    mlf_logger.log_metrics(encoder_results) if args.exp.logging else None\n",
    "    results.update(encoder_results)\n",
    "\n",
    "    test_rmses = {}\n",
    "    if hasattr(dataset_collection, 'test_cf_treatment_seq'):  # Test n_step_counterfactual rmse\n",
    "        test_rmses = msm_regressor.get_normalised_n_step_rmses(\n",
    "            dataset_collection.test_cf_treatment_seq)\n",
    "    elif hasattr(dataset_collection, 'test_f_multi'):  # Test n_step_factual rmse\n",
    "        test_rmses = msm_regressor.get_normalised_n_step_rmses(\n",
    "            dataset_collection.test_f_multi)\n",
    "    test_rmses = {f'{k+2}-step': v for (k, v) in enumerate(test_rmses)}\n",
    "\n",
    "    logger.info(f'Test normalised RMSE (n-step prediction): {test_rmses}')\n",
    "    decoder_results = {('decoder_test_rmse_' + k): v for (k, v) in test_rmses.items()}\n",
    "\n",
    "    mlf_logger.log_metrics(decoder_results) if args.exp.logging else None\n",
    "    results.update(decoder_results)\n",
    "\n",
    "    mlf_logger.experiment.set_terminated(\n",
    "        mlf_logger.run_id) if args.exp.logging else None\n",
    "\n",
    "    return results\n",
    "\n",
    "\n",
    "if __name__ == \"__main__\":\n",
    "    main(args)"
   ]
  },
  {
   "cell_type": "markdown",
   "metadata": {},
   "source": [
    "# RMSN\n"
   ]
  },
  {
   "cell_type": "code",
   "execution_count": 4,
   "metadata": {},
   "outputs": [
    {
     "name": "stderr",
     "output_type": "stream",
     "text": [
      "INFO:__main__:\n",
      "dataset:\n",
      "  _target_: src.data.SyntheticCancerDatasetCollection\n",
      "  name: tumor_generator\n",
      "  coeff: 4\n",
      "  chemo_coeff: 4\n",
      "  radio_coeff: 4\n",
      "  seed: 100\n",
      "  num_patients:\n",
      "    train: 10000\n",
      "    val: 1000\n",
      "    test: 100\n",
      "  window_size: 15\n",
      "  lag: 0\n",
      "  max_seq_length: 60\n",
      "  projection_horizon: 5\n",
      "  cf_seq_mode: sliding_treatment\n",
      "  val_batch_size: 512\n",
      "  treatment_mode: multilabel\n",
      "model:\n",
      "  name: RMSN\n",
      "  propensity_treatment:\n",
      "    _target_: src.models.rmsn.RMSNPropensityNetworkTreatment\n",
      "    seq_hidden_units: 8\n",
      "    dropout_rate: 0.2\n",
      "    num_layer: 1\n",
      "    batch_size: 64\n",
      "    max_grad_norm: 2.0\n",
      "    optimizer:\n",
      "      optimizer_cls: adam\n",
      "      learning_rate: 0.01\n",
      "      weight_decay: 0.0\n",
      "      lr_scheduler: false\n",
      "    tune_hparams: false\n",
      "    tune_range: 50\n",
      "    resources_per_trial: null\n",
      "    hparams_grid: null\n",
      "  propensity_history:\n",
      "    _target_: src.models.rmsn.RMSNPropensityNetworkHistory\n",
      "    seq_hidden_units: 16\n",
      "    dropout_rate: 0.5\n",
      "    num_layer: 1\n",
      "    batch_size: 128\n",
      "    max_grad_norm: 2.0\n",
      "    optimizer:\n",
      "      optimizer_cls: adam\n",
      "      learning_rate: 0.0001\n",
      "      weight_decay: 0.0\n",
      "      lr_scheduler: false\n",
      "    tune_hparams: false\n",
      "    tune_range: 50\n",
      "    resources_per_trial: null\n",
      "    hparams_grid: null\n",
      "  encoder:\n",
      "    _target_: src.models.rmsn.RMSNEncoder\n",
      "    seq_hidden_units: 12\n",
      "    dropout_rate: 0.1\n",
      "    num_layer: 1\n",
      "    batch_size: 128\n",
      "    max_grad_norm: 0.5\n",
      "    optimizer:\n",
      "      optimizer_cls: adam\n",
      "      learning_rate: 0.01\n",
      "      weight_decay: 0.0\n",
      "      lr_scheduler: false\n",
      "    tune_hparams: false\n",
      "    tune_range: 50\n",
      "    resources_per_trial: null\n",
      "    hparams_grid: null\n",
      "  train_decoder: false\n",
      "  decoder:\n",
      "    _target_: src.models.rmsn.RMSNDecoder\n",
      "    seq_hidden_units: 64\n",
      "    dropout_rate: 0.1\n",
      "    num_layer: 1\n",
      "    batch_size: 1024\n",
      "    max_grad_norm: 4.0\n",
      "    optimizer:\n",
      "      optimizer_cls: adam\n",
      "      learning_rate: 0.01\n",
      "      weight_decay: 0.0\n",
      "      lr_scheduler: false\n",
      "    tune_hparams: false\n",
      "    tune_range: 20\n",
      "    resources_per_trial: null\n",
      "exp:\n",
      "  unscale_rmse: true\n",
      "  percentage_rmse: true\n",
      "  seed: 100\n",
      "  max_epochs: 100\n",
      "  gpus:\n",
      "  - 0\n",
      "  logging: true\n",
      "  mlflow_uri: http://127.0.0.1:8081\n",
      "  alpha: 1.0\n",
      "  update_alpha: false\n",
      "  alpha_rate: exp\n",
      "  balancing: null\n",
      "  bce_weight: false\n",
      "  weights_ema: null\n",
      "  beta: 0.99\n",
      "\n",
      "Global seed set to 100\n",
      "INFO:root:Simulating initial volumes for stage I  with norm params: mu=1.72, sigma=4.7, lb=-0.6221218732608373, ub=-0.023523848418276528\n",
      "INFO:root:Simulating initial volumes for stage II  with norm params: mu=1.96, sigma=1.63, lb=-1.9410876100159118, ub=0.3711345751297772\n",
      "INFO:root:Simulating initial volumes for stage IIIA  with norm params: mu=1.91, sigma=9.4, lb=-0.33127370258786554, ub=0.06967546355973796\n",
      "INFO:root:Simulating initial volumes for stage IIIB  with norm params: mu=2.76, sigma=6.87, lb=-0.5769974969906748, ub=-0.02839165102452155\n",
      "INFO:root:Simulating initial volumes for stage IV  with norm params: mu=3.86, sigma=8.82, lb=-0.5741465764541877, ub=-0.14683113860980307\n",
      "INFO:root:Got correlated params for 4597 patients\n",
      "INFO:root:Got correlated params for 9177 patients\n",
      "INFO:root:Got correlated params for 13793 patients\n",
      "INFO:root:Simulating beta_c parameters\n",
      "INFO:root:Randomising outputs\n"
     ]
    },
    {
     "name": "stderr",
     "output_type": "stream",
     "text": [
      "  0%|          | 0/10000 [00:00<?, ?it/s]/work/postresearch/Shared/Researchers/Farbod/cancer/code/CausalDiff/src/data/cancer_sim/cancer_simulation.py:346: RuntimeWarning: overflow encountered in exp\n",
      "  if recovery_rvs[i, t] < np.exp(-cancer_volume[i, t] * TUMOUR_CELL_DENSITY):\n",
      "100%|██████████| 10000/10000 [00:11<00:00, 890.82it/s]\n",
      "INFO:root:Simulating initial volumes for stage I  with norm params: mu=1.72, sigma=4.7, lb=-0.6221218732608373, ub=-0.023523848418276528\n",
      "INFO:root:Simulating initial volumes for stage II  with norm params: mu=1.96, sigma=1.63, lb=-1.9410876100159118, ub=0.3711345751297772\n",
      "INFO:root:Simulating initial volumes for stage IIIA  with norm params: mu=1.91, sigma=9.4, lb=-0.33127370258786554, ub=0.06967546355973796\n",
      "INFO:root:Simulating initial volumes for stage IIIB  with norm params: mu=2.76, sigma=6.87, lb=-0.5769974969906748, ub=-0.02839165102452155\n",
      "INFO:root:Simulating initial volumes for stage IV  with norm params: mu=3.86, sigma=8.82, lb=-0.5741465764541877, ub=-0.14683113860980307\n",
      "INFO:root:Got correlated params for 444 patients\n",
      "INFO:root:Got correlated params for 922 patients\n",
      "INFO:root:Got correlated params for 1372 patients\n",
      "INFO:root:Simulating beta_c parameters\n",
      "INFO:root:Randomising outputs\n",
      "100%|██████████| 1000/1000 [00:01<00:00, 882.58it/s]\n",
      "INFO:root:Simulating initial volumes for stage I  with norm params: mu=1.72, sigma=4.7, lb=-0.6221218732608373, ub=-0.023523848418276528\n",
      "INFO:root:Simulating initial volumes for stage II  with norm params: mu=1.96, sigma=1.63, lb=-1.9410876100159118, ub=0.3711345751297772\n",
      "INFO:root:Simulating initial volumes for stage IIIA  with norm params: mu=1.91, sigma=9.4, lb=-0.33127370258786554, ub=0.06967546355973796\n",
      "INFO:root:Simulating initial volumes for stage IIIB  with norm params: mu=2.76, sigma=6.87, lb=-0.5769974969906748, ub=-0.02839165102452155\n",
      "INFO:root:Simulating initial volumes for stage IV  with norm params: mu=3.86, sigma=8.82, lb=-0.5741465764541877, ub=-0.14683113860980307\n",
      "INFO:root:Got correlated params for 37 patients\n",
      "INFO:root:Got correlated params for 82 patients\n",
      "INFO:root:Got correlated params for 131 patients\n",
      "INFO:root:Simulating beta_c parameters\n",
      "INFO:root:Randomising outputs\n",
      " 31%|███       | 31/100 [00:02<00:05, 13.52it/s]/work/postresearch/Shared/Researchers/Farbod/cancer/code/CausalDiff/src/data/cancer_sim/cancer_simulation.py:39: RuntimeWarning: invalid value encountered in scalar power\n",
      "  return ((volume / (4 / 3 * np.pi)) ** (1 / 3)) * 2\n",
      "100%|██████████| 100/100 [00:07<00:00, 14.25it/s]\n",
      "INFO:root:Simulating initial volumes for stage I  with norm params: mu=1.72, sigma=4.7, lb=-0.6221218732608373, ub=-0.023523848418276528\n",
      "INFO:root:Simulating initial volumes for stage II  with norm params: mu=1.96, sigma=1.63, lb=-1.9410876100159118, ub=0.3711345751297772\n",
      "INFO:root:Simulating initial volumes for stage IIIA  with norm params: mu=1.91, sigma=9.4, lb=-0.33127370258786554, ub=0.06967546355973796\n",
      "INFO:root:Simulating initial volumes for stage IIIB  with norm params: mu=2.76, sigma=6.87, lb=-0.5769974969906748, ub=-0.02839165102452155\n",
      "INFO:root:Simulating initial volumes for stage IV  with norm params: mu=3.86, sigma=8.82, lb=-0.5741465764541877, ub=-0.14683113860980307\n",
      "INFO:root:Got correlated params for 51 patients\n",
      "INFO:root:Got correlated params for 95 patients\n",
      "INFO:root:Got correlated params for 147 patients\n",
      "INFO:root:Simulating beta_c parameters\n",
      "INFO:root:Randomising outputs\n"
     ]
    },
    {
     "name": "stdout",
     "output_type": "stream",
     "text": [
      "Call to simulate counterfactuals data\n"
     ]
    },
    {
     "name": "stderr",
     "output_type": "stream",
     "text": [
      "100%|██████████| 100/100 [00:02<00:00, 48.65it/s]\n",
      "INFO:src.data.cancer_sim.dataset:Processing train dataset before training\n",
      "INFO:src.data.cancer_sim.dataset:Shape of processed train data: {'cancer_volume': (10000, 60), 'chemo_dosage': (10000, 60), 'radio_dosage': (10000, 60), 'chemo_application': (10000, 60), 'radio_application': (10000, 60), 'chemo_probabilities': (10000, 60), 'radio_probabilities': (10000, 60), 'sequence_lengths': (10000,), 'death_flags': (10000, 60), 'recovery_flags': (10000, 60), 'patient_types': (10000,), 'prev_treatments': (10000, 59, 2), 'current_treatments': (10000, 59, 2), 'current_covariates': (10000, 59, 2), 'outputs': (10000, 59, 1), 'active_entries': (10000, 59, 1), 'unscaled_outputs': (10000, 59, 1), 'prev_outputs': (10000, 59, 1), 'static_features': (10000, 1)}\n",
      "INFO:src.data.cancer_sim.dataset:Processing val dataset before training\n",
      "INFO:src.data.cancer_sim.dataset:Shape of processed val data: {'cancer_volume': (1000, 60), 'chemo_dosage': (1000, 60), 'radio_dosage': (1000, 60), 'chemo_application': (1000, 60), 'radio_application': (1000, 60), 'chemo_probabilities': (1000, 60), 'radio_probabilities': (1000, 60), 'sequence_lengths': (1000,), 'death_flags': (1000, 60), 'recovery_flags': (1000, 60), 'patient_types': (1000,), 'prev_treatments': (1000, 59, 2), 'current_treatments': (1000, 59, 2), 'current_covariates': (1000, 59, 2), 'outputs': (1000, 59, 1), 'active_entries': (1000, 59, 1), 'unscaled_outputs': (1000, 59, 1), 'prev_outputs': (1000, 59, 1), 'static_features': (1000, 1)}\n",
      "INFO:src.data.cancer_sim.dataset:Processing test dataset before training\n",
      "INFO:src.data.cancer_sim.dataset:Shape of processed test data: {'cancer_volume': (22260, 60), 'chemo_application': (22260, 60), 'radio_application': (22260, 60), 'sequence_lengths': (22260,), 'patient_types': (22260,), 'median_cancer_volume': (22260, 60), 'cancer_volume_5th_percentile': (22260, 60), 'cancer_volume_95th_percentile': (22260, 60), 'prev_treatments': (22260, 59, 2), 'current_treatments': (22260, 59, 2), 'current_covariates': (22260, 59, 2), 'outputs': (22260, 59, 4), 'active_entries': (22260, 59, 1), 'unscaled_outputs': (22260, 59, 4), 'prev_outputs': (22260, 59, 1), 'static_features': (22260, 1)}\n",
      "INFO:torch.distributed.nn.jit.instantiator:Created a temporary directory at /tmp/tmp_5_qv4fv\n",
      "INFO:torch.distributed.nn.jit.instantiator:Writing /tmp/tmp_5_qv4fv/_remote_module_non_scriptable.py\n",
      "INFO:src.models.rmsn:Input size of propensity_treatment: 2\n",
      "/home/alinezhad.f/micromamba/envs/torch_old/lib/python3.11/site-packages/pytorch_lightning/trainer/trainer.py:572: LightningDeprecationWarning: Trainer argument `terminate_on_nan` was deprecated in v1.5 and will be removed in 1.7. Please use `Trainer(detect_anomaly=True)` instead.\n",
      "  rank_zero_deprecation(\n",
      "GPU available: True, used: True\n",
      "TPU available: False, using: 0 TPU cores\n",
      "IPU available: False, using: 0 IPUs\n",
      "HPU available: False, using: 0 HPUs\n",
      "/home/alinezhad.f/micromamba/envs/torch_old/lib/python3.11/site-packages/pytorch_lightning/trainer/configuration_validator.py:131: UserWarning: You passed in a `val_dataloader` but have no `validation_step`. Skipping val loop.\n",
      "  rank_zero_warn(\"You passed in a `val_dataloader` but have no `validation_step`. Skipping val loop.\")\n",
      "LOCAL_RANK: 0 - CUDA_VISIBLE_DEVICES: [0]\n",
      "\n",
      "  | Name         | Type            | Params\n",
      "-------------------------------------------------\n",
      "0 | lstm         | VariationalLSTM | 384   \n",
      "1 | output_layer | Linear          | 18    \n",
      "-------------------------------------------------\n",
      "402       Trainable params\n",
      "0         Non-trainable params\n",
      "402       Total params\n",
      "0.002     Total estimated model params size (MB)\n",
      "/home/alinezhad.f/micromamba/envs/torch_old/lib/python3.11/site-packages/pytorch_lightning/trainer/connectors/data_connector.py:240: PossibleUserWarning: The dataloader, train_dataloader, does not have many workers which may be a bottleneck. Consider increasing the value of the `num_workers` argument` (try 128 which is the number of cpus on this machine) in the `DataLoader` init to improve performance.\n",
      "  rank_zero_warn(\n"
     ]
    },
    {
     "data": {
      "application/vnd.jupyter.widget-view+json": {
       "model_id": "20160546f65742a1a0d342ea7183cb3d",
       "version_major": 2,
       "version_minor": 0
      },
      "text/plain": [
       "Training: 0it [00:00, ?it/s]"
      ]
     },
     "metadata": {},
     "output_type": "display_data"
    },
    {
     "name": "stderr",
     "output_type": "stream",
     "text": [
      "/home/alinezhad.f/micromamba/envs/torch_old/lib/python3.11/site-packages/torch/nn/_reduction.py:42: UserWarning: size_average and reduce args will be deprecated, please use reduction='none' instead.\n",
      "  warnings.warn(warning.format(ret))\n",
      "INFO:src.models.time_varying_model:BCE calculation for val.\n",
      "INFO:src.models.rmsn:Propensity scores for val.\n",
      "LOCAL_RANK: 0 - CUDA_VISIBLE_DEVICES: [0]\n"
     ]
    },
    {
     "name": "stdout",
     "output_type": "stream",
     "text": [
      "🏃 View run monumental-lynx-854 at: http://127.0.0.1:8081/#/experiments/649629653407368041/runs/3696161633ff4a2297f8ba44b68a615c\n",
      "🧪 View experiment at: http://127.0.0.1:8081/#/experiments/649629653407368041\n"
     ]
    },
    {
     "name": "stderr",
     "output_type": "stream",
     "text": [
      "/home/alinezhad.f/micromamba/envs/torch_old/lib/python3.11/site-packages/pytorch_lightning/trainer/connectors/data_connector.py:240: PossibleUserWarning: The dataloader, predict_dataloader 0, does not have many workers which may be a bottleneck. Consider increasing the value of the `num_workers` argument` (try 128 which is the number of cpus on this machine) in the `DataLoader` init to improve performance.\n",
      "  rank_zero_warn(\n"
     ]
    },
    {
     "data": {
      "application/vnd.jupyter.widget-view+json": {
       "model_id": "beeb553f35b04bb685387b50d783d590",
       "version_major": 2,
       "version_minor": 0
      },
      "text/plain": [
       "Predicting: 156it [00:00, ?it/s]"
      ]
     },
     "metadata": {},
     "output_type": "display_data"
    },
    {
     "name": "stderr",
     "output_type": "stream",
     "text": [
      "INFO:__main__:Val normalised BCE (all): 0.7714576178417046; Val normalised RMSE (orig): 0.7715419283315933\n",
      "INFO:src.models.time_varying_model:BCE calculation for test.\n",
      "INFO:src.models.rmsn:Propensity scores for test.\n",
      "LOCAL_RANK: 0 - CUDA_VISIBLE_DEVICES: [0]\n"
     ]
    },
    {
     "name": "stdout",
     "output_type": "stream",
     "text": [
      "🏃 View run monumental-lynx-854 at: http://127.0.0.1:8081/#/experiments/649629653407368041/runs/3696161633ff4a2297f8ba44b68a615c\n",
      "🧪 View experiment at: http://127.0.0.1:8081/#/experiments/649629653407368041\n"
     ]
    },
    {
     "data": {
      "application/vnd.jupyter.widget-view+json": {
       "model_id": "0ba8e11b05f14b8b8dc98eb75a28f7e6",
       "version_major": 2,
       "version_minor": 0
      },
      "text/plain": [
       "Predicting: 156it [00:00, ?it/s]"
      ]
     },
     "metadata": {},
     "output_type": "display_data"
    },
    {
     "name": "stderr",
     "output_type": "stream",
     "text": [
      "INFO:__main__:Test normalised RMSE (all): 0.7690497783840289; Test normalised RMSE (orig): 0.772097320947565.\n",
      "INFO:src.models.rmsn:Input size of propensity_history: 4\n",
      "/home/alinezhad.f/micromamba/envs/torch_old/lib/python3.11/site-packages/pytorch_lightning/trainer/trainer.py:572: LightningDeprecationWarning: Trainer argument `terminate_on_nan` was deprecated in v1.5 and will be removed in 1.7. Please use `Trainer(detect_anomaly=True)` instead.\n",
      "  rank_zero_deprecation(\n",
      "GPU available: True, used: True\n",
      "TPU available: False, using: 0 TPU cores\n",
      "IPU available: False, using: 0 IPUs\n",
      "HPU available: False, using: 0 HPUs\n",
      "/home/alinezhad.f/micromamba/envs/torch_old/lib/python3.11/site-packages/pytorch_lightning/trainer/configuration_validator.py:131: UserWarning: You passed in a `val_dataloader` but have no `validation_step`. Skipping val loop.\n",
      "  rank_zero_warn(\"You passed in a `val_dataloader` but have no `validation_step`. Skipping val loop.\")\n",
      "/home/alinezhad.f/micromamba/envs/torch_old/lib/python3.11/site-packages/pytorch_lightning/callbacks/model_checkpoint.py:608: UserWarning: Checkpoint directory /work/postresearch/Shared/Researchers/Farbod/cancer/code/CausalDiff/649629653407368041/3696161633ff4a2297f8ba44b68a615c/checkpoints exists and is not empty.\n",
      "  rank_zero_warn(f\"Checkpoint directory {dirpath} exists and is not empty.\")\n",
      "LOCAL_RANK: 0 - CUDA_VISIBLE_DEVICES: [0]\n",
      "\n",
      "  | Name         | Type            | Params\n",
      "-------------------------------------------------\n",
      "0 | lstm         | VariationalLSTM | 1.4 K \n",
      "1 | output_layer | Linear          | 34    \n",
      "-------------------------------------------------\n",
      "1.4 K     Trainable params\n",
      "0         Non-trainable params\n",
      "1.4 K     Total params\n",
      "0.006     Total estimated model params size (MB)\n"
     ]
    },
    {
     "name": "stdout",
     "output_type": "stream",
     "text": [
      "🏃 View run monumental-lynx-854 at: http://127.0.0.1:8081/#/experiments/649629653407368041/runs/3696161633ff4a2297f8ba44b68a615c\n",
      "🧪 View experiment at: http://127.0.0.1:8081/#/experiments/649629653407368041\n"
     ]
    },
    {
     "data": {
      "application/vnd.jupyter.widget-view+json": {
       "model_id": "1540a43ccbf14b699c3d12684d392339",
       "version_major": 2,
       "version_minor": 0
      },
      "text/plain": [
       "Training: 0it [00:00, ?it/s]"
      ]
     },
     "metadata": {},
     "output_type": "display_data"
    },
    {
     "name": "stderr",
     "output_type": "stream",
     "text": [
      "INFO:src.models.time_varying_model:BCE calculation for val.\n",
      "INFO:src.models.rmsn:Propensity scores for val.\n",
      "LOCAL_RANK: 0 - CUDA_VISIBLE_DEVICES: [0]\n"
     ]
    },
    {
     "name": "stdout",
     "output_type": "stream",
     "text": [
      "🏃 View run monumental-lynx-854 at: http://127.0.0.1:8081/#/experiments/649629653407368041/runs/3696161633ff4a2297f8ba44b68a615c\n",
      "🧪 View experiment at: http://127.0.0.1:8081/#/experiments/649629653407368041\n"
     ]
    },
    {
     "data": {
      "application/vnd.jupyter.widget-view+json": {
       "model_id": "a2c3ccede55b447c97891980681c21a8",
       "version_major": 2,
       "version_minor": 0
      },
      "text/plain": [
       "Predicting: 78it [00:00, ?it/s]"
      ]
     },
     "metadata": {},
     "output_type": "display_data"
    },
    {
     "name": "stderr",
     "output_type": "stream",
     "text": [
      "INFO:__main__:Val normalised BCE (all): 0.7474692722393119; Val normalised RMSE (orig): 0.7474214821895481\n",
      "INFO:src.models.time_varying_model:BCE calculation for test.\n",
      "INFO:src.models.rmsn:Propensity scores for test.\n",
      "LOCAL_RANK: 0 - CUDA_VISIBLE_DEVICES: [0]\n"
     ]
    },
    {
     "name": "stdout",
     "output_type": "stream",
     "text": [
      "🏃 View run monumental-lynx-854 at: http://127.0.0.1:8081/#/experiments/649629653407368041/runs/3696161633ff4a2297f8ba44b68a615c\n",
      "🧪 View experiment at: http://127.0.0.1:8081/#/experiments/649629653407368041\n"
     ]
    },
    {
     "data": {
      "application/vnd.jupyter.widget-view+json": {
       "model_id": "1bc9ea7908f54ea287bbcafb8d2b721d",
       "version_major": 2,
       "version_minor": 0
      },
      "text/plain": [
       "Predicting: 78it [00:00, ?it/s]"
      ]
     },
     "metadata": {},
     "output_type": "display_data"
    },
    {
     "name": "stderr",
     "output_type": "stream",
     "text": [
      "INFO:__main__:Test normalised BCE (all): 0.769577512240865; Test normalised BCE (orig): 0.7810252791743663.\n",
      "/home/alinezhad.f/micromamba/envs/torch_old/lib/python3.11/site-packages/pytorch_lightning/utilities/parsing.py:244: UserWarning: Attribute 'propensity_treatment' is an instance of `nn.Module` and is already saved during checkpointing. It is recommended to ignore them using `self.save_hyperparameters(ignore=['propensity_treatment'])`.\n",
      "  rank_zero_warn(\n",
      "/home/alinezhad.f/micromamba/envs/torch_old/lib/python3.11/site-packages/pytorch_lightning/utilities/parsing.py:244: UserWarning: Attribute 'propensity_history' is an instance of `nn.Module` and is already saved during checkpointing. It is recommended to ignore them using `self.save_hyperparameters(ignore=['propensity_history'])`.\n",
      "  rank_zero_warn(\n",
      "INFO:src.models.rmsn:Input size of encoder: 4\n",
      "GPU available: True, used: True\n",
      "TPU available: False, using: 0 TPU cores\n",
      "IPU available: False, using: 0 IPUs\n",
      "HPU available: False, using: 0 HPUs\n",
      "INFO:src.models.rmsn:Propensity scores for train.\n",
      "LOCAL_RANK: 0 - CUDA_VISIBLE_DEVICES: [0]\n"
     ]
    },
    {
     "name": "stdout",
     "output_type": "stream",
     "text": [
      "🏃 View run monumental-lynx-854 at: http://127.0.0.1:8081/#/experiments/649629653407368041/runs/3696161633ff4a2297f8ba44b68a615c\n",
      "🧪 View experiment at: http://127.0.0.1:8081/#/experiments/649629653407368041\n"
     ]
    },
    {
     "data": {
      "application/vnd.jupyter.widget-view+json": {
       "model_id": "6d155ec7859a4a14b1ae6932115ec044",
       "version_major": 2,
       "version_minor": 0
      },
      "text/plain": [
       "Predicting: 156it [00:00, ?it/s]"
      ]
     },
     "metadata": {},
     "output_type": "display_data"
    },
    {
     "name": "stderr",
     "output_type": "stream",
     "text": [
      "INFO:src.models.rmsn:Propensity scores for train.\n",
      "LOCAL_RANK: 0 - CUDA_VISIBLE_DEVICES: [0]\n"
     ]
    },
    {
     "name": "stdout",
     "output_type": "stream",
     "text": [
      "🏃 View run monumental-lynx-854 at: http://127.0.0.1:8081/#/experiments/649629653407368041/runs/3696161633ff4a2297f8ba44b68a615c\n",
      "🧪 View experiment at: http://127.0.0.1:8081/#/experiments/649629653407368041\n"
     ]
    },
    {
     "data": {
      "application/vnd.jupyter.widget-view+json": {
       "model_id": "2b0c33cf32964bff80e58f95d38e0eaf",
       "version_major": 2,
       "version_minor": 0
      },
      "text/plain": [
       "Predicting: 78it [00:00, ?it/s]"
      ]
     },
     "metadata": {},
     "output_type": "display_data"
    },
    {
     "name": "stderr",
     "output_type": "stream",
     "text": [
      "LOCAL_RANK: 0 - CUDA_VISIBLE_DEVICES: [0]\n",
      "\n",
      "  | Name                 | Type                           | Params\n",
      "------------------------------------------------------------------------\n",
      "0 | propensity_treatment | RMSNPropensityNetworkTreatment | 402   \n",
      "1 | propensity_history   | RMSNPropensityNetworkHistory   | 1.4 K \n",
      "2 | lstm                 | VariationalLSTM                | 864   \n",
      "3 | output_layer         | Linear                         | 13    \n",
      "------------------------------------------------------------------------\n",
      "2.7 K     Trainable params\n",
      "0         Non-trainable params\n",
      "2.7 K     Total params\n",
      "0.011     Total estimated model params size (MB)\n"
     ]
    },
    {
     "name": "stdout",
     "output_type": "stream",
     "text": [
      "🏃 View run monumental-lynx-854 at: http://127.0.0.1:8081/#/experiments/649629653407368041/runs/3696161633ff4a2297f8ba44b68a615c\n",
      "🧪 View experiment at: http://127.0.0.1:8081/#/experiments/649629653407368041\n"
     ]
    },
    {
     "data": {
      "application/vnd.jupyter.widget-view+json": {
       "model_id": "8e82a9e716ff4f65afcb07a036af11d3",
       "version_major": 2,
       "version_minor": 0
      },
      "text/plain": [
       "Training: 0it [00:00, ?it/s]"
      ]
     },
     "metadata": {},
     "output_type": "display_data"
    },
    {
     "name": "stderr",
     "output_type": "stream",
     "text": [
      "LOCAL_RANK: 0 - CUDA_VISIBLE_DEVICES: [0]\n"
     ]
    },
    {
     "name": "stdout",
     "output_type": "stream",
     "text": [
      "🏃 View run monumental-lynx-854 at: http://127.0.0.1:8081/#/experiments/649629653407368041/runs/3696161633ff4a2297f8ba44b68a615c\n",
      "🧪 View experiment at: http://127.0.0.1:8081/#/experiments/649629653407368041\n"
     ]
    },
    {
     "name": "stderr",
     "output_type": "stream",
     "text": [
      "/home/alinezhad.f/micromamba/envs/torch_old/lib/python3.11/site-packages/pytorch_lightning/trainer/connectors/data_connector.py:240: PossibleUserWarning: The dataloader, test_dataloader 0, does not have many workers which may be a bottleneck. Consider increasing the value of the `num_workers` argument` (try 128 which is the number of cpus on this machine) in the `DataLoader` init to improve performance.\n",
      "  rank_zero_warn(\n"
     ]
    },
    {
     "data": {
      "application/vnd.jupyter.widget-view+json": {
       "model_id": "6bd30b09f3c848aba051aed0aa70d78e",
       "version_major": 2,
       "version_minor": 0
      },
      "text/plain": [
       "Testing: 0it [00:00, ?it/s]"
      ]
     },
     "metadata": {},
     "output_type": "display_data"
    },
    {
     "name": "stderr",
     "output_type": "stream",
     "text": [
      "INFO:src.models.time_varying_model:RMSE calculation for val.\n",
      "INFO:src.models.time_varying_model:dataset output shape: (1000, 59, 1)\n",
      "INFO:src.models.rmsn:Predictions for val.\n",
      "LOCAL_RANK: 0 - CUDA_VISIBLE_DEVICES: [0]\n"
     ]
    },
    {
     "name": "stdout",
     "output_type": "stream",
     "text": [
      "🏃 View run monumental-lynx-854 at: http://127.0.0.1:8081/#/experiments/649629653407368041/runs/3696161633ff4a2297f8ba44b68a615c\n",
      "🧪 View experiment at: http://127.0.0.1:8081/#/experiments/649629653407368041\n"
     ]
    },
    {
     "data": {
      "application/vnd.jupyter.widget-view+json": {
       "model_id": "a5857522e925437fbd2fc4ff648c019e",
       "version_major": 2,
       "version_minor": 0
      },
      "text/plain": [
       "Predicting: 78it [00:00, ?it/s]"
      ]
     },
     "metadata": {},
     "output_type": "display_data"
    },
    {
     "name": "stderr",
     "output_type": "stream",
     "text": [
      "INFO:__main__:Val normalised RMSE (all): 0.9644452499106542; Val normalised RMSE (orig): 0.9506212342312618\n",
      "INFO:src.models.time_varying_model:RMSE calculation for test.\n",
      "INFO:src.models.time_varying_model:dataset output shape: (22260, 59, 4)\n",
      "INFO:src.models.time_varying_model:dataset output shape: (18700, 59, 1)\n",
      "INFO:src.models.time_varying_model:first output: [[-0.12035835]\n",
      " [-0.11724446]\n",
      " [-0.11327777]\n",
      " [-0.10967946]\n",
      " [-0.11120945]\n",
      " [-0.10957893]\n",
      " [-0.11293824]\n",
      " [-0.11206222]\n",
      " [-0.11009807]\n",
      " [-0.10723271]\n",
      " [-0.14749837]\n",
      " [-0.14749837]\n",
      " [-0.14749837]\n",
      " [-0.14749837]\n",
      " [-0.14749837]\n",
      " [-0.14749837]\n",
      " [-0.14749837]\n",
      " [-0.14749837]\n",
      " [-0.14749837]\n",
      " [-0.14749837]\n",
      " [-0.14749837]\n",
      " [-0.14749837]\n",
      " [-0.14749837]\n",
      " [-0.14749837]\n",
      " [-0.14749837]\n",
      " [-0.14749837]\n",
      " [-0.14749837]\n",
      " [-0.14749837]\n",
      " [-0.14749837]\n",
      " [-0.14749837]\n",
      " [-0.14749837]\n",
      " [-0.14749837]\n",
      " [-0.14749837]\n",
      " [-0.14749837]\n",
      " [-0.14749837]\n",
      " [-0.14749837]\n",
      " [-0.14749837]\n",
      " [-0.14749837]\n",
      " [-0.14749837]\n",
      " [-0.14749837]\n",
      " [-0.14749837]\n",
      " [-0.14749837]\n",
      " [-0.14749837]\n",
      " [-0.14749837]\n",
      " [-0.14749837]\n",
      " [-0.14749837]\n",
      " [-0.14749837]\n",
      " [-0.14749837]\n",
      " [-0.14749837]\n",
      " [-0.14749837]\n",
      " [-0.14749837]\n",
      " [-0.14749837]\n",
      " [-0.14749837]\n",
      " [-0.14749837]\n",
      " [-0.14749837]\n",
      " [-0.14749837]\n",
      " [-0.14749837]\n",
      " [-0.14749837]\n",
      " [-0.14749837]]\n",
      "INFO:src.models.rmsn:Predictions for test.\n",
      "LOCAL_RANK: 0 - CUDA_VISIBLE_DEVICES: [0]\n"
     ]
    },
    {
     "name": "stdout",
     "output_type": "stream",
     "text": [
      "🏃 View run monumental-lynx-854 at: http://127.0.0.1:8081/#/experiments/649629653407368041/runs/3696161633ff4a2297f8ba44b68a615c\n",
      "🧪 View experiment at: http://127.0.0.1:8081/#/experiments/649629653407368041\n"
     ]
    },
    {
     "data": {
      "application/vnd.jupyter.widget-view+json": {
       "model_id": "437c2c15ebe3462c8ea9bed0cfbd555b",
       "version_major": 2,
       "version_minor": 0
      },
      "text/plain": [
       "Predicting: 78it [00:00, ?it/s]"
      ]
     },
     "metadata": {},
     "output_type": "display_data"
    },
    {
     "name": "stderr",
     "output_type": "stream",
     "text": [
      "INFO:__main__:Test normalised RMSE (all): 1.3741569130772973; Test normalised RMSE (orig): 1.0639230030289093; Test normalised RMSE (only counterfactual): 0.8943832537537814\n"
     ]
    },
    {
     "name": "stdout",
     "output_type": "stream",
     "text": [
      "🏃 View run monumental-lynx-854 at: http://127.0.0.1:8081/#/experiments/649629653407368041/runs/3696161633ff4a2297f8ba44b68a615c\n",
      "🧪 View experiment at: http://127.0.0.1:8081/#/experiments/649629653407368041\n"
     ]
    },
    {
     "data": {
      "text/plain": [
       "{'propensity_treatment_val_bce_all': 0.7714576178417046,\n",
       " 'propensity_treatment_val_bce_orig': 0.7715419283315933,\n",
       " 'propensity_treatment_test_bce_all': 0.772097320947565,\n",
       " 'propensity_treatment_test_bce_orig': 0.7690497783840289,\n",
       " 'propensity_history_val_bce_all': 0.7474692722393119,\n",
       " 'propensity_history_val_bce_orig': 0.7474214821895481,\n",
       " 'propensity_history_test_bce_all': 0.7810252791743663,\n",
       " 'propensity_history_test_bce_orig': 0.769577512240865,\n",
       " 'encoder_val_rmse_all': 0.9644452499106542,\n",
       " 'encoder_val_rmse_orig': 0.9506212342312618,\n",
       " 'encoder_test_rmse_all': 1.3741569130772973,\n",
       " 'encoder_test_rmse_orig': 1.0639230030289093,\n",
       " 'encoder_test_rmse_last': 0.8943832537537814}"
      ]
     },
     "execution_count": 4,
     "metadata": {},
     "output_type": "execute_result"
    }
   ],
   "source": [
    "import logging\n",
    "import hydra\n",
    "import torch\n",
    "from omegaconf import DictConfig, OmegaConf\n",
    "from hydra.utils import instantiate\n",
    "from torch.utils.data import DataLoader\n",
    "from pytorch_lightning import Trainer\n",
    "from pytorch_lightning import seed_everything\n",
    "from pytorch_lightning.callbacks import LearningRateMonitor\n",
    "\n",
    "from src.models.utils import AlphaRise, FilteringMlFlowLogger\n",
    "from src.models.rmsn import RMSN\n",
    "\n",
    "logging.basicConfig(level=logging.INFO)\n",
    "logger = logging.getLogger(__name__)\n",
    "torch.set_default_dtype(torch.double)\n",
    "\n",
    "# Load the configuration file\n",
    "config_path = '/work/postresearch/Shared/Researchers/Farbod/cancer/code/CausalDiff/config/cancer_sim_rmsn.yaml'\n",
    "args = OmegaConf.load(config_path)\n",
    "\n",
    "\n",
    "def main(args: DictConfig):\n",
    "    \"\"\"\n",
    "    Training / evaluation script for RMSNs\n",
    "    Args:\n",
    "        args: arguments of run as DictConfig\n",
    "\n",
    "    Returns: dict with results (one and nultiple-step-ahead RMSEs)\n",
    "    \"\"\"\n",
    "\n",
    "    results = {}\n",
    "\n",
    "    # Non-strict access to fields\n",
    "    OmegaConf.set_struct(args, False)\n",
    "    OmegaConf.register_new_resolver(\"sum\", lambda x, y: x + y, replace=True)\n",
    "    logger.info('\\n' + OmegaConf.to_yaml(args, resolve=True))\n",
    "\n",
    "    # Initialisation of data to calculate dim_outcomes, dim_treatments, dim_vitals and dim_static_features\n",
    "    seed_everything(args.exp.seed)\n",
    "    dataset_collection = instantiate(args.dataset, _recursive_=True)\n",
    "    # Only binary multilabel regime possible\n",
    "    assert args.dataset.treatment_mode == 'multilabel'\n",
    "    dataset_collection.process_data_encoder()\n",
    "    args.model.dim_outcomes = dataset_collection.train_f.data['outputs'].shape[-1]\n",
    "    args.model.dim_treatments = dataset_collection.train_f.data['current_treatments'].shape[-1]\n",
    "    args.model.dim_vitals = dataset_collection.train_f.data[\n",
    "        'vitals'].shape[-1] if dataset_collection.has_vitals else 0\n",
    "    args.model.dim_static_features = dataset_collection.train_f.data['static_features'].shape[-1]\n",
    "\n",
    "    # Train_callbacks\n",
    "    prop_treatment_callbacks, propensity_history_callbacks, encoder_callbacks, decoder_callbacks = [], [], [], []\n",
    "\n",
    "    # MlFlow Logger\n",
    "    if args.exp.logging:\n",
    "        experiment_name = f'{args.model.name}/{args.dataset.name}'\n",
    "        mlf_logger = FilteringMlFlowLogger(filter_submodels=RMSN.possible_model_types, experiment_name=experiment_name,\n",
    "                                           tracking_uri=args.exp.mlflow_uri)\n",
    "        encoder_callbacks += [LearningRateMonitor(logging_interval='epoch')]\n",
    "        decoder_callbacks += [LearningRateMonitor(logging_interval='epoch')]\n",
    "        prop_treatment_callbacks += [\n",
    "            LearningRateMonitor(logging_interval='epoch')]\n",
    "        propensity_history_callbacks += [\n",
    "            LearningRateMonitor(logging_interval='epoch')]\n",
    "    else:\n",
    "        mlf_logger = None\n",
    "\n",
    "    # ============================== Nominator (treatment propensity network) ==============================\n",
    "    propensity_treatment = instantiate(\n",
    "        args.model.propensity_treatment, args, dataset_collection, _recursive_=False)\n",
    "    if args.model.propensity_treatment.tune_hparams:\n",
    "        propensity_treatment.finetune(\n",
    "            resources_per_trial=args.model.propensity_treatment.resources_per_trial)\n",
    "\n",
    "    propensity_treatment_trainer = Trainer(gpus=eval(str(args.exp.gpus)),\n",
    "                                           logger=mlf_logger,\n",
    "                                           max_epochs=args.exp.max_epochs,\n",
    "                                           callbacks=prop_treatment_callbacks,\n",
    "                                           gradient_clip_val=args.model.propensity_treatment.max_grad_norm,\n",
    "                                           terminate_on_nan=True)\n",
    "    propensity_treatment_trainer.fit(propensity_treatment)\n",
    "\n",
    "    # Validation BCE\n",
    "    val_bce_orig, val_bce_all = propensity_treatment.get_masked_bce(\n",
    "        dataset_collection.val_f)\n",
    "    logger.info(\n",
    "        f'Val normalised BCE (all): {val_bce_all}; Val normalised RMSE (orig): {val_bce_orig}')\n",
    "\n",
    "    # Test BCE\n",
    "    if hasattr(dataset_collection, 'test_cf_one_step'):  # Test one_step_counterfactual\n",
    "        test_bce_orig, test_bce_all = propensity_treatment.get_masked_bce(\n",
    "            dataset_collection.test_cf_one_step)\n",
    "    elif hasattr(dataset_collection, 'test_f'):  # Test factual\n",
    "        test_bce_orig, test_bce_all = propensity_treatment.get_masked_bce(\n",
    "            dataset_collection.test_f)\n",
    "\n",
    "    logger.info(\n",
    "        f'Test normalised RMSE (all): {test_bce_orig}; Test normalised RMSE (orig): {test_bce_all}.')\n",
    "    prop_treatment_results = {\n",
    "        'propensity_treatment_val_bce_all': val_bce_all,\n",
    "        'propensity_treatment_val_bce_orig': val_bce_orig,\n",
    "        'propensity_treatment_test_bce_all': test_bce_all,\n",
    "        'propensity_treatment_test_bce_orig': test_bce_orig\n",
    "    }\n",
    "\n",
    "    mlf_logger.log_metrics(\n",
    "        prop_treatment_results) if args.exp.logging else None\n",
    "    results.update(prop_treatment_results)\n",
    "\n",
    "    # ============================== Denominator (history propensity network) ==============================\n",
    "    propensity_history = instantiate(\n",
    "        args.model.propensity_history, args, dataset_collection, _recursive_=False)\n",
    "    if args.model.propensity_history.tune_hparams:\n",
    "        propensity_history.finetune(\n",
    "            resources_per_trial=args.model.propensity_history.resources_per_trial)\n",
    "\n",
    "    propensity_history_trainer = Trainer(gpus=eval(str(args.exp.gpus)),\n",
    "                                         logger=mlf_logger,\n",
    "                                         max_epochs=args.exp.max_epochs,\n",
    "                                         callbacks=propensity_history_callbacks,\n",
    "                                         gradient_clip_val=args.model.propensity_history.max_grad_norm,\n",
    "                                         terminate_on_nan=True)\n",
    "    propensity_history_trainer.fit(propensity_history)\n",
    "\n",
    "    # Validation BCE\n",
    "    val_bce_orig, val_bce_all = propensity_history.get_masked_bce(\n",
    "        dataset_collection.val_f)\n",
    "    logger.info(\n",
    "        f'Val normalised BCE (all): {val_bce_all}; Val normalised RMSE (orig): {val_bce_orig}')\n",
    "\n",
    "    # Test BCE\n",
    "    if hasattr(dataset_collection, 'test_cf_one_step'):  # Test one_step_counterfactual\n",
    "        test_bce_orig, test_bce_all = propensity_history.get_masked_bce(\n",
    "            dataset_collection.test_cf_one_step)\n",
    "    elif hasattr(dataset_collection, 'test_f'):  # Test factual\n",
    "        test_bce_orig, test_bce_all = propensity_history.get_masked_bce(\n",
    "            dataset_collection.test_f)\n",
    "\n",
    "    logger.info(\n",
    "        f'Test normalised BCE (all): {test_bce_orig}; Test normalised BCE (orig): {test_bce_all}.')\n",
    "    propensity_history_results = {\n",
    "        'propensity_history_val_bce_all': val_bce_all,\n",
    "        'propensity_history_val_bce_orig': val_bce_orig,\n",
    "        'propensity_history_test_bce_all': test_bce_all,\n",
    "        'propensity_history_test_bce_orig': test_bce_orig\n",
    "    }\n",
    "\n",
    "    mlf_logger.log_metrics(\n",
    "        propensity_history_results) if args.exp.logging else None\n",
    "    results.update(propensity_history_results)\n",
    "\n",
    "    # ============================== Initialisation & Training of Encoder ==============================\n",
    "    encoder = instantiate(args.model.encoder, args, propensity_treatment, propensity_history, dataset_collection,\n",
    "                          _recursive_=False)\n",
    "    if args.model.encoder.tune_hparams:\n",
    "        encoder.finetune(\n",
    "            resources_per_trial=args.model.encoder.resources_per_trial)\n",
    "\n",
    "    encoder_trainer = Trainer(gpus=eval(str(args.exp.gpus)),\n",
    "                              logger=mlf_logger,\n",
    "                              max_epochs=args.exp.max_epochs,\n",
    "                              callbacks=encoder_callbacks,\n",
    "                              gradient_clip_val=args.model.encoder.max_grad_norm,\n",
    "                              terminate_on_nan=True)\n",
    "    encoder_trainer.fit(encoder)\n",
    "    encoder_results = {}\n",
    "\n",
    "    def test_step(self, batch, batch_idx):\n",
    "        return self.validation_step(batch, batch_idx)\n",
    "    encoder.test_step = test_step.__get__(encoder, encoder.__class__)\n",
    "    # Validation factual rmse\n",
    "    val_dataloader = DataLoader(\n",
    "        dataset_collection.val_f, batch_size=args.dataset.val_batch_size, shuffle=False)\n",
    "    encoder_trainer.test(encoder, dataloaders=val_dataloader)\n",
    "    val_rmse_orig, val_rmse_all = encoder.get_normalised_masked_rmse(\n",
    "        dataset_collection.val_f)\n",
    "    logger.info(\n",
    "        f'Val normalised RMSE (all): {val_rmse_all}; Val normalised RMSE (orig): {val_rmse_orig}')\n",
    "\n",
    "    if hasattr(dataset_collection, 'test_cf_one_step'):  # Test one_step_counterfactual rmse\n",
    "        test_rmse_orig, test_rmse_all, test_rmse_last = encoder.get_normalised_masked_rmse(dataset_collection.test_cf_one_step,\n",
    "                                                                                           one_step_counterfactual=True)\n",
    "        logger.info(f'Test normalised RMSE (all): {test_rmse_all}; '\n",
    "                    f'Test normalised RMSE (orig): {test_rmse_orig}; '\n",
    "                    f'Test normalised RMSE (only counterfactual): {test_rmse_last}')\n",
    "        encoder_results = {\n",
    "            'encoder_val_rmse_all': val_rmse_all,\n",
    "            'encoder_val_rmse_orig': val_rmse_orig,\n",
    "            'encoder_test_rmse_all': test_rmse_all,\n",
    "            'encoder_test_rmse_orig': test_rmse_orig,\n",
    "            'encoder_test_rmse_last': test_rmse_last\n",
    "        }\n",
    "    elif hasattr(dataset_collection, 'test_f'):  # Test factual rmse\n",
    "        test_rmse_orig, test_rmse_all = encoder.get_normalised_masked_rmse(\n",
    "            dataset_collection.test_f)\n",
    "        logger.info(f'Test normalised RMSE (all): {test_rmse_all}; '\n",
    "                    f'Test normalised RMSE (orig): {test_rmse_orig}.')\n",
    "        encoder_results = {\n",
    "            'encoder_val_rmse_all': val_rmse_all,\n",
    "            'encoder_val_rmse_orig': val_rmse_orig,\n",
    "            'encoder_test_rmse_all': test_rmse_all,\n",
    "            'encoder_test_rmse_orig': test_rmse_orig\n",
    "        }\n",
    "\n",
    "    mlf_logger.log_metrics(encoder_results) if args.exp.logging else None\n",
    "    results.update(encoder_results)\n",
    "\n",
    "    # ============================== Initialisation & Training of Decoder ==============================\n",
    "    if args.model.train_decoder:\n",
    "        decoder = instantiate(args.model.decoder, args,\n",
    "                              encoder, dataset_collection, _recursive_=False)\n",
    "\n",
    "        if args.model.decoder.tune_hparams:\n",
    "            decoder.finetune(\n",
    "                resources_per_trial=args.model.decoder.resources_per_trial)\n",
    "\n",
    "        decoder_trainer = Trainer(gpus=eval(str(args.exp.gpus)),\n",
    "                                  logger=mlf_logger,\n",
    "                                  max_epochs=args.exp.max_epochs,\n",
    "                                  gradient_clip_val=args.model.decoder.max_grad_norm,\n",
    "                                  callbacks=decoder_callbacks,\n",
    "                                  terminate_on_nan=True)\n",
    "        decoder_trainer.fit(decoder)\n",
    "\n",
    "        def test_step(self, batch, batch_idx):\n",
    "            return self.validation_step(batch, batch_idx)\n",
    "        decoder.test_step = test_step.__get__(decoder, decoder.__class__)\n",
    "        # Validation factual rmse\n",
    "        val_dataloader = DataLoader(\n",
    "            dataset_collection.val_f, batch_size=10 * args.dataset.val_batch_size, shuffle=False)\n",
    "        decoder_trainer.test(decoder, dataloaders=val_dataloader)\n",
    "        val_rmse_orig, val_rmse_all = decoder.get_normalised_masked_rmse(\n",
    "            dataset_collection.val_f)\n",
    "        logger.info(\n",
    "            f'Val normalised RMSE (all): {val_rmse_all}; Val normalised RMSE (orig): {val_rmse_orig}')\n",
    "\n",
    "        test_rmses = {}\n",
    "        if hasattr(dataset_collection, 'test_cf_treatment_seq'):  # Test n_step_counterfactual rmse\n",
    "            test_rmses = decoder.get_normalised_n_step_rmses(\n",
    "                dataset_collection.test_cf_treatment_seq)\n",
    "        elif hasattr(dataset_collection, 'test_f'):  # Test n_step_factual rmse\n",
    "            test_rmses = decoder.get_normalised_n_step_rmses(\n",
    "                dataset_collection.test_f)\n",
    "        test_rmses = {f'{k+2}-step': v for (k, v) in enumerate(test_rmses)}\n",
    "\n",
    "        logger.info(f'Test normalised RMSE (n-step prediction): {test_rmses}')\n",
    "        decoder_results = {\n",
    "            'decoder_val_rmse_all': val_rmse_all,\n",
    "            'decoder_val_rmse_orig': val_rmse_orig\n",
    "        }\n",
    "        decoder_results.update(\n",
    "            {('decoder_test_rmse_' + k): v for (k, v) in test_rmses.items()})\n",
    "\n",
    "        mlf_logger.log_metrics(decoder_results) if args.exp.logging else None\n",
    "        results.update(decoder_results)\n",
    "\n",
    "        mlf_logger.experiment.set_terminated(\n",
    "            mlf_logger.run_id) if args.exp.logging else None\n",
    "\n",
    "    return results\n",
    "\n",
    "\n",
    "if __name__ == \"__main__\":\n",
    "    main(args)"
   ]
  },
  {
   "cell_type": "markdown",
   "metadata": {},
   "source": [
    "# CT\n"
   ]
  },
  {
   "cell_type": "code",
   "execution_count": 17,
   "metadata": {},
   "outputs": [
    {
     "name": "stderr",
     "output_type": "stream",
     "text": [
      "INFO:__main__:\n",
      "dataset:\n",
      "  _target_: src.data.SyntheticCancerDatasetCollection\n",
      "  name: tumor_generator\n",
      "  coeff: 4\n",
      "  chemo_coeff: 4\n",
      "  radio_coeff: 4\n",
      "  seed: 100\n",
      "  num_patients:\n",
      "    train: 10000\n",
      "    val: 1000\n",
      "    test: 100\n",
      "  window_size: 15\n",
      "  lag: 0\n",
      "  max_seq_length: 60\n",
      "  projection_horizon: 5\n",
      "  cf_seq_mode: sliding_treatment\n",
      "  val_batch_size: 512\n",
      "  treatment_mode: multiclass\n",
      "model:\n",
      "  name: CT_DomainConfusion\n",
      "  dim_treatments: 4\n",
      "  dim_vitals: 0\n",
      "  dim_static_features: 1\n",
      "  dim_outcomes: 1\n",
      "  multi:\n",
      "    tune_hparams: false\n",
      "    batch_size: 128\n",
      "    seq_hidden_units: 12\n",
      "    br_size: 16\n",
      "    fc_hidden_units: 48\n",
      "    dropout_rate: 0.1\n",
      "    _target_: src.models.ct.CT\n",
      "    max_seq_length: 65\n",
      "    num_layer: 1\n",
      "    num_heads: 2\n",
      "    max_grad_norm: 1\n",
      "    attn_dropout: true\n",
      "    disable_cross_attention: false\n",
      "    isolate_subnetwork: _\n",
      "    self_positional_encoding:\n",
      "      absolute: false\n",
      "      trainable: true\n",
      "      max_relative_position: 15\n",
      "    optimizer:\n",
      "      optimizer_cls: adam\n",
      "      learning_rate: 0.01\n",
      "      weight_decay: 0.0\n",
      "      lr_scheduler: false\n",
      "    augment_with_masked_vitals: true\n",
      "    tune_range: 50\n",
      "    hparams_grid: null\n",
      "    resources_per_trial: null\n",
      "exp:\n",
      "  unscale_rmse: true\n",
      "  percentage_rmse: true\n",
      "  seed: 100\n",
      "  weights_ema: true\n",
      "  gpus:\n",
      "  - 0\n",
      "  logging: true\n",
      "  mlflow_uri: http://127.0.0.1:8081\n",
      "  alpha: 0.01\n",
      "  beta: 0.99\n",
      "  balancing: domain_confusion\n",
      "  max_epochs: 150\n",
      "  alpha_rate: exp\n",
      "  update_alpha: false\n",
      "  bce_weight: false\n",
      "\n",
      "Global seed set to 100\n",
      "INFO:root:Simulating initial volumes for stage I  with norm params: mu=1.72, sigma=4.7, lb=-0.6221218732608373, ub=-0.023523848418276528\n",
      "INFO:root:Simulating initial volumes for stage II  with norm params: mu=1.96, sigma=1.63, lb=-1.9410876100159118, ub=0.3711345751297772\n",
      "INFO:root:Simulating initial volumes for stage IIIA  with norm params: mu=1.91, sigma=9.4, lb=-0.33127370258786554, ub=0.06967546355973796\n",
      "INFO:root:Simulating initial volumes for stage IIIB  with norm params: mu=2.76, sigma=6.87, lb=-0.5769974969906748, ub=-0.02839165102452155\n",
      "INFO:root:Simulating initial volumes for stage IV  with norm params: mu=3.86, sigma=8.82, lb=-0.5741465764541877, ub=-0.14683113860980307\n",
      "INFO:root:Got correlated params for 4597 patients\n",
      "INFO:root:Got correlated params for 9177 patients\n",
      "INFO:root:Got correlated params for 13793 patients\n",
      "INFO:root:Simulating beta_c parameters\n",
      "INFO:root:Randomising outputs\n"
     ]
    },
    {
     "name": "stderr",
     "output_type": "stream",
     "text": [
      "/work/postresearch/Shared/Researchers/Farbod/cancer/code/CausalDiff/src/data/cancer_sim/cancer_simulation.py:346: RuntimeWarning: overflow encountered in exp\n",
      "  if recovery_rvs[i, t] < np.exp(-cancer_volume[i, t] * TUMOUR_CELL_DENSITY):\n",
      "100%|██████████| 10000/10000 [00:14<00:00, 670.47it/s]\n",
      "INFO:root:Simulating initial volumes for stage I  with norm params: mu=1.72, sigma=4.7, lb=-0.6221218732608373, ub=-0.023523848418276528\n",
      "INFO:root:Simulating initial volumes for stage II  with norm params: mu=1.96, sigma=1.63, lb=-1.9410876100159118, ub=0.3711345751297772\n",
      "INFO:root:Simulating initial volumes for stage IIIA  with norm params: mu=1.91, sigma=9.4, lb=-0.33127370258786554, ub=0.06967546355973796\n",
      "INFO:root:Simulating initial volumes for stage IIIB  with norm params: mu=2.76, sigma=6.87, lb=-0.5769974969906748, ub=-0.02839165102452155\n",
      "INFO:root:Simulating initial volumes for stage IV  with norm params: mu=3.86, sigma=8.82, lb=-0.5741465764541877, ub=-0.14683113860980307\n",
      "INFO:root:Got correlated params for 444 patients\n",
      "INFO:root:Got correlated params for 922 patients\n",
      "INFO:root:Got correlated params for 1372 patients\n",
      "INFO:root:Simulating beta_c parameters\n",
      "INFO:root:Randomising outputs\n",
      "100%|██████████| 1000/1000 [00:01<00:00, 728.00it/s]\n",
      "INFO:root:Simulating initial volumes for stage I  with norm params: mu=1.72, sigma=4.7, lb=-0.6221218732608373, ub=-0.023523848418276528\n",
      "INFO:root:Simulating initial volumes for stage II  with norm params: mu=1.96, sigma=1.63, lb=-1.9410876100159118, ub=0.3711345751297772\n",
      "INFO:root:Simulating initial volumes for stage IIIA  with norm params: mu=1.91, sigma=9.4, lb=-0.33127370258786554, ub=0.06967546355973796\n",
      "INFO:root:Simulating initial volumes for stage IIIB  with norm params: mu=2.76, sigma=6.87, lb=-0.5769974969906748, ub=-0.02839165102452155\n",
      "INFO:root:Simulating initial volumes for stage IV  with norm params: mu=3.86, sigma=8.82, lb=-0.5741465764541877, ub=-0.14683113860980307\n",
      "INFO:root:Got correlated params for 37 patients\n",
      "INFO:root:Got correlated params for 82 patients\n",
      "INFO:root:Got correlated params for 131 patients\n",
      "INFO:root:Simulating beta_c parameters\n",
      "INFO:root:Randomising outputs\n",
      "/work/postresearch/Shared/Researchers/Farbod/cancer/code/CausalDiff/src/data/cancer_sim/cancer_simulation.py:39: RuntimeWarning: invalid value encountered in scalar power\n",
      "  return ((volume / (4 / 3 * np.pi)) ** (1 / 3)) * 2\n",
      "100%|██████████| 100/100 [00:08<00:00, 11.99it/s]\n",
      "INFO:root:Simulating initial volumes for stage I  with norm params: mu=1.72, sigma=4.7, lb=-0.6221218732608373, ub=-0.023523848418276528\n",
      "INFO:root:Simulating initial volumes for stage II  with norm params: mu=1.96, sigma=1.63, lb=-1.9410876100159118, ub=0.3711345751297772\n",
      "INFO:root:Simulating initial volumes for stage IIIA  with norm params: mu=1.91, sigma=9.4, lb=-0.33127370258786554, ub=0.06967546355973796\n",
      "INFO:root:Simulating initial volumes for stage IIIB  with norm params: mu=2.76, sigma=6.87, lb=-0.5769974969906748, ub=-0.02839165102452155\n",
      "INFO:root:Simulating initial volumes for stage IV  with norm params: mu=3.86, sigma=8.82, lb=-0.5741465764541877, ub=-0.14683113860980307\n",
      "INFO:root:Got correlated params for 51 patients\n",
      "INFO:root:Got correlated params for 95 patients\n",
      "INFO:root:Got correlated params for 147 patients\n",
      "INFO:root:Simulating beta_c parameters\n",
      "INFO:root:Randomising outputs\n"
     ]
    },
    {
     "name": "stdout",
     "output_type": "stream",
     "text": [
      "Call to simulate counterfactuals data\n"
     ]
    },
    {
     "name": "stderr",
     "output_type": "stream",
     "text": [
      "100%|██████████| 100/100 [00:02<00:00, 37.30it/s]\n",
      "INFO:src.data.cancer_sim.dataset:Processing train dataset before training\n",
      "INFO:src.data.cancer_sim.dataset:Shape of processed train data: {'cancer_volume': (10000, 60), 'chemo_dosage': (10000, 60), 'radio_dosage': (10000, 60), 'chemo_application': (10000, 60), 'radio_application': (10000, 60), 'chemo_probabilities': (10000, 60), 'radio_probabilities': (10000, 60), 'sequence_lengths': (10000,), 'death_flags': (10000, 60), 'recovery_flags': (10000, 60), 'patient_types': (10000,), 'prev_treatments': (10000, 59, 4), 'current_treatments': (10000, 59, 4), 'current_covariates': (10000, 59, 2), 'outputs': (10000, 59, 1), 'active_entries': (10000, 59, 1), 'unscaled_outputs': (10000, 59, 1), 'prev_outputs': (10000, 59, 1), 'static_features': (10000, 1)}\n",
      "INFO:src.data.cancer_sim.dataset:Processing val dataset before training\n",
      "INFO:src.data.cancer_sim.dataset:Shape of processed val data: {'cancer_volume': (1000, 60), 'chemo_dosage': (1000, 60), 'radio_dosage': (1000, 60), 'chemo_application': (1000, 60), 'radio_application': (1000, 60), 'chemo_probabilities': (1000, 60), 'radio_probabilities': (1000, 60), 'sequence_lengths': (1000,), 'death_flags': (1000, 60), 'recovery_flags': (1000, 60), 'patient_types': (1000,), 'prev_treatments': (1000, 59, 4), 'current_treatments': (1000, 59, 4), 'current_covariates': (1000, 59, 2), 'outputs': (1000, 59, 1), 'active_entries': (1000, 59, 1), 'unscaled_outputs': (1000, 59, 1), 'prev_outputs': (1000, 59, 1), 'static_features': (1000, 1)}\n",
      "INFO:src.data.cancer_sim.dataset:Processing test dataset before training\n",
      "INFO:src.data.cancer_sim.dataset:Shape of processed test data: {'cancer_volume': (22260, 60), 'chemo_application': (22260, 60), 'radio_application': (22260, 60), 'sequence_lengths': (22260,), 'patient_types': (22260,), 'median_cancer_volume': (22260, 60), 'cancer_volume_5th_percentile': (22260, 60), 'cancer_volume_95th_percentile': (22260, 60), 'prev_treatments': (22260, 59, 4), 'current_treatments': (22260, 59, 4), 'current_covariates': (22260, 59, 2), 'outputs': (22260, 59, 4), 'active_entries': (22260, 59, 1), 'unscaled_outputs': (22260, 59, 4), 'prev_outputs': (22260, 59, 1), 'static_features': (22260, 1)}\n",
      "INFO:src.data.cancer_sim.dataset:Processing test dataset before training\n",
      "INFO:src.data.cancer_sim.dataset:Shape of processed test data: {'cancer_volume': (57000, 65), 'chemo_application': (57000, 65), 'radio_application': (57000, 65), 'sequence_lengths': (57000,), 'patient_types': (57000,), 'patient_ids_all_trajectories': (57000,), 'patient_current_t': (57000,), 'prev_treatments': (57000, 64, 4), 'current_treatments': (57000, 64, 4), 'current_covariates': (57000, 64, 2), 'outputs': (57000, 64, 1), 'active_entries': (57000, 64, 1), 'unscaled_outputs': (57000, 64, 1), 'prev_outputs': (57000, 64, 1), 'static_features': (57000, 1)}\n",
      "INFO:src.data.cancer_sim.dataset:Processing test dataset before testing (multiple sequences)\n",
      "INFO:src.data.cancer_sim.dataset:Shape of processed test data: {'active_encoder_r': (57000, 59), 'prev_treatments': (57000, 5, 4), 'current_treatments': (57000, 5, 4), 'current_covariates': (57000, 5, 2), 'prev_outputs': (57000, 5, 1), 'static_features': (57000, 1), 'outputs': (57000, 5, 1), 'sequence_lengths': (57000,), 'active_entries': (57000, 5, 1), 'unscaled_outputs': (57000, 5, 1), 'patient_types': (57000,), 'patient_ids_all_trajectories': (57000,), 'patient_current_t': (57000,)}\n",
      "INFO:src.models.ct:Max input size of multi: 4\n",
      "/home/alinezhad.f/micromamba/envs/torch_old/lib/python3.11/site-packages/pytorch_lightning/trainer/trainer.py:572: LightningDeprecationWarning: Trainer argument `terminate_on_nan` was deprecated in v1.5 and will be removed in 1.7. Please use `Trainer(detect_anomaly=True)` instead.\n",
      "  rank_zero_deprecation(\n",
      "GPU available: True, used: True\n",
      "TPU available: False, using: 0 TPU cores\n",
      "IPU available: False, using: 0 IPUs\n",
      "HPU available: False, using: 0 HPUs\n",
      "/home/alinezhad.f/micromamba/envs/torch_old/lib/python3.11/site-packages/pytorch_lightning/trainer/configuration_validator.py:131: UserWarning: You passed in a `val_dataloader` but have no `validation_step`. Skipping val loop.\n",
      "  rank_zero_warn(\"You passed in a `val_dataloader` but have no `validation_step`. Skipping val loop.\")\n",
      "/home/alinezhad.f/micromamba/envs/torch_old/lib/python3.11/site-packages/pytorch_lightning/trainer/configuration_validator.py:385: LightningDeprecationWarning: The `Callback.on_epoch_end` hook was deprecated in v1.6 and will be removed in v1.8. Please use `Callback.on_<train/validation/test>_epoch_end` instead.\n",
      "  rank_zero_deprecation(\n",
      "LOCAL_RANK: 0 - CUDA_VISIBLE_DEVICES: [0]\n",
      "\n",
      "  | Name                            | Type                       | Params\n",
      "-------------------------------------------------------------------------------\n",
      "0 | input_transformation            | Linear                     | 60    \n",
      "1 | self_positional_encoding_k      | RelativePositionalEncoding | 186   \n",
      "2 | self_positional_encoding_v      | RelativePositionalEncoding | 186   \n",
      "3 | transformer_blocks              | ModuleList                 | 4.8 K \n",
      "4 | output_dropout                  | Dropout                    | 0     \n",
      "5 | br_treatment_outcome_head       | BRTreatmentOutcomeHead     | 2.3 K \n",
      "6 | treatments_input_transformation | Linear                     | 60    \n",
      "7 | outputs_input_transformation    | Linear                     | 24    \n",
      "8 | static_input_transformation     | Linear                     | 24    \n",
      "-------------------------------------------------------------------------------\n",
      "7.3 K     Trainable params\n",
      "0         Non-trainable params\n",
      "7.3 K     Total params\n",
      "0.029     Total estimated model params size (MB)\n",
      "/home/alinezhad.f/micromamba/envs/torch_old/lib/python3.11/site-packages/pytorch_lightning/trainer/connectors/data_connector.py:240: PossibleUserWarning: The dataloader, train_dataloader, does not have many workers which may be a bottleneck. Consider increasing the value of the `num_workers` argument` (try 128 which is the number of cpus on this machine) in the `DataLoader` init to improve performance.\n",
      "  rank_zero_warn(\n"
     ]
    },
    {
     "data": {
      "application/vnd.jupyter.widget-view+json": {
       "model_id": "658a7fd62df7478bb48cf38655faa8ca",
       "version_major": 2,
       "version_minor": 0
      },
      "text/plain": [
       "Training: 0it [00:00, ?it/s]"
      ]
     },
     "metadata": {},
     "output_type": "display_data"
    },
    {
     "name": "stderr",
     "output_type": "stream",
     "text": [
      "/home/alinezhad.f/micromamba/envs/torch_old/lib/python3.11/site-packages/torch/nn/_reduction.py:42: UserWarning: size_average and reduce args will be deprecated, please use reduction='none' instead.\n",
      "  warnings.warn(warning.format(ret))\n",
      "LOCAL_RANK: 0 - CUDA_VISIBLE_DEVICES: [0]\n"
     ]
    },
    {
     "name": "stdout",
     "output_type": "stream",
     "text": [
      "🏃 View run smiling-boar-846 at: http://127.0.0.1:8081/#/experiments/675413508655406484/runs/a0dbafb131bc4660ae59e5c9721b931c\n",
      "🧪 View experiment at: http://127.0.0.1:8081/#/experiments/675413508655406484\n"
     ]
    },
    {
     "name": "stderr",
     "output_type": "stream",
     "text": [
      "/home/alinezhad.f/micromamba/envs/torch_old/lib/python3.11/site-packages/pytorch_lightning/trainer/connectors/data_connector.py:240: PossibleUserWarning: The dataloader, test_dataloader 0, does not have many workers which may be a bottleneck. Consider increasing the value of the `num_workers` argument` (try 128 which is the number of cpus on this machine) in the `DataLoader` init to improve performance.\n",
      "  rank_zero_warn(\n"
     ]
    },
    {
     "data": {
      "application/vnd.jupyter.widget-view+json": {
       "model_id": "0ef0ce81531245f78f98b618d18cfef6",
       "version_major": 2,
       "version_minor": 0
      },
      "text/plain": [
       "Testing: 0it [00:00, ?it/s]"
      ]
     },
     "metadata": {},
     "output_type": "display_data"
    },
    {
     "name": "stderr",
     "output_type": "stream",
     "text": [
      "INFO:src.models.time_varying_model:RMSE calculation for val.\n",
      "INFO:src.models.time_varying_model:dataset output shape: (1000, 59, 1)\n",
      "INFO:src.models.time_varying_model:Predictions for val.\n",
      "LOCAL_RANK: 0 - CUDA_VISIBLE_DEVICES: [0]\n"
     ]
    },
    {
     "name": "stdout",
     "output_type": "stream",
     "text": [
      "────────────────────────────────────────────────────────────────────────────────────────────────────────────────────────\n",
      "Runningstage.testing metric      DataLoader 0\n",
      "────────────────────────────────────────────────────────────────────────────────────────────────────────────────────────\n",
      "   multi_val_bce_loss        1.558596588884277\n",
      "     multi_val_loss         1.5775597205510248\n",
      "   multi_val_mse_loss      0.018963131666747797\n",
      "────────────────────────────────────────────────────────────────────────────────────────────────────────────────────────\n",
      "🏃 View run smiling-boar-846 at: http://127.0.0.1:8081/#/experiments/675413508655406484/runs/a0dbafb131bc4660ae59e5c9721b931c\n",
      "🧪 View experiment at: http://127.0.0.1:8081/#/experiments/675413508655406484\n"
     ]
    },
    {
     "name": "stderr",
     "output_type": "stream",
     "text": [
      "/home/alinezhad.f/micromamba/envs/torch_old/lib/python3.11/site-packages/pytorch_lightning/trainer/connectors/data_connector.py:240: PossibleUserWarning: The dataloader, predict_dataloader 0, does not have many workers which may be a bottleneck. Consider increasing the value of the `num_workers` argument` (try 128 which is the number of cpus on this machine) in the `DataLoader` init to improve performance.\n",
      "  rank_zero_warn(\n"
     ]
    },
    {
     "data": {
      "application/vnd.jupyter.widget-view+json": {
       "model_id": "60ab9fef6dfd410c8f86d4dffe40357d",
       "version_major": 2,
       "version_minor": 0
      },
      "text/plain": [
       "Predicting: 78it [00:00, ?it/s]"
      ]
     },
     "metadata": {},
     "output_type": "display_data"
    },
    {
     "name": "stderr",
     "output_type": "stream",
     "text": [
      "INFO:__main__:Val normalised RMSE (all): 0.6277229108583364; Val normalised RMSE (orig): 0.6194985587934652\n",
      "INFO:src.models.time_varying_model:RMSE calculation for test.\n",
      "INFO:src.models.time_varying_model:dataset output shape: (22260, 59, 4)\n"
     ]
    },
    {
     "name": "stdout",
     "output_type": "stream",
     "text": [
      "🏃 View run smiling-boar-846 at: http://127.0.0.1:8081/#/experiments/675413508655406484/runs/a0dbafb131bc4660ae59e5c9721b931c\n",
      "🧪 View experiment at: http://127.0.0.1:8081/#/experiments/675413508655406484\n"
     ]
    },
    {
     "name": "stderr",
     "output_type": "stream",
     "text": [
      "INFO:src.models.time_varying_model:dataset output shape: (18700, 59, 1)\n",
      "INFO:src.models.time_varying_model:first output: [[-0.12035835]\n",
      " [-0.11724446]\n",
      " [-0.11327777]\n",
      " [-0.10967946]\n",
      " [-0.11120945]\n",
      " [-0.10957893]\n",
      " [-0.11293824]\n",
      " [-0.11206222]\n",
      " [-0.11009807]\n",
      " [-0.10723271]\n",
      " [-0.14749837]\n",
      " [-0.14749837]\n",
      " [-0.14749837]\n",
      " [-0.14749837]\n",
      " [-0.14749837]\n",
      " [-0.14749837]\n",
      " [-0.14749837]\n",
      " [-0.14749837]\n",
      " [-0.14749837]\n",
      " [-0.14749837]\n",
      " [-0.14749837]\n",
      " [-0.14749837]\n",
      " [-0.14749837]\n",
      " [-0.14749837]\n",
      " [-0.14749837]\n",
      " [-0.14749837]\n",
      " [-0.14749837]\n",
      " [-0.14749837]\n",
      " [-0.14749837]\n",
      " [-0.14749837]\n",
      " [-0.14749837]\n",
      " [-0.14749837]\n",
      " [-0.14749837]\n",
      " [-0.14749837]\n",
      " [-0.14749837]\n",
      " [-0.14749837]\n",
      " [-0.14749837]\n",
      " [-0.14749837]\n",
      " [-0.14749837]\n",
      " [-0.14749837]\n",
      " [-0.14749837]\n",
      " [-0.14749837]\n",
      " [-0.14749837]\n",
      " [-0.14749837]\n",
      " [-0.14749837]\n",
      " [-0.14749837]\n",
      " [-0.14749837]\n",
      " [-0.14749837]\n",
      " [-0.14749837]\n",
      " [-0.14749837]\n",
      " [-0.14749837]\n",
      " [-0.14749837]\n",
      " [-0.14749837]\n",
      " [-0.14749837]\n",
      " [-0.14749837]\n",
      " [-0.14749837]\n",
      " [-0.14749837]\n",
      " [-0.14749837]\n",
      " [-0.14749837]]\n",
      "INFO:src.models.time_varying_model:Predictions for test.\n",
      "LOCAL_RANK: 0 - CUDA_VISIBLE_DEVICES: [0]\n"
     ]
    },
    {
     "data": {
      "application/vnd.jupyter.widget-view+json": {
       "model_id": "dc6ca20d0d1f4d74bfa0eda16dfd6b5d",
       "version_major": 2,
       "version_minor": 0
      },
      "text/plain": [
       "Predicting: 78it [00:00, ?it/s]"
      ]
     },
     "metadata": {},
     "output_type": "display_data"
    },
    {
     "name": "stdout",
     "output_type": "stream",
     "text": [
      "🏃 View run smiling-boar-846 at: http://127.0.0.1:8081/#/experiments/675413508655406484/runs/a0dbafb131bc4660ae59e5c9721b931c\n",
      "🧪 View experiment at: http://127.0.0.1:8081/#/experiments/675413508655406484\n"
     ]
    },
    {
     "name": "stderr",
     "output_type": "stream",
     "text": [
      "INFO:__main__:Test normalised RMSE (all): 1.2069718143967407; Test normalised RMSE (orig): 0.9752487229288143; Test normalised RMSE (only counterfactual): 0.9303795568607486\n",
      "INFO:src.models.time_varying_model:RMSE calculation for test.\n",
      "INFO:src.models.ct:Autoregressive Prediction for test.\n",
      "INFO:src.models.ct:t = 1\n",
      "INFO:src.models.time_varying_model:Predictions for test.\n",
      "LOCAL_RANK: 0 - CUDA_VISIBLE_DEVICES: [0]\n"
     ]
    },
    {
     "data": {
      "application/vnd.jupyter.widget-view+json": {
       "model_id": "a5b02db813274d9399fab745744660ce",
       "version_major": 2,
       "version_minor": 0
      },
      "text/plain": [
       "Predicting: 78it [00:00, ?it/s]"
      ]
     },
     "metadata": {},
     "output_type": "display_data"
    },
    {
     "name": "stdout",
     "output_type": "stream",
     "text": [
      "🏃 View run smiling-boar-846 at: http://127.0.0.1:8081/#/experiments/675413508655406484/runs/a0dbafb131bc4660ae59e5c9721b931c\n",
      "🧪 View experiment at: http://127.0.0.1:8081/#/experiments/675413508655406484\n"
     ]
    },
    {
     "name": "stderr",
     "output_type": "stream",
     "text": [
      "INFO:src.models.ct:t = 2\n",
      "INFO:src.models.time_varying_model:Predictions for test.\n",
      "LOCAL_RANK: 0 - CUDA_VISIBLE_DEVICES: [0]\n"
     ]
    },
    {
     "data": {
      "application/vnd.jupyter.widget-view+json": {
       "model_id": "f04ac70d2dcc4454beaa5ba85df2e1d3",
       "version_major": 2,
       "version_minor": 0
      },
      "text/plain": [
       "Predicting: 78it [00:00, ?it/s]"
      ]
     },
     "metadata": {},
     "output_type": "display_data"
    },
    {
     "name": "stdout",
     "output_type": "stream",
     "text": [
      "🏃 View run smiling-boar-846 at: http://127.0.0.1:8081/#/experiments/675413508655406484/runs/a0dbafb131bc4660ae59e5c9721b931c\n",
      "🧪 View experiment at: http://127.0.0.1:8081/#/experiments/675413508655406484\n"
     ]
    },
    {
     "name": "stderr",
     "output_type": "stream",
     "text": [
      "INFO:src.models.ct:t = 3\n",
      "INFO:src.models.time_varying_model:Predictions for test.\n",
      "LOCAL_RANK: 0 - CUDA_VISIBLE_DEVICES: [0]\n"
     ]
    },
    {
     "data": {
      "application/vnd.jupyter.widget-view+json": {
       "model_id": "10a1411384b4406593da36b38f2562cf",
       "version_major": 2,
       "version_minor": 0
      },
      "text/plain": [
       "Predicting: 78it [00:00, ?it/s]"
      ]
     },
     "metadata": {},
     "output_type": "display_data"
    },
    {
     "name": "stdout",
     "output_type": "stream",
     "text": [
      "🏃 View run smiling-boar-846 at: http://127.0.0.1:8081/#/experiments/675413508655406484/runs/a0dbafb131bc4660ae59e5c9721b931c\n",
      "🧪 View experiment at: http://127.0.0.1:8081/#/experiments/675413508655406484\n"
     ]
    },
    {
     "name": "stderr",
     "output_type": "stream",
     "text": [
      "INFO:src.models.ct:t = 4\n",
      "INFO:src.models.time_varying_model:Predictions for test.\n",
      "LOCAL_RANK: 0 - CUDA_VISIBLE_DEVICES: [0]\n"
     ]
    },
    {
     "data": {
      "application/vnd.jupyter.widget-view+json": {
       "model_id": "6cbd3460438244c6b3daf34e4d19ac64",
       "version_major": 2,
       "version_minor": 0
      },
      "text/plain": [
       "Predicting: 78it [00:00, ?it/s]"
      ]
     },
     "metadata": {},
     "output_type": "display_data"
    },
    {
     "name": "stdout",
     "output_type": "stream",
     "text": [
      "🏃 View run smiling-boar-846 at: http://127.0.0.1:8081/#/experiments/675413508655406484/runs/a0dbafb131bc4660ae59e5c9721b931c\n",
      "🧪 View experiment at: http://127.0.0.1:8081/#/experiments/675413508655406484\n"
     ]
    },
    {
     "name": "stderr",
     "output_type": "stream",
     "text": [
      "INFO:src.models.ct:t = 5\n",
      "INFO:src.models.time_varying_model:Predictions for test.\n",
      "LOCAL_RANK: 0 - CUDA_VISIBLE_DEVICES: [0]\n"
     ]
    },
    {
     "data": {
      "application/vnd.jupyter.widget-view+json": {
       "model_id": "f1b2806e4c404ab2a64994fd1cc8ab0f",
       "version_major": 2,
       "version_minor": 0
      },
      "text/plain": [
       "Predicting: 78it [00:00, ?it/s]"
      ]
     },
     "metadata": {},
     "output_type": "display_data"
    },
    {
     "name": "stdout",
     "output_type": "stream",
     "text": [
      "🏃 View run smiling-boar-846 at: http://127.0.0.1:8081/#/experiments/675413508655406484/runs/a0dbafb131bc4660ae59e5c9721b931c\n",
      "🧪 View experiment at: http://127.0.0.1:8081/#/experiments/675413508655406484\n"
     ]
    },
    {
     "name": "stderr",
     "output_type": "stream",
     "text": [
      "INFO:src.models.ct:t = 6\n",
      "INFO:src.models.time_varying_model:Predictions for test.\n",
      "LOCAL_RANK: 0 - CUDA_VISIBLE_DEVICES: [0]\n"
     ]
    },
    {
     "data": {
      "application/vnd.jupyter.widget-view+json": {
       "model_id": "489cc9b02825418ea5214cd7fec05ea1",
       "version_major": 2,
       "version_minor": 0
      },
      "text/plain": [
       "Predicting: 78it [00:00, ?it/s]"
      ]
     },
     "metadata": {},
     "output_type": "display_data"
    },
    {
     "name": "stdout",
     "output_type": "stream",
     "text": [
      "🏃 View run smiling-boar-846 at: http://127.0.0.1:8081/#/experiments/675413508655406484/runs/a0dbafb131bc4660ae59e5c9721b931c\n",
      "🧪 View experiment at: http://127.0.0.1:8081/#/experiments/675413508655406484\n"
     ]
    },
    {
     "name": "stderr",
     "output_type": "stream",
     "text": [
      "INFO:__main__:Test normalised RMSE (n-step prediction): {'2-step': 0.8045389723075197, '3-step': 0.8697235020318155, '4-step': 0.9632260967138906, '5-step': 1.036357108944081, '6-step': 1.145490341173136}\n"
     ]
    },
    {
     "name": "stdout",
     "output_type": "stream",
     "text": [
      "🏃 View run smiling-boar-846 at: http://127.0.0.1:8081/#/experiments/675413508655406484/runs/a0dbafb131bc4660ae59e5c9721b931c\n",
      "🧪 View experiment at: http://127.0.0.1:8081/#/experiments/675413508655406484\n"
     ]
    },
    {
     "data": {
      "text/plain": [
       "{'encoder_val_rmse_all': 0.6277229108583364,\n",
       " 'encoder_val_rmse_orig': 0.6194985587934652,\n",
       " 'encoder_test_rmse_all': 1.2069718143967407,\n",
       " 'encoder_test_rmse_orig': 0.9752487229288143,\n",
       " 'encoder_test_rmse_last': 0.9303795568607486,\n",
       " 'decoder_val_rmse_all': 0.6277229108583364,\n",
       " 'decoder_val_rmse_orig': 0.6194985587934652,\n",
       " 'decoder_test_rmse_2-step': 0.8045389723075197,\n",
       " 'decoder_test_rmse_3-step': 0.8697235020318155,\n",
       " 'decoder_test_rmse_4-step': 0.9632260967138906,\n",
       " 'decoder_test_rmse_5-step': 1.036357108944081,\n",
       " 'decoder_test_rmse_6-step': 1.145490341173136}"
      ]
     },
     "execution_count": 17,
     "metadata": {},
     "output_type": "execute_result"
    }
   ],
   "source": [
    "import logging\n",
    "import hydra\n",
    "import torch\n",
    "from omegaconf import DictConfig, OmegaConf\n",
    "from hydra.utils import instantiate\n",
    "from torch.utils.data import DataLoader\n",
    "from pytorch_lightning import Trainer\n",
    "from pytorch_lightning.utilities.seed import seed_everything\n",
    "from pytorch_lightning.callbacks import LearningRateMonitor\n",
    "\n",
    "from src.models.utils import AlphaRise, FilteringMlFlowLogger\n",
    "\n",
    "logging.basicConfig(level=logging.INFO)\n",
    "logger = logging.getLogger(__name__)\n",
    "torch.set_default_dtype(torch.double)\n",
    "\n",
    "\n",
    "# Load the configuration file\n",
    "config_path = '/work/postresearch/Shared/Researchers/Farbod/cancer/code/CausalDiff/config/cancer_sim_ct.yaml'\n",
    "args = OmegaConf.load(config_path)\n",
    "\n",
    "\n",
    "def main(args: DictConfig):\n",
    "    \"\"\"\n",
    "    Training / evaluation script for CT (Causal Transformer)\n",
    "    Args:\n",
    "        args: arguments of run as DictConfig\n",
    "\n",
    "    Returns: dict with results (one and nultiple-step-ahead RMSEs)\n",
    "    \"\"\"\n",
    "\n",
    "    results = {}\n",
    "\n",
    "    # Non-strict access to fields\n",
    "    OmegaConf.set_struct(args, False)\n",
    "    OmegaConf.register_new_resolver(\"sum\", lambda x, y: x + y, replace=True)\n",
    "    logger.info('\\n' + OmegaConf.to_yaml(args, resolve=True))\n",
    "\n",
    "    # Initialisation of data\n",
    "    seed_everything(args.exp.seed)\n",
    "    dataset_collection = instantiate(args.dataset, _recursive_=True)\n",
    "    dataset_collection.process_data_multi()\n",
    "    args.model.dim_outcomes = dataset_collection.train_f.data['outputs'].shape[-1]\n",
    "    args.model.dim_treatments = dataset_collection.train_f.data['current_treatments'].shape[-1]\n",
    "    args.model.dim_vitals = dataset_collection.train_f.data[\n",
    "        'vitals'].shape[-1] if dataset_collection.has_vitals else 0\n",
    "    args.model.dim_static_features = dataset_collection.train_f.data['static_features'].shape[-1]\n",
    "\n",
    "    # Train_callbacks\n",
    "    multimodel_callbacks = [AlphaRise(rate=args.exp.alpha_rate)]\n",
    "\n",
    "    # MlFlow Logger\n",
    "    if args.exp.logging:\n",
    "        experiment_name = f'{args.model.name}/{args.dataset.name}'\n",
    "        mlf_logger = FilteringMlFlowLogger(\n",
    "            filter_submodels=[], experiment_name=experiment_name, tracking_uri=args.exp.mlflow_uri)\n",
    "        multimodel_callbacks += [LearningRateMonitor(logging_interval='epoch')]\n",
    "        artifacts_path = hydra.utils.to_absolute_path(\n",
    "            mlf_logger.experiment.get_run(mlf_logger.run_id).info.artifact_uri)\n",
    "    else:\n",
    "        mlf_logger = None\n",
    "        artifacts_path = None\n",
    "\n",
    "    # ============================== Initialisation & Training of multimodel ==============================\n",
    "    multimodel = instantiate(args.model.multi, args,\n",
    "                             dataset_collection, _recursive_=False)\n",
    "    if args.model.multi.tune_hparams:\n",
    "        multimodel.finetune(\n",
    "            resources_per_trial=args.model.multi.resources_per_trial)\n",
    "\n",
    "    multimodel_trainer = Trainer(gpus=eval(str(args.exp.gpus)), logger=mlf_logger, max_epochs=args.exp.max_epochs,\n",
    "                                 callbacks=multimodel_callbacks, terminate_on_nan=True,\n",
    "                                 gradient_clip_val=args.model.multi.max_grad_norm)\n",
    "    multimodel_trainer.fit(multimodel)\n",
    "\n",
    "    # Validation factual rmse\n",
    "    val_dataloader = DataLoader(\n",
    "        dataset_collection.val_f, batch_size=args.dataset.val_batch_size, shuffle=False)\n",
    "    multimodel.test_dataloader = lambda: val_dataloader\n",
    "    multimodel_trainer.test(multimodel, dataloaders=val_dataloader)\n",
    "    # multimodel.visualize(dataset_collection.val_f, index=0, artifacts_path=artifacts_path)\n",
    "    val_rmse_orig, val_rmse_all = multimodel.get_normalised_masked_rmse(\n",
    "        dataset_collection.val_f)\n",
    "    logger.info(\n",
    "        f'Val normalised RMSE (all): {val_rmse_all}; Val normalised RMSE (orig): {val_rmse_orig}')\n",
    "\n",
    "    encoder_results = {}\n",
    "    if hasattr(dataset_collection, 'test_cf_one_step'):  # Test one_step_counterfactual rmse\n",
    "        test_rmse_orig, test_rmse_all, test_rmse_last = multimodel.get_normalised_masked_rmse(dataset_collection.test_cf_one_step,\n",
    "                                                                                              one_step_counterfactual=True)\n",
    "        logger.info(f'Test normalised RMSE (all): {test_rmse_all}; '\n",
    "                    f'Test normalised RMSE (orig): {test_rmse_orig}; '\n",
    "                    f'Test normalised RMSE (only counterfactual): {test_rmse_last}')\n",
    "        encoder_results = {\n",
    "            'encoder_val_rmse_all': val_rmse_all,\n",
    "            'encoder_val_rmse_orig': val_rmse_orig,\n",
    "            'encoder_test_rmse_all': test_rmse_all,\n",
    "            'encoder_test_rmse_orig': test_rmse_orig,\n",
    "            'encoder_test_rmse_last': test_rmse_last\n",
    "        }\n",
    "    elif hasattr(dataset_collection, 'test_f'):  # Test factual rmse\n",
    "        test_rmse_orig, test_rmse_all = multimodel.get_normalised_masked_rmse(\n",
    "            dataset_collection.test_f)\n",
    "        logger.info(f'Test normalised RMSE (all): {test_rmse_all}; '\n",
    "                    f'Test normalised RMSE (orig): {test_rmse_orig}.')\n",
    "        encoder_results = {\n",
    "            'encoder_val_rmse_all': val_rmse_all,\n",
    "            'encoder_val_rmse_orig': val_rmse_orig,\n",
    "            'encoder_test_rmse_all': test_rmse_all,\n",
    "            'encoder_test_rmse_orig': test_rmse_orig\n",
    "        }\n",
    "\n",
    "    mlf_logger.log_metrics(encoder_results) if args.exp.logging else None\n",
    "    results.update(encoder_results)\n",
    "\n",
    "    test_rmses = {}\n",
    "    if hasattr(dataset_collection, 'test_cf_treatment_seq'):  # Test n_step_counterfactual rmse\n",
    "        test_rmses = multimodel.get_normalised_n_step_rmses(\n",
    "            dataset_collection.test_cf_treatment_seq)\n",
    "    elif hasattr(dataset_collection, 'test_f_multi'):  # Test n_step_factual rmse\n",
    "        test_rmses = multimodel.get_normalised_n_step_rmses(\n",
    "            dataset_collection.test_f_multi)\n",
    "    test_rmses = {f'{k+2}-step': v for (k, v) in enumerate(test_rmses)}\n",
    "\n",
    "    logger.info(f'Test normalised RMSE (n-step prediction): {test_rmses}')\n",
    "    decoder_results = {\n",
    "        'decoder_val_rmse_all': val_rmse_all,\n",
    "        'decoder_val_rmse_orig': val_rmse_orig\n",
    "    }\n",
    "    decoder_results.update(\n",
    "        {('decoder_test_rmse_' + k): v for (k, v) in test_rmses.items()})\n",
    "\n",
    "    mlf_logger.log_metrics(decoder_results) if args.exp.logging else None\n",
    "    results.update(decoder_results)\n",
    "\n",
    "    mlf_logger.experiment.set_terminated(\n",
    "        mlf_logger.run_id) if args.exp.logging else None\n",
    "\n",
    "    return results\n",
    "\n",
    "\n",
    "if __name__ == \"__main__\":\n",
    "    main(args)"
   ]
  },
  {
   "cell_type": "markdown",
   "metadata": {},
   "source": [
    "# ENC-DEC (CRN)"
   ]
  },
  {
   "cell_type": "code",
   "execution_count": 23,
   "metadata": {},
   "outputs": [
    {
     "name": "stderr",
     "output_type": "stream",
     "text": [
      "INFO:__main__:\n",
      "dataset:\n",
      "  _target_: src.data.SyntheticCancerDatasetCollection\n",
      "  name: tumor_generator\n",
      "  coeff: 4\n",
      "  chemo_coeff: 4\n",
      "  radio_coeff: 4\n",
      "  seed: 100\n",
      "  num_patients:\n",
      "    train: 10000\n",
      "    val: 1000\n",
      "    test: 100\n",
      "  window_size: 15\n",
      "  lag: 0\n",
      "  max_seq_length: 60\n",
      "  projection_horizon: 5\n",
      "  cf_seq_mode: sliding_treatment\n",
      "  val_batch_size: 512\n",
      "  treatment_mode: multiclass\n",
      "model:\n",
      "  name: CRN\n",
      "  encoder:\n",
      "    _target_: src.models.crn.CRNEncoder\n",
      "    seq_hidden_units: 24\n",
      "    br_size: 6\n",
      "    fc_hidden_units: 18\n",
      "    dropout_rate: 0.2\n",
      "    num_layer: 1\n",
      "    batch_size: 64\n",
      "    optimizer:\n",
      "      optimizer_cls: adam\n",
      "      learning_rate: 0.01\n",
      "      weight_decay: 0.0\n",
      "      lr_scheduler: false\n",
      "    tune_hparams: false\n",
      "    tune_range: 50\n",
      "    hparams_grid: null\n",
      "    resources_per_trial: null\n",
      "  train_decoder: true\n",
      "  decoder:\n",
      "    _target_: src.models.crn.CRNDecoder\n",
      "    seq_hidden_units: 24\n",
      "    br_size: 3\n",
      "    fc_hidden_units: 9\n",
      "    dropout_rate: 0.2\n",
      "    num_layer: 1\n",
      "    batch_size: 512\n",
      "    optimizer:\n",
      "      optimizer_cls: adam\n",
      "      learning_rate: 0.001\n",
      "      weight_decay: 0.0\n",
      "      lr_scheduler: false\n",
      "    tune_hparams: false\n",
      "    tune_range: 30\n",
      "    hparams_grid: null\n",
      "    resources_per_trial: null\n",
      "exp:\n",
      "  unscale_rmse: true\n",
      "  percentage_rmse: true\n",
      "  seed: 100\n",
      "  weights_ema: true\n",
      "  gpus:\n",
      "  - 0\n",
      "  logging: true\n",
      "  mlflow_uri: http://127.0.0.1:8081\n",
      "  alpha: 0.01\n",
      "  beta: 0.99\n",
      "  balancing: domain_confusion\n",
      "  max_epochs: 150\n",
      "  alpha_rate: exp\n",
      "  update_alpha: false\n",
      "  bce_weight: false\n",
      "\n",
      "Global seed set to 100\n",
      "INFO:root:Simulating initial volumes for stage I  with norm params: mu=1.72, sigma=4.7, lb=-0.6221218732608373, ub=-0.023523848418276528\n",
      "INFO:root:Simulating initial volumes for stage II  with norm params: mu=1.96, sigma=1.63, lb=-1.9410876100159118, ub=0.3711345751297772\n",
      "INFO:root:Simulating initial volumes for stage IIIA  with norm params: mu=1.91, sigma=9.4, lb=-0.33127370258786554, ub=0.06967546355973796\n",
      "INFO:root:Simulating initial volumes for stage IIIB  with norm params: mu=2.76, sigma=6.87, lb=-0.5769974969906748, ub=-0.02839165102452155\n",
      "INFO:root:Simulating initial volumes for stage IV  with norm params: mu=3.86, sigma=8.82, lb=-0.5741465764541877, ub=-0.14683113860980307\n",
      "INFO:root:Got correlated params for 4597 patients\n",
      "INFO:root:Got correlated params for 9177 patients\n",
      "INFO:root:Got correlated params for 13793 patients\n",
      "INFO:root:Simulating beta_c parameters\n",
      "INFO:root:Randomising outputs\n"
     ]
    },
    {
     "name": "stderr",
     "output_type": "stream",
     "text": [
      "/work/postresearch/Shared/Researchers/Farbod/cancer/code/CausalDiff/src/data/cancer_sim/cancer_simulation.py:346: RuntimeWarning: overflow encountered in exp\n",
      "  if recovery_rvs[i, t] < np.exp(-cancer_volume[i, t] * TUMOUR_CELL_DENSITY):\n",
      "100%|██████████| 10000/10000 [00:13<00:00, 736.24it/s]\n",
      "INFO:root:Simulating initial volumes for stage I  with norm params: mu=1.72, sigma=4.7, lb=-0.6221218732608373, ub=-0.023523848418276528\n",
      "INFO:root:Simulating initial volumes for stage II  with norm params: mu=1.96, sigma=1.63, lb=-1.9410876100159118, ub=0.3711345751297772\n",
      "INFO:root:Simulating initial volumes for stage IIIA  with norm params: mu=1.91, sigma=9.4, lb=-0.33127370258786554, ub=0.06967546355973796\n",
      "INFO:root:Simulating initial volumes for stage IIIB  with norm params: mu=2.76, sigma=6.87, lb=-0.5769974969906748, ub=-0.02839165102452155\n",
      "INFO:root:Simulating initial volumes for stage IV  with norm params: mu=3.86, sigma=8.82, lb=-0.5741465764541877, ub=-0.14683113860980307\n",
      "INFO:root:Got correlated params for 444 patients\n",
      "INFO:root:Got correlated params for 922 patients\n",
      "INFO:root:Got correlated params for 1372 patients\n",
      "INFO:root:Simulating beta_c parameters\n",
      "INFO:root:Randomising outputs\n",
      "100%|██████████| 1000/1000 [00:01<00:00, 789.62it/s]\n",
      "INFO:root:Simulating initial volumes for stage I  with norm params: mu=1.72, sigma=4.7, lb=-0.6221218732608373, ub=-0.023523848418276528\n",
      "INFO:root:Simulating initial volumes for stage II  with norm params: mu=1.96, sigma=1.63, lb=-1.9410876100159118, ub=0.3711345751297772\n",
      "INFO:root:Simulating initial volumes for stage IIIA  with norm params: mu=1.91, sigma=9.4, lb=-0.33127370258786554, ub=0.06967546355973796\n",
      "INFO:root:Simulating initial volumes for stage IIIB  with norm params: mu=2.76, sigma=6.87, lb=-0.5769974969906748, ub=-0.02839165102452155\n",
      "INFO:root:Simulating initial volumes for stage IV  with norm params: mu=3.86, sigma=8.82, lb=-0.5741465764541877, ub=-0.14683113860980307\n",
      "INFO:root:Got correlated params for 37 patients\n",
      "INFO:root:Got correlated params for 82 patients\n",
      "INFO:root:Got correlated params for 131 patients\n",
      "INFO:root:Simulating beta_c parameters\n",
      "INFO:root:Randomising outputs\n",
      "/work/postresearch/Shared/Researchers/Farbod/cancer/code/CausalDiff/src/data/cancer_sim/cancer_simulation.py:39: RuntimeWarning: invalid value encountered in scalar power\n",
      "  return ((volume / (4 / 3 * np.pi)) ** (1 / 3)) * 2\n",
      "100%|██████████| 100/100 [00:07<00:00, 12.53it/s]\n",
      "INFO:root:Simulating initial volumes for stage I  with norm params: mu=1.72, sigma=4.7, lb=-0.6221218732608373, ub=-0.023523848418276528\n",
      "INFO:root:Simulating initial volumes for stage II  with norm params: mu=1.96, sigma=1.63, lb=-1.9410876100159118, ub=0.3711345751297772\n",
      "INFO:root:Simulating initial volumes for stage IIIA  with norm params: mu=1.91, sigma=9.4, lb=-0.33127370258786554, ub=0.06967546355973796\n",
      "INFO:root:Simulating initial volumes for stage IIIB  with norm params: mu=2.76, sigma=6.87, lb=-0.5769974969906748, ub=-0.02839165102452155\n",
      "INFO:root:Simulating initial volumes for stage IV  with norm params: mu=3.86, sigma=8.82, lb=-0.5741465764541877, ub=-0.14683113860980307\n",
      "INFO:root:Got correlated params for 51 patients\n",
      "INFO:root:Got correlated params for 95 patients\n",
      "INFO:root:Got correlated params for 147 patients\n",
      "INFO:root:Simulating beta_c parameters\n",
      "INFO:root:Randomising outputs\n"
     ]
    },
    {
     "name": "stdout",
     "output_type": "stream",
     "text": [
      "Call to simulate counterfactuals data\n"
     ]
    },
    {
     "name": "stderr",
     "output_type": "stream",
     "text": [
      "100%|██████████| 100/100 [00:02<00:00, 39.56it/s]\n",
      "INFO:src.data.cancer_sim.dataset:Processing train dataset before training\n",
      "INFO:src.data.cancer_sim.dataset:Shape of processed train data: {'cancer_volume': (10000, 60), 'chemo_dosage': (10000, 60), 'radio_dosage': (10000, 60), 'chemo_application': (10000, 60), 'radio_application': (10000, 60), 'chemo_probabilities': (10000, 60), 'radio_probabilities': (10000, 60), 'sequence_lengths': (10000,), 'death_flags': (10000, 60), 'recovery_flags': (10000, 60), 'patient_types': (10000,), 'prev_treatments': (10000, 59, 4), 'current_treatments': (10000, 59, 4), 'current_covariates': (10000, 59, 2), 'outputs': (10000, 59, 1), 'active_entries': (10000, 59, 1), 'unscaled_outputs': (10000, 59, 1), 'prev_outputs': (10000, 59, 1), 'static_features': (10000, 1)}\n",
      "INFO:src.data.cancer_sim.dataset:Processing val dataset before training\n",
      "INFO:src.data.cancer_sim.dataset:Shape of processed val data: {'cancer_volume': (1000, 60), 'chemo_dosage': (1000, 60), 'radio_dosage': (1000, 60), 'chemo_application': (1000, 60), 'radio_application': (1000, 60), 'chemo_probabilities': (1000, 60), 'radio_probabilities': (1000, 60), 'sequence_lengths': (1000,), 'death_flags': (1000, 60), 'recovery_flags': (1000, 60), 'patient_types': (1000,), 'prev_treatments': (1000, 59, 4), 'current_treatments': (1000, 59, 4), 'current_covariates': (1000, 59, 2), 'outputs': (1000, 59, 1), 'active_entries': (1000, 59, 1), 'unscaled_outputs': (1000, 59, 1), 'prev_outputs': (1000, 59, 1), 'static_features': (1000, 1)}\n",
      "INFO:src.data.cancer_sim.dataset:Processing test dataset before training\n",
      "INFO:src.data.cancer_sim.dataset:Shape of processed test data: {'cancer_volume': (22260, 60), 'chemo_application': (22260, 60), 'radio_application': (22260, 60), 'sequence_lengths': (22260,), 'patient_types': (22260,), 'median_cancer_volume': (22260, 60), 'cancer_volume_5th_percentile': (22260, 60), 'cancer_volume_95th_percentile': (22260, 60), 'prev_treatments': (22260, 59, 4), 'current_treatments': (22260, 59, 4), 'current_covariates': (22260, 59, 2), 'outputs': (22260, 59, 4), 'active_entries': (22260, 59, 1), 'unscaled_outputs': (22260, 59, 4), 'prev_outputs': (22260, 59, 1), 'static_features': (22260, 1)}\n",
      "INFO:src.models.crn:Input size of encoder: 6\n",
      "/home/alinezhad.f/micromamba/envs/torch_old/lib/python3.11/site-packages/pytorch_lightning/trainer/trainer.py:572: LightningDeprecationWarning: Trainer argument `terminate_on_nan` was deprecated in v1.5 and will be removed in 1.7. Please use `Trainer(detect_anomaly=True)` instead.\n",
      "  rank_zero_deprecation(\n",
      "GPU available: True, used: True\n",
      "TPU available: False, using: 0 TPU cores\n",
      "IPU available: False, using: 0 IPUs\n",
      "HPU available: False, using: 0 HPUs\n",
      "/home/alinezhad.f/micromamba/envs/torch_old/lib/python3.11/site-packages/pytorch_lightning/trainer/configuration_validator.py:131: UserWarning: You passed in a `val_dataloader` but have no `validation_step`. Skipping val loop.\n",
      "  rank_zero_warn(\"You passed in a `val_dataloader` but have no `validation_step`. Skipping val loop.\")\n",
      "/home/alinezhad.f/micromamba/envs/torch_old/lib/python3.11/site-packages/pytorch_lightning/trainer/configuration_validator.py:385: LightningDeprecationWarning: The `Callback.on_epoch_end` hook was deprecated in v1.6 and will be removed in v1.8. Please use `Callback.on_<train/validation/test>_epoch_end` instead.\n",
      "  rank_zero_deprecation(\n",
      "LOCAL_RANK: 0 - CUDA_VISIBLE_DEVICES: [0]\n",
      "\n",
      "  | Name                      | Type                   | Params\n",
      "---------------------------------------------------------------------\n",
      "0 | lstm                      | VariationalLSTM        | 3.1 K \n",
      "1 | br_treatment_outcome_head | BRTreatmentOutcomeHead | 569   \n",
      "---------------------------------------------------------------------\n",
      "3.6 K     Trainable params\n",
      "0         Non-trainable params\n",
      "3.6 K     Total params\n",
      "0.015     Total estimated model params size (MB)\n",
      "/home/alinezhad.f/micromamba/envs/torch_old/lib/python3.11/site-packages/pytorch_lightning/trainer/connectors/data_connector.py:240: PossibleUserWarning: The dataloader, train_dataloader, does not have many workers which may be a bottleneck. Consider increasing the value of the `num_workers` argument` (try 128 which is the number of cpus on this machine) in the `DataLoader` init to improve performance.\n",
      "  rank_zero_warn(\n"
     ]
    },
    {
     "data": {
      "application/vnd.jupyter.widget-view+json": {
       "model_id": "b70e2d56beb3489abd818b5246689388",
       "version_major": 2,
       "version_minor": 0
      },
      "text/plain": [
       "Training: 0it [00:00, ?it/s]"
      ]
     },
     "metadata": {},
     "output_type": "display_data"
    },
    {
     "name": "stderr",
     "output_type": "stream",
     "text": [
      "/home/alinezhad.f/micromamba/envs/torch_old/lib/python3.11/site-packages/torch/nn/_reduction.py:42: UserWarning: size_average and reduce args will be deprecated, please use reduction='none' instead.\n",
      "  warnings.warn(warning.format(ret))\n",
      "LOCAL_RANK: 0 - CUDA_VISIBLE_DEVICES: [0]\n"
     ]
    },
    {
     "name": "stdout",
     "output_type": "stream",
     "text": [
      "🏃 View run beautiful-deer-740 at: http://127.0.0.1:8081/#/experiments/964898661885218207/runs/701a23f92c704249bc352afcace92483\n",
      "🧪 View experiment at: http://127.0.0.1:8081/#/experiments/964898661885218207\n"
     ]
    },
    {
     "name": "stderr",
     "output_type": "stream",
     "text": [
      "/home/alinezhad.f/micromamba/envs/torch_old/lib/python3.11/site-packages/pytorch_lightning/trainer/connectors/data_connector.py:240: PossibleUserWarning: The dataloader, test_dataloader 0, does not have many workers which may be a bottleneck. Consider increasing the value of the `num_workers` argument` (try 128 which is the number of cpus on this machine) in the `DataLoader` init to improve performance.\n",
      "  rank_zero_warn(\n"
     ]
    },
    {
     "data": {
      "application/vnd.jupyter.widget-view+json": {
       "model_id": "58d81b73872e4819bd77427aaa28b607",
       "version_major": 2,
       "version_minor": 0
      },
      "text/plain": [
       "Testing: 0it [00:00, ?it/s]"
      ]
     },
     "metadata": {},
     "output_type": "display_data"
    },
    {
     "name": "stderr",
     "output_type": "stream",
     "text": [
      "INFO:src.models.time_varying_model:RMSE calculation for val.\n",
      "INFO:src.models.time_varying_model:dataset output shape: (1000, 59, 1)\n",
      "INFO:src.models.time_varying_model:Predictions for val.\n",
      "LOCAL_RANK: 0 - CUDA_VISIBLE_DEVICES: [0]\n"
     ]
    },
    {
     "name": "stdout",
     "output_type": "stream",
     "text": [
      "────────────────────────────────────────────────────────────────────────────────────────────────────────────────────────\n",
      "Runningstage.testing metric      DataLoader 0\n",
      "────────────────────────────────────────────────────────────────────────────────────────────────────────────────────────\n",
      "  encoder_val_bce_loss      1.5814921151244257\n",
      "    encoder_val_loss        1.6043818458078276\n",
      "  encoder_val_mse_loss     0.022889730683401985\n",
      "────────────────────────────────────────────────────────────────────────────────────────────────────────────────────────\n",
      "🏃 View run beautiful-deer-740 at: http://127.0.0.1:8081/#/experiments/964898661885218207/runs/701a23f92c704249bc352afcace92483\n",
      "🧪 View experiment at: http://127.0.0.1:8081/#/experiments/964898661885218207\n"
     ]
    },
    {
     "name": "stderr",
     "output_type": "stream",
     "text": [
      "/home/alinezhad.f/micromamba/envs/torch_old/lib/python3.11/site-packages/pytorch_lightning/trainer/connectors/data_connector.py:240: PossibleUserWarning: The dataloader, predict_dataloader 0, does not have many workers which may be a bottleneck. Consider increasing the value of the `num_workers` argument` (try 128 which is the number of cpus on this machine) in the `DataLoader` init to improve performance.\n",
      "  rank_zero_warn(\n"
     ]
    },
    {
     "data": {
      "application/vnd.jupyter.widget-view+json": {
       "model_id": "3f611e47e2bf4ff6a248ac475f85b669",
       "version_major": 2,
       "version_minor": 0
      },
      "text/plain": [
       "Predicting: 156it [00:00, ?it/s]"
      ]
     },
     "metadata": {},
     "output_type": "display_data"
    },
    {
     "name": "stderr",
     "output_type": "stream",
     "text": [
      "INFO:__main__:Val normalised RMSE (all): 0.6896331577905638; Val normalised RMSE (orig): 0.6804393706782758\n"
     ]
    },
    {
     "name": "stdout",
     "output_type": "stream",
     "text": [
      "🏃 View run beautiful-deer-740 at: http://127.0.0.1:8081/#/experiments/964898661885218207/runs/701a23f92c704249bc352afcace92483\n",
      "🧪 View experiment at: http://127.0.0.1:8081/#/experiments/964898661885218207\n"
     ]
    },
    {
     "name": "stderr",
     "output_type": "stream",
     "text": [
      "INFO:src.models.time_varying_model:RMSE calculation for test.\n",
      "INFO:src.models.time_varying_model:dataset output shape: (22260, 59, 4)\n",
      "INFO:src.models.time_varying_model:dataset output shape: (18700, 59, 1)\n",
      "INFO:src.models.time_varying_model:first output: [[-0.12035835]\n",
      " [-0.11724446]\n",
      " [-0.11327777]\n",
      " [-0.10967946]\n",
      " [-0.11120945]\n",
      " [-0.10957893]\n",
      " [-0.11293824]\n",
      " [-0.11206222]\n",
      " [-0.11009807]\n",
      " [-0.10723271]\n",
      " [-0.14749837]\n",
      " [-0.14749837]\n",
      " [-0.14749837]\n",
      " [-0.14749837]\n",
      " [-0.14749837]\n",
      " [-0.14749837]\n",
      " [-0.14749837]\n",
      " [-0.14749837]\n",
      " [-0.14749837]\n",
      " [-0.14749837]\n",
      " [-0.14749837]\n",
      " [-0.14749837]\n",
      " [-0.14749837]\n",
      " [-0.14749837]\n",
      " [-0.14749837]\n",
      " [-0.14749837]\n",
      " [-0.14749837]\n",
      " [-0.14749837]\n",
      " [-0.14749837]\n",
      " [-0.14749837]\n",
      " [-0.14749837]\n",
      " [-0.14749837]\n",
      " [-0.14749837]\n",
      " [-0.14749837]\n",
      " [-0.14749837]\n",
      " [-0.14749837]\n",
      " [-0.14749837]\n",
      " [-0.14749837]\n",
      " [-0.14749837]\n",
      " [-0.14749837]\n",
      " [-0.14749837]\n",
      " [-0.14749837]\n",
      " [-0.14749837]\n",
      " [-0.14749837]\n",
      " [-0.14749837]\n",
      " [-0.14749837]\n",
      " [-0.14749837]\n",
      " [-0.14749837]\n",
      " [-0.14749837]\n",
      " [-0.14749837]\n",
      " [-0.14749837]\n",
      " [-0.14749837]\n",
      " [-0.14749837]\n",
      " [-0.14749837]\n",
      " [-0.14749837]\n",
      " [-0.14749837]\n",
      " [-0.14749837]\n",
      " [-0.14749837]\n",
      " [-0.14749837]]\n",
      "INFO:src.models.time_varying_model:Predictions for test.\n",
      "LOCAL_RANK: 0 - CUDA_VISIBLE_DEVICES: [0]\n"
     ]
    },
    {
     "data": {
      "application/vnd.jupyter.widget-view+json": {
       "model_id": "09e03c0e082049e6b49e94dcb6f665f4",
       "version_major": 2,
       "version_minor": 0
      },
      "text/plain": [
       "Predicting: 156it [00:00, ?it/s]"
      ]
     },
     "metadata": {},
     "output_type": "display_data"
    },
    {
     "name": "stderr",
     "output_type": "stream",
     "text": [
      "INFO:__main__:Test normalised RMSE (all): 1.176439998940352; Test normalised RMSE (orig): 0.9107615559797291; Test normalised RMSE (only counterfactual): 0.47857569581446185\n",
      "/home/alinezhad.f/micromamba/envs/torch_old/lib/python3.11/site-packages/pytorch_lightning/utilities/parsing.py:244: UserWarning: Attribute 'encoder' is an instance of `nn.Module` and is already saved during checkpointing. It is recommended to ignore them using `self.save_hyperparameters(ignore=['encoder'])`.\n",
      "  rank_zero_warn(\n",
      "INFO:src.models.crn:Input size of decoder: 6\n",
      "GPU available: True, used: True\n",
      "TPU available: False, using: 0 TPU cores\n",
      "IPU available: False, using: 0 IPUs\n",
      "HPU available: False, using: 0 HPUs\n",
      "INFO:src.data.cancer_sim.dataset:train Dataset already processed\n",
      "INFO:src.data.cancer_sim.dataset:val Dataset already processed\n",
      "INFO:src.data.cancer_sim.dataset:Processing test dataset before training\n"
     ]
    },
    {
     "name": "stdout",
     "output_type": "stream",
     "text": [
      "🏃 View run beautiful-deer-740 at: http://127.0.0.1:8081/#/experiments/964898661885218207/runs/701a23f92c704249bc352afcace92483\n",
      "🧪 View experiment at: http://127.0.0.1:8081/#/experiments/964898661885218207\n"
     ]
    },
    {
     "name": "stderr",
     "output_type": "stream",
     "text": [
      "INFO:src.data.cancer_sim.dataset:Shape of processed test data: {'cancer_volume': (57000, 65), 'chemo_application': (57000, 65), 'radio_application': (57000, 65), 'sequence_lengths': (57000,), 'patient_types': (57000,), 'patient_ids_all_trajectories': (57000,), 'patient_current_t': (57000,), 'prev_treatments': (57000, 64, 4), 'current_treatments': (57000, 64, 4), 'current_covariates': (57000, 64, 2), 'outputs': (57000, 64, 1), 'active_entries': (57000, 64, 1), 'unscaled_outputs': (57000, 64, 1), 'prev_outputs': (57000, 64, 1), 'static_features': (57000, 1)}\n",
      "INFO:src.models.time_varying_model:Balanced representations inference for train.\n",
      "/home/alinezhad.f/micromamba/envs/torch_old/lib/python3.11/site-packages/pytorch_lightning/trainer/configuration_validator.py:385: LightningDeprecationWarning: The `Callback.on_epoch_end` hook was deprecated in v1.6 and will be removed in v1.8. Please use `Callback.on_<train/validation/test>_epoch_end` instead.\n",
      "  rank_zero_deprecation(\n",
      "LOCAL_RANK: 0 - CUDA_VISIBLE_DEVICES: [0]\n",
      "/home/alinezhad.f/micromamba/envs/torch_old/lib/python3.11/site-packages/pytorch_lightning/trainer/connectors/data_connector.py:240: PossibleUserWarning: The dataloader, predict_dataloader 0, does not have many workers which may be a bottleneck. Consider increasing the value of the `num_workers` argument` (try 128 which is the number of cpus on this machine) in the `DataLoader` init to improve performance.\n",
      "  rank_zero_warn(\n"
     ]
    },
    {
     "data": {
      "application/vnd.jupyter.widget-view+json": {
       "model_id": "62365dde1f544d3c9b1a901f976b267e",
       "version_major": 2,
       "version_minor": 0
      },
      "text/plain": [
       "Predicting: 156it [00:00, ?it/s]"
      ]
     },
     "metadata": {},
     "output_type": "display_data"
    },
    {
     "name": "stderr",
     "output_type": "stream",
     "text": [
      "INFO:src.models.time_varying_model:Balanced representations inference for val.\n",
      "LOCAL_RANK: 0 - CUDA_VISIBLE_DEVICES: [0]\n"
     ]
    },
    {
     "name": "stdout",
     "output_type": "stream",
     "text": [
      "🏃 View run beautiful-deer-740 at: http://127.0.0.1:8081/#/experiments/964898661885218207/runs/701a23f92c704249bc352afcace92483\n",
      "🧪 View experiment at: http://127.0.0.1:8081/#/experiments/964898661885218207\n"
     ]
    },
    {
     "data": {
      "application/vnd.jupyter.widget-view+json": {
       "model_id": "f01c775a38f0432bb279fe646f4c129e",
       "version_major": 2,
       "version_minor": 0
      },
      "text/plain": [
       "Predicting: 156it [00:00, ?it/s]"
      ]
     },
     "metadata": {},
     "output_type": "display_data"
    },
    {
     "name": "stderr",
     "output_type": "stream",
     "text": [
      "INFO:src.models.time_varying_model:Balanced representations inference for test.\n",
      "LOCAL_RANK: 0 - CUDA_VISIBLE_DEVICES: [0]\n"
     ]
    },
    {
     "name": "stdout",
     "output_type": "stream",
     "text": [
      "🏃 View run beautiful-deer-740 at: http://127.0.0.1:8081/#/experiments/964898661885218207/runs/701a23f92c704249bc352afcace92483\n",
      "🧪 View experiment at: http://127.0.0.1:8081/#/experiments/964898661885218207\n"
     ]
    },
    {
     "data": {
      "application/vnd.jupyter.widget-view+json": {
       "model_id": "5b175a8d2651420c9164d525c4f3b946",
       "version_major": 2,
       "version_minor": 0
      },
      "text/plain": [
       "Predicting: 156it [00:00, ?it/s]"
      ]
     },
     "metadata": {},
     "output_type": "display_data"
    },
    {
     "name": "stderr",
     "output_type": "stream",
     "text": [
      "INFO:src.models.time_varying_model:Predictions for test.\n",
      "LOCAL_RANK: 0 - CUDA_VISIBLE_DEVICES: [0]\n"
     ]
    },
    {
     "name": "stdout",
     "output_type": "stream",
     "text": [
      "🏃 View run beautiful-deer-740 at: http://127.0.0.1:8081/#/experiments/964898661885218207/runs/701a23f92c704249bc352afcace92483\n",
      "🧪 View experiment at: http://127.0.0.1:8081/#/experiments/964898661885218207\n"
     ]
    },
    {
     "data": {
      "application/vnd.jupyter.widget-view+json": {
       "model_id": "630870a799bf4a43b6e10230f39e8336",
       "version_major": 2,
       "version_minor": 0
      },
      "text/plain": [
       "Predicting: 156it [00:00, ?it/s]"
      ]
     },
     "metadata": {},
     "output_type": "display_data"
    },
    {
     "name": "stderr",
     "output_type": "stream",
     "text": [
      "INFO:src.data.cancer_sim.dataset:Processing train dataset before training (multiple sequences)\n"
     ]
    },
    {
     "name": "stdout",
     "output_type": "stream",
     "text": [
      "🏃 View run beautiful-deer-740 at: http://127.0.0.1:8081/#/experiments/964898661885218207/runs/701a23f92c704249bc352afcace92483\n",
      "🧪 View experiment at: http://127.0.0.1:8081/#/experiments/964898661885218207\n"
     ]
    },
    {
     "name": "stderr",
     "output_type": "stream",
     "text": [
      "INFO:src.data.cancer_sim.dataset:Shape of processed train data: {'init_state': (512170, 6), 'original_index': (512170,), 'active_encoder_r': (512170, 59), 'prev_treatments': (512170, 5, 4), 'current_treatments': (512170, 5, 4), 'current_covariates': (512170, 5, 2), 'prev_outputs': (512170, 5, 1), 'static_features': (512170, 1), 'outputs': (512170, 5, 1), 'sequence_lengths': (512170,), 'active_entries': (512170, 5, 1), 'unscaled_outputs': (512170, 5, 1)}\n",
      "INFO:src.data.cancer_sim.dataset:Processing val dataset before training (multiple sequences)\n",
      "INFO:src.data.cancer_sim.dataset:Shape of processed val data: {'init_state': (51248, 6), 'original_index': (51248,), 'active_encoder_r': (51248, 59), 'prev_treatments': (51248, 5, 4), 'current_treatments': (51248, 5, 4), 'current_covariates': (51248, 5, 2), 'prev_outputs': (51248, 5, 1), 'static_features': (51248, 1), 'outputs': (51248, 5, 1), 'sequence_lengths': (51248,), 'active_entries': (51248, 5, 1), 'unscaled_outputs': (51248, 5, 1)}\n",
      "INFO:src.data.cancer_sim.dataset:Processing test dataset before testing (multiple sequences)\n",
      "INFO:src.data.cancer_sim.dataset:Shape of processed test data: {'active_encoder_r': (57000, 59), 'prev_treatments': (57000, 5, 4), 'current_treatments': (57000, 5, 4), 'current_covariates': (57000, 5, 2), 'prev_outputs': (57000, 5, 1), 'static_features': (57000, 1), 'outputs': (57000, 5, 1), 'sequence_lengths': (57000,), 'active_entries': (57000, 5, 1), 'unscaled_outputs': (57000, 5, 1), 'patient_types': (57000,), 'patient_ids_all_trajectories': (57000,), 'patient_current_t': (57000,), 'init_state': (57000, 6)}\n",
      "INFO:src.data.cancer_sim.dataset:Processing test dataset before testing (autoregressive)\n",
      "INFO:src.data.cancer_sim.dataset:Shape of processed test data: {'current_covariates': (57000, 5, 2), 'prev_treatments': (57000, 5, 4), 'current_treatments': (57000, 5, 4), 'init_state': (57000, 6), 'active_encoder_r': (57000, 59), 'active_entries': (57000, 5, 1), 'prev_outputs': (57000, 5, 1), 'static_features': (57000, 1)}\n",
      "/home/alinezhad.f/micromamba/envs/torch_old/lib/python3.11/site-packages/pytorch_lightning/callbacks/model_checkpoint.py:608: UserWarning: Checkpoint directory /work/postresearch/Shared/Researchers/Farbod/cancer/code/CausalDiff/964898661885218207/701a23f92c704249bc352afcace92483/checkpoints exists and is not empty.\n",
      "  rank_zero_warn(f\"Checkpoint directory {dirpath} exists and is not empty.\")\n",
      "LOCAL_RANK: 0 - CUDA_VISIBLE_DEVICES: [0]\n",
      "\n",
      "  | Name                      | Type                   | Params\n",
      "---------------------------------------------------------------------\n",
      "0 | encoder                   | CRNEncoder             | 3.6 K \n",
      "1 | lstm                      | VariationalLSTM        | 336   \n",
      "2 | br_treatment_outcome_head | BRTreatmentOutcomeHead | 179   \n",
      "---------------------------------------------------------------------\n",
      "4.2 K     Trainable params\n",
      "0         Non-trainable params\n",
      "4.2 K     Total params\n",
      "0.017     Total estimated model params size (MB)\n",
      "/home/alinezhad.f/micromamba/envs/torch_old/lib/python3.11/site-packages/pytorch_lightning/trainer/connectors/data_connector.py:240: PossibleUserWarning: The dataloader, train_dataloader, does not have many workers which may be a bottleneck. Consider increasing the value of the `num_workers` argument` (try 128 which is the number of cpus on this machine) in the `DataLoader` init to improve performance.\n",
      "  rank_zero_warn(\n"
     ]
    },
    {
     "data": {
      "application/vnd.jupyter.widget-view+json": {
       "model_id": "c799b404fadb45e68d8dc2a24889aa6f",
       "version_major": 2,
       "version_minor": 0
      },
      "text/plain": [
       "Training: 0it [00:00, ?it/s]"
      ]
     },
     "metadata": {},
     "output_type": "display_data"
    },
    {
     "name": "stderr",
     "output_type": "stream",
     "text": [
      "/home/alinezhad.f/micromamba/envs/torch_old/lib/python3.11/site-packages/torch/nn/_reduction.py:42: UserWarning: size_average and reduce args will be deprecated, please use reduction='none' instead.\n",
      "  warnings.warn(warning.format(ret))\n",
      "/home/alinezhad.f/micromamba/envs/torch_old/lib/python3.11/site-packages/pytorch_lightning/trainer/trainer.py:727: UserWarning: Detected KeyboardInterrupt, attempting graceful shutdown...\n",
      "  rank_zero_warn(\"Detected KeyboardInterrupt, attempting graceful shutdown...\")\n",
      "LOCAL_RANK: 0 - CUDA_VISIBLE_DEVICES: [0]\n",
      "/home/alinezhad.f/micromamba/envs/torch_old/lib/python3.11/site-packages/pytorch_lightning/trainer/connectors/data_connector.py:240: PossibleUserWarning: The dataloader, test_dataloader 0, does not have many workers which may be a bottleneck. Consider increasing the value of the `num_workers` argument` (try 128 which is the number of cpus on this machine) in the `DataLoader` init to improve performance.\n",
      "  rank_zero_warn(\n"
     ]
    },
    {
     "data": {
      "application/vnd.jupyter.widget-view+json": {
       "model_id": "fd480f6a0c554de9910a0a99fcbfa68b",
       "version_major": 2,
       "version_minor": 0
      },
      "text/plain": [
       "Testing: 0it [00:00, ?it/s]"
      ]
     },
     "metadata": {},
     "output_type": "display_data"
    },
    {
     "name": "stderr",
     "output_type": "stream",
     "text": [
      "INFO:src.models.time_varying_model:RMSE calculation for val.\n",
      "INFO:src.models.time_varying_model:dataset output shape: (51248, 5, 1)\n",
      "INFO:src.models.time_varying_model:Predictions for val.\n",
      "LOCAL_RANK: 0 - CUDA_VISIBLE_DEVICES: [0]\n"
     ]
    },
    {
     "name": "stdout",
     "output_type": "stream",
     "text": [
      "────────────────────────────────────────────────────────────────────────────────────────────────────────────────────────\n",
      "Runningstage.testing metric      DataLoader 0\n",
      "────────────────────────────────────────────────────────────────────────────────────────────────────────────────────────\n",
      "  decoder_val_bce_loss      1.8486807552681803\n",
      "    decoder_val_loss        1.8565517257727566\n",
      "  decoder_val_mse_loss      0.00787097050457604\n",
      "────────────────────────────────────────────────────────────────────────────────────────────────────────────────────────\n",
      "🏃 View run beautiful-deer-740 at: http://127.0.0.1:8081/#/experiments/964898661885218207/runs/701a23f92c704249bc352afcace92483\n",
      "🧪 View experiment at: http://127.0.0.1:8081/#/experiments/964898661885218207\n"
     ]
    },
    {
     "data": {
      "application/vnd.jupyter.widget-view+json": {
       "model_id": "33d5cec50ef54da0a2142523697e685f",
       "version_major": 2,
       "version_minor": 0
      },
      "text/plain": [
       "Predicting: 521it [00:00, ?it/s]"
      ]
     },
     "metadata": {},
     "output_type": "display_data"
    },
    {
     "name": "stderr",
     "output_type": "stream",
     "text": [
      "INFO:__main__:Val normalised RMSE (all): 0.404399824899808; Val normalised RMSE (orig): 0.40439982489980897\n",
      "INFO:src.models.time_varying_model:RMSE calculation for test.\n",
      "INFO:src.models.time_varying_model:Autoregressive Prediction for test.\n",
      "INFO:src.models.time_varying_model:t = 2\n",
      "INFO:src.models.time_varying_model:Predictions for test.\n",
      "LOCAL_RANK: 0 - CUDA_VISIBLE_DEVICES: [0]\n"
     ]
    },
    {
     "name": "stdout",
     "output_type": "stream",
     "text": [
      "🏃 View run beautiful-deer-740 at: http://127.0.0.1:8081/#/experiments/964898661885218207/runs/701a23f92c704249bc352afcace92483\n",
      "🧪 View experiment at: http://127.0.0.1:8081/#/experiments/964898661885218207\n"
     ]
    },
    {
     "data": {
      "application/vnd.jupyter.widget-view+json": {
       "model_id": "b8947dfd37b04212a56227d9c54d87bc",
       "version_major": 2,
       "version_minor": 0
      },
      "text/plain": [
       "Predicting: 521it [00:00, ?it/s]"
      ]
     },
     "metadata": {},
     "output_type": "display_data"
    },
    {
     "name": "stderr",
     "output_type": "stream",
     "text": [
      "INFO:src.models.time_varying_model:t = 3\n",
      "INFO:src.models.time_varying_model:Predictions for test.\n",
      "LOCAL_RANK: 0 - CUDA_VISIBLE_DEVICES: [0]\n"
     ]
    },
    {
     "name": "stdout",
     "output_type": "stream",
     "text": [
      "🏃 View run beautiful-deer-740 at: http://127.0.0.1:8081/#/experiments/964898661885218207/runs/701a23f92c704249bc352afcace92483\n",
      "🧪 View experiment at: http://127.0.0.1:8081/#/experiments/964898661885218207\n"
     ]
    },
    {
     "data": {
      "application/vnd.jupyter.widget-view+json": {
       "model_id": "c22a87d788a44e519843dab0bceeb543",
       "version_major": 2,
       "version_minor": 0
      },
      "text/plain": [
       "Predicting: 521it [00:00, ?it/s]"
      ]
     },
     "metadata": {},
     "output_type": "display_data"
    },
    {
     "name": "stderr",
     "output_type": "stream",
     "text": [
      "INFO:src.models.time_varying_model:t = 4\n",
      "INFO:src.models.time_varying_model:Predictions for test.\n",
      "LOCAL_RANK: 0 - CUDA_VISIBLE_DEVICES: [0]\n"
     ]
    },
    {
     "name": "stdout",
     "output_type": "stream",
     "text": [
      "🏃 View run beautiful-deer-740 at: http://127.0.0.1:8081/#/experiments/964898661885218207/runs/701a23f92c704249bc352afcace92483\n",
      "🧪 View experiment at: http://127.0.0.1:8081/#/experiments/964898661885218207\n"
     ]
    },
    {
     "data": {
      "application/vnd.jupyter.widget-view+json": {
       "model_id": "9668753b0b6c4d9196b24492f5c7e305",
       "version_major": 2,
       "version_minor": 0
      },
      "text/plain": [
       "Predicting: 521it [00:00, ?it/s]"
      ]
     },
     "metadata": {},
     "output_type": "display_data"
    },
    {
     "name": "stderr",
     "output_type": "stream",
     "text": [
      "INFO:src.models.time_varying_model:t = 5\n",
      "INFO:src.models.time_varying_model:Predictions for test.\n",
      "LOCAL_RANK: 0 - CUDA_VISIBLE_DEVICES: [0]\n"
     ]
    },
    {
     "name": "stdout",
     "output_type": "stream",
     "text": [
      "🏃 View run beautiful-deer-740 at: http://127.0.0.1:8081/#/experiments/964898661885218207/runs/701a23f92c704249bc352afcace92483\n",
      "🧪 View experiment at: http://127.0.0.1:8081/#/experiments/964898661885218207\n"
     ]
    },
    {
     "data": {
      "application/vnd.jupyter.widget-view+json": {
       "model_id": "d9634d89afed47a3ab5de18ad5fd6ae6",
       "version_major": 2,
       "version_minor": 0
      },
      "text/plain": [
       "Predicting: 521it [00:00, ?it/s]"
      ]
     },
     "metadata": {},
     "output_type": "display_data"
    },
    {
     "name": "stderr",
     "output_type": "stream",
     "text": [
      "INFO:src.models.time_varying_model:t = 6\n",
      "INFO:src.models.time_varying_model:Predictions for test.\n",
      "LOCAL_RANK: 0 - CUDA_VISIBLE_DEVICES: [0]\n"
     ]
    },
    {
     "name": "stdout",
     "output_type": "stream",
     "text": [
      "🏃 View run beautiful-deer-740 at: http://127.0.0.1:8081/#/experiments/964898661885218207/runs/701a23f92c704249bc352afcace92483\n",
      "🧪 View experiment at: http://127.0.0.1:8081/#/experiments/964898661885218207\n"
     ]
    },
    {
     "data": {
      "application/vnd.jupyter.widget-view+json": {
       "model_id": "a6c52e252f68403aa2c6a918225cf505",
       "version_major": 2,
       "version_minor": 0
      },
      "text/plain": [
       "Predicting: 521it [00:00, ?it/s]"
      ]
     },
     "metadata": {},
     "output_type": "display_data"
    },
    {
     "name": "stderr",
     "output_type": "stream",
     "text": [
      "INFO:__main__:Test normalised RMSE (n-step prediction): {'2-step': 1.0503509926371306, '3-step': 1.3573320421704556, '4-step': 1.5523674763864073, '5-step': 1.6602506639432586, '6-step': 1.688794927133173}\n"
     ]
    },
    {
     "name": "stdout",
     "output_type": "stream",
     "text": [
      "🏃 View run beautiful-deer-740 at: http://127.0.0.1:8081/#/experiments/964898661885218207/runs/701a23f92c704249bc352afcace92483\n",
      "🧪 View experiment at: http://127.0.0.1:8081/#/experiments/964898661885218207\n"
     ]
    },
    {
     "data": {
      "text/plain": [
       "{'encoder_val_rmse_all': 0.6896331577905638,\n",
       " 'encoder_val_rmse_orig': 0.6804393706782758,\n",
       " 'encoder_test_rmse_all': 1.176439998940352,\n",
       " 'encoder_test_rmse_orig': 0.9107615559797291,\n",
       " 'encoder_test_rmse_last': 0.47857569581446185,\n",
       " 'decoder_val_rmse_all': 0.404399824899808,\n",
       " 'decoder_val_rmse_orig': 0.40439982489980897,\n",
       " 'decoder_test_rmse_2-step': 1.0503509926371306,\n",
       " 'decoder_test_rmse_3-step': 1.3573320421704556,\n",
       " 'decoder_test_rmse_4-step': 1.5523674763864073,\n",
       " 'decoder_test_rmse_5-step': 1.6602506639432586,\n",
       " 'decoder_test_rmse_6-step': 1.688794927133173}"
      ]
     },
     "execution_count": 23,
     "metadata": {},
     "output_type": "execute_result"
    }
   ],
   "source": [
    "import logging\n",
    "import hydra\n",
    "import torch\n",
    "from omegaconf import DictConfig, OmegaConf\n",
    "from hydra.utils import instantiate\n",
    "from torch.utils.data import DataLoader\n",
    "from pytorch_lightning import Trainer\n",
    "from pytorch_lightning.utilities.seed import seed_everything\n",
    "from pytorch_lightning.callbacks import LearningRateMonitor\n",
    "\n",
    "from src.models.utils import AlphaRise, FilteringMlFlowLogger\n",
    "\n",
    "logging.basicConfig(level=logging.INFO)\n",
    "logger = logging.getLogger(__name__)\n",
    "torch.set_default_dtype(torch.double)\n",
    "\n",
    "# Load the configuration file\n",
    "config_path = '/work/postresearch/Shared/Researchers/Farbod/cancer/code/CausalDiff/config/cancer_sim_crn.yaml'\n",
    "args = OmegaConf.load(config_path)\n",
    "\n",
    "\n",
    "def main(args: DictConfig):\n",
    "    \"\"\"\n",
    "    Training / evaluation script for models with encoder-decoder structure: CRN, EDCT (Encoder-Decoder Causal Transformer)\n",
    "    Args:\n",
    "        args: arguments of run as DictConfig\n",
    "\n",
    "    Returns: dict with results (one and nultiple-step-ahead RMSEs)\n",
    "    \"\"\"\n",
    "\n",
    "    results = {}\n",
    "\n",
    "    # Non-strict access to fields\n",
    "    OmegaConf.set_struct(args, False)\n",
    "    OmegaConf.register_new_resolver(\"sum\", lambda x, y: x + y, replace=True)\n",
    "    logger.info('\\n' + OmegaConf.to_yaml(args, resolve=True))\n",
    "\n",
    "    # Initialisation of data\n",
    "    seed_everything(args.exp.seed)\n",
    "    dataset_collection = instantiate(args.dataset, _recursive_=True)\n",
    "    dataset_collection.process_data_encoder()\n",
    "    args.model.dim_outcomes = dataset_collection.train_f.data['outputs'].shape[-1]\n",
    "    args.model.dim_treatments = dataset_collection.train_f.data['current_treatments'].shape[-1]\n",
    "    args.model.dim_vitals = dataset_collection.train_f.data[\n",
    "        'vitals'].shape[-1] if dataset_collection.has_vitals else 0\n",
    "    args.model.dim_static_features = dataset_collection.train_f.data['static_features'].shape[-1]\n",
    "\n",
    "    # Train_callbacks\n",
    "    encoder_callbacks, decoder_callbacks = [AlphaRise(rate=args.exp.alpha_rate)], [\n",
    "        AlphaRise(rate=args.exp.alpha_rate)]\n",
    "\n",
    "    # MlFlow Logger\n",
    "    if args.exp.logging:\n",
    "        experiment_name = f'{args.model.name}/{args.dataset.name}'\n",
    "        mlf_logger = FilteringMlFlowLogger(filter_submodels=['encoder', 'decoder'],\n",
    "                                           experiment_name=experiment_name, tracking_uri=args.exp.mlflow_uri)\n",
    "        encoder_callbacks += [LearningRateMonitor(logging_interval='epoch')]\n",
    "        decoder_callbacks += [LearningRateMonitor(logging_interval='epoch')]\n",
    "        artifacts_path = hydra.utils.to_absolute_path(\n",
    "            mlf_logger.experiment.get_run(mlf_logger.run_id).info.artifact_uri)\n",
    "    else:\n",
    "        mlf_logger = None\n",
    "        artifacts_path = None\n",
    "\n",
    "    # ============================== Initialisation & Training of encoder ==============================\n",
    "    encoder = instantiate(args.model.encoder, args,\n",
    "                          dataset_collection, _recursive_=False)\n",
    "    if args.model.encoder.tune_hparams:\n",
    "        encoder.finetune(\n",
    "            resources_per_trial=args.model.encoder.resources_per_trial)\n",
    "\n",
    "    encoder_trainer = Trainer(gpus=eval(str(args.exp.gpus)), logger=mlf_logger, max_epochs=args.exp.max_epochs,\n",
    "                              callbacks=encoder_callbacks, terminate_on_nan=True)\n",
    "    encoder_trainer.fit(encoder)\n",
    "    encoder_results = {}\n",
    "\n",
    "    # Validation factual rmse\n",
    "    val_dataloader = DataLoader(\n",
    "        dataset_collection.val_f, batch_size=args.dataset.val_batch_size, shuffle=False)\n",
    "    encoder.test_dataloader = lambda: val_dataloader\n",
    "    encoder_trainer.test(encoder, dataloaders=val_dataloader)\n",
    "    val_rmse_orig, val_rmse_all = encoder.get_normalised_masked_rmse(\n",
    "        dataset_collection.val_f)\n",
    "    logger.info(\n",
    "        f'Val normalised RMSE (all): {val_rmse_all}; Val normalised RMSE (orig): {val_rmse_orig}')\n",
    "\n",
    "    if hasattr(dataset_collection, 'test_cf_one_step'):  # Test one_step_counterfactual rmse\n",
    "        test_rmse_orig, test_rmse_all, test_rmse_last = encoder.get_normalised_masked_rmse(dataset_collection.test_cf_one_step,\n",
    "                                                                                           one_step_counterfactual=True)\n",
    "        logger.info(f'Test normalised RMSE (all): {test_rmse_all}; '\n",
    "                    f'Test normalised RMSE (orig): {test_rmse_orig}; '\n",
    "                    f'Test normalised RMSE (only counterfactual): {test_rmse_last}')\n",
    "        encoder_results = {\n",
    "            'encoder_val_rmse_all': val_rmse_all,\n",
    "            'encoder_val_rmse_orig': val_rmse_orig,\n",
    "            'encoder_test_rmse_all': test_rmse_all,\n",
    "            'encoder_test_rmse_orig': test_rmse_orig,\n",
    "            'encoder_test_rmse_last': test_rmse_last\n",
    "        }\n",
    "    elif hasattr(dataset_collection, 'test_f'):  # Test factual rmse\n",
    "        test_rmse_orig, test_rmse_all = encoder.get_normalised_masked_rmse(\n",
    "            dataset_collection.test_f)\n",
    "        logger.info(f'Test normalised RMSE (all): {test_rmse_all}; '\n",
    "                    f'Test normalised RMSE (orig): {test_rmse_orig}.')\n",
    "        encoder_results = {\n",
    "            'encoder_val_rmse_all': val_rmse_all,\n",
    "            'encoder_val_rmse_orig': val_rmse_orig,\n",
    "            'encoder_test_rmse_all': test_rmse_all,\n",
    "            'encoder_test_rmse_orig': test_rmse_orig\n",
    "        }\n",
    "\n",
    "    mlf_logger.log_metrics(encoder_results) if args.exp.logging else None\n",
    "    results.update(encoder_results)\n",
    "\n",
    "    # ============================== Initialisation & Training of decoder ==============================\n",
    "    if args.model.train_decoder:\n",
    "        if args.exp.logging:\n",
    "            mlf_logger.filter_submodel = 'encoder'  # Disable Logging to Mlflow\n",
    "        decoder = instantiate(args.model.decoder, args,\n",
    "                              encoder, dataset_collection, _recursive_=False)\n",
    "\n",
    "        if args.model.decoder.tune_hparams:\n",
    "            decoder.finetune(\n",
    "                resources_per_trial=args.model.decoder.resources_per_trial)\n",
    "\n",
    "        decoder_trainer = Trainer(gpus=eval(str(args.exp.gpus)), logger=mlf_logger, max_epochs=args.exp.max_epochs,\n",
    "                                  callbacks=decoder_callbacks, terminate_on_nan=True)\n",
    "        decoder_trainer.fit(decoder)\n",
    "\n",
    "        # Validation factual rmse\n",
    "        val_dataloader = DataLoader(\n",
    "            dataset_collection.val_f, batch_size=10 * args.dataset.val_batch_size, shuffle=False)\n",
    "        decoder.test_dataloader = lambda: val_dataloader\n",
    "        decoder_trainer.test(decoder, dataloaders=val_dataloader)\n",
    "        # decoder.visualize(dataset_collection.val_f, index=20, artifacts_path=artifacts_path)\n",
    "        val_rmse_orig, val_rmse_all = decoder.get_normalised_masked_rmse(\n",
    "            dataset_collection.val_f)\n",
    "        logger.info(\n",
    "            f'Val normalised RMSE (all): {val_rmse_all}; Val normalised RMSE (orig): {val_rmse_orig}')\n",
    "\n",
    "        test_rmses = {}\n",
    "        if hasattr(dataset_collection, 'test_cf_treatment_seq'):  # Test n_step_counterfactual rmse\n",
    "            test_rmses = decoder.get_normalised_n_step_rmses(\n",
    "                dataset_collection.test_cf_treatment_seq)\n",
    "        elif hasattr(dataset_collection, 'test_f'):  # Test n_step_factual rmse\n",
    "            test_rmses = decoder.get_normalised_n_step_rmses(\n",
    "                dataset_collection.test_f)\n",
    "        test_rmses = {f'{k+2}-step': v for (k, v) in enumerate(test_rmses)}\n",
    "\n",
    "        logger.info(f'Test normalised RMSE (n-step prediction): {test_rmses}')\n",
    "        decoder_results = {\n",
    "            'decoder_val_rmse_all': val_rmse_all,\n",
    "            'decoder_val_rmse_orig': val_rmse_orig\n",
    "        }\n",
    "        decoder_results.update(\n",
    "            {('decoder_test_rmse_' + k): v for (k, v) in test_rmses.items()})\n",
    "\n",
    "        mlf_logger.log_metrics(decoder_results) if args.exp.logging else None\n",
    "        results.update(decoder_results)\n",
    "\n",
    "    return results\n",
    "\n",
    "\n",
    "if __name__ == \"__main__\":\n",
    "    main(args)"
   ]
  },
  {
   "cell_type": "markdown",
   "metadata": {},
   "source": [
    "# G-Net"
   ]
  },
  {
   "cell_type": "code",
   "execution_count": 4,
   "metadata": {},
   "outputs": [
    {
     "name": "stderr",
     "output_type": "stream",
     "text": [
      "INFO:__main__:\n",
      "dataset:\n",
      "  _target_: src.data.SyntheticCancerDatasetCollection\n",
      "  name: tumor_generator\n",
      "  coeff: 4\n",
      "  chemo_coeff: 4\n",
      "  radio_coeff: 4\n",
      "  seed: 100\n",
      "  num_patients:\n",
      "    train: 10000\n",
      "    val: 1000\n",
      "    test: 100\n",
      "  window_size: 15\n",
      "  lag: 0\n",
      "  max_seq_length: 60\n",
      "  projection_horizon: 5\n",
      "  cf_seq_mode: sliding_treatment\n",
      "  val_batch_size: 4096\n",
      "  treatment_mode: multiclass\n",
      "  holdout_ratio: 0.1\n",
      "model:\n",
      "  name: G-Net\n",
      "  g_net:\n",
      "    _target_: src.models.gnet.GNet\n",
      "    seq_hidden_units: 24\n",
      "    num_layer: 1\n",
      "    r_size: 18\n",
      "    fc_hidden_units: 72\n",
      "    num_comp: 1\n",
      "    mc_samples: 50\n",
      "    fit_vitals: true\n",
      "    comp_sizes: []\n",
      "    batch_size: 256\n",
      "    dropout_rate: 0.1\n",
      "    optimizer:\n",
      "      optimizer_cls: adam\n",
      "      learning_rate: 0.01\n",
      "      weight_decay: 0.0\n",
      "      lr_scheduler: false\n",
      "    tune_hparams: false\n",
      "    tune_range: 50\n",
      "    hparams_grid: null\n",
      "    resources_per_trial: null\n",
      "exp:\n",
      "  update_alpha: false\n",
      "  unscale_rmse: true\n",
      "  percentage_rmse: true\n",
      "  seed: 100\n",
      "  weights_ema: true\n",
      "  gpus:\n",
      "  - 0\n",
      "  logging: true\n",
      "  mlflow_uri: http://127.0.0.1:8081\n",
      "  alpha: 0.01\n",
      "  beta: 0.99\n",
      "  max_epochs: 150\n",
      "  alpha_rate: exp\n",
      "  bce_weight: false\n",
      "\n",
      "Global seed set to 100\n",
      "INFO:root:Simulating initial volumes for stage I  with norm params: mu=1.72, sigma=4.7, lb=-0.6221218732608373, ub=-0.023523848418276528\n",
      "INFO:root:Simulating initial volumes for stage II  with norm params: mu=1.96, sigma=1.63, lb=-1.9410876100159118, ub=0.3711345751297772\n",
      "INFO:root:Simulating initial volumes for stage IIIA  with norm params: mu=1.91, sigma=9.4, lb=-0.33127370258786554, ub=0.06967546355973796\n",
      "INFO:root:Simulating initial volumes for stage IIIB  with norm params: mu=2.76, sigma=6.87, lb=-0.5769974969906748, ub=-0.02839165102452155\n",
      "INFO:root:Simulating initial volumes for stage IV  with norm params: mu=3.86, sigma=8.82, lb=-0.5741465764541877, ub=-0.14683113860980307\n",
      "INFO:root:Got correlated params for 4597 patients\n",
      "INFO:root:Got correlated params for 9177 patients\n",
      "INFO:root:Got correlated params for 13793 patients\n",
      "INFO:root:Simulating beta_c parameters\n",
      "INFO:root:Randomising outputs\n",
      "  0%|          | 0/10000 [00:00<?, ?it/s]"
     ]
    },
    {
     "name": "stderr",
     "output_type": "stream",
     "text": [
      "/work/postresearch/Shared/Researchers/Farbod/cancer/code/CausalDiff/src/data/cancer_sim/cancer_simulation.py:346: RuntimeWarning: overflow encountered in exp\n",
      "  if recovery_rvs[i, t] < np.exp(-cancer_volume[i, t] * TUMOUR_CELL_DENSITY):\n",
      "100%|██████████| 10000/10000 [00:11<00:00, 893.50it/s]\n",
      "INFO:root:Simulating initial volumes for stage I  with norm params: mu=1.72, sigma=4.7, lb=-0.6221218732608373, ub=-0.023523848418276528\n",
      "INFO:root:Simulating initial volumes for stage II  with norm params: mu=1.96, sigma=1.63, lb=-1.9410876100159118, ub=0.3711345751297772\n",
      "INFO:root:Simulating initial volumes for stage IIIA  with norm params: mu=1.91, sigma=9.4, lb=-0.33127370258786554, ub=0.06967546355973796\n",
      "INFO:root:Simulating initial volumes for stage IIIB  with norm params: mu=2.76, sigma=6.87, lb=-0.5769974969906748, ub=-0.02839165102452155\n",
      "INFO:root:Simulating initial volumes for stage IV  with norm params: mu=3.86, sigma=8.82, lb=-0.5741465764541877, ub=-0.14683113860980307\n",
      "INFO:root:Got correlated params for 444 patients\n",
      "INFO:root:Got correlated params for 922 patients\n",
      "INFO:root:Got correlated params for 1372 patients\n",
      "INFO:root:Simulating beta_c parameters\n",
      "INFO:root:Randomising outputs\n",
      "100%|██████████| 1000/1000 [00:01<00:00, 891.59it/s]\n",
      "INFO:root:Simulating initial volumes for stage I  with norm params: mu=1.72, sigma=4.7, lb=-0.6221218732608373, ub=-0.023523848418276528\n",
      "INFO:root:Simulating initial volumes for stage II  with norm params: mu=1.96, sigma=1.63, lb=-1.9410876100159118, ub=0.3711345751297772\n",
      "INFO:root:Simulating initial volumes for stage IIIA  with norm params: mu=1.91, sigma=9.4, lb=-0.33127370258786554, ub=0.06967546355973796\n",
      "INFO:root:Simulating initial volumes for stage IIIB  with norm params: mu=2.76, sigma=6.87, lb=-0.5769974969906748, ub=-0.02839165102452155\n",
      "INFO:root:Simulating initial volumes for stage IV  with norm params: mu=3.86, sigma=8.82, lb=-0.5741465764541877, ub=-0.14683113860980307\n",
      "INFO:root:Got correlated params for 37 patients\n",
      "INFO:root:Got correlated params for 82 patients\n",
      "INFO:root:Got correlated params for 131 patients\n",
      "INFO:root:Simulating beta_c parameters\n",
      "INFO:root:Randomising outputs\n",
      " 31%|███       | 31/100 [00:02<00:05, 13.73it/s]/work/postresearch/Shared/Researchers/Farbod/cancer/code/CausalDiff/src/data/cancer_sim/cancer_simulation.py:39: RuntimeWarning: invalid value encountered in scalar power\n",
      "  return ((volume / (4 / 3 * np.pi)) ** (1 / 3)) * 2\n",
      "100%|██████████| 100/100 [00:06<00:00, 14.47it/s]\n",
      "INFO:root:Simulating initial volumes for stage I  with norm params: mu=1.72, sigma=4.7, lb=-0.6221218732608373, ub=-0.023523848418276528\n",
      "INFO:root:Simulating initial volumes for stage II  with norm params: mu=1.96, sigma=1.63, lb=-1.9410876100159118, ub=0.3711345751297772\n",
      "INFO:root:Simulating initial volumes for stage IIIA  with norm params: mu=1.91, sigma=9.4, lb=-0.33127370258786554, ub=0.06967546355973796\n",
      "INFO:root:Simulating initial volumes for stage IIIB  with norm params: mu=2.76, sigma=6.87, lb=-0.5769974969906748, ub=-0.02839165102452155\n",
      "INFO:root:Simulating initial volumes for stage IV  with norm params: mu=3.86, sigma=8.82, lb=-0.5741465764541877, ub=-0.14683113860980307\n",
      "INFO:root:Got correlated params for 51 patients\n",
      "INFO:root:Got correlated params for 95 patients\n",
      "INFO:root:Got correlated params for 147 patients\n",
      "INFO:root:Simulating beta_c parameters\n",
      "INFO:root:Randomising outputs\n"
     ]
    },
    {
     "name": "stdout",
     "output_type": "stream",
     "text": [
      "Call to simulate counterfactuals data\n"
     ]
    },
    {
     "name": "stderr",
     "output_type": "stream",
     "text": [
      "100%|██████████| 100/100 [00:02<00:00, 48.74it/s]\n",
      "INFO:src.data.cancer_sim.dataset:Processing train dataset before training\n",
      "INFO:src.data.cancer_sim.dataset:Shape of processed train data: {'cancer_volume': (10000, 60), 'chemo_dosage': (10000, 60), 'radio_dosage': (10000, 60), 'chemo_application': (10000, 60), 'radio_application': (10000, 60), 'chemo_probabilities': (10000, 60), 'radio_probabilities': (10000, 60), 'sequence_lengths': (10000,), 'death_flags': (10000, 60), 'recovery_flags': (10000, 60), 'patient_types': (10000,), 'prev_treatments': (10000, 59, 4), 'current_treatments': (10000, 59, 4), 'current_covariates': (10000, 59, 2), 'outputs': (10000, 59, 1), 'active_entries': (10000, 59, 1), 'unscaled_outputs': (10000, 59, 1), 'prev_outputs': (10000, 59, 1), 'static_features': (10000, 1)}\n",
      "INFO:src.data.cancer_sim.dataset:Processing val dataset before training\n",
      "INFO:src.data.cancer_sim.dataset:Shape of processed val data: {'cancer_volume': (1000, 60), 'chemo_dosage': (1000, 60), 'radio_dosage': (1000, 60), 'chemo_application': (1000, 60), 'radio_application': (1000, 60), 'chemo_probabilities': (1000, 60), 'radio_probabilities': (1000, 60), 'sequence_lengths': (1000,), 'death_flags': (1000, 60), 'recovery_flags': (1000, 60), 'patient_types': (1000,), 'prev_treatments': (1000, 59, 4), 'current_treatments': (1000, 59, 4), 'current_covariates': (1000, 59, 2), 'outputs': (1000, 59, 1), 'active_entries': (1000, 59, 1), 'unscaled_outputs': (1000, 59, 1), 'prev_outputs': (1000, 59, 1), 'static_features': (1000, 1)}\n",
      "INFO:src.data.cancer_sim.dataset:Processing test dataset before training\n",
      "INFO:src.data.cancer_sim.dataset:Shape of processed test data: {'cancer_volume': (22260, 60), 'chemo_application': (22260, 60), 'radio_application': (22260, 60), 'sequence_lengths': (22260,), 'patient_types': (22260,), 'median_cancer_volume': (22260, 60), 'cancer_volume_5th_percentile': (22260, 60), 'cancer_volume_95th_percentile': (22260, 60), 'prev_treatments': (22260, 59, 4), 'current_treatments': (22260, 59, 4), 'current_covariates': (22260, 59, 2), 'outputs': (22260, 59, 4), 'active_entries': (22260, 59, 1), 'unscaled_outputs': (22260, 59, 4), 'prev_outputs': (22260, 59, 1), 'static_features': (22260, 1)}\n",
      "INFO:src.data.cancer_sim.dataset:Processing test dataset before training\n",
      "INFO:src.data.cancer_sim.dataset:Shape of processed test data: {'cancer_volume': (57000, 65), 'chemo_application': (57000, 65), 'radio_application': (57000, 65), 'sequence_lengths': (57000,), 'patient_types': (57000,), 'patient_ids_all_trajectories': (57000,), 'patient_current_t': (57000,), 'prev_treatments': (57000, 64, 4), 'current_treatments': (57000, 64, 4), 'current_covariates': (57000, 64, 2), 'outputs': (57000, 64, 1), 'active_entries': (57000, 64, 1), 'unscaled_outputs': (57000, 64, 1), 'prev_outputs': (57000, 64, 1), 'static_features': (57000, 1)}\n",
      "INFO:src.data.cancer_sim.dataset:Processing test dataset before testing (multiple sequences)\n",
      "INFO:src.data.cancer_sim.dataset:Shape of processed test data: {'active_encoder_r': (57000, 59), 'prev_treatments': (57000, 5, 4), 'current_treatments': (57000, 5, 4), 'current_covariates': (57000, 5, 2), 'prev_outputs': (57000, 5, 1), 'static_features': (57000, 1), 'outputs': (57000, 5, 1), 'sequence_lengths': (57000,), 'active_entries': (57000, 5, 1), 'unscaled_outputs': (57000, 5, 1), 'patient_types': (57000,), 'patient_ids_all_trajectories': (57000,), 'patient_current_t': (57000,)}\n",
      "WARNING:urllib3.connectionpool:Retrying (JitteredRetry(total=6, connect=6, read=7, redirect=7, status=7)) after connection broken by 'NewConnectionError('<urllib3.connection.HTTPConnection object at 0x7fdfad886a90>: Failed to establish a new connection: [Errno 111] Connection refused')': /api/2.0/mlflow/experiments/get-by-name?experiment_name=G-Net%2Ftumor_generator\n",
      "WARNING:urllib3.connectionpool:Retrying (JitteredRetry(total=5, connect=5, read=7, redirect=7, status=7)) after connection broken by 'NewConnectionError('<urllib3.connection.HTTPConnection object at 0x7fe19ffbc5d0>: Failed to establish a new connection: [Errno 111] Connection refused')': /api/2.0/mlflow/experiments/get-by-name?experiment_name=G-Net%2Ftumor_generator\n",
      "WARNING:urllib3.connectionpool:Retrying (JitteredRetry(total=4, connect=4, read=7, redirect=7, status=7)) after connection broken by 'NewConnectionError('<urllib3.connection.HTTPConnection object at 0x7fe19ffe87d0>: Failed to establish a new connection: [Errno 111] Connection refused')': /api/2.0/mlflow/experiments/get-by-name?experiment_name=G-Net%2Ftumor_generator\n",
      "WARNING:urllib3.connectionpool:Retrying (JitteredRetry(total=3, connect=3, read=7, redirect=7, status=7)) after connection broken by 'NewConnectionError('<urllib3.connection.HTTPConnection object at 0x7fe19ffac110>: Failed to establish a new connection: [Errno 111] Connection refused')': /api/2.0/mlflow/experiments/get-by-name?experiment_name=G-Net%2Ftumor_generator\n",
      "WARNING:urllib3.connectionpool:Retrying (JitteredRetry(total=2, connect=2, read=7, redirect=7, status=7)) after connection broken by 'NewConnectionError('<urllib3.connection.HTTPConnection object at 0x7fe19ffae7d0>: Failed to establish a new connection: [Errno 111] Connection refused')': /api/2.0/mlflow/experiments/get-by-name?experiment_name=G-Net%2Ftumor_generator\n",
      "WARNING:urllib3.connectionpool:Retrying (JitteredRetry(total=1, connect=1, read=7, redirect=7, status=7)) after connection broken by 'NewConnectionError('<urllib3.connection.HTTPConnection object at 0x7fe19ffafb10>: Failed to establish a new connection: [Errno 111] Connection refused')': /api/2.0/mlflow/experiments/get-by-name?experiment_name=G-Net%2Ftumor_generator\n",
      "WARNING:urllib3.connectionpool:Retrying (JitteredRetry(total=0, connect=0, read=7, redirect=7, status=7)) after connection broken by 'NewConnectionError('<urllib3.connection.HTTPConnection object at 0x7fe19ff7bfd0>: Failed to establish a new connection: [Errno 111] Connection refused')': /api/2.0/mlflow/experiments/get-by-name?experiment_name=G-Net%2Ftumor_generator\n",
      "INFO:torch.distributed.nn.jit.instantiator:Created a temporary directory at /tmp/tmpwcuim93g\n",
      "INFO:torch.distributed.nn.jit.instantiator:Writing /tmp/tmpwcuim93g/_remote_module_non_scriptable.py\n",
      "INFO:src.models.gnet:Input size of g_net: 6\n",
      "/home/alinezhad.f/micromamba/envs/torch_old/lib/python3.11/site-packages/pytorch_lightning/trainer/trainer.py:572: LightningDeprecationWarning: Trainer argument `terminate_on_nan` was deprecated in v1.5 and will be removed in 1.7. Please use `Trainer(detect_anomaly=True)` instead.\n",
      "  rank_zero_deprecation(\n",
      "GPU available: True, used: True\n",
      "TPU available: False, using: 0 TPU cores\n",
      "IPU available: False, using: 0 IPUs\n",
      "HPU available: False, using: 0 HPUs\n",
      "/home/alinezhad.f/micromamba/envs/torch_old/lib/python3.11/site-packages/pytorch_lightning/trainer/configuration_validator.py:131: UserWarning: You passed in a `val_dataloader` but have no `validation_step`. Skipping val loop.\n",
      "  rank_zero_warn(\"You passed in a `val_dataloader` but have no `validation_step`. Skipping val loop.\")\n",
      "INFO:src.data.dataset_collection:Splited train_f on train_f: 9000 and train_f_holdout: 1000\n",
      "INFO:src.data.dataset_collection:Exploding test_cf_treatment_seq 50 times\n",
      "LOCAL_RANK: 0 - CUDA_VISIBLE_DEVICES: [0,1,2,3]\n",
      "\n",
      "  | Name                  | Type               | Params\n",
      "-------------------------------------------------------------\n",
      "0 | repr_net              | VariationalLSTM    | 3.1 K \n",
      "1 | r_outcome_vitals_head | ROutcomeVitalsHead | 1.9 K \n",
      "-------------------------------------------------------------\n",
      "5.0 K     Trainable params\n",
      "0         Non-trainable params\n",
      "5.0 K     Total params\n",
      "0.020     Total estimated model params size (MB)\n",
      "/home/alinezhad.f/micromamba/envs/torch_old/lib/python3.11/site-packages/pytorch_lightning/trainer/connectors/data_connector.py:240: PossibleUserWarning: The dataloader, train_dataloader, does not have many workers which may be a bottleneck. Consider increasing the value of the `num_workers` argument` (try 128 which is the number of cpus on this machine) in the `DataLoader` init to improve performance.\n",
      "  rank_zero_warn(\n",
      "/home/alinezhad.f/micromamba/envs/torch_old/lib/python3.11/site-packages/pytorch_lightning/trainer/trainer.py:1938: PossibleUserWarning: The number of training samples (35) is smaller than the logging interval Trainer(log_every_n_steps=50). Set a lower value for log_every_n_steps if you want to see logs for the training epoch.\n",
      "  rank_zero_warn(\n"
     ]
    },
    {
     "data": {
      "application/vnd.jupyter.widget-view+json": {
       "model_id": "91374515367740d3ac202691a98932c9",
       "version_major": 2,
       "version_minor": 0
      },
      "text/plain": [
       "Training: 0it [00:00, ?it/s]"
      ]
     },
     "metadata": {},
     "output_type": "display_data"
    },
    {
     "name": "stderr",
     "output_type": "stream",
     "text": [
      "/home/alinezhad.f/micromamba/envs/torch_old/lib/python3.11/site-packages/torch/nn/_reduction.py:42: UserWarning: size_average and reduce args will be deprecated, please use reduction='none' instead.\n",
      "  warnings.warn(warning.format(ret))\n",
      "INFO:src.models.gnet:Fitting residuals based on train_f_holdout.\n",
      "INFO:src.models.gnet:Predictions for train.\n",
      "LOCAL_RANK: 0 - CUDA_VISIBLE_DEVICES: [0,1,2,3]\n",
      "/home/alinezhad.f/micromamba/envs/torch_old/lib/python3.11/site-packages/pytorch_lightning/trainer/connectors/data_connector.py:240: PossibleUserWarning: The dataloader, predict_dataloader 0, does not have many workers which may be a bottleneck. Consider increasing the value of the `num_workers` argument` (try 128 which is the number of cpus on this machine) in the `DataLoader` init to improve performance.\n",
      "  rank_zero_warn(\n"
     ]
    },
    {
     "data": {
      "application/vnd.jupyter.widget-view+json": {
       "model_id": "a1fad3c25af648199b29e5ce46348a97",
       "version_major": 2,
       "version_minor": 0
      },
      "text/plain": [
       "Predicting: 35it [00:00, ?it/s]"
      ]
     },
     "metadata": {},
     "output_type": "display_data"
    },
    {
     "name": "stderr",
     "output_type": "stream",
     "text": [
      "INFO:src.models.time_varying_model:RMSE calculation for val.\n",
      "INFO:src.models.time_varying_model:dataset output shape: (1000, 59, 1)\n",
      "INFO:src.models.gnet:Predictions for val.\n",
      "LOCAL_RANK: 0 - CUDA_VISIBLE_DEVICES: [0,1,2,3]\n"
     ]
    },
    {
     "name": "stdout",
     "output_type": "stream",
     "text": [
      "🏃 View run delicate-seal-790 at: http://127.0.0.1:8081/#/experiments/887994607810552918/runs/fb94cd8dc7804c5b9f8a26fc1c97f679\n",
      "🧪 View experiment at: http://127.0.0.1:8081/#/experiments/887994607810552918\n",
      "🏃 View run delicate-seal-790 at: http://127.0.0.1:8081/#/experiments/887994607810552918/runs/fb94cd8dc7804c5b9f8a26fc1c97f679\n",
      "🧪 View experiment at: http://127.0.0.1:8081/#/experiments/887994607810552918\n"
     ]
    },
    {
     "data": {
      "application/vnd.jupyter.widget-view+json": {
       "model_id": "c715223388974106bbf8d59ccf572404",
       "version_major": 2,
       "version_minor": 0
      },
      "text/plain": [
       "Predicting: 35it [00:00, ?it/s]"
      ]
     },
     "metadata": {},
     "output_type": "display_data"
    },
    {
     "name": "stderr",
     "output_type": "stream",
     "text": [
      "INFO:__main__:Val normalised RMSE (all): 0.6958152216516413; Val normalised RMSE (orig): 0.6864977016771162\n",
      "INFO:src.models.time_varying_model:RMSE calculation for test.\n",
      "INFO:src.models.time_varying_model:dataset output shape: (22260, 59, 4)\n",
      "INFO:src.models.time_varying_model:dataset output shape: (18700, 59, 1)\n",
      "INFO:src.models.time_varying_model:first output: [[-0.12035835]\n",
      " [-0.11724446]\n",
      " [-0.11327777]\n",
      " [-0.10967946]\n",
      " [-0.11120945]\n",
      " [-0.10957893]\n",
      " [-0.11293824]\n",
      " [-0.11206222]\n",
      " [-0.11009807]\n",
      " [-0.10723271]\n",
      " [-0.14749837]\n",
      " [-0.14749837]\n",
      " [-0.14749837]\n",
      " [-0.14749837]\n",
      " [-0.14749837]\n",
      " [-0.14749837]\n",
      " [-0.14749837]\n",
      " [-0.14749837]\n",
      " [-0.14749837]\n",
      " [-0.14749837]\n",
      " [-0.14749837]\n",
      " [-0.14749837]\n",
      " [-0.14749837]\n",
      " [-0.14749837]\n",
      " [-0.14749837]\n",
      " [-0.14749837]\n",
      " [-0.14749837]\n",
      " [-0.14749837]\n",
      " [-0.14749837]\n",
      " [-0.14749837]\n",
      " [-0.14749837]\n",
      " [-0.14749837]\n",
      " [-0.14749837]\n",
      " [-0.14749837]\n",
      " [-0.14749837]\n",
      " [-0.14749837]\n",
      " [-0.14749837]\n",
      " [-0.14749837]\n",
      " [-0.14749837]\n",
      " [-0.14749837]\n",
      " [-0.14749837]\n",
      " [-0.14749837]\n",
      " [-0.14749837]\n",
      " [-0.14749837]\n",
      " [-0.14749837]\n",
      " [-0.14749837]\n",
      " [-0.14749837]\n",
      " [-0.14749837]\n",
      " [-0.14749837]\n",
      " [-0.14749837]\n",
      " [-0.14749837]\n",
      " [-0.14749837]\n",
      " [-0.14749837]\n",
      " [-0.14749837]\n",
      " [-0.14749837]\n",
      " [-0.14749837]\n",
      " [-0.14749837]\n",
      " [-0.14749837]\n",
      " [-0.14749837]]\n",
      "INFO:src.models.gnet:Predictions for test.\n",
      "LOCAL_RANK: 0 - CUDA_VISIBLE_DEVICES: [0,1,2,3]\n"
     ]
    },
    {
     "name": "stdout",
     "output_type": "stream",
     "text": [
      "🏃 View run delicate-seal-790 at: http://127.0.0.1:8081/#/experiments/887994607810552918/runs/fb94cd8dc7804c5b9f8a26fc1c97f679\n",
      "🧪 View experiment at: http://127.0.0.1:8081/#/experiments/887994607810552918\n"
     ]
    },
    {
     "data": {
      "application/vnd.jupyter.widget-view+json": {
       "model_id": "712ee43d80e44054832a6f04e19376df",
       "version_major": 2,
       "version_minor": 0
      },
      "text/plain": [
       "Predicting: 35it [00:00, ?it/s]"
      ]
     },
     "metadata": {},
     "output_type": "display_data"
    },
    {
     "name": "stderr",
     "output_type": "stream",
     "text": [
      "INFO:__main__:Test normalised RMSE (all): 1.0475353371382192; Test normalised RMSE (orig): 0.818291905494028; Test normalised RMSE (only counterfactual): 0.7632298904565646\n",
      "INFO:src.models.time_varying_model:RMSE calculation for test.\n",
      "INFO:src.models.gnet:Autoregressive Prediction for test with MC-sampling of trajectories.\n",
      "INFO:src.models.gnet:t = 1\n",
      "INFO:src.models.gnet:Predictions for test.\n",
      "LOCAL_RANK: 0 - CUDA_VISIBLE_DEVICES: [0,1,2,3]\n"
     ]
    },
    {
     "name": "stdout",
     "output_type": "stream",
     "text": [
      "🏃 View run delicate-seal-790 at: http://127.0.0.1:8081/#/experiments/887994607810552918/runs/fb94cd8dc7804c5b9f8a26fc1c97f679\n",
      "🧪 View experiment at: http://127.0.0.1:8081/#/experiments/887994607810552918\n"
     ]
    },
    {
     "data": {
      "application/vnd.jupyter.widget-view+json": {
       "model_id": "5dcebb9447964541960bdf12b707ce3f",
       "version_major": 2,
       "version_minor": 0
      },
      "text/plain": [
       "Predicting: 35it [00:00, ?it/s]"
      ]
     },
     "metadata": {},
     "output_type": "display_data"
    },
    {
     "name": "stderr",
     "output_type": "stream",
     "text": [
      "INFO:src.models.gnet:Predictions for test.\n",
      "LOCAL_RANK: 0 - CUDA_VISIBLE_DEVICES: [0,1,2,3]\n"
     ]
    },
    {
     "name": "stdout",
     "output_type": "stream",
     "text": [
      "🏃 View run delicate-seal-790 at: http://127.0.0.1:8081/#/experiments/887994607810552918/runs/fb94cd8dc7804c5b9f8a26fc1c97f679\n",
      "🧪 View experiment at: http://127.0.0.1:8081/#/experiments/887994607810552918\n"
     ]
    },
    {
     "data": {
      "application/vnd.jupyter.widget-view+json": {
       "model_id": "e39913a60b4a4cf2a5cc72243fd578ff",
       "version_major": 2,
       "version_minor": 0
      },
      "text/plain": [
       "Predicting: 35it [00:00, ?it/s]"
      ]
     },
     "metadata": {},
     "output_type": "display_data"
    },
    {
     "name": "stderr",
     "output_type": "stream",
     "text": [
      "INFO:src.models.gnet:Predictions for test.\n",
      "LOCAL_RANK: 0 - CUDA_VISIBLE_DEVICES: [0,1,2,3]\n"
     ]
    },
    {
     "name": "stdout",
     "output_type": "stream",
     "text": [
      "🏃 View run delicate-seal-790 at: http://127.0.0.1:8081/#/experiments/887994607810552918/runs/fb94cd8dc7804c5b9f8a26fc1c97f679\n",
      "🧪 View experiment at: http://127.0.0.1:8081/#/experiments/887994607810552918\n"
     ]
    },
    {
     "data": {
      "application/vnd.jupyter.widget-view+json": {
       "model_id": "74d7d54362964b6687f2ab0a3ef55376",
       "version_major": 2,
       "version_minor": 0
      },
      "text/plain": [
       "Predicting: 35it [00:00, ?it/s]"
      ]
     },
     "metadata": {},
     "output_type": "display_data"
    },
    {
     "name": "stderr",
     "output_type": "stream",
     "text": [
      "INFO:src.models.gnet:Predictions for test.\n",
      "LOCAL_RANK: 0 - CUDA_VISIBLE_DEVICES: [0,1,2,3]\n"
     ]
    },
    {
     "name": "stdout",
     "output_type": "stream",
     "text": [
      "🏃 View run delicate-seal-790 at: http://127.0.0.1:8081/#/experiments/887994607810552918/runs/fb94cd8dc7804c5b9f8a26fc1c97f679\n",
      "🧪 View experiment at: http://127.0.0.1:8081/#/experiments/887994607810552918\n"
     ]
    },
    {
     "data": {
      "application/vnd.jupyter.widget-view+json": {
       "model_id": "1c176db604844a1ba677614d08bf7280",
       "version_major": 2,
       "version_minor": 0
      },
      "text/plain": [
       "Predicting: 35it [00:00, ?it/s]"
      ]
     },
     "metadata": {},
     "output_type": "display_data"
    },
    {
     "name": "stderr",
     "output_type": "stream",
     "text": [
      "INFO:src.models.gnet:Predictions for test.\n",
      "LOCAL_RANK: 0 - CUDA_VISIBLE_DEVICES: [0,1,2,3]\n"
     ]
    },
    {
     "name": "stdout",
     "output_type": "stream",
     "text": [
      "🏃 View run delicate-seal-790 at: http://127.0.0.1:8081/#/experiments/887994607810552918/runs/fb94cd8dc7804c5b9f8a26fc1c97f679\n",
      "🧪 View experiment at: http://127.0.0.1:8081/#/experiments/887994607810552918\n"
     ]
    },
    {
     "data": {
      "application/vnd.jupyter.widget-view+json": {
       "model_id": "da3d59c4299040a1b53edc48b8929c87",
       "version_major": 2,
       "version_minor": 0
      },
      "text/plain": [
       "Predicting: 35it [00:00, ?it/s]"
      ]
     },
     "metadata": {},
     "output_type": "display_data"
    },
    {
     "name": "stderr",
     "output_type": "stream",
     "text": [
      "INFO:src.models.gnet:Predictions for test.\n",
      "LOCAL_RANK: 0 - CUDA_VISIBLE_DEVICES: [0,1,2,3]\n"
     ]
    },
    {
     "name": "stdout",
     "output_type": "stream",
     "text": [
      "🏃 View run delicate-seal-790 at: http://127.0.0.1:8081/#/experiments/887994607810552918/runs/fb94cd8dc7804c5b9f8a26fc1c97f679\n",
      "🧪 View experiment at: http://127.0.0.1:8081/#/experiments/887994607810552918\n"
     ]
    },
    {
     "data": {
      "application/vnd.jupyter.widget-view+json": {
       "model_id": "ea0e76973a7a4ac396091679e7825040",
       "version_major": 2,
       "version_minor": 0
      },
      "text/plain": [
       "Predicting: 35it [00:00, ?it/s]"
      ]
     },
     "metadata": {},
     "output_type": "display_data"
    },
    {
     "name": "stderr",
     "output_type": "stream",
     "text": [
      "INFO:src.models.gnet:Predictions for test.\n",
      "LOCAL_RANK: 0 - CUDA_VISIBLE_DEVICES: [0,1,2,3]\n"
     ]
    },
    {
     "name": "stdout",
     "output_type": "stream",
     "text": [
      "🏃 View run delicate-seal-790 at: http://127.0.0.1:8081/#/experiments/887994607810552918/runs/fb94cd8dc7804c5b9f8a26fc1c97f679\n",
      "🧪 View experiment at: http://127.0.0.1:8081/#/experiments/887994607810552918\n"
     ]
    },
    {
     "data": {
      "application/vnd.jupyter.widget-view+json": {
       "model_id": "5ac5a5621bc449b280c8be37c159e144",
       "version_major": 2,
       "version_minor": 0
      },
      "text/plain": [
       "Predicting: 35it [00:00, ?it/s]"
      ]
     },
     "metadata": {},
     "output_type": "display_data"
    },
    {
     "name": "stderr",
     "output_type": "stream",
     "text": [
      "INFO:src.models.gnet:Predictions for test.\n",
      "LOCAL_RANK: 0 - CUDA_VISIBLE_DEVICES: [0,1,2,3]\n"
     ]
    },
    {
     "name": "stdout",
     "output_type": "stream",
     "text": [
      "🏃 View run delicate-seal-790 at: http://127.0.0.1:8081/#/experiments/887994607810552918/runs/fb94cd8dc7804c5b9f8a26fc1c97f679\n",
      "🧪 View experiment at: http://127.0.0.1:8081/#/experiments/887994607810552918\n"
     ]
    },
    {
     "data": {
      "application/vnd.jupyter.widget-view+json": {
       "model_id": "a930f22ef520414586371b62da9860a3",
       "version_major": 2,
       "version_minor": 0
      },
      "text/plain": [
       "Predicting: 35it [00:00, ?it/s]"
      ]
     },
     "metadata": {},
     "output_type": "display_data"
    },
    {
     "name": "stderr",
     "output_type": "stream",
     "text": [
      "INFO:src.models.gnet:Predictions for test.\n",
      "LOCAL_RANK: 0 - CUDA_VISIBLE_DEVICES: [0,1,2,3]\n"
     ]
    },
    {
     "name": "stdout",
     "output_type": "stream",
     "text": [
      "🏃 View run delicate-seal-790 at: http://127.0.0.1:8081/#/experiments/887994607810552918/runs/fb94cd8dc7804c5b9f8a26fc1c97f679\n",
      "🧪 View experiment at: http://127.0.0.1:8081/#/experiments/887994607810552918\n"
     ]
    },
    {
     "data": {
      "application/vnd.jupyter.widget-view+json": {
       "model_id": "6b292cbb68e645ea810d28e96871c741",
       "version_major": 2,
       "version_minor": 0
      },
      "text/plain": [
       "Predicting: 35it [00:00, ?it/s]"
      ]
     },
     "metadata": {},
     "output_type": "display_data"
    },
    {
     "name": "stderr",
     "output_type": "stream",
     "text": [
      "INFO:src.models.gnet:Predictions for test.\n",
      "LOCAL_RANK: 0 - CUDA_VISIBLE_DEVICES: [0,1,2,3]\n"
     ]
    },
    {
     "name": "stdout",
     "output_type": "stream",
     "text": [
      "🏃 View run delicate-seal-790 at: http://127.0.0.1:8081/#/experiments/887994607810552918/runs/fb94cd8dc7804c5b9f8a26fc1c97f679\n",
      "🧪 View experiment at: http://127.0.0.1:8081/#/experiments/887994607810552918\n"
     ]
    },
    {
     "data": {
      "application/vnd.jupyter.widget-view+json": {
       "model_id": "a2065b1d0a544cc9b3829af74434a267",
       "version_major": 2,
       "version_minor": 0
      },
      "text/plain": [
       "Predicting: 35it [00:00, ?it/s]"
      ]
     },
     "metadata": {},
     "output_type": "display_data"
    },
    {
     "name": "stderr",
     "output_type": "stream",
     "text": [
      "INFO:src.models.gnet:Predictions for test.\n",
      "LOCAL_RANK: 0 - CUDA_VISIBLE_DEVICES: [0,1,2,3]\n"
     ]
    },
    {
     "name": "stdout",
     "output_type": "stream",
     "text": [
      "🏃 View run delicate-seal-790 at: http://127.0.0.1:8081/#/experiments/887994607810552918/runs/fb94cd8dc7804c5b9f8a26fc1c97f679\n",
      "🧪 View experiment at: http://127.0.0.1:8081/#/experiments/887994607810552918\n"
     ]
    },
    {
     "data": {
      "application/vnd.jupyter.widget-view+json": {
       "model_id": "91ab7d7312b34e90b050df8aef6da9c9",
       "version_major": 2,
       "version_minor": 0
      },
      "text/plain": [
       "Predicting: 35it [00:00, ?it/s]"
      ]
     },
     "metadata": {},
     "output_type": "display_data"
    },
    {
     "name": "stderr",
     "output_type": "stream",
     "text": [
      "INFO:src.models.gnet:Predictions for test.\n",
      "LOCAL_RANK: 0 - CUDA_VISIBLE_DEVICES: [0,1,2,3]\n"
     ]
    },
    {
     "name": "stdout",
     "output_type": "stream",
     "text": [
      "🏃 View run delicate-seal-790 at: http://127.0.0.1:8081/#/experiments/887994607810552918/runs/fb94cd8dc7804c5b9f8a26fc1c97f679\n",
      "🧪 View experiment at: http://127.0.0.1:8081/#/experiments/887994607810552918\n"
     ]
    },
    {
     "data": {
      "application/vnd.jupyter.widget-view+json": {
       "model_id": "f0c2df04ed364abaa6f97d37b0b750b6",
       "version_major": 2,
       "version_minor": 0
      },
      "text/plain": [
       "Predicting: 35it [00:00, ?it/s]"
      ]
     },
     "metadata": {},
     "output_type": "display_data"
    },
    {
     "name": "stderr",
     "output_type": "stream",
     "text": [
      "INFO:src.models.gnet:Predictions for test.\n",
      "LOCAL_RANK: 0 - CUDA_VISIBLE_DEVICES: [0,1,2,3]\n"
     ]
    },
    {
     "name": "stdout",
     "output_type": "stream",
     "text": [
      "🏃 View run delicate-seal-790 at: http://127.0.0.1:8081/#/experiments/887994607810552918/runs/fb94cd8dc7804c5b9f8a26fc1c97f679\n",
      "🧪 View experiment at: http://127.0.0.1:8081/#/experiments/887994607810552918\n"
     ]
    },
    {
     "data": {
      "application/vnd.jupyter.widget-view+json": {
       "model_id": "f2e5efb8ad6546edbb070e30dd4d24a4",
       "version_major": 2,
       "version_minor": 0
      },
      "text/plain": [
       "Predicting: 35it [00:00, ?it/s]"
      ]
     },
     "metadata": {},
     "output_type": "display_data"
    },
    {
     "name": "stderr",
     "output_type": "stream",
     "text": [
      "INFO:src.models.gnet:Predictions for test.\n",
      "LOCAL_RANK: 0 - CUDA_VISIBLE_DEVICES: [0,1,2,3]\n"
     ]
    },
    {
     "name": "stdout",
     "output_type": "stream",
     "text": [
      "🏃 View run delicate-seal-790 at: http://127.0.0.1:8081/#/experiments/887994607810552918/runs/fb94cd8dc7804c5b9f8a26fc1c97f679\n",
      "🧪 View experiment at: http://127.0.0.1:8081/#/experiments/887994607810552918\n"
     ]
    },
    {
     "data": {
      "application/vnd.jupyter.widget-view+json": {
       "model_id": "b2d2e28a5326482098acace46a60d7ef",
       "version_major": 2,
       "version_minor": 0
      },
      "text/plain": [
       "Predicting: 35it [00:00, ?it/s]"
      ]
     },
     "metadata": {},
     "output_type": "display_data"
    },
    {
     "name": "stderr",
     "output_type": "stream",
     "text": [
      "INFO:src.models.gnet:Predictions for test.\n",
      "LOCAL_RANK: 0 - CUDA_VISIBLE_DEVICES: [0,1,2,3]\n"
     ]
    },
    {
     "name": "stdout",
     "output_type": "stream",
     "text": [
      "🏃 View run delicate-seal-790 at: http://127.0.0.1:8081/#/experiments/887994607810552918/runs/fb94cd8dc7804c5b9f8a26fc1c97f679\n",
      "🧪 View experiment at: http://127.0.0.1:8081/#/experiments/887994607810552918\n"
     ]
    },
    {
     "data": {
      "application/vnd.jupyter.widget-view+json": {
       "model_id": "3472e5f0d5624e9b9017df0f0d23e374",
       "version_major": 2,
       "version_minor": 0
      },
      "text/plain": [
       "Predicting: 35it [00:00, ?it/s]"
      ]
     },
     "metadata": {},
     "output_type": "display_data"
    },
    {
     "name": "stderr",
     "output_type": "stream",
     "text": [
      "INFO:src.models.gnet:Predictions for test.\n",
      "LOCAL_RANK: 0 - CUDA_VISIBLE_DEVICES: [0,1,2,3]\n"
     ]
    },
    {
     "name": "stdout",
     "output_type": "stream",
     "text": [
      "🏃 View run delicate-seal-790 at: http://127.0.0.1:8081/#/experiments/887994607810552918/runs/fb94cd8dc7804c5b9f8a26fc1c97f679\n",
      "🧪 View experiment at: http://127.0.0.1:8081/#/experiments/887994607810552918\n"
     ]
    },
    {
     "data": {
      "application/vnd.jupyter.widget-view+json": {
       "model_id": "39256a72c472404bb298c75b640c25d7",
       "version_major": 2,
       "version_minor": 0
      },
      "text/plain": [
       "Predicting: 35it [00:00, ?it/s]"
      ]
     },
     "metadata": {},
     "output_type": "display_data"
    },
    {
     "name": "stderr",
     "output_type": "stream",
     "text": [
      "INFO:src.models.gnet:Predictions for test.\n",
      "LOCAL_RANK: 0 - CUDA_VISIBLE_DEVICES: [0,1,2,3]\n"
     ]
    },
    {
     "name": "stdout",
     "output_type": "stream",
     "text": [
      "🏃 View run delicate-seal-790 at: http://127.0.0.1:8081/#/experiments/887994607810552918/runs/fb94cd8dc7804c5b9f8a26fc1c97f679\n",
      "🧪 View experiment at: http://127.0.0.1:8081/#/experiments/887994607810552918\n"
     ]
    },
    {
     "data": {
      "application/vnd.jupyter.widget-view+json": {
       "model_id": "526294f2dcac4eda981fe97921f9faf7",
       "version_major": 2,
       "version_minor": 0
      },
      "text/plain": [
       "Predicting: 35it [00:00, ?it/s]"
      ]
     },
     "metadata": {},
     "output_type": "display_data"
    },
    {
     "name": "stderr",
     "output_type": "stream",
     "text": [
      "INFO:src.models.gnet:Predictions for test.\n",
      "LOCAL_RANK: 0 - CUDA_VISIBLE_DEVICES: [0,1,2,3]\n"
     ]
    },
    {
     "name": "stdout",
     "output_type": "stream",
     "text": [
      "🏃 View run delicate-seal-790 at: http://127.0.0.1:8081/#/experiments/887994607810552918/runs/fb94cd8dc7804c5b9f8a26fc1c97f679\n",
      "🧪 View experiment at: http://127.0.0.1:8081/#/experiments/887994607810552918\n"
     ]
    },
    {
     "data": {
      "application/vnd.jupyter.widget-view+json": {
       "model_id": "d7384a54ce2843c5b2f30c1f90f902cf",
       "version_major": 2,
       "version_minor": 0
      },
      "text/plain": [
       "Predicting: 35it [00:00, ?it/s]"
      ]
     },
     "metadata": {},
     "output_type": "display_data"
    },
    {
     "name": "stderr",
     "output_type": "stream",
     "text": [
      "INFO:src.models.gnet:Predictions for test.\n",
      "LOCAL_RANK: 0 - CUDA_VISIBLE_DEVICES: [0,1,2,3]\n"
     ]
    },
    {
     "name": "stdout",
     "output_type": "stream",
     "text": [
      "🏃 View run delicate-seal-790 at: http://127.0.0.1:8081/#/experiments/887994607810552918/runs/fb94cd8dc7804c5b9f8a26fc1c97f679\n",
      "🧪 View experiment at: http://127.0.0.1:8081/#/experiments/887994607810552918\n"
     ]
    },
    {
     "data": {
      "application/vnd.jupyter.widget-view+json": {
       "model_id": "379016064dea457c9bfa6e0fd54fbaf5",
       "version_major": 2,
       "version_minor": 0
      },
      "text/plain": [
       "Predicting: 35it [00:00, ?it/s]"
      ]
     },
     "metadata": {},
     "output_type": "display_data"
    },
    {
     "name": "stderr",
     "output_type": "stream",
     "text": [
      "INFO:src.models.gnet:Predictions for test.\n",
      "LOCAL_RANK: 0 - CUDA_VISIBLE_DEVICES: [0,1,2,3]\n"
     ]
    },
    {
     "name": "stdout",
     "output_type": "stream",
     "text": [
      "🏃 View run delicate-seal-790 at: http://127.0.0.1:8081/#/experiments/887994607810552918/runs/fb94cd8dc7804c5b9f8a26fc1c97f679\n",
      "🧪 View experiment at: http://127.0.0.1:8081/#/experiments/887994607810552918\n"
     ]
    },
    {
     "data": {
      "application/vnd.jupyter.widget-view+json": {
       "model_id": "a87c2685e07646a499e5fc953b057053",
       "version_major": 2,
       "version_minor": 0
      },
      "text/plain": [
       "Predicting: 35it [00:00, ?it/s]"
      ]
     },
     "metadata": {},
     "output_type": "display_data"
    },
    {
     "name": "stderr",
     "output_type": "stream",
     "text": [
      "INFO:src.models.gnet:Predictions for test.\n",
      "LOCAL_RANK: 0 - CUDA_VISIBLE_DEVICES: [0,1,2,3]\n"
     ]
    },
    {
     "name": "stdout",
     "output_type": "stream",
     "text": [
      "🏃 View run delicate-seal-790 at: http://127.0.0.1:8081/#/experiments/887994607810552918/runs/fb94cd8dc7804c5b9f8a26fc1c97f679\n",
      "🧪 View experiment at: http://127.0.0.1:8081/#/experiments/887994607810552918\n"
     ]
    },
    {
     "data": {
      "application/vnd.jupyter.widget-view+json": {
       "model_id": "b8c8a6c382aa4682ba68522244102824",
       "version_major": 2,
       "version_minor": 0
      },
      "text/plain": [
       "Predicting: 35it [00:00, ?it/s]"
      ]
     },
     "metadata": {},
     "output_type": "display_data"
    },
    {
     "name": "stderr",
     "output_type": "stream",
     "text": [
      "INFO:src.models.gnet:Predictions for test.\n",
      "LOCAL_RANK: 0 - CUDA_VISIBLE_DEVICES: [0,1,2,3]\n"
     ]
    },
    {
     "name": "stdout",
     "output_type": "stream",
     "text": [
      "🏃 View run delicate-seal-790 at: http://127.0.0.1:8081/#/experiments/887994607810552918/runs/fb94cd8dc7804c5b9f8a26fc1c97f679\n",
      "🧪 View experiment at: http://127.0.0.1:8081/#/experiments/887994607810552918\n"
     ]
    },
    {
     "data": {
      "application/vnd.jupyter.widget-view+json": {
       "model_id": "06320544b9ab4a78adddda64a61b4bdb",
       "version_major": 2,
       "version_minor": 0
      },
      "text/plain": [
       "Predicting: 35it [00:00, ?it/s]"
      ]
     },
     "metadata": {},
     "output_type": "display_data"
    },
    {
     "name": "stderr",
     "output_type": "stream",
     "text": [
      "INFO:src.models.gnet:Predictions for test.\n",
      "LOCAL_RANK: 0 - CUDA_VISIBLE_DEVICES: [0,1,2,3]\n"
     ]
    },
    {
     "name": "stdout",
     "output_type": "stream",
     "text": [
      "🏃 View run delicate-seal-790 at: http://127.0.0.1:8081/#/experiments/887994607810552918/runs/fb94cd8dc7804c5b9f8a26fc1c97f679\n",
      "🧪 View experiment at: http://127.0.0.1:8081/#/experiments/887994607810552918\n"
     ]
    },
    {
     "data": {
      "application/vnd.jupyter.widget-view+json": {
       "model_id": "6a3d4991c10f4a588e9a3a280997b73f",
       "version_major": 2,
       "version_minor": 0
      },
      "text/plain": [
       "Predicting: 35it [00:00, ?it/s]"
      ]
     },
     "metadata": {},
     "output_type": "display_data"
    },
    {
     "name": "stderr",
     "output_type": "stream",
     "text": [
      "INFO:src.models.gnet:Predictions for test.\n",
      "LOCAL_RANK: 0 - CUDA_VISIBLE_DEVICES: [0,1,2,3]\n"
     ]
    },
    {
     "name": "stdout",
     "output_type": "stream",
     "text": [
      "🏃 View run delicate-seal-790 at: http://127.0.0.1:8081/#/experiments/887994607810552918/runs/fb94cd8dc7804c5b9f8a26fc1c97f679\n",
      "🧪 View experiment at: http://127.0.0.1:8081/#/experiments/887994607810552918\n"
     ]
    },
    {
     "data": {
      "application/vnd.jupyter.widget-view+json": {
       "model_id": "74fb97bb85d84e5c9eea1ce847ada93c",
       "version_major": 2,
       "version_minor": 0
      },
      "text/plain": [
       "Predicting: 35it [00:00, ?it/s]"
      ]
     },
     "metadata": {},
     "output_type": "display_data"
    },
    {
     "name": "stderr",
     "output_type": "stream",
     "text": [
      "INFO:src.models.gnet:Predictions for test.\n",
      "LOCAL_RANK: 0 - CUDA_VISIBLE_DEVICES: [0,1,2,3]\n"
     ]
    },
    {
     "name": "stdout",
     "output_type": "stream",
     "text": [
      "🏃 View run delicate-seal-790 at: http://127.0.0.1:8081/#/experiments/887994607810552918/runs/fb94cd8dc7804c5b9f8a26fc1c97f679\n",
      "🧪 View experiment at: http://127.0.0.1:8081/#/experiments/887994607810552918\n"
     ]
    },
    {
     "data": {
      "application/vnd.jupyter.widget-view+json": {
       "model_id": "0523df11ecf347a1a4e7bf0c7796919b",
       "version_major": 2,
       "version_minor": 0
      },
      "text/plain": [
       "Predicting: 35it [00:00, ?it/s]"
      ]
     },
     "metadata": {},
     "output_type": "display_data"
    },
    {
     "name": "stderr",
     "output_type": "stream",
     "text": [
      "INFO:src.models.gnet:Predictions for test.\n",
      "LOCAL_RANK: 0 - CUDA_VISIBLE_DEVICES: [0,1,2,3]\n"
     ]
    },
    {
     "name": "stdout",
     "output_type": "stream",
     "text": [
      "🏃 View run delicate-seal-790 at: http://127.0.0.1:8081/#/experiments/887994607810552918/runs/fb94cd8dc7804c5b9f8a26fc1c97f679\n",
      "🧪 View experiment at: http://127.0.0.1:8081/#/experiments/887994607810552918\n"
     ]
    },
    {
     "data": {
      "application/vnd.jupyter.widget-view+json": {
       "model_id": "a479a50b0bae47bea9619377eff1126d",
       "version_major": 2,
       "version_minor": 0
      },
      "text/plain": [
       "Predicting: 35it [00:00, ?it/s]"
      ]
     },
     "metadata": {},
     "output_type": "display_data"
    },
    {
     "name": "stderr",
     "output_type": "stream",
     "text": [
      "INFO:src.models.gnet:Predictions for test.\n",
      "LOCAL_RANK: 0 - CUDA_VISIBLE_DEVICES: [0,1,2,3]\n"
     ]
    },
    {
     "name": "stdout",
     "output_type": "stream",
     "text": [
      "🏃 View run delicate-seal-790 at: http://127.0.0.1:8081/#/experiments/887994607810552918/runs/fb94cd8dc7804c5b9f8a26fc1c97f679\n",
      "🧪 View experiment at: http://127.0.0.1:8081/#/experiments/887994607810552918\n"
     ]
    },
    {
     "data": {
      "application/vnd.jupyter.widget-view+json": {
       "model_id": "20c9b1a98c6b4a9a8b2ef7a62b11c7a2",
       "version_major": 2,
       "version_minor": 0
      },
      "text/plain": [
       "Predicting: 35it [00:00, ?it/s]"
      ]
     },
     "metadata": {},
     "output_type": "display_data"
    },
    {
     "name": "stderr",
     "output_type": "stream",
     "text": [
      "INFO:src.models.gnet:Predictions for test.\n",
      "LOCAL_RANK: 0 - CUDA_VISIBLE_DEVICES: [0,1,2,3]\n"
     ]
    },
    {
     "name": "stdout",
     "output_type": "stream",
     "text": [
      "🏃 View run delicate-seal-790 at: http://127.0.0.1:8081/#/experiments/887994607810552918/runs/fb94cd8dc7804c5b9f8a26fc1c97f679\n",
      "🧪 View experiment at: http://127.0.0.1:8081/#/experiments/887994607810552918\n"
     ]
    },
    {
     "data": {
      "application/vnd.jupyter.widget-view+json": {
       "model_id": "3bd352086a7544f3be46ffd45ac869a8",
       "version_major": 2,
       "version_minor": 0
      },
      "text/plain": [
       "Predicting: 35it [00:00, ?it/s]"
      ]
     },
     "metadata": {},
     "output_type": "display_data"
    },
    {
     "name": "stderr",
     "output_type": "stream",
     "text": [
      "INFO:src.models.gnet:Predictions for test.\n",
      "LOCAL_RANK: 0 - CUDA_VISIBLE_DEVICES: [0,1,2,3]\n"
     ]
    },
    {
     "name": "stdout",
     "output_type": "stream",
     "text": [
      "🏃 View run delicate-seal-790 at: http://127.0.0.1:8081/#/experiments/887994607810552918/runs/fb94cd8dc7804c5b9f8a26fc1c97f679\n",
      "🧪 View experiment at: http://127.0.0.1:8081/#/experiments/887994607810552918\n"
     ]
    },
    {
     "data": {
      "application/vnd.jupyter.widget-view+json": {
       "model_id": "ef75fb01c6464fc59bb6a3bf3e7c816d",
       "version_major": 2,
       "version_minor": 0
      },
      "text/plain": [
       "Predicting: 35it [00:00, ?it/s]"
      ]
     },
     "metadata": {},
     "output_type": "display_data"
    },
    {
     "name": "stderr",
     "output_type": "stream",
     "text": [
      "INFO:src.models.gnet:Predictions for test.\n",
      "LOCAL_RANK: 0 - CUDA_VISIBLE_DEVICES: [0,1,2,3]\n"
     ]
    },
    {
     "name": "stdout",
     "output_type": "stream",
     "text": [
      "🏃 View run delicate-seal-790 at: http://127.0.0.1:8081/#/experiments/887994607810552918/runs/fb94cd8dc7804c5b9f8a26fc1c97f679\n",
      "🧪 View experiment at: http://127.0.0.1:8081/#/experiments/887994607810552918\n"
     ]
    },
    {
     "data": {
      "application/vnd.jupyter.widget-view+json": {
       "model_id": "c7a41e9e12364ca9ab363142b76eb0d3",
       "version_major": 2,
       "version_minor": 0
      },
      "text/plain": [
       "Predicting: 35it [00:00, ?it/s]"
      ]
     },
     "metadata": {},
     "output_type": "display_data"
    },
    {
     "name": "stderr",
     "output_type": "stream",
     "text": [
      "INFO:src.models.gnet:Predictions for test.\n",
      "LOCAL_RANK: 0 - CUDA_VISIBLE_DEVICES: [0,1,2,3]\n"
     ]
    },
    {
     "name": "stdout",
     "output_type": "stream",
     "text": [
      "🏃 View run delicate-seal-790 at: http://127.0.0.1:8081/#/experiments/887994607810552918/runs/fb94cd8dc7804c5b9f8a26fc1c97f679\n",
      "🧪 View experiment at: http://127.0.0.1:8081/#/experiments/887994607810552918\n"
     ]
    },
    {
     "data": {
      "application/vnd.jupyter.widget-view+json": {
       "model_id": "deb009e0ad044bada05e5fcdeac010f3",
       "version_major": 2,
       "version_minor": 0
      },
      "text/plain": [
       "Predicting: 35it [00:00, ?it/s]"
      ]
     },
     "metadata": {},
     "output_type": "display_data"
    },
    {
     "name": "stderr",
     "output_type": "stream",
     "text": [
      "INFO:src.models.gnet:Predictions for test.\n",
      "LOCAL_RANK: 0 - CUDA_VISIBLE_DEVICES: [0,1,2,3]\n"
     ]
    },
    {
     "name": "stdout",
     "output_type": "stream",
     "text": [
      "🏃 View run delicate-seal-790 at: http://127.0.0.1:8081/#/experiments/887994607810552918/runs/fb94cd8dc7804c5b9f8a26fc1c97f679\n",
      "🧪 View experiment at: http://127.0.0.1:8081/#/experiments/887994607810552918\n"
     ]
    },
    {
     "data": {
      "application/vnd.jupyter.widget-view+json": {
       "model_id": "84d85c2484224fbd8eb39e6e9d23ebbe",
       "version_major": 2,
       "version_minor": 0
      },
      "text/plain": [
       "Predicting: 35it [00:00, ?it/s]"
      ]
     },
     "metadata": {},
     "output_type": "display_data"
    },
    {
     "name": "stderr",
     "output_type": "stream",
     "text": [
      "INFO:src.models.gnet:Predictions for test.\n",
      "LOCAL_RANK: 0 - CUDA_VISIBLE_DEVICES: [0,1,2,3]\n"
     ]
    },
    {
     "name": "stdout",
     "output_type": "stream",
     "text": [
      "🏃 View run delicate-seal-790 at: http://127.0.0.1:8081/#/experiments/887994607810552918/runs/fb94cd8dc7804c5b9f8a26fc1c97f679\n",
      "🧪 View experiment at: http://127.0.0.1:8081/#/experiments/887994607810552918\n"
     ]
    },
    {
     "data": {
      "application/vnd.jupyter.widget-view+json": {
       "model_id": "ef5b40f5ab194bb9bdc98a1e0fb8b7f0",
       "version_major": 2,
       "version_minor": 0
      },
      "text/plain": [
       "Predicting: 35it [00:00, ?it/s]"
      ]
     },
     "metadata": {},
     "output_type": "display_data"
    },
    {
     "name": "stderr",
     "output_type": "stream",
     "text": [
      "INFO:src.models.gnet:Predictions for test.\n",
      "LOCAL_RANK: 0 - CUDA_VISIBLE_DEVICES: [0,1,2,3]\n"
     ]
    },
    {
     "name": "stdout",
     "output_type": "stream",
     "text": [
      "🏃 View run delicate-seal-790 at: http://127.0.0.1:8081/#/experiments/887994607810552918/runs/fb94cd8dc7804c5b9f8a26fc1c97f679\n",
      "🧪 View experiment at: http://127.0.0.1:8081/#/experiments/887994607810552918\n"
     ]
    },
    {
     "data": {
      "application/vnd.jupyter.widget-view+json": {
       "model_id": "4830b3086bbf467c8a2dd3cd977d4adc",
       "version_major": 2,
       "version_minor": 0
      },
      "text/plain": [
       "Predicting: 35it [00:00, ?it/s]"
      ]
     },
     "metadata": {},
     "output_type": "display_data"
    },
    {
     "name": "stderr",
     "output_type": "stream",
     "text": [
      "INFO:src.models.gnet:Predictions for test.\n",
      "LOCAL_RANK: 0 - CUDA_VISIBLE_DEVICES: [0,1,2,3]\n"
     ]
    },
    {
     "name": "stdout",
     "output_type": "stream",
     "text": [
      "🏃 View run delicate-seal-790 at: http://127.0.0.1:8081/#/experiments/887994607810552918/runs/fb94cd8dc7804c5b9f8a26fc1c97f679\n",
      "🧪 View experiment at: http://127.0.0.1:8081/#/experiments/887994607810552918\n"
     ]
    },
    {
     "data": {
      "application/vnd.jupyter.widget-view+json": {
       "model_id": "56d1d15c9b674ce5aaa16ec937a75aef",
       "version_major": 2,
       "version_minor": 0
      },
      "text/plain": [
       "Predicting: 35it [00:00, ?it/s]"
      ]
     },
     "metadata": {},
     "output_type": "display_data"
    },
    {
     "name": "stderr",
     "output_type": "stream",
     "text": [
      "INFO:src.models.gnet:Predictions for test.\n",
      "LOCAL_RANK: 0 - CUDA_VISIBLE_DEVICES: [0,1,2,3]\n"
     ]
    },
    {
     "name": "stdout",
     "output_type": "stream",
     "text": [
      "🏃 View run delicate-seal-790 at: http://127.0.0.1:8081/#/experiments/887994607810552918/runs/fb94cd8dc7804c5b9f8a26fc1c97f679\n",
      "🧪 View experiment at: http://127.0.0.1:8081/#/experiments/887994607810552918\n"
     ]
    },
    {
     "data": {
      "application/vnd.jupyter.widget-view+json": {
       "model_id": "3ef90ce537144bcd8277390d93485ba1",
       "version_major": 2,
       "version_minor": 0
      },
      "text/plain": [
       "Predicting: 35it [00:00, ?it/s]"
      ]
     },
     "metadata": {},
     "output_type": "display_data"
    },
    {
     "name": "stderr",
     "output_type": "stream",
     "text": [
      "INFO:src.models.gnet:Predictions for test.\n",
      "LOCAL_RANK: 0 - CUDA_VISIBLE_DEVICES: [0,1,2,3]\n"
     ]
    },
    {
     "name": "stdout",
     "output_type": "stream",
     "text": [
      "🏃 View run delicate-seal-790 at: http://127.0.0.1:8081/#/experiments/887994607810552918/runs/fb94cd8dc7804c5b9f8a26fc1c97f679\n",
      "🧪 View experiment at: http://127.0.0.1:8081/#/experiments/887994607810552918\n"
     ]
    },
    {
     "data": {
      "application/vnd.jupyter.widget-view+json": {
       "model_id": "f676d4d19b0f410dbbca310422df9a36",
       "version_major": 2,
       "version_minor": 0
      },
      "text/plain": [
       "Predicting: 35it [00:00, ?it/s]"
      ]
     },
     "metadata": {},
     "output_type": "display_data"
    },
    {
     "name": "stderr",
     "output_type": "stream",
     "text": [
      "INFO:src.models.gnet:Predictions for test.\n",
      "LOCAL_RANK: 0 - CUDA_VISIBLE_DEVICES: [0,1,2,3]\n"
     ]
    },
    {
     "name": "stdout",
     "output_type": "stream",
     "text": [
      "🏃 View run delicate-seal-790 at: http://127.0.0.1:8081/#/experiments/887994607810552918/runs/fb94cd8dc7804c5b9f8a26fc1c97f679\n",
      "🧪 View experiment at: http://127.0.0.1:8081/#/experiments/887994607810552918\n"
     ]
    },
    {
     "data": {
      "application/vnd.jupyter.widget-view+json": {
       "model_id": "ec2a5706c4d64789add116023df7870b",
       "version_major": 2,
       "version_minor": 0
      },
      "text/plain": [
       "Predicting: 35it [00:00, ?it/s]"
      ]
     },
     "metadata": {},
     "output_type": "display_data"
    },
    {
     "name": "stderr",
     "output_type": "stream",
     "text": [
      "INFO:src.models.gnet:Predictions for test.\n",
      "LOCAL_RANK: 0 - CUDA_VISIBLE_DEVICES: [0,1,2,3]\n"
     ]
    },
    {
     "name": "stdout",
     "output_type": "stream",
     "text": [
      "🏃 View run delicate-seal-790 at: http://127.0.0.1:8081/#/experiments/887994607810552918/runs/fb94cd8dc7804c5b9f8a26fc1c97f679\n",
      "🧪 View experiment at: http://127.0.0.1:8081/#/experiments/887994607810552918\n"
     ]
    },
    {
     "data": {
      "application/vnd.jupyter.widget-view+json": {
       "model_id": "ea868a2f82a54ffd84de6571431d478c",
       "version_major": 2,
       "version_minor": 0
      },
      "text/plain": [
       "Predicting: 35it [00:00, ?it/s]"
      ]
     },
     "metadata": {},
     "output_type": "display_data"
    },
    {
     "name": "stderr",
     "output_type": "stream",
     "text": [
      "INFO:src.models.gnet:Predictions for test.\n",
      "LOCAL_RANK: 0 - CUDA_VISIBLE_DEVICES: [0,1,2,3]\n"
     ]
    },
    {
     "name": "stdout",
     "output_type": "stream",
     "text": [
      "🏃 View run delicate-seal-790 at: http://127.0.0.1:8081/#/experiments/887994607810552918/runs/fb94cd8dc7804c5b9f8a26fc1c97f679\n",
      "🧪 View experiment at: http://127.0.0.1:8081/#/experiments/887994607810552918\n"
     ]
    },
    {
     "data": {
      "application/vnd.jupyter.widget-view+json": {
       "model_id": "bdcef71174c24742b2286b15d9c93ea0",
       "version_major": 2,
       "version_minor": 0
      },
      "text/plain": [
       "Predicting: 35it [00:00, ?it/s]"
      ]
     },
     "metadata": {},
     "output_type": "display_data"
    },
    {
     "name": "stderr",
     "output_type": "stream",
     "text": [
      "INFO:src.models.gnet:Predictions for test.\n",
      "LOCAL_RANK: 0 - CUDA_VISIBLE_DEVICES: [0,1,2,3]\n"
     ]
    },
    {
     "name": "stdout",
     "output_type": "stream",
     "text": [
      "🏃 View run delicate-seal-790 at: http://127.0.0.1:8081/#/experiments/887994607810552918/runs/fb94cd8dc7804c5b9f8a26fc1c97f679\n",
      "🧪 View experiment at: http://127.0.0.1:8081/#/experiments/887994607810552918\n"
     ]
    },
    {
     "data": {
      "application/vnd.jupyter.widget-view+json": {
       "model_id": "c435ce10523649ffb19fcd8ee26e7dde",
       "version_major": 2,
       "version_minor": 0
      },
      "text/plain": [
       "Predicting: 35it [00:00, ?it/s]"
      ]
     },
     "metadata": {},
     "output_type": "display_data"
    },
    {
     "name": "stderr",
     "output_type": "stream",
     "text": [
      "INFO:src.models.gnet:Predictions for test.\n",
      "LOCAL_RANK: 0 - CUDA_VISIBLE_DEVICES: [0,1,2,3]\n"
     ]
    },
    {
     "name": "stdout",
     "output_type": "stream",
     "text": [
      "🏃 View run delicate-seal-790 at: http://127.0.0.1:8081/#/experiments/887994607810552918/runs/fb94cd8dc7804c5b9f8a26fc1c97f679\n",
      "🧪 View experiment at: http://127.0.0.1:8081/#/experiments/887994607810552918\n"
     ]
    },
    {
     "data": {
      "application/vnd.jupyter.widget-view+json": {
       "model_id": "80d26175343c43f89efcc68ab7a5f945",
       "version_major": 2,
       "version_minor": 0
      },
      "text/plain": [
       "Predicting: 35it [00:00, ?it/s]"
      ]
     },
     "metadata": {},
     "output_type": "display_data"
    },
    {
     "name": "stderr",
     "output_type": "stream",
     "text": [
      "INFO:src.models.gnet:Predictions for test.\n",
      "LOCAL_RANK: 0 - CUDA_VISIBLE_DEVICES: [0,1,2,3]\n"
     ]
    },
    {
     "name": "stdout",
     "output_type": "stream",
     "text": [
      "🏃 View run delicate-seal-790 at: http://127.0.0.1:8081/#/experiments/887994607810552918/runs/fb94cd8dc7804c5b9f8a26fc1c97f679\n",
      "🧪 View experiment at: http://127.0.0.1:8081/#/experiments/887994607810552918\n"
     ]
    },
    {
     "data": {
      "application/vnd.jupyter.widget-view+json": {
       "model_id": "5646fb176860451d9c9490db6e1bae1e",
       "version_major": 2,
       "version_minor": 0
      },
      "text/plain": [
       "Predicting: 35it [00:00, ?it/s]"
      ]
     },
     "metadata": {},
     "output_type": "display_data"
    },
    {
     "name": "stderr",
     "output_type": "stream",
     "text": [
      "INFO:src.models.gnet:Predictions for test.\n",
      "LOCAL_RANK: 0 - CUDA_VISIBLE_DEVICES: [0,1,2,3]\n"
     ]
    },
    {
     "name": "stdout",
     "output_type": "stream",
     "text": [
      "🏃 View run delicate-seal-790 at: http://127.0.0.1:8081/#/experiments/887994607810552918/runs/fb94cd8dc7804c5b9f8a26fc1c97f679\n",
      "🧪 View experiment at: http://127.0.0.1:8081/#/experiments/887994607810552918\n"
     ]
    },
    {
     "data": {
      "application/vnd.jupyter.widget-view+json": {
       "model_id": "02d983dcff6d432c90646cb5ef5251c9",
       "version_major": 2,
       "version_minor": 0
      },
      "text/plain": [
       "Predicting: 35it [00:00, ?it/s]"
      ]
     },
     "metadata": {},
     "output_type": "display_data"
    },
    {
     "name": "stderr",
     "output_type": "stream",
     "text": [
      "INFO:src.models.gnet:Predictions for test.\n",
      "LOCAL_RANK: 0 - CUDA_VISIBLE_DEVICES: [0,1,2,3]\n"
     ]
    },
    {
     "name": "stdout",
     "output_type": "stream",
     "text": [
      "🏃 View run delicate-seal-790 at: http://127.0.0.1:8081/#/experiments/887994607810552918/runs/fb94cd8dc7804c5b9f8a26fc1c97f679\n",
      "🧪 View experiment at: http://127.0.0.1:8081/#/experiments/887994607810552918\n"
     ]
    },
    {
     "data": {
      "application/vnd.jupyter.widget-view+json": {
       "model_id": "f56ed0378ede4a2eba89df40c8297b3e",
       "version_major": 2,
       "version_minor": 0
      },
      "text/plain": [
       "Predicting: 35it [00:00, ?it/s]"
      ]
     },
     "metadata": {},
     "output_type": "display_data"
    },
    {
     "name": "stderr",
     "output_type": "stream",
     "text": [
      "INFO:src.models.gnet:Predictions for test.\n",
      "LOCAL_RANK: 0 - CUDA_VISIBLE_DEVICES: [0,1,2,3]\n"
     ]
    },
    {
     "name": "stdout",
     "output_type": "stream",
     "text": [
      "🏃 View run delicate-seal-790 at: http://127.0.0.1:8081/#/experiments/887994607810552918/runs/fb94cd8dc7804c5b9f8a26fc1c97f679\n",
      "🧪 View experiment at: http://127.0.0.1:8081/#/experiments/887994607810552918\n"
     ]
    },
    {
     "data": {
      "application/vnd.jupyter.widget-view+json": {
       "model_id": "01c6caa624694e0a8b3dcb5db4c9f61f",
       "version_major": 2,
       "version_minor": 0
      },
      "text/plain": [
       "Predicting: 35it [00:00, ?it/s]"
      ]
     },
     "metadata": {},
     "output_type": "display_data"
    },
    {
     "name": "stderr",
     "output_type": "stream",
     "text": [
      "INFO:src.models.gnet:Predictions for test.\n",
      "LOCAL_RANK: 0 - CUDA_VISIBLE_DEVICES: [0,1,2,3]\n"
     ]
    },
    {
     "name": "stdout",
     "output_type": "stream",
     "text": [
      "🏃 View run delicate-seal-790 at: http://127.0.0.1:8081/#/experiments/887994607810552918/runs/fb94cd8dc7804c5b9f8a26fc1c97f679\n",
      "🧪 View experiment at: http://127.0.0.1:8081/#/experiments/887994607810552918\n"
     ]
    },
    {
     "data": {
      "application/vnd.jupyter.widget-view+json": {
       "model_id": "a0965a5260be4fba8da589d08b668481",
       "version_major": 2,
       "version_minor": 0
      },
      "text/plain": [
       "Predicting: 35it [00:00, ?it/s]"
      ]
     },
     "metadata": {},
     "output_type": "display_data"
    },
    {
     "name": "stderr",
     "output_type": "stream",
     "text": [
      "INFO:src.models.gnet:Predictions for test.\n",
      "LOCAL_RANK: 0 - CUDA_VISIBLE_DEVICES: [0,1,2,3]\n"
     ]
    },
    {
     "name": "stdout",
     "output_type": "stream",
     "text": [
      "🏃 View run delicate-seal-790 at: http://127.0.0.1:8081/#/experiments/887994607810552918/runs/fb94cd8dc7804c5b9f8a26fc1c97f679\n",
      "🧪 View experiment at: http://127.0.0.1:8081/#/experiments/887994607810552918\n"
     ]
    },
    {
     "data": {
      "application/vnd.jupyter.widget-view+json": {
       "model_id": "8fde00cad2604e12bbaf2facf318fbc6",
       "version_major": 2,
       "version_minor": 0
      },
      "text/plain": [
       "Predicting: 35it [00:00, ?it/s]"
      ]
     },
     "metadata": {},
     "output_type": "display_data"
    },
    {
     "name": "stderr",
     "output_type": "stream",
     "text": [
      "INFO:src.models.gnet:Predictions for test.\n",
      "LOCAL_RANK: 0 - CUDA_VISIBLE_DEVICES: [0,1,2,3]\n"
     ]
    },
    {
     "name": "stdout",
     "output_type": "stream",
     "text": [
      "🏃 View run delicate-seal-790 at: http://127.0.0.1:8081/#/experiments/887994607810552918/runs/fb94cd8dc7804c5b9f8a26fc1c97f679\n",
      "🧪 View experiment at: http://127.0.0.1:8081/#/experiments/887994607810552918\n"
     ]
    },
    {
     "data": {
      "application/vnd.jupyter.widget-view+json": {
       "model_id": "01b0ef6800684a6cad7df620c46ced1a",
       "version_major": 2,
       "version_minor": 0
      },
      "text/plain": [
       "Predicting: 35it [00:00, ?it/s]"
      ]
     },
     "metadata": {},
     "output_type": "display_data"
    },
    {
     "name": "stderr",
     "output_type": "stream",
     "text": [
      "INFO:src.models.gnet:Predictions for test.\n",
      "LOCAL_RANK: 0 - CUDA_VISIBLE_DEVICES: [0,1,2,3]\n"
     ]
    },
    {
     "name": "stdout",
     "output_type": "stream",
     "text": [
      "🏃 View run delicate-seal-790 at: http://127.0.0.1:8081/#/experiments/887994607810552918/runs/fb94cd8dc7804c5b9f8a26fc1c97f679\n",
      "🧪 View experiment at: http://127.0.0.1:8081/#/experiments/887994607810552918\n"
     ]
    },
    {
     "data": {
      "application/vnd.jupyter.widget-view+json": {
       "model_id": "dc5638f378394bab97d5c61696a50750",
       "version_major": 2,
       "version_minor": 0
      },
      "text/plain": [
       "Predicting: 35it [00:00, ?it/s]"
      ]
     },
     "metadata": {},
     "output_type": "display_data"
    },
    {
     "name": "stderr",
     "output_type": "stream",
     "text": [
      "INFO:src.models.gnet:t = 2\n",
      "INFO:src.models.gnet:Predictions for test.\n",
      "LOCAL_RANK: 0 - CUDA_VISIBLE_DEVICES: [0,1,2,3]\n"
     ]
    },
    {
     "name": "stdout",
     "output_type": "stream",
     "text": [
      "🏃 View run delicate-seal-790 at: http://127.0.0.1:8081/#/experiments/887994607810552918/runs/fb94cd8dc7804c5b9f8a26fc1c97f679\n",
      "🧪 View experiment at: http://127.0.0.1:8081/#/experiments/887994607810552918\n"
     ]
    },
    {
     "data": {
      "application/vnd.jupyter.widget-view+json": {
       "model_id": "cbf198fd02f44d6a9840571e6060055f",
       "version_major": 2,
       "version_minor": 0
      },
      "text/plain": [
       "Predicting: 35it [00:00, ?it/s]"
      ]
     },
     "metadata": {},
     "output_type": "display_data"
    },
    {
     "name": "stderr",
     "output_type": "stream",
     "text": [
      "INFO:src.models.gnet:Predictions for test.\n",
      "LOCAL_RANK: 0 - CUDA_VISIBLE_DEVICES: [0,1,2,3]\n"
     ]
    },
    {
     "name": "stdout",
     "output_type": "stream",
     "text": [
      "🏃 View run delicate-seal-790 at: http://127.0.0.1:8081/#/experiments/887994607810552918/runs/fb94cd8dc7804c5b9f8a26fc1c97f679\n",
      "🧪 View experiment at: http://127.0.0.1:8081/#/experiments/887994607810552918\n"
     ]
    },
    {
     "data": {
      "application/vnd.jupyter.widget-view+json": {
       "model_id": "c07cb688020f4f8bb2bcb2ee07fa86a3",
       "version_major": 2,
       "version_minor": 0
      },
      "text/plain": [
       "Predicting: 35it [00:00, ?it/s]"
      ]
     },
     "metadata": {},
     "output_type": "display_data"
    },
    {
     "name": "stderr",
     "output_type": "stream",
     "text": [
      "INFO:src.models.gnet:Predictions for test.\n",
      "LOCAL_RANK: 0 - CUDA_VISIBLE_DEVICES: [0,1,2,3]\n"
     ]
    },
    {
     "name": "stdout",
     "output_type": "stream",
     "text": [
      "🏃 View run delicate-seal-790 at: http://127.0.0.1:8081/#/experiments/887994607810552918/runs/fb94cd8dc7804c5b9f8a26fc1c97f679\n",
      "🧪 View experiment at: http://127.0.0.1:8081/#/experiments/887994607810552918\n"
     ]
    },
    {
     "data": {
      "application/vnd.jupyter.widget-view+json": {
       "model_id": "23df8d3be71b44ea9a70adb63a89c979",
       "version_major": 2,
       "version_minor": 0
      },
      "text/plain": [
       "Predicting: 35it [00:00, ?it/s]"
      ]
     },
     "metadata": {},
     "output_type": "display_data"
    },
    {
     "name": "stderr",
     "output_type": "stream",
     "text": [
      "INFO:src.models.gnet:Predictions for test.\n",
      "LOCAL_RANK: 0 - CUDA_VISIBLE_DEVICES: [0,1,2,3]\n"
     ]
    },
    {
     "name": "stdout",
     "output_type": "stream",
     "text": [
      "🏃 View run delicate-seal-790 at: http://127.0.0.1:8081/#/experiments/887994607810552918/runs/fb94cd8dc7804c5b9f8a26fc1c97f679\n",
      "🧪 View experiment at: http://127.0.0.1:8081/#/experiments/887994607810552918\n"
     ]
    },
    {
     "data": {
      "application/vnd.jupyter.widget-view+json": {
       "model_id": "53b284e3b3f1491f85a7b11ac7c1d64b",
       "version_major": 2,
       "version_minor": 0
      },
      "text/plain": [
       "Predicting: 35it [00:00, ?it/s]"
      ]
     },
     "metadata": {},
     "output_type": "display_data"
    },
    {
     "name": "stderr",
     "output_type": "stream",
     "text": [
      "INFO:src.models.gnet:Predictions for test.\n",
      "LOCAL_RANK: 0 - CUDA_VISIBLE_DEVICES: [0,1,2,3]\n"
     ]
    },
    {
     "name": "stdout",
     "output_type": "stream",
     "text": [
      "🏃 View run delicate-seal-790 at: http://127.0.0.1:8081/#/experiments/887994607810552918/runs/fb94cd8dc7804c5b9f8a26fc1c97f679\n",
      "🧪 View experiment at: http://127.0.0.1:8081/#/experiments/887994607810552918\n"
     ]
    },
    {
     "data": {
      "application/vnd.jupyter.widget-view+json": {
       "model_id": "c76592363e1a473e994f186d4b856356",
       "version_major": 2,
       "version_minor": 0
      },
      "text/plain": [
       "Predicting: 35it [00:00, ?it/s]"
      ]
     },
     "metadata": {},
     "output_type": "display_data"
    },
    {
     "name": "stderr",
     "output_type": "stream",
     "text": [
      "INFO:src.models.gnet:Predictions for test.\n",
      "LOCAL_RANK: 0 - CUDA_VISIBLE_DEVICES: [0,1,2,3]\n"
     ]
    },
    {
     "name": "stdout",
     "output_type": "stream",
     "text": [
      "🏃 View run delicate-seal-790 at: http://127.0.0.1:8081/#/experiments/887994607810552918/runs/fb94cd8dc7804c5b9f8a26fc1c97f679\n",
      "🧪 View experiment at: http://127.0.0.1:8081/#/experiments/887994607810552918\n"
     ]
    },
    {
     "data": {
      "application/vnd.jupyter.widget-view+json": {
       "model_id": "f417546992fb40d29100293b7b92db1a",
       "version_major": 2,
       "version_minor": 0
      },
      "text/plain": [
       "Predicting: 35it [00:00, ?it/s]"
      ]
     },
     "metadata": {},
     "output_type": "display_data"
    },
    {
     "name": "stderr",
     "output_type": "stream",
     "text": [
      "INFO:src.models.gnet:Predictions for test.\n",
      "LOCAL_RANK: 0 - CUDA_VISIBLE_DEVICES: [0,1,2,3]\n"
     ]
    },
    {
     "name": "stdout",
     "output_type": "stream",
     "text": [
      "🏃 View run delicate-seal-790 at: http://127.0.0.1:8081/#/experiments/887994607810552918/runs/fb94cd8dc7804c5b9f8a26fc1c97f679\n",
      "🧪 View experiment at: http://127.0.0.1:8081/#/experiments/887994607810552918\n"
     ]
    },
    {
     "data": {
      "application/vnd.jupyter.widget-view+json": {
       "model_id": "8559ed0f89c7479c9ec23a077ae6b558",
       "version_major": 2,
       "version_minor": 0
      },
      "text/plain": [
       "Predicting: 35it [00:00, ?it/s]"
      ]
     },
     "metadata": {},
     "output_type": "display_data"
    },
    {
     "name": "stderr",
     "output_type": "stream",
     "text": [
      "INFO:src.models.gnet:Predictions for test.\n",
      "LOCAL_RANK: 0 - CUDA_VISIBLE_DEVICES: [0,1,2,3]\n"
     ]
    },
    {
     "name": "stdout",
     "output_type": "stream",
     "text": [
      "🏃 View run delicate-seal-790 at: http://127.0.0.1:8081/#/experiments/887994607810552918/runs/fb94cd8dc7804c5b9f8a26fc1c97f679\n",
      "🧪 View experiment at: http://127.0.0.1:8081/#/experiments/887994607810552918\n"
     ]
    },
    {
     "data": {
      "application/vnd.jupyter.widget-view+json": {
       "model_id": "09f9fc190eda48c19c9ebb40cc724b71",
       "version_major": 2,
       "version_minor": 0
      },
      "text/plain": [
       "Predicting: 35it [00:00, ?it/s]"
      ]
     },
     "metadata": {},
     "output_type": "display_data"
    },
    {
     "name": "stderr",
     "output_type": "stream",
     "text": [
      "INFO:src.models.gnet:Predictions for test.\n",
      "LOCAL_RANK: 0 - CUDA_VISIBLE_DEVICES: [0,1,2,3]\n"
     ]
    },
    {
     "name": "stdout",
     "output_type": "stream",
     "text": [
      "🏃 View run delicate-seal-790 at: http://127.0.0.1:8081/#/experiments/887994607810552918/runs/fb94cd8dc7804c5b9f8a26fc1c97f679\n",
      "🧪 View experiment at: http://127.0.0.1:8081/#/experiments/887994607810552918\n"
     ]
    },
    {
     "data": {
      "application/vnd.jupyter.widget-view+json": {
       "model_id": "728625f5646f48a382164e056c6ce21a",
       "version_major": 2,
       "version_minor": 0
      },
      "text/plain": [
       "Predicting: 35it [00:00, ?it/s]"
      ]
     },
     "metadata": {},
     "output_type": "display_data"
    },
    {
     "name": "stderr",
     "output_type": "stream",
     "text": [
      "INFO:src.models.gnet:Predictions for test.\n",
      "LOCAL_RANK: 0 - CUDA_VISIBLE_DEVICES: [0,1,2,3]\n"
     ]
    },
    {
     "name": "stdout",
     "output_type": "stream",
     "text": [
      "🏃 View run delicate-seal-790 at: http://127.0.0.1:8081/#/experiments/887994607810552918/runs/fb94cd8dc7804c5b9f8a26fc1c97f679\n",
      "🧪 View experiment at: http://127.0.0.1:8081/#/experiments/887994607810552918\n"
     ]
    },
    {
     "data": {
      "application/vnd.jupyter.widget-view+json": {
       "model_id": "20339d4ab3804ce39575aba5af6e0344",
       "version_major": 2,
       "version_minor": 0
      },
      "text/plain": [
       "Predicting: 35it [00:00, ?it/s]"
      ]
     },
     "metadata": {},
     "output_type": "display_data"
    },
    {
     "name": "stderr",
     "output_type": "stream",
     "text": [
      "INFO:src.models.gnet:Predictions for test.\n",
      "LOCAL_RANK: 0 - CUDA_VISIBLE_DEVICES: [0,1,2,3]\n"
     ]
    },
    {
     "name": "stdout",
     "output_type": "stream",
     "text": [
      "🏃 View run delicate-seal-790 at: http://127.0.0.1:8081/#/experiments/887994607810552918/runs/fb94cd8dc7804c5b9f8a26fc1c97f679\n",
      "🧪 View experiment at: http://127.0.0.1:8081/#/experiments/887994607810552918\n"
     ]
    },
    {
     "data": {
      "application/vnd.jupyter.widget-view+json": {
       "model_id": "e653536615a34488894e99845a9d29c1",
       "version_major": 2,
       "version_minor": 0
      },
      "text/plain": [
       "Predicting: 35it [00:00, ?it/s]"
      ]
     },
     "metadata": {},
     "output_type": "display_data"
    },
    {
     "name": "stderr",
     "output_type": "stream",
     "text": [
      "INFO:src.models.gnet:Predictions for test.\n",
      "LOCAL_RANK: 0 - CUDA_VISIBLE_DEVICES: [0,1,2,3]\n"
     ]
    },
    {
     "name": "stdout",
     "output_type": "stream",
     "text": [
      "🏃 View run delicate-seal-790 at: http://127.0.0.1:8081/#/experiments/887994607810552918/runs/fb94cd8dc7804c5b9f8a26fc1c97f679\n",
      "🧪 View experiment at: http://127.0.0.1:8081/#/experiments/887994607810552918\n"
     ]
    },
    {
     "data": {
      "application/vnd.jupyter.widget-view+json": {
       "model_id": "b962799ee10c44d6a876519ed1becf70",
       "version_major": 2,
       "version_minor": 0
      },
      "text/plain": [
       "Predicting: 35it [00:00, ?it/s]"
      ]
     },
     "metadata": {},
     "output_type": "display_data"
    },
    {
     "name": "stderr",
     "output_type": "stream",
     "text": [
      "INFO:src.models.gnet:Predictions for test.\n",
      "LOCAL_RANK: 0 - CUDA_VISIBLE_DEVICES: [0,1,2,3]\n"
     ]
    },
    {
     "name": "stdout",
     "output_type": "stream",
     "text": [
      "🏃 View run delicate-seal-790 at: http://127.0.0.1:8081/#/experiments/887994607810552918/runs/fb94cd8dc7804c5b9f8a26fc1c97f679\n",
      "🧪 View experiment at: http://127.0.0.1:8081/#/experiments/887994607810552918\n"
     ]
    },
    {
     "data": {
      "application/vnd.jupyter.widget-view+json": {
       "model_id": "6f4ebffa6d4e4c809888e74be3809e72",
       "version_major": 2,
       "version_minor": 0
      },
      "text/plain": [
       "Predicting: 35it [00:00, ?it/s]"
      ]
     },
     "metadata": {},
     "output_type": "display_data"
    },
    {
     "name": "stderr",
     "output_type": "stream",
     "text": [
      "INFO:src.models.gnet:Predictions for test.\n",
      "LOCAL_RANK: 0 - CUDA_VISIBLE_DEVICES: [0,1,2,3]\n"
     ]
    },
    {
     "name": "stdout",
     "output_type": "stream",
     "text": [
      "🏃 View run delicate-seal-790 at: http://127.0.0.1:8081/#/experiments/887994607810552918/runs/fb94cd8dc7804c5b9f8a26fc1c97f679\n",
      "🧪 View experiment at: http://127.0.0.1:8081/#/experiments/887994607810552918\n"
     ]
    },
    {
     "data": {
      "application/vnd.jupyter.widget-view+json": {
       "model_id": "15e042d9a65444c0b56f4a4ce2b4824f",
       "version_major": 2,
       "version_minor": 0
      },
      "text/plain": [
       "Predicting: 35it [00:00, ?it/s]"
      ]
     },
     "metadata": {},
     "output_type": "display_data"
    },
    {
     "name": "stderr",
     "output_type": "stream",
     "text": [
      "INFO:src.models.gnet:Predictions for test.\n",
      "LOCAL_RANK: 0 - CUDA_VISIBLE_DEVICES: [0,1,2,3]\n"
     ]
    },
    {
     "name": "stdout",
     "output_type": "stream",
     "text": [
      "🏃 View run delicate-seal-790 at: http://127.0.0.1:8081/#/experiments/887994607810552918/runs/fb94cd8dc7804c5b9f8a26fc1c97f679\n",
      "🧪 View experiment at: http://127.0.0.1:8081/#/experiments/887994607810552918\n"
     ]
    },
    {
     "data": {
      "application/vnd.jupyter.widget-view+json": {
       "model_id": "4f115ebc6ed7470bb63971ecb7ca0d5b",
       "version_major": 2,
       "version_minor": 0
      },
      "text/plain": [
       "Predicting: 35it [00:00, ?it/s]"
      ]
     },
     "metadata": {},
     "output_type": "display_data"
    },
    {
     "name": "stderr",
     "output_type": "stream",
     "text": [
      "INFO:src.models.gnet:Predictions for test.\n",
      "LOCAL_RANK: 0 - CUDA_VISIBLE_DEVICES: [0,1,2,3]\n"
     ]
    },
    {
     "name": "stdout",
     "output_type": "stream",
     "text": [
      "🏃 View run delicate-seal-790 at: http://127.0.0.1:8081/#/experiments/887994607810552918/runs/fb94cd8dc7804c5b9f8a26fc1c97f679\n",
      "🧪 View experiment at: http://127.0.0.1:8081/#/experiments/887994607810552918\n"
     ]
    },
    {
     "data": {
      "application/vnd.jupyter.widget-view+json": {
       "model_id": "6095751892464ce2b39af3c2729de2d6",
       "version_major": 2,
       "version_minor": 0
      },
      "text/plain": [
       "Predicting: 35it [00:00, ?it/s]"
      ]
     },
     "metadata": {},
     "output_type": "display_data"
    },
    {
     "name": "stderr",
     "output_type": "stream",
     "text": [
      "INFO:src.models.gnet:Predictions for test.\n",
      "LOCAL_RANK: 0 - CUDA_VISIBLE_DEVICES: [0,1,2,3]\n"
     ]
    },
    {
     "name": "stdout",
     "output_type": "stream",
     "text": [
      "🏃 View run delicate-seal-790 at: http://127.0.0.1:8081/#/experiments/887994607810552918/runs/fb94cd8dc7804c5b9f8a26fc1c97f679\n",
      "🧪 View experiment at: http://127.0.0.1:8081/#/experiments/887994607810552918\n"
     ]
    },
    {
     "data": {
      "application/vnd.jupyter.widget-view+json": {
       "model_id": "82d715ef4c1c4419884a609561584a8f",
       "version_major": 2,
       "version_minor": 0
      },
      "text/plain": [
       "Predicting: 35it [00:00, ?it/s]"
      ]
     },
     "metadata": {},
     "output_type": "display_data"
    },
    {
     "name": "stderr",
     "output_type": "stream",
     "text": [
      "INFO:src.models.gnet:Predictions for test.\n",
      "LOCAL_RANK: 0 - CUDA_VISIBLE_DEVICES: [0,1,2,3]\n"
     ]
    },
    {
     "name": "stdout",
     "output_type": "stream",
     "text": [
      "🏃 View run delicate-seal-790 at: http://127.0.0.1:8081/#/experiments/887994607810552918/runs/fb94cd8dc7804c5b9f8a26fc1c97f679\n",
      "🧪 View experiment at: http://127.0.0.1:8081/#/experiments/887994607810552918\n"
     ]
    },
    {
     "data": {
      "application/vnd.jupyter.widget-view+json": {
       "model_id": "0c314a1a9c404975987f74cad2aef40c",
       "version_major": 2,
       "version_minor": 0
      },
      "text/plain": [
       "Predicting: 35it [00:00, ?it/s]"
      ]
     },
     "metadata": {},
     "output_type": "display_data"
    },
    {
     "name": "stderr",
     "output_type": "stream",
     "text": [
      "INFO:src.models.gnet:Predictions for test.\n",
      "LOCAL_RANK: 0 - CUDA_VISIBLE_DEVICES: [0,1,2,3]\n"
     ]
    },
    {
     "name": "stdout",
     "output_type": "stream",
     "text": [
      "🏃 View run delicate-seal-790 at: http://127.0.0.1:8081/#/experiments/887994607810552918/runs/fb94cd8dc7804c5b9f8a26fc1c97f679\n",
      "🧪 View experiment at: http://127.0.0.1:8081/#/experiments/887994607810552918\n"
     ]
    },
    {
     "data": {
      "application/vnd.jupyter.widget-view+json": {
       "model_id": "c8bc8b4ab924444298e7ef38fe085106",
       "version_major": 2,
       "version_minor": 0
      },
      "text/plain": [
       "Predicting: 35it [00:00, ?it/s]"
      ]
     },
     "metadata": {},
     "output_type": "display_data"
    },
    {
     "name": "stderr",
     "output_type": "stream",
     "text": [
      "INFO:src.models.gnet:Predictions for test.\n",
      "LOCAL_RANK: 0 - CUDA_VISIBLE_DEVICES: [0,1,2,3]\n"
     ]
    },
    {
     "name": "stdout",
     "output_type": "stream",
     "text": [
      "🏃 View run delicate-seal-790 at: http://127.0.0.1:8081/#/experiments/887994607810552918/runs/fb94cd8dc7804c5b9f8a26fc1c97f679\n",
      "🧪 View experiment at: http://127.0.0.1:8081/#/experiments/887994607810552918\n"
     ]
    },
    {
     "data": {
      "application/vnd.jupyter.widget-view+json": {
       "model_id": "fa93fb78930044c8b16d36b0d9491e4b",
       "version_major": 2,
       "version_minor": 0
      },
      "text/plain": [
       "Predicting: 35it [00:00, ?it/s]"
      ]
     },
     "metadata": {},
     "output_type": "display_data"
    },
    {
     "name": "stderr",
     "output_type": "stream",
     "text": [
      "INFO:src.models.gnet:Predictions for test.\n",
      "LOCAL_RANK: 0 - CUDA_VISIBLE_DEVICES: [0,1,2,3]\n"
     ]
    },
    {
     "name": "stdout",
     "output_type": "stream",
     "text": [
      "🏃 View run delicate-seal-790 at: http://127.0.0.1:8081/#/experiments/887994607810552918/runs/fb94cd8dc7804c5b9f8a26fc1c97f679\n",
      "🧪 View experiment at: http://127.0.0.1:8081/#/experiments/887994607810552918\n"
     ]
    },
    {
     "data": {
      "application/vnd.jupyter.widget-view+json": {
       "model_id": "dc739a44071b438aa84f5e12e2229681",
       "version_major": 2,
       "version_minor": 0
      },
      "text/plain": [
       "Predicting: 35it [00:00, ?it/s]"
      ]
     },
     "metadata": {},
     "output_type": "display_data"
    },
    {
     "name": "stderr",
     "output_type": "stream",
     "text": [
      "INFO:src.models.gnet:Predictions for test.\n",
      "LOCAL_RANK: 0 - CUDA_VISIBLE_DEVICES: [0,1,2,3]\n"
     ]
    },
    {
     "name": "stdout",
     "output_type": "stream",
     "text": [
      "🏃 View run delicate-seal-790 at: http://127.0.0.1:8081/#/experiments/887994607810552918/runs/fb94cd8dc7804c5b9f8a26fc1c97f679\n",
      "🧪 View experiment at: http://127.0.0.1:8081/#/experiments/887994607810552918\n"
     ]
    },
    {
     "data": {
      "application/vnd.jupyter.widget-view+json": {
       "model_id": "3e1b2ac5b64d4f58bd788acecca4279e",
       "version_major": 2,
       "version_minor": 0
      },
      "text/plain": [
       "Predicting: 35it [00:00, ?it/s]"
      ]
     },
     "metadata": {},
     "output_type": "display_data"
    },
    {
     "name": "stderr",
     "output_type": "stream",
     "text": [
      "INFO:src.models.gnet:Predictions for test.\n",
      "LOCAL_RANK: 0 - CUDA_VISIBLE_DEVICES: [0,1,2,3]\n"
     ]
    },
    {
     "name": "stdout",
     "output_type": "stream",
     "text": [
      "🏃 View run delicate-seal-790 at: http://127.0.0.1:8081/#/experiments/887994607810552918/runs/fb94cd8dc7804c5b9f8a26fc1c97f679\n",
      "🧪 View experiment at: http://127.0.0.1:8081/#/experiments/887994607810552918\n"
     ]
    },
    {
     "data": {
      "application/vnd.jupyter.widget-view+json": {
       "model_id": "4dfb73e4dc894d40946632b46cdb279d",
       "version_major": 2,
       "version_minor": 0
      },
      "text/plain": [
       "Predicting: 35it [00:00, ?it/s]"
      ]
     },
     "metadata": {},
     "output_type": "display_data"
    },
    {
     "name": "stderr",
     "output_type": "stream",
     "text": [
      "INFO:src.models.gnet:Predictions for test.\n",
      "LOCAL_RANK: 0 - CUDA_VISIBLE_DEVICES: [0,1,2,3]\n"
     ]
    },
    {
     "name": "stdout",
     "output_type": "stream",
     "text": [
      "🏃 View run delicate-seal-790 at: http://127.0.0.1:8081/#/experiments/887994607810552918/runs/fb94cd8dc7804c5b9f8a26fc1c97f679\n",
      "🧪 View experiment at: http://127.0.0.1:8081/#/experiments/887994607810552918\n"
     ]
    },
    {
     "data": {
      "application/vnd.jupyter.widget-view+json": {
       "model_id": "779c0e0343e74069adee2a92f61e8038",
       "version_major": 2,
       "version_minor": 0
      },
      "text/plain": [
       "Predicting: 35it [00:00, ?it/s]"
      ]
     },
     "metadata": {},
     "output_type": "display_data"
    },
    {
     "name": "stderr",
     "output_type": "stream",
     "text": [
      "INFO:src.models.gnet:Predictions for test.\n",
      "LOCAL_RANK: 0 - CUDA_VISIBLE_DEVICES: [0,1,2,3]\n"
     ]
    },
    {
     "name": "stdout",
     "output_type": "stream",
     "text": [
      "🏃 View run delicate-seal-790 at: http://127.0.0.1:8081/#/experiments/887994607810552918/runs/fb94cd8dc7804c5b9f8a26fc1c97f679\n",
      "🧪 View experiment at: http://127.0.0.1:8081/#/experiments/887994607810552918\n"
     ]
    },
    {
     "data": {
      "application/vnd.jupyter.widget-view+json": {
       "model_id": "60d9b6a938814a72b5b6dc51caba5593",
       "version_major": 2,
       "version_minor": 0
      },
      "text/plain": [
       "Predicting: 35it [00:00, ?it/s]"
      ]
     },
     "metadata": {},
     "output_type": "display_data"
    },
    {
     "name": "stderr",
     "output_type": "stream",
     "text": [
      "INFO:src.models.gnet:Predictions for test.\n",
      "LOCAL_RANK: 0 - CUDA_VISIBLE_DEVICES: [0,1,2,3]\n"
     ]
    },
    {
     "name": "stdout",
     "output_type": "stream",
     "text": [
      "🏃 View run delicate-seal-790 at: http://127.0.0.1:8081/#/experiments/887994607810552918/runs/fb94cd8dc7804c5b9f8a26fc1c97f679\n",
      "🧪 View experiment at: http://127.0.0.1:8081/#/experiments/887994607810552918\n"
     ]
    },
    {
     "data": {
      "application/vnd.jupyter.widget-view+json": {
       "model_id": "efa60a13d2de4e62a94f6318329fdfb6",
       "version_major": 2,
       "version_minor": 0
      },
      "text/plain": [
       "Predicting: 35it [00:00, ?it/s]"
      ]
     },
     "metadata": {},
     "output_type": "display_data"
    },
    {
     "name": "stderr",
     "output_type": "stream",
     "text": [
      "INFO:src.models.gnet:Predictions for test.\n",
      "LOCAL_RANK: 0 - CUDA_VISIBLE_DEVICES: [0,1,2,3]\n"
     ]
    },
    {
     "name": "stdout",
     "output_type": "stream",
     "text": [
      "🏃 View run delicate-seal-790 at: http://127.0.0.1:8081/#/experiments/887994607810552918/runs/fb94cd8dc7804c5b9f8a26fc1c97f679\n",
      "🧪 View experiment at: http://127.0.0.1:8081/#/experiments/887994607810552918\n"
     ]
    },
    {
     "data": {
      "application/vnd.jupyter.widget-view+json": {
       "model_id": "2620aa3393ec4518b113171752f94b63",
       "version_major": 2,
       "version_minor": 0
      },
      "text/plain": [
       "Predicting: 35it [00:00, ?it/s]"
      ]
     },
     "metadata": {},
     "output_type": "display_data"
    },
    {
     "name": "stderr",
     "output_type": "stream",
     "text": [
      "INFO:src.models.gnet:Predictions for test.\n",
      "LOCAL_RANK: 0 - CUDA_VISIBLE_DEVICES: [0,1,2,3]\n"
     ]
    },
    {
     "name": "stdout",
     "output_type": "stream",
     "text": [
      "🏃 View run delicate-seal-790 at: http://127.0.0.1:8081/#/experiments/887994607810552918/runs/fb94cd8dc7804c5b9f8a26fc1c97f679\n",
      "🧪 View experiment at: http://127.0.0.1:8081/#/experiments/887994607810552918\n"
     ]
    },
    {
     "data": {
      "application/vnd.jupyter.widget-view+json": {
       "model_id": "d985e04ac1da40b597c057143516f55a",
       "version_major": 2,
       "version_minor": 0
      },
      "text/plain": [
       "Predicting: 35it [00:00, ?it/s]"
      ]
     },
     "metadata": {},
     "output_type": "display_data"
    },
    {
     "name": "stderr",
     "output_type": "stream",
     "text": [
      "INFO:src.models.gnet:Predictions for test.\n",
      "LOCAL_RANK: 0 - CUDA_VISIBLE_DEVICES: [0,1,2,3]\n"
     ]
    },
    {
     "name": "stdout",
     "output_type": "stream",
     "text": [
      "🏃 View run delicate-seal-790 at: http://127.0.0.1:8081/#/experiments/887994607810552918/runs/fb94cd8dc7804c5b9f8a26fc1c97f679\n",
      "🧪 View experiment at: http://127.0.0.1:8081/#/experiments/887994607810552918\n"
     ]
    },
    {
     "data": {
      "application/vnd.jupyter.widget-view+json": {
       "model_id": "260d09e8cdf0426daac509ae781e73d7",
       "version_major": 2,
       "version_minor": 0
      },
      "text/plain": [
       "Predicting: 35it [00:00, ?it/s]"
      ]
     },
     "metadata": {},
     "output_type": "display_data"
    },
    {
     "name": "stderr",
     "output_type": "stream",
     "text": [
      "INFO:src.models.gnet:Predictions for test.\n",
      "LOCAL_RANK: 0 - CUDA_VISIBLE_DEVICES: [0,1,2,3]\n"
     ]
    },
    {
     "name": "stdout",
     "output_type": "stream",
     "text": [
      "🏃 View run delicate-seal-790 at: http://127.0.0.1:8081/#/experiments/887994607810552918/runs/fb94cd8dc7804c5b9f8a26fc1c97f679\n",
      "🧪 View experiment at: http://127.0.0.1:8081/#/experiments/887994607810552918\n"
     ]
    },
    {
     "data": {
      "application/vnd.jupyter.widget-view+json": {
       "model_id": "aca6a933541042598e0f09218cc82a0d",
       "version_major": 2,
       "version_minor": 0
      },
      "text/plain": [
       "Predicting: 35it [00:00, ?it/s]"
      ]
     },
     "metadata": {},
     "output_type": "display_data"
    },
    {
     "name": "stderr",
     "output_type": "stream",
     "text": [
      "INFO:src.models.gnet:Predictions for test.\n",
      "LOCAL_RANK: 0 - CUDA_VISIBLE_DEVICES: [0,1,2,3]\n"
     ]
    },
    {
     "name": "stdout",
     "output_type": "stream",
     "text": [
      "🏃 View run delicate-seal-790 at: http://127.0.0.1:8081/#/experiments/887994607810552918/runs/fb94cd8dc7804c5b9f8a26fc1c97f679\n",
      "🧪 View experiment at: http://127.0.0.1:8081/#/experiments/887994607810552918\n"
     ]
    },
    {
     "data": {
      "application/vnd.jupyter.widget-view+json": {
       "model_id": "b92f643b3dd34098825eb00ff82789be",
       "version_major": 2,
       "version_minor": 0
      },
      "text/plain": [
       "Predicting: 35it [00:00, ?it/s]"
      ]
     },
     "metadata": {},
     "output_type": "display_data"
    },
    {
     "name": "stderr",
     "output_type": "stream",
     "text": [
      "INFO:src.models.gnet:Predictions for test.\n",
      "LOCAL_RANK: 0 - CUDA_VISIBLE_DEVICES: [0,1,2,3]\n"
     ]
    },
    {
     "name": "stdout",
     "output_type": "stream",
     "text": [
      "🏃 View run delicate-seal-790 at: http://127.0.0.1:8081/#/experiments/887994607810552918/runs/fb94cd8dc7804c5b9f8a26fc1c97f679\n",
      "🧪 View experiment at: http://127.0.0.1:8081/#/experiments/887994607810552918\n"
     ]
    },
    {
     "data": {
      "application/vnd.jupyter.widget-view+json": {
       "model_id": "77767fd44b754b2ea59b7a2b1e7e04f6",
       "version_major": 2,
       "version_minor": 0
      },
      "text/plain": [
       "Predicting: 35it [00:00, ?it/s]"
      ]
     },
     "metadata": {},
     "output_type": "display_data"
    },
    {
     "name": "stderr",
     "output_type": "stream",
     "text": [
      "INFO:src.models.gnet:Predictions for test.\n",
      "LOCAL_RANK: 0 - CUDA_VISIBLE_DEVICES: [0,1,2,3]\n"
     ]
    },
    {
     "name": "stdout",
     "output_type": "stream",
     "text": [
      "🏃 View run delicate-seal-790 at: http://127.0.0.1:8081/#/experiments/887994607810552918/runs/fb94cd8dc7804c5b9f8a26fc1c97f679\n",
      "🧪 View experiment at: http://127.0.0.1:8081/#/experiments/887994607810552918\n"
     ]
    },
    {
     "data": {
      "application/vnd.jupyter.widget-view+json": {
       "model_id": "2c0edc3ca6d34506b9ec2f0030651c0d",
       "version_major": 2,
       "version_minor": 0
      },
      "text/plain": [
       "Predicting: 35it [00:00, ?it/s]"
      ]
     },
     "metadata": {},
     "output_type": "display_data"
    },
    {
     "name": "stderr",
     "output_type": "stream",
     "text": [
      "INFO:src.models.gnet:Predictions for test.\n",
      "LOCAL_RANK: 0 - CUDA_VISIBLE_DEVICES: [0,1,2,3]\n"
     ]
    },
    {
     "name": "stdout",
     "output_type": "stream",
     "text": [
      "🏃 View run delicate-seal-790 at: http://127.0.0.1:8081/#/experiments/887994607810552918/runs/fb94cd8dc7804c5b9f8a26fc1c97f679\n",
      "🧪 View experiment at: http://127.0.0.1:8081/#/experiments/887994607810552918\n"
     ]
    },
    {
     "data": {
      "application/vnd.jupyter.widget-view+json": {
       "model_id": "ca6ff990677e43aaa559eca2dd3aa4df",
       "version_major": 2,
       "version_minor": 0
      },
      "text/plain": [
       "Predicting: 35it [00:00, ?it/s]"
      ]
     },
     "metadata": {},
     "output_type": "display_data"
    },
    {
     "name": "stderr",
     "output_type": "stream",
     "text": [
      "INFO:src.models.gnet:Predictions for test.\n",
      "LOCAL_RANK: 0 - CUDA_VISIBLE_DEVICES: [0,1,2,3]\n"
     ]
    },
    {
     "name": "stdout",
     "output_type": "stream",
     "text": [
      "🏃 View run delicate-seal-790 at: http://127.0.0.1:8081/#/experiments/887994607810552918/runs/fb94cd8dc7804c5b9f8a26fc1c97f679\n",
      "🧪 View experiment at: http://127.0.0.1:8081/#/experiments/887994607810552918\n"
     ]
    },
    {
     "data": {
      "application/vnd.jupyter.widget-view+json": {
       "model_id": "985fe9d5280d4660842b00145629ecfc",
       "version_major": 2,
       "version_minor": 0
      },
      "text/plain": [
       "Predicting: 35it [00:00, ?it/s]"
      ]
     },
     "metadata": {},
     "output_type": "display_data"
    },
    {
     "name": "stderr",
     "output_type": "stream",
     "text": [
      "INFO:src.models.gnet:Predictions for test.\n",
      "LOCAL_RANK: 0 - CUDA_VISIBLE_DEVICES: [0,1,2,3]\n"
     ]
    },
    {
     "name": "stdout",
     "output_type": "stream",
     "text": [
      "🏃 View run delicate-seal-790 at: http://127.0.0.1:8081/#/experiments/887994607810552918/runs/fb94cd8dc7804c5b9f8a26fc1c97f679\n",
      "🧪 View experiment at: http://127.0.0.1:8081/#/experiments/887994607810552918\n"
     ]
    },
    {
     "data": {
      "application/vnd.jupyter.widget-view+json": {
       "model_id": "134243cf1a2142af8e85c2ac1b651594",
       "version_major": 2,
       "version_minor": 0
      },
      "text/plain": [
       "Predicting: 35it [00:00, ?it/s]"
      ]
     },
     "metadata": {},
     "output_type": "display_data"
    },
    {
     "name": "stderr",
     "output_type": "stream",
     "text": [
      "INFO:src.models.gnet:Predictions for test.\n",
      "LOCAL_RANK: 0 - CUDA_VISIBLE_DEVICES: [0,1,2,3]\n"
     ]
    },
    {
     "name": "stdout",
     "output_type": "stream",
     "text": [
      "🏃 View run delicate-seal-790 at: http://127.0.0.1:8081/#/experiments/887994607810552918/runs/fb94cd8dc7804c5b9f8a26fc1c97f679\n",
      "🧪 View experiment at: http://127.0.0.1:8081/#/experiments/887994607810552918\n"
     ]
    },
    {
     "data": {
      "application/vnd.jupyter.widget-view+json": {
       "model_id": "c90b26a28aae44b38b8b861195e047b4",
       "version_major": 2,
       "version_minor": 0
      },
      "text/plain": [
       "Predicting: 35it [00:00, ?it/s]"
      ]
     },
     "metadata": {},
     "output_type": "display_data"
    },
    {
     "name": "stderr",
     "output_type": "stream",
     "text": [
      "INFO:src.models.gnet:Predictions for test.\n",
      "LOCAL_RANK: 0 - CUDA_VISIBLE_DEVICES: [0,1,2,3]\n"
     ]
    },
    {
     "name": "stdout",
     "output_type": "stream",
     "text": [
      "🏃 View run delicate-seal-790 at: http://127.0.0.1:8081/#/experiments/887994607810552918/runs/fb94cd8dc7804c5b9f8a26fc1c97f679\n",
      "🧪 View experiment at: http://127.0.0.1:8081/#/experiments/887994607810552918\n"
     ]
    },
    {
     "data": {
      "application/vnd.jupyter.widget-view+json": {
       "model_id": "12b5a1644b654c3487f5bf242450d58b",
       "version_major": 2,
       "version_minor": 0
      },
      "text/plain": [
       "Predicting: 35it [00:00, ?it/s]"
      ]
     },
     "metadata": {},
     "output_type": "display_data"
    },
    {
     "name": "stderr",
     "output_type": "stream",
     "text": [
      "INFO:src.models.gnet:Predictions for test.\n",
      "LOCAL_RANK: 0 - CUDA_VISIBLE_DEVICES: [0,1,2,3]\n"
     ]
    },
    {
     "name": "stdout",
     "output_type": "stream",
     "text": [
      "🏃 View run delicate-seal-790 at: http://127.0.0.1:8081/#/experiments/887994607810552918/runs/fb94cd8dc7804c5b9f8a26fc1c97f679\n",
      "🧪 View experiment at: http://127.0.0.1:8081/#/experiments/887994607810552918\n"
     ]
    },
    {
     "data": {
      "application/vnd.jupyter.widget-view+json": {
       "model_id": "a63b0cd0802549419c91712c5dc93bc5",
       "version_major": 2,
       "version_minor": 0
      },
      "text/plain": [
       "Predicting: 35it [00:00, ?it/s]"
      ]
     },
     "metadata": {},
     "output_type": "display_data"
    },
    {
     "name": "stderr",
     "output_type": "stream",
     "text": [
      "INFO:src.models.gnet:Predictions for test.\n",
      "LOCAL_RANK: 0 - CUDA_VISIBLE_DEVICES: [0,1,2,3]\n"
     ]
    },
    {
     "name": "stdout",
     "output_type": "stream",
     "text": [
      "🏃 View run delicate-seal-790 at: http://127.0.0.1:8081/#/experiments/887994607810552918/runs/fb94cd8dc7804c5b9f8a26fc1c97f679\n",
      "🧪 View experiment at: http://127.0.0.1:8081/#/experiments/887994607810552918\n"
     ]
    },
    {
     "data": {
      "application/vnd.jupyter.widget-view+json": {
       "model_id": "f5695b48688c4805b78ee973cbdbf4ac",
       "version_major": 2,
       "version_minor": 0
      },
      "text/plain": [
       "Predicting: 35it [00:00, ?it/s]"
      ]
     },
     "metadata": {},
     "output_type": "display_data"
    },
    {
     "name": "stderr",
     "output_type": "stream",
     "text": [
      "INFO:src.models.gnet:Predictions for test.\n",
      "LOCAL_RANK: 0 - CUDA_VISIBLE_DEVICES: [0,1,2,3]\n"
     ]
    },
    {
     "name": "stdout",
     "output_type": "stream",
     "text": [
      "🏃 View run delicate-seal-790 at: http://127.0.0.1:8081/#/experiments/887994607810552918/runs/fb94cd8dc7804c5b9f8a26fc1c97f679\n",
      "🧪 View experiment at: http://127.0.0.1:8081/#/experiments/887994607810552918\n"
     ]
    },
    {
     "data": {
      "application/vnd.jupyter.widget-view+json": {
       "model_id": "0c8657c474e049ef8ce4fc44346ee883",
       "version_major": 2,
       "version_minor": 0
      },
      "text/plain": [
       "Predicting: 35it [00:00, ?it/s]"
      ]
     },
     "metadata": {},
     "output_type": "display_data"
    },
    {
     "name": "stderr",
     "output_type": "stream",
     "text": [
      "INFO:src.models.gnet:Predictions for test.\n",
      "LOCAL_RANK: 0 - CUDA_VISIBLE_DEVICES: [0,1,2,3]\n"
     ]
    },
    {
     "name": "stdout",
     "output_type": "stream",
     "text": [
      "🏃 View run delicate-seal-790 at: http://127.0.0.1:8081/#/experiments/887994607810552918/runs/fb94cd8dc7804c5b9f8a26fc1c97f679\n",
      "🧪 View experiment at: http://127.0.0.1:8081/#/experiments/887994607810552918\n"
     ]
    },
    {
     "data": {
      "application/vnd.jupyter.widget-view+json": {
       "model_id": "fb7a293085db491fa583ab098c28288c",
       "version_major": 2,
       "version_minor": 0
      },
      "text/plain": [
       "Predicting: 35it [00:00, ?it/s]"
      ]
     },
     "metadata": {},
     "output_type": "display_data"
    },
    {
     "name": "stderr",
     "output_type": "stream",
     "text": [
      "INFO:src.models.gnet:Predictions for test.\n",
      "LOCAL_RANK: 0 - CUDA_VISIBLE_DEVICES: [0,1,2,3]\n"
     ]
    },
    {
     "name": "stdout",
     "output_type": "stream",
     "text": [
      "🏃 View run delicate-seal-790 at: http://127.0.0.1:8081/#/experiments/887994607810552918/runs/fb94cd8dc7804c5b9f8a26fc1c97f679\n",
      "🧪 View experiment at: http://127.0.0.1:8081/#/experiments/887994607810552918\n"
     ]
    },
    {
     "data": {
      "application/vnd.jupyter.widget-view+json": {
       "model_id": "bd6d35075de74684b57572c9577c85a3",
       "version_major": 2,
       "version_minor": 0
      },
      "text/plain": [
       "Predicting: 35it [00:00, ?it/s]"
      ]
     },
     "metadata": {},
     "output_type": "display_data"
    },
    {
     "name": "stderr",
     "output_type": "stream",
     "text": [
      "INFO:src.models.gnet:Predictions for test.\n",
      "LOCAL_RANK: 0 - CUDA_VISIBLE_DEVICES: [0,1,2,3]\n"
     ]
    },
    {
     "name": "stdout",
     "output_type": "stream",
     "text": [
      "🏃 View run delicate-seal-790 at: http://127.0.0.1:8081/#/experiments/887994607810552918/runs/fb94cd8dc7804c5b9f8a26fc1c97f679\n",
      "🧪 View experiment at: http://127.0.0.1:8081/#/experiments/887994607810552918\n"
     ]
    },
    {
     "data": {
      "application/vnd.jupyter.widget-view+json": {
       "model_id": "f644b353c5b84d8bbc50708a93867961",
       "version_major": 2,
       "version_minor": 0
      },
      "text/plain": [
       "Predicting: 35it [00:00, ?it/s]"
      ]
     },
     "metadata": {},
     "output_type": "display_data"
    },
    {
     "name": "stderr",
     "output_type": "stream",
     "text": [
      "INFO:src.models.gnet:Predictions for test.\n",
      "LOCAL_RANK: 0 - CUDA_VISIBLE_DEVICES: [0,1,2,3]\n"
     ]
    },
    {
     "name": "stdout",
     "output_type": "stream",
     "text": [
      "🏃 View run delicate-seal-790 at: http://127.0.0.1:8081/#/experiments/887994607810552918/runs/fb94cd8dc7804c5b9f8a26fc1c97f679\n",
      "🧪 View experiment at: http://127.0.0.1:8081/#/experiments/887994607810552918\n"
     ]
    },
    {
     "data": {
      "application/vnd.jupyter.widget-view+json": {
       "model_id": "0c2212aace0e4fc1962d33d9d19266fe",
       "version_major": 2,
       "version_minor": 0
      },
      "text/plain": [
       "Predicting: 35it [00:00, ?it/s]"
      ]
     },
     "metadata": {},
     "output_type": "display_data"
    },
    {
     "name": "stderr",
     "output_type": "stream",
     "text": [
      "INFO:src.models.gnet:Predictions for test.\n",
      "LOCAL_RANK: 0 - CUDA_VISIBLE_DEVICES: [0,1,2,3]\n"
     ]
    },
    {
     "name": "stdout",
     "output_type": "stream",
     "text": [
      "🏃 View run delicate-seal-790 at: http://127.0.0.1:8081/#/experiments/887994607810552918/runs/fb94cd8dc7804c5b9f8a26fc1c97f679\n",
      "🧪 View experiment at: http://127.0.0.1:8081/#/experiments/887994607810552918\n"
     ]
    },
    {
     "data": {
      "application/vnd.jupyter.widget-view+json": {
       "model_id": "68d514e70ac0471399bd1d196e3b83c9",
       "version_major": 2,
       "version_minor": 0
      },
      "text/plain": [
       "Predicting: 35it [00:00, ?it/s]"
      ]
     },
     "metadata": {},
     "output_type": "display_data"
    },
    {
     "name": "stderr",
     "output_type": "stream",
     "text": [
      "INFO:src.models.gnet:Predictions for test.\n",
      "LOCAL_RANK: 0 - CUDA_VISIBLE_DEVICES: [0,1,2,3]\n"
     ]
    },
    {
     "name": "stdout",
     "output_type": "stream",
     "text": [
      "🏃 View run delicate-seal-790 at: http://127.0.0.1:8081/#/experiments/887994607810552918/runs/fb94cd8dc7804c5b9f8a26fc1c97f679\n",
      "🧪 View experiment at: http://127.0.0.1:8081/#/experiments/887994607810552918\n"
     ]
    },
    {
     "data": {
      "application/vnd.jupyter.widget-view+json": {
       "model_id": "9f5bf73c0b174a3a82f29d3fd5bf0ba8",
       "version_major": 2,
       "version_minor": 0
      },
      "text/plain": [
       "Predicting: 35it [00:00, ?it/s]"
      ]
     },
     "metadata": {},
     "output_type": "display_data"
    },
    {
     "name": "stderr",
     "output_type": "stream",
     "text": [
      "INFO:src.models.gnet:Predictions for test.\n",
      "LOCAL_RANK: 0 - CUDA_VISIBLE_DEVICES: [0,1,2,3]\n"
     ]
    },
    {
     "name": "stdout",
     "output_type": "stream",
     "text": [
      "🏃 View run delicate-seal-790 at: http://127.0.0.1:8081/#/experiments/887994607810552918/runs/fb94cd8dc7804c5b9f8a26fc1c97f679\n",
      "🧪 View experiment at: http://127.0.0.1:8081/#/experiments/887994607810552918\n"
     ]
    },
    {
     "data": {
      "application/vnd.jupyter.widget-view+json": {
       "model_id": "f521632119a64afeb37f22ff62e774ab",
       "version_major": 2,
       "version_minor": 0
      },
      "text/plain": [
       "Predicting: 35it [00:00, ?it/s]"
      ]
     },
     "metadata": {},
     "output_type": "display_data"
    },
    {
     "name": "stderr",
     "output_type": "stream",
     "text": [
      "INFO:src.models.gnet:Predictions for test.\n",
      "LOCAL_RANK: 0 - CUDA_VISIBLE_DEVICES: [0,1,2,3]\n"
     ]
    },
    {
     "name": "stdout",
     "output_type": "stream",
     "text": [
      "🏃 View run delicate-seal-790 at: http://127.0.0.1:8081/#/experiments/887994607810552918/runs/fb94cd8dc7804c5b9f8a26fc1c97f679\n",
      "🧪 View experiment at: http://127.0.0.1:8081/#/experiments/887994607810552918\n"
     ]
    },
    {
     "data": {
      "application/vnd.jupyter.widget-view+json": {
       "model_id": "fa77307f07e847f1b7652a047f7b9e10",
       "version_major": 2,
       "version_minor": 0
      },
      "text/plain": [
       "Predicting: 35it [00:00, ?it/s]"
      ]
     },
     "metadata": {},
     "output_type": "display_data"
    },
    {
     "name": "stderr",
     "output_type": "stream",
     "text": [
      "INFO:src.models.gnet:Predictions for test.\n",
      "LOCAL_RANK: 0 - CUDA_VISIBLE_DEVICES: [0,1,2,3]\n"
     ]
    },
    {
     "name": "stdout",
     "output_type": "stream",
     "text": [
      "🏃 View run delicate-seal-790 at: http://127.0.0.1:8081/#/experiments/887994607810552918/runs/fb94cd8dc7804c5b9f8a26fc1c97f679\n",
      "🧪 View experiment at: http://127.0.0.1:8081/#/experiments/887994607810552918\n"
     ]
    },
    {
     "data": {
      "application/vnd.jupyter.widget-view+json": {
       "model_id": "b5d4b8b53a0642568d4fb1c53a471bd7",
       "version_major": 2,
       "version_minor": 0
      },
      "text/plain": [
       "Predicting: 35it [00:00, ?it/s]"
      ]
     },
     "metadata": {},
     "output_type": "display_data"
    },
    {
     "name": "stderr",
     "output_type": "stream",
     "text": [
      "INFO:src.models.gnet:t = 3\n",
      "INFO:src.models.gnet:Predictions for test.\n",
      "LOCAL_RANK: 0 - CUDA_VISIBLE_DEVICES: [0,1,2,3]\n"
     ]
    },
    {
     "name": "stdout",
     "output_type": "stream",
     "text": [
      "🏃 View run delicate-seal-790 at: http://127.0.0.1:8081/#/experiments/887994607810552918/runs/fb94cd8dc7804c5b9f8a26fc1c97f679\n",
      "🧪 View experiment at: http://127.0.0.1:8081/#/experiments/887994607810552918\n"
     ]
    },
    {
     "data": {
      "application/vnd.jupyter.widget-view+json": {
       "model_id": "d181cc785a254de2adde7380ac02d269",
       "version_major": 2,
       "version_minor": 0
      },
      "text/plain": [
       "Predicting: 35it [00:00, ?it/s]"
      ]
     },
     "metadata": {},
     "output_type": "display_data"
    },
    {
     "name": "stderr",
     "output_type": "stream",
     "text": [
      "INFO:src.models.gnet:Predictions for test.\n",
      "LOCAL_RANK: 0 - CUDA_VISIBLE_DEVICES: [0,1,2,3]\n"
     ]
    },
    {
     "name": "stdout",
     "output_type": "stream",
     "text": [
      "🏃 View run delicate-seal-790 at: http://127.0.0.1:8081/#/experiments/887994607810552918/runs/fb94cd8dc7804c5b9f8a26fc1c97f679\n",
      "🧪 View experiment at: http://127.0.0.1:8081/#/experiments/887994607810552918\n"
     ]
    },
    {
     "data": {
      "application/vnd.jupyter.widget-view+json": {
       "model_id": "cb37d25dd4954138a5307b138a7331a2",
       "version_major": 2,
       "version_minor": 0
      },
      "text/plain": [
       "Predicting: 35it [00:00, ?it/s]"
      ]
     },
     "metadata": {},
     "output_type": "display_data"
    },
    {
     "name": "stderr",
     "output_type": "stream",
     "text": [
      "INFO:src.models.gnet:Predictions for test.\n",
      "LOCAL_RANK: 0 - CUDA_VISIBLE_DEVICES: [0,1,2,3]\n"
     ]
    },
    {
     "name": "stdout",
     "output_type": "stream",
     "text": [
      "🏃 View run delicate-seal-790 at: http://127.0.0.1:8081/#/experiments/887994607810552918/runs/fb94cd8dc7804c5b9f8a26fc1c97f679\n",
      "🧪 View experiment at: http://127.0.0.1:8081/#/experiments/887994607810552918\n"
     ]
    },
    {
     "data": {
      "application/vnd.jupyter.widget-view+json": {
       "model_id": "7dc5f86e25a94413be0fe19fb67340be",
       "version_major": 2,
       "version_minor": 0
      },
      "text/plain": [
       "Predicting: 35it [00:00, ?it/s]"
      ]
     },
     "metadata": {},
     "output_type": "display_data"
    },
    {
     "name": "stderr",
     "output_type": "stream",
     "text": [
      "INFO:src.models.gnet:Predictions for test.\n",
      "LOCAL_RANK: 0 - CUDA_VISIBLE_DEVICES: [0,1,2,3]\n"
     ]
    },
    {
     "name": "stdout",
     "output_type": "stream",
     "text": [
      "🏃 View run delicate-seal-790 at: http://127.0.0.1:8081/#/experiments/887994607810552918/runs/fb94cd8dc7804c5b9f8a26fc1c97f679\n",
      "🧪 View experiment at: http://127.0.0.1:8081/#/experiments/887994607810552918\n"
     ]
    },
    {
     "data": {
      "application/vnd.jupyter.widget-view+json": {
       "model_id": "0bbaf95fa3204b93ad30974e6433eb07",
       "version_major": 2,
       "version_minor": 0
      },
      "text/plain": [
       "Predicting: 35it [00:00, ?it/s]"
      ]
     },
     "metadata": {},
     "output_type": "display_data"
    },
    {
     "name": "stderr",
     "output_type": "stream",
     "text": [
      "INFO:src.models.gnet:Predictions for test.\n",
      "LOCAL_RANK: 0 - CUDA_VISIBLE_DEVICES: [0,1,2,3]\n"
     ]
    },
    {
     "name": "stdout",
     "output_type": "stream",
     "text": [
      "🏃 View run delicate-seal-790 at: http://127.0.0.1:8081/#/experiments/887994607810552918/runs/fb94cd8dc7804c5b9f8a26fc1c97f679\n",
      "🧪 View experiment at: http://127.0.0.1:8081/#/experiments/887994607810552918\n"
     ]
    },
    {
     "data": {
      "application/vnd.jupyter.widget-view+json": {
       "model_id": "7612db0bb5634ab8a4d39ae948ecfd34",
       "version_major": 2,
       "version_minor": 0
      },
      "text/plain": [
       "Predicting: 35it [00:00, ?it/s]"
      ]
     },
     "metadata": {},
     "output_type": "display_data"
    },
    {
     "name": "stderr",
     "output_type": "stream",
     "text": [
      "INFO:src.models.gnet:Predictions for test.\n",
      "LOCAL_RANK: 0 - CUDA_VISIBLE_DEVICES: [0,1,2,3]\n"
     ]
    },
    {
     "name": "stdout",
     "output_type": "stream",
     "text": [
      "🏃 View run delicate-seal-790 at: http://127.0.0.1:8081/#/experiments/887994607810552918/runs/fb94cd8dc7804c5b9f8a26fc1c97f679\n",
      "🧪 View experiment at: http://127.0.0.1:8081/#/experiments/887994607810552918\n"
     ]
    },
    {
     "data": {
      "application/vnd.jupyter.widget-view+json": {
       "model_id": "c04f5eab41ed445399fec9890eb63d79",
       "version_major": 2,
       "version_minor": 0
      },
      "text/plain": [
       "Predicting: 35it [00:00, ?it/s]"
      ]
     },
     "metadata": {},
     "output_type": "display_data"
    },
    {
     "name": "stderr",
     "output_type": "stream",
     "text": [
      "INFO:src.models.gnet:Predictions for test.\n",
      "LOCAL_RANK: 0 - CUDA_VISIBLE_DEVICES: [0,1,2,3]\n"
     ]
    },
    {
     "name": "stdout",
     "output_type": "stream",
     "text": [
      "🏃 View run delicate-seal-790 at: http://127.0.0.1:8081/#/experiments/887994607810552918/runs/fb94cd8dc7804c5b9f8a26fc1c97f679\n",
      "🧪 View experiment at: http://127.0.0.1:8081/#/experiments/887994607810552918\n"
     ]
    },
    {
     "data": {
      "application/vnd.jupyter.widget-view+json": {
       "model_id": "4fea23d6673f497095972a67fa11f4d8",
       "version_major": 2,
       "version_minor": 0
      },
      "text/plain": [
       "Predicting: 35it [00:00, ?it/s]"
      ]
     },
     "metadata": {},
     "output_type": "display_data"
    },
    {
     "name": "stderr",
     "output_type": "stream",
     "text": [
      "INFO:src.models.gnet:Predictions for test.\n",
      "LOCAL_RANK: 0 - CUDA_VISIBLE_DEVICES: [0,1,2,3]\n"
     ]
    },
    {
     "name": "stdout",
     "output_type": "stream",
     "text": [
      "🏃 View run delicate-seal-790 at: http://127.0.0.1:8081/#/experiments/887994607810552918/runs/fb94cd8dc7804c5b9f8a26fc1c97f679\n",
      "🧪 View experiment at: http://127.0.0.1:8081/#/experiments/887994607810552918\n"
     ]
    },
    {
     "data": {
      "application/vnd.jupyter.widget-view+json": {
       "model_id": "6e77b05e2db84dafb7b27614304db587",
       "version_major": 2,
       "version_minor": 0
      },
      "text/plain": [
       "Predicting: 35it [00:00, ?it/s]"
      ]
     },
     "metadata": {},
     "output_type": "display_data"
    },
    {
     "name": "stderr",
     "output_type": "stream",
     "text": [
      "INFO:src.models.gnet:Predictions for test.\n",
      "LOCAL_RANK: 0 - CUDA_VISIBLE_DEVICES: [0,1,2,3]\n"
     ]
    },
    {
     "name": "stdout",
     "output_type": "stream",
     "text": [
      "🏃 View run delicate-seal-790 at: http://127.0.0.1:8081/#/experiments/887994607810552918/runs/fb94cd8dc7804c5b9f8a26fc1c97f679\n",
      "🧪 View experiment at: http://127.0.0.1:8081/#/experiments/887994607810552918\n"
     ]
    },
    {
     "data": {
      "application/vnd.jupyter.widget-view+json": {
       "model_id": "3dbbe6b687a94e229608f2111b480079",
       "version_major": 2,
       "version_minor": 0
      },
      "text/plain": [
       "Predicting: 35it [00:00, ?it/s]"
      ]
     },
     "metadata": {},
     "output_type": "display_data"
    },
    {
     "name": "stderr",
     "output_type": "stream",
     "text": [
      "INFO:src.models.gnet:Predictions for test.\n",
      "LOCAL_RANK: 0 - CUDA_VISIBLE_DEVICES: [0,1,2,3]\n"
     ]
    },
    {
     "name": "stdout",
     "output_type": "stream",
     "text": [
      "🏃 View run delicate-seal-790 at: http://127.0.0.1:8081/#/experiments/887994607810552918/runs/fb94cd8dc7804c5b9f8a26fc1c97f679\n",
      "🧪 View experiment at: http://127.0.0.1:8081/#/experiments/887994607810552918\n"
     ]
    },
    {
     "data": {
      "application/vnd.jupyter.widget-view+json": {
       "model_id": "66c4c222f3da417eb2e5252d011408f5",
       "version_major": 2,
       "version_minor": 0
      },
      "text/plain": [
       "Predicting: 35it [00:00, ?it/s]"
      ]
     },
     "metadata": {},
     "output_type": "display_data"
    },
    {
     "name": "stderr",
     "output_type": "stream",
     "text": [
      "INFO:src.models.gnet:Predictions for test.\n",
      "LOCAL_RANK: 0 - CUDA_VISIBLE_DEVICES: [0,1,2,3]\n"
     ]
    },
    {
     "name": "stdout",
     "output_type": "stream",
     "text": [
      "🏃 View run delicate-seal-790 at: http://127.0.0.1:8081/#/experiments/887994607810552918/runs/fb94cd8dc7804c5b9f8a26fc1c97f679\n",
      "🧪 View experiment at: http://127.0.0.1:8081/#/experiments/887994607810552918\n"
     ]
    },
    {
     "data": {
      "application/vnd.jupyter.widget-view+json": {
       "model_id": "36e5c5585821463985c10f82bb44ef4d",
       "version_major": 2,
       "version_minor": 0
      },
      "text/plain": [
       "Predicting: 35it [00:00, ?it/s]"
      ]
     },
     "metadata": {},
     "output_type": "display_data"
    },
    {
     "name": "stderr",
     "output_type": "stream",
     "text": [
      "INFO:src.models.gnet:Predictions for test.\n",
      "LOCAL_RANK: 0 - CUDA_VISIBLE_DEVICES: [0,1,2,3]\n"
     ]
    },
    {
     "name": "stdout",
     "output_type": "stream",
     "text": [
      "🏃 View run delicate-seal-790 at: http://127.0.0.1:8081/#/experiments/887994607810552918/runs/fb94cd8dc7804c5b9f8a26fc1c97f679\n",
      "🧪 View experiment at: http://127.0.0.1:8081/#/experiments/887994607810552918\n"
     ]
    },
    {
     "data": {
      "application/vnd.jupyter.widget-view+json": {
       "model_id": "831582f0c9954d369cc240c62fec644b",
       "version_major": 2,
       "version_minor": 0
      },
      "text/plain": [
       "Predicting: 35it [00:00, ?it/s]"
      ]
     },
     "metadata": {},
     "output_type": "display_data"
    },
    {
     "name": "stderr",
     "output_type": "stream",
     "text": [
      "INFO:src.models.gnet:Predictions for test.\n",
      "LOCAL_RANK: 0 - CUDA_VISIBLE_DEVICES: [0,1,2,3]\n"
     ]
    },
    {
     "name": "stdout",
     "output_type": "stream",
     "text": [
      "🏃 View run delicate-seal-790 at: http://127.0.0.1:8081/#/experiments/887994607810552918/runs/fb94cd8dc7804c5b9f8a26fc1c97f679\n",
      "🧪 View experiment at: http://127.0.0.1:8081/#/experiments/887994607810552918\n"
     ]
    },
    {
     "data": {
      "application/vnd.jupyter.widget-view+json": {
       "model_id": "75f5ba4dee44437fa91984a1db6a6b29",
       "version_major": 2,
       "version_minor": 0
      },
      "text/plain": [
       "Predicting: 35it [00:00, ?it/s]"
      ]
     },
     "metadata": {},
     "output_type": "display_data"
    },
    {
     "name": "stderr",
     "output_type": "stream",
     "text": [
      "INFO:src.models.gnet:Predictions for test.\n",
      "LOCAL_RANK: 0 - CUDA_VISIBLE_DEVICES: [0,1,2,3]\n"
     ]
    },
    {
     "name": "stdout",
     "output_type": "stream",
     "text": [
      "🏃 View run delicate-seal-790 at: http://127.0.0.1:8081/#/experiments/887994607810552918/runs/fb94cd8dc7804c5b9f8a26fc1c97f679\n",
      "🧪 View experiment at: http://127.0.0.1:8081/#/experiments/887994607810552918\n"
     ]
    },
    {
     "data": {
      "application/vnd.jupyter.widget-view+json": {
       "model_id": "034fefea6ac541d78fd98230e864473c",
       "version_major": 2,
       "version_minor": 0
      },
      "text/plain": [
       "Predicting: 35it [00:00, ?it/s]"
      ]
     },
     "metadata": {},
     "output_type": "display_data"
    },
    {
     "name": "stderr",
     "output_type": "stream",
     "text": [
      "INFO:src.models.gnet:Predictions for test.\n",
      "LOCAL_RANK: 0 - CUDA_VISIBLE_DEVICES: [0,1,2,3]\n"
     ]
    },
    {
     "name": "stdout",
     "output_type": "stream",
     "text": [
      "🏃 View run delicate-seal-790 at: http://127.0.0.1:8081/#/experiments/887994607810552918/runs/fb94cd8dc7804c5b9f8a26fc1c97f679\n",
      "🧪 View experiment at: http://127.0.0.1:8081/#/experiments/887994607810552918\n"
     ]
    },
    {
     "data": {
      "application/vnd.jupyter.widget-view+json": {
       "model_id": "53c263d14ecb4f44b722ed218fc4855e",
       "version_major": 2,
       "version_minor": 0
      },
      "text/plain": [
       "Predicting: 35it [00:00, ?it/s]"
      ]
     },
     "metadata": {},
     "output_type": "display_data"
    },
    {
     "name": "stderr",
     "output_type": "stream",
     "text": [
      "INFO:src.models.gnet:Predictions for test.\n",
      "LOCAL_RANK: 0 - CUDA_VISIBLE_DEVICES: [0,1,2,3]\n"
     ]
    },
    {
     "name": "stdout",
     "output_type": "stream",
     "text": [
      "🏃 View run delicate-seal-790 at: http://127.0.0.1:8081/#/experiments/887994607810552918/runs/fb94cd8dc7804c5b9f8a26fc1c97f679\n",
      "🧪 View experiment at: http://127.0.0.1:8081/#/experiments/887994607810552918\n"
     ]
    },
    {
     "data": {
      "application/vnd.jupyter.widget-view+json": {
       "model_id": "01ab5470934041c88083f65c31c75b03",
       "version_major": 2,
       "version_minor": 0
      },
      "text/plain": [
       "Predicting: 35it [00:00, ?it/s]"
      ]
     },
     "metadata": {},
     "output_type": "display_data"
    },
    {
     "name": "stderr",
     "output_type": "stream",
     "text": [
      "INFO:src.models.gnet:Predictions for test.\n",
      "LOCAL_RANK: 0 - CUDA_VISIBLE_DEVICES: [0,1,2,3]\n"
     ]
    },
    {
     "name": "stdout",
     "output_type": "stream",
     "text": [
      "🏃 View run delicate-seal-790 at: http://127.0.0.1:8081/#/experiments/887994607810552918/runs/fb94cd8dc7804c5b9f8a26fc1c97f679\n",
      "🧪 View experiment at: http://127.0.0.1:8081/#/experiments/887994607810552918\n"
     ]
    },
    {
     "data": {
      "application/vnd.jupyter.widget-view+json": {
       "model_id": "0d65503c6f2142e2b746a69ce74c4e22",
       "version_major": 2,
       "version_minor": 0
      },
      "text/plain": [
       "Predicting: 35it [00:00, ?it/s]"
      ]
     },
     "metadata": {},
     "output_type": "display_data"
    },
    {
     "name": "stderr",
     "output_type": "stream",
     "text": [
      "INFO:src.models.gnet:Predictions for test.\n",
      "LOCAL_RANK: 0 - CUDA_VISIBLE_DEVICES: [0,1,2,3]\n"
     ]
    },
    {
     "name": "stdout",
     "output_type": "stream",
     "text": [
      "🏃 View run delicate-seal-790 at: http://127.0.0.1:8081/#/experiments/887994607810552918/runs/fb94cd8dc7804c5b9f8a26fc1c97f679\n",
      "🧪 View experiment at: http://127.0.0.1:8081/#/experiments/887994607810552918\n"
     ]
    },
    {
     "data": {
      "application/vnd.jupyter.widget-view+json": {
       "model_id": "832e6932a18348d59f5bcad2ba97c54f",
       "version_major": 2,
       "version_minor": 0
      },
      "text/plain": [
       "Predicting: 35it [00:00, ?it/s]"
      ]
     },
     "metadata": {},
     "output_type": "display_data"
    },
    {
     "name": "stderr",
     "output_type": "stream",
     "text": [
      "INFO:src.models.gnet:Predictions for test.\n",
      "LOCAL_RANK: 0 - CUDA_VISIBLE_DEVICES: [0,1,2,3]\n"
     ]
    },
    {
     "name": "stdout",
     "output_type": "stream",
     "text": [
      "🏃 View run delicate-seal-790 at: http://127.0.0.1:8081/#/experiments/887994607810552918/runs/fb94cd8dc7804c5b9f8a26fc1c97f679\n",
      "🧪 View experiment at: http://127.0.0.1:8081/#/experiments/887994607810552918\n"
     ]
    },
    {
     "data": {
      "application/vnd.jupyter.widget-view+json": {
       "model_id": "30745abd6173431b9c73288d4f2c6f5e",
       "version_major": 2,
       "version_minor": 0
      },
      "text/plain": [
       "Predicting: 35it [00:00, ?it/s]"
      ]
     },
     "metadata": {},
     "output_type": "display_data"
    },
    {
     "name": "stderr",
     "output_type": "stream",
     "text": [
      "INFO:src.models.gnet:Predictions for test.\n",
      "LOCAL_RANK: 0 - CUDA_VISIBLE_DEVICES: [0,1,2,3]\n"
     ]
    },
    {
     "name": "stdout",
     "output_type": "stream",
     "text": [
      "🏃 View run delicate-seal-790 at: http://127.0.0.1:8081/#/experiments/887994607810552918/runs/fb94cd8dc7804c5b9f8a26fc1c97f679\n",
      "🧪 View experiment at: http://127.0.0.1:8081/#/experiments/887994607810552918\n"
     ]
    },
    {
     "data": {
      "application/vnd.jupyter.widget-view+json": {
       "model_id": "d1d308bb1fe044bda9c13899b9db1f14",
       "version_major": 2,
       "version_minor": 0
      },
      "text/plain": [
       "Predicting: 35it [00:00, ?it/s]"
      ]
     },
     "metadata": {},
     "output_type": "display_data"
    },
    {
     "name": "stderr",
     "output_type": "stream",
     "text": [
      "INFO:src.models.gnet:Predictions for test.\n",
      "LOCAL_RANK: 0 - CUDA_VISIBLE_DEVICES: [0,1,2,3]\n"
     ]
    },
    {
     "name": "stdout",
     "output_type": "stream",
     "text": [
      "🏃 View run delicate-seal-790 at: http://127.0.0.1:8081/#/experiments/887994607810552918/runs/fb94cd8dc7804c5b9f8a26fc1c97f679\n",
      "🧪 View experiment at: http://127.0.0.1:8081/#/experiments/887994607810552918\n"
     ]
    },
    {
     "data": {
      "application/vnd.jupyter.widget-view+json": {
       "model_id": "377e82b54eba4782832cc56db4eab772",
       "version_major": 2,
       "version_minor": 0
      },
      "text/plain": [
       "Predicting: 35it [00:00, ?it/s]"
      ]
     },
     "metadata": {},
     "output_type": "display_data"
    },
    {
     "name": "stderr",
     "output_type": "stream",
     "text": [
      "INFO:src.models.gnet:Predictions for test.\n",
      "LOCAL_RANK: 0 - CUDA_VISIBLE_DEVICES: [0,1,2,3]\n"
     ]
    },
    {
     "name": "stdout",
     "output_type": "stream",
     "text": [
      "🏃 View run delicate-seal-790 at: http://127.0.0.1:8081/#/experiments/887994607810552918/runs/fb94cd8dc7804c5b9f8a26fc1c97f679\n",
      "🧪 View experiment at: http://127.0.0.1:8081/#/experiments/887994607810552918\n"
     ]
    },
    {
     "data": {
      "application/vnd.jupyter.widget-view+json": {
       "model_id": "e7a78eac4f9f4d3f97e7eb3038ade855",
       "version_major": 2,
       "version_minor": 0
      },
      "text/plain": [
       "Predicting: 35it [00:00, ?it/s]"
      ]
     },
     "metadata": {},
     "output_type": "display_data"
    },
    {
     "name": "stderr",
     "output_type": "stream",
     "text": [
      "INFO:src.models.gnet:Predictions for test.\n",
      "LOCAL_RANK: 0 - CUDA_VISIBLE_DEVICES: [0,1,2,3]\n"
     ]
    },
    {
     "name": "stdout",
     "output_type": "stream",
     "text": [
      "🏃 View run delicate-seal-790 at: http://127.0.0.1:8081/#/experiments/887994607810552918/runs/fb94cd8dc7804c5b9f8a26fc1c97f679\n",
      "🧪 View experiment at: http://127.0.0.1:8081/#/experiments/887994607810552918\n"
     ]
    },
    {
     "data": {
      "application/vnd.jupyter.widget-view+json": {
       "model_id": "00acd5c2c32b4732a270ccd27810df9f",
       "version_major": 2,
       "version_minor": 0
      },
      "text/plain": [
       "Predicting: 35it [00:00, ?it/s]"
      ]
     },
     "metadata": {},
     "output_type": "display_data"
    },
    {
     "name": "stderr",
     "output_type": "stream",
     "text": [
      "INFO:src.models.gnet:Predictions for test.\n",
      "LOCAL_RANK: 0 - CUDA_VISIBLE_DEVICES: [0,1,2,3]\n"
     ]
    },
    {
     "name": "stdout",
     "output_type": "stream",
     "text": [
      "🏃 View run delicate-seal-790 at: http://127.0.0.1:8081/#/experiments/887994607810552918/runs/fb94cd8dc7804c5b9f8a26fc1c97f679\n",
      "🧪 View experiment at: http://127.0.0.1:8081/#/experiments/887994607810552918\n"
     ]
    },
    {
     "data": {
      "application/vnd.jupyter.widget-view+json": {
       "model_id": "e538d4c85c03484da862b0c0abc8b170",
       "version_major": 2,
       "version_minor": 0
      },
      "text/plain": [
       "Predicting: 35it [00:00, ?it/s]"
      ]
     },
     "metadata": {},
     "output_type": "display_data"
    },
    {
     "name": "stderr",
     "output_type": "stream",
     "text": [
      "INFO:src.models.gnet:Predictions for test.\n",
      "LOCAL_RANK: 0 - CUDA_VISIBLE_DEVICES: [0,1,2,3]\n"
     ]
    },
    {
     "name": "stdout",
     "output_type": "stream",
     "text": [
      "🏃 View run delicate-seal-790 at: http://127.0.0.1:8081/#/experiments/887994607810552918/runs/fb94cd8dc7804c5b9f8a26fc1c97f679\n",
      "🧪 View experiment at: http://127.0.0.1:8081/#/experiments/887994607810552918\n"
     ]
    },
    {
     "data": {
      "application/vnd.jupyter.widget-view+json": {
       "model_id": "f6a50aa674c7433ba76fe6d1770c6e34",
       "version_major": 2,
       "version_minor": 0
      },
      "text/plain": [
       "Predicting: 35it [00:00, ?it/s]"
      ]
     },
     "metadata": {},
     "output_type": "display_data"
    },
    {
     "name": "stderr",
     "output_type": "stream",
     "text": [
      "INFO:src.models.gnet:Predictions for test.\n",
      "LOCAL_RANK: 0 - CUDA_VISIBLE_DEVICES: [0,1,2,3]\n"
     ]
    },
    {
     "name": "stdout",
     "output_type": "stream",
     "text": [
      "🏃 View run delicate-seal-790 at: http://127.0.0.1:8081/#/experiments/887994607810552918/runs/fb94cd8dc7804c5b9f8a26fc1c97f679\n",
      "🧪 View experiment at: http://127.0.0.1:8081/#/experiments/887994607810552918\n"
     ]
    },
    {
     "data": {
      "application/vnd.jupyter.widget-view+json": {
       "model_id": "3ab642d833094a5f84feee1174b08f50",
       "version_major": 2,
       "version_minor": 0
      },
      "text/plain": [
       "Predicting: 35it [00:00, ?it/s]"
      ]
     },
     "metadata": {},
     "output_type": "display_data"
    },
    {
     "name": "stderr",
     "output_type": "stream",
     "text": [
      "INFO:src.models.gnet:Predictions for test.\n",
      "LOCAL_RANK: 0 - CUDA_VISIBLE_DEVICES: [0,1,2,3]\n"
     ]
    },
    {
     "name": "stdout",
     "output_type": "stream",
     "text": [
      "🏃 View run delicate-seal-790 at: http://127.0.0.1:8081/#/experiments/887994607810552918/runs/fb94cd8dc7804c5b9f8a26fc1c97f679\n",
      "🧪 View experiment at: http://127.0.0.1:8081/#/experiments/887994607810552918\n"
     ]
    },
    {
     "data": {
      "application/vnd.jupyter.widget-view+json": {
       "model_id": "17ed8b769db046c5a8d0c119ee6798ce",
       "version_major": 2,
       "version_minor": 0
      },
      "text/plain": [
       "Predicting: 35it [00:00, ?it/s]"
      ]
     },
     "metadata": {},
     "output_type": "display_data"
    },
    {
     "name": "stderr",
     "output_type": "stream",
     "text": [
      "INFO:src.models.gnet:Predictions for test.\n",
      "LOCAL_RANK: 0 - CUDA_VISIBLE_DEVICES: [0,1,2,3]\n"
     ]
    },
    {
     "name": "stdout",
     "output_type": "stream",
     "text": [
      "🏃 View run delicate-seal-790 at: http://127.0.0.1:8081/#/experiments/887994607810552918/runs/fb94cd8dc7804c5b9f8a26fc1c97f679\n",
      "🧪 View experiment at: http://127.0.0.1:8081/#/experiments/887994607810552918\n"
     ]
    },
    {
     "data": {
      "application/vnd.jupyter.widget-view+json": {
       "model_id": "c605b5c159f94a469c5f28e9545d2eab",
       "version_major": 2,
       "version_minor": 0
      },
      "text/plain": [
       "Predicting: 35it [00:00, ?it/s]"
      ]
     },
     "metadata": {},
     "output_type": "display_data"
    },
    {
     "name": "stderr",
     "output_type": "stream",
     "text": [
      "INFO:src.models.gnet:Predictions for test.\n",
      "LOCAL_RANK: 0 - CUDA_VISIBLE_DEVICES: [0,1,2,3]\n"
     ]
    },
    {
     "name": "stdout",
     "output_type": "stream",
     "text": [
      "🏃 View run delicate-seal-790 at: http://127.0.0.1:8081/#/experiments/887994607810552918/runs/fb94cd8dc7804c5b9f8a26fc1c97f679\n",
      "🧪 View experiment at: http://127.0.0.1:8081/#/experiments/887994607810552918\n"
     ]
    },
    {
     "data": {
      "application/vnd.jupyter.widget-view+json": {
       "model_id": "cffa995ee65f4fb6becfd6e70f6e7097",
       "version_major": 2,
       "version_minor": 0
      },
      "text/plain": [
       "Predicting: 35it [00:00, ?it/s]"
      ]
     },
     "metadata": {},
     "output_type": "display_data"
    },
    {
     "name": "stderr",
     "output_type": "stream",
     "text": [
      "INFO:src.models.gnet:Predictions for test.\n",
      "LOCAL_RANK: 0 - CUDA_VISIBLE_DEVICES: [0,1,2,3]\n"
     ]
    },
    {
     "name": "stdout",
     "output_type": "stream",
     "text": [
      "🏃 View run delicate-seal-790 at: http://127.0.0.1:8081/#/experiments/887994607810552918/runs/fb94cd8dc7804c5b9f8a26fc1c97f679\n",
      "🧪 View experiment at: http://127.0.0.1:8081/#/experiments/887994607810552918\n"
     ]
    },
    {
     "data": {
      "application/vnd.jupyter.widget-view+json": {
       "model_id": "48c96c99ed994843a8993590653b5f8b",
       "version_major": 2,
       "version_minor": 0
      },
      "text/plain": [
       "Predicting: 35it [00:00, ?it/s]"
      ]
     },
     "metadata": {},
     "output_type": "display_data"
    },
    {
     "name": "stderr",
     "output_type": "stream",
     "text": [
      "INFO:src.models.gnet:Predictions for test.\n",
      "LOCAL_RANK: 0 - CUDA_VISIBLE_DEVICES: [0,1,2,3]\n"
     ]
    },
    {
     "name": "stdout",
     "output_type": "stream",
     "text": [
      "🏃 View run delicate-seal-790 at: http://127.0.0.1:8081/#/experiments/887994607810552918/runs/fb94cd8dc7804c5b9f8a26fc1c97f679\n",
      "🧪 View experiment at: http://127.0.0.1:8081/#/experiments/887994607810552918\n"
     ]
    },
    {
     "data": {
      "application/vnd.jupyter.widget-view+json": {
       "model_id": "05e602c02770400dbb02d336d089bf4c",
       "version_major": 2,
       "version_minor": 0
      },
      "text/plain": [
       "Predicting: 35it [00:00, ?it/s]"
      ]
     },
     "metadata": {},
     "output_type": "display_data"
    },
    {
     "name": "stderr",
     "output_type": "stream",
     "text": [
      "INFO:src.models.gnet:Predictions for test.\n",
      "LOCAL_RANK: 0 - CUDA_VISIBLE_DEVICES: [0,1,2,3]\n"
     ]
    },
    {
     "name": "stdout",
     "output_type": "stream",
     "text": [
      "🏃 View run delicate-seal-790 at: http://127.0.0.1:8081/#/experiments/887994607810552918/runs/fb94cd8dc7804c5b9f8a26fc1c97f679\n",
      "🧪 View experiment at: http://127.0.0.1:8081/#/experiments/887994607810552918\n"
     ]
    },
    {
     "data": {
      "application/vnd.jupyter.widget-view+json": {
       "model_id": "cd1b48905f86420ba19477e6d45affd0",
       "version_major": 2,
       "version_minor": 0
      },
      "text/plain": [
       "Predicting: 35it [00:00, ?it/s]"
      ]
     },
     "metadata": {},
     "output_type": "display_data"
    },
    {
     "name": "stderr",
     "output_type": "stream",
     "text": [
      "INFO:src.models.gnet:Predictions for test.\n",
      "LOCAL_RANK: 0 - CUDA_VISIBLE_DEVICES: [0,1,2,3]\n"
     ]
    },
    {
     "name": "stdout",
     "output_type": "stream",
     "text": [
      "🏃 View run delicate-seal-790 at: http://127.0.0.1:8081/#/experiments/887994607810552918/runs/fb94cd8dc7804c5b9f8a26fc1c97f679\n",
      "🧪 View experiment at: http://127.0.0.1:8081/#/experiments/887994607810552918\n"
     ]
    },
    {
     "data": {
      "application/vnd.jupyter.widget-view+json": {
       "model_id": "655e42dc64554fa9b6066879a3dcb034",
       "version_major": 2,
       "version_minor": 0
      },
      "text/plain": [
       "Predicting: 35it [00:00, ?it/s]"
      ]
     },
     "metadata": {},
     "output_type": "display_data"
    },
    {
     "name": "stderr",
     "output_type": "stream",
     "text": [
      "INFO:src.models.gnet:Predictions for test.\n",
      "LOCAL_RANK: 0 - CUDA_VISIBLE_DEVICES: [0,1,2,3]\n"
     ]
    },
    {
     "name": "stdout",
     "output_type": "stream",
     "text": [
      "🏃 View run delicate-seal-790 at: http://127.0.0.1:8081/#/experiments/887994607810552918/runs/fb94cd8dc7804c5b9f8a26fc1c97f679\n",
      "🧪 View experiment at: http://127.0.0.1:8081/#/experiments/887994607810552918\n"
     ]
    },
    {
     "data": {
      "application/vnd.jupyter.widget-view+json": {
       "model_id": "01dc30c6ac6046bdb0d45588a6c69d0a",
       "version_major": 2,
       "version_minor": 0
      },
      "text/plain": [
       "Predicting: 35it [00:00, ?it/s]"
      ]
     },
     "metadata": {},
     "output_type": "display_data"
    },
    {
     "name": "stderr",
     "output_type": "stream",
     "text": [
      "INFO:src.models.gnet:Predictions for test.\n",
      "LOCAL_RANK: 0 - CUDA_VISIBLE_DEVICES: [0,1,2,3]\n"
     ]
    },
    {
     "name": "stdout",
     "output_type": "stream",
     "text": [
      "🏃 View run delicate-seal-790 at: http://127.0.0.1:8081/#/experiments/887994607810552918/runs/fb94cd8dc7804c5b9f8a26fc1c97f679\n",
      "🧪 View experiment at: http://127.0.0.1:8081/#/experiments/887994607810552918\n"
     ]
    },
    {
     "data": {
      "application/vnd.jupyter.widget-view+json": {
       "model_id": "7c089a61c252442484eb04634a6b213d",
       "version_major": 2,
       "version_minor": 0
      },
      "text/plain": [
       "Predicting: 35it [00:00, ?it/s]"
      ]
     },
     "metadata": {},
     "output_type": "display_data"
    },
    {
     "name": "stderr",
     "output_type": "stream",
     "text": [
      "INFO:src.models.gnet:Predictions for test.\n",
      "LOCAL_RANK: 0 - CUDA_VISIBLE_DEVICES: [0,1,2,3]\n"
     ]
    },
    {
     "name": "stdout",
     "output_type": "stream",
     "text": [
      "🏃 View run delicate-seal-790 at: http://127.0.0.1:8081/#/experiments/887994607810552918/runs/fb94cd8dc7804c5b9f8a26fc1c97f679\n",
      "🧪 View experiment at: http://127.0.0.1:8081/#/experiments/887994607810552918\n"
     ]
    },
    {
     "data": {
      "application/vnd.jupyter.widget-view+json": {
       "model_id": "4ca938a7028348cc88f36f05fa84713b",
       "version_major": 2,
       "version_minor": 0
      },
      "text/plain": [
       "Predicting: 35it [00:00, ?it/s]"
      ]
     },
     "metadata": {},
     "output_type": "display_data"
    },
    {
     "name": "stderr",
     "output_type": "stream",
     "text": [
      "INFO:src.models.gnet:Predictions for test.\n",
      "LOCAL_RANK: 0 - CUDA_VISIBLE_DEVICES: [0,1,2,3]\n"
     ]
    },
    {
     "name": "stdout",
     "output_type": "stream",
     "text": [
      "🏃 View run delicate-seal-790 at: http://127.0.0.1:8081/#/experiments/887994607810552918/runs/fb94cd8dc7804c5b9f8a26fc1c97f679\n",
      "🧪 View experiment at: http://127.0.0.1:8081/#/experiments/887994607810552918\n"
     ]
    },
    {
     "data": {
      "application/vnd.jupyter.widget-view+json": {
       "model_id": "39ee6c32e0794a15bca30b3e29076d5a",
       "version_major": 2,
       "version_minor": 0
      },
      "text/plain": [
       "Predicting: 35it [00:00, ?it/s]"
      ]
     },
     "metadata": {},
     "output_type": "display_data"
    },
    {
     "name": "stderr",
     "output_type": "stream",
     "text": [
      "INFO:src.models.gnet:Predictions for test.\n",
      "LOCAL_RANK: 0 - CUDA_VISIBLE_DEVICES: [0,1,2,3]\n"
     ]
    },
    {
     "name": "stdout",
     "output_type": "stream",
     "text": [
      "🏃 View run delicate-seal-790 at: http://127.0.0.1:8081/#/experiments/887994607810552918/runs/fb94cd8dc7804c5b9f8a26fc1c97f679\n",
      "🧪 View experiment at: http://127.0.0.1:8081/#/experiments/887994607810552918\n"
     ]
    },
    {
     "data": {
      "application/vnd.jupyter.widget-view+json": {
       "model_id": "b25d84e979464423b3167e71b068b815",
       "version_major": 2,
       "version_minor": 0
      },
      "text/plain": [
       "Predicting: 35it [00:00, ?it/s]"
      ]
     },
     "metadata": {},
     "output_type": "display_data"
    },
    {
     "name": "stderr",
     "output_type": "stream",
     "text": [
      "INFO:src.models.gnet:Predictions for test.\n",
      "LOCAL_RANK: 0 - CUDA_VISIBLE_DEVICES: [0,1,2,3]\n"
     ]
    },
    {
     "name": "stdout",
     "output_type": "stream",
     "text": [
      "🏃 View run delicate-seal-790 at: http://127.0.0.1:8081/#/experiments/887994607810552918/runs/fb94cd8dc7804c5b9f8a26fc1c97f679\n",
      "🧪 View experiment at: http://127.0.0.1:8081/#/experiments/887994607810552918\n"
     ]
    },
    {
     "data": {
      "application/vnd.jupyter.widget-view+json": {
       "model_id": "4a8981b7055e4f8a82c2f84be9c95123",
       "version_major": 2,
       "version_minor": 0
      },
      "text/plain": [
       "Predicting: 35it [00:00, ?it/s]"
      ]
     },
     "metadata": {},
     "output_type": "display_data"
    },
    {
     "name": "stderr",
     "output_type": "stream",
     "text": [
      "INFO:src.models.gnet:Predictions for test.\n",
      "LOCAL_RANK: 0 - CUDA_VISIBLE_DEVICES: [0,1,2,3]\n"
     ]
    },
    {
     "name": "stdout",
     "output_type": "stream",
     "text": [
      "🏃 View run delicate-seal-790 at: http://127.0.0.1:8081/#/experiments/887994607810552918/runs/fb94cd8dc7804c5b9f8a26fc1c97f679\n",
      "🧪 View experiment at: http://127.0.0.1:8081/#/experiments/887994607810552918\n"
     ]
    },
    {
     "data": {
      "application/vnd.jupyter.widget-view+json": {
       "model_id": "1be7054386c7472ab97a467db8ceeeb0",
       "version_major": 2,
       "version_minor": 0
      },
      "text/plain": [
       "Predicting: 35it [00:00, ?it/s]"
      ]
     },
     "metadata": {},
     "output_type": "display_data"
    },
    {
     "name": "stderr",
     "output_type": "stream",
     "text": [
      "INFO:src.models.gnet:Predictions for test.\n",
      "LOCAL_RANK: 0 - CUDA_VISIBLE_DEVICES: [0,1,2,3]\n"
     ]
    },
    {
     "name": "stdout",
     "output_type": "stream",
     "text": [
      "🏃 View run delicate-seal-790 at: http://127.0.0.1:8081/#/experiments/887994607810552918/runs/fb94cd8dc7804c5b9f8a26fc1c97f679\n",
      "🧪 View experiment at: http://127.0.0.1:8081/#/experiments/887994607810552918\n"
     ]
    },
    {
     "data": {
      "application/vnd.jupyter.widget-view+json": {
       "model_id": "f82c5b5371ac4203b5b75674920ac0fc",
       "version_major": 2,
       "version_minor": 0
      },
      "text/plain": [
       "Predicting: 35it [00:00, ?it/s]"
      ]
     },
     "metadata": {},
     "output_type": "display_data"
    },
    {
     "name": "stderr",
     "output_type": "stream",
     "text": [
      "INFO:src.models.gnet:Predictions for test.\n",
      "LOCAL_RANK: 0 - CUDA_VISIBLE_DEVICES: [0,1,2,3]\n"
     ]
    },
    {
     "name": "stdout",
     "output_type": "stream",
     "text": [
      "🏃 View run delicate-seal-790 at: http://127.0.0.1:8081/#/experiments/887994607810552918/runs/fb94cd8dc7804c5b9f8a26fc1c97f679\n",
      "🧪 View experiment at: http://127.0.0.1:8081/#/experiments/887994607810552918\n"
     ]
    },
    {
     "data": {
      "application/vnd.jupyter.widget-view+json": {
       "model_id": "bcd16a4709884219b3c23dd634cd4000",
       "version_major": 2,
       "version_minor": 0
      },
      "text/plain": [
       "Predicting: 35it [00:00, ?it/s]"
      ]
     },
     "metadata": {},
     "output_type": "display_data"
    },
    {
     "name": "stderr",
     "output_type": "stream",
     "text": [
      "INFO:src.models.gnet:Predictions for test.\n",
      "LOCAL_RANK: 0 - CUDA_VISIBLE_DEVICES: [0,1,2,3]\n"
     ]
    },
    {
     "name": "stdout",
     "output_type": "stream",
     "text": [
      "🏃 View run delicate-seal-790 at: http://127.0.0.1:8081/#/experiments/887994607810552918/runs/fb94cd8dc7804c5b9f8a26fc1c97f679\n",
      "🧪 View experiment at: http://127.0.0.1:8081/#/experiments/887994607810552918\n"
     ]
    },
    {
     "data": {
      "application/vnd.jupyter.widget-view+json": {
       "model_id": "649fe613dac447fdac6bb109b8d296de",
       "version_major": 2,
       "version_minor": 0
      },
      "text/plain": [
       "Predicting: 35it [00:00, ?it/s]"
      ]
     },
     "metadata": {},
     "output_type": "display_data"
    },
    {
     "name": "stderr",
     "output_type": "stream",
     "text": [
      "INFO:src.models.gnet:Predictions for test.\n",
      "LOCAL_RANK: 0 - CUDA_VISIBLE_DEVICES: [0,1,2,3]\n"
     ]
    },
    {
     "name": "stdout",
     "output_type": "stream",
     "text": [
      "🏃 View run delicate-seal-790 at: http://127.0.0.1:8081/#/experiments/887994607810552918/runs/fb94cd8dc7804c5b9f8a26fc1c97f679\n",
      "🧪 View experiment at: http://127.0.0.1:8081/#/experiments/887994607810552918\n"
     ]
    },
    {
     "data": {
      "application/vnd.jupyter.widget-view+json": {
       "model_id": "4326123b647641cf93f5542e89f2543e",
       "version_major": 2,
       "version_minor": 0
      },
      "text/plain": [
       "Predicting: 35it [00:00, ?it/s]"
      ]
     },
     "metadata": {},
     "output_type": "display_data"
    },
    {
     "name": "stderr",
     "output_type": "stream",
     "text": [
      "INFO:src.models.gnet:Predictions for test.\n",
      "LOCAL_RANK: 0 - CUDA_VISIBLE_DEVICES: [0,1,2,3]\n"
     ]
    },
    {
     "name": "stdout",
     "output_type": "stream",
     "text": [
      "🏃 View run delicate-seal-790 at: http://127.0.0.1:8081/#/experiments/887994607810552918/runs/fb94cd8dc7804c5b9f8a26fc1c97f679\n",
      "🧪 View experiment at: http://127.0.0.1:8081/#/experiments/887994607810552918\n"
     ]
    },
    {
     "data": {
      "application/vnd.jupyter.widget-view+json": {
       "model_id": "dae9a6e7f3ca4b858974c034b5f40f35",
       "version_major": 2,
       "version_minor": 0
      },
      "text/plain": [
       "Predicting: 35it [00:00, ?it/s]"
      ]
     },
     "metadata": {},
     "output_type": "display_data"
    },
    {
     "name": "stderr",
     "output_type": "stream",
     "text": [
      "INFO:src.models.gnet:Predictions for test.\n",
      "LOCAL_RANK: 0 - CUDA_VISIBLE_DEVICES: [0,1,2,3]\n"
     ]
    },
    {
     "name": "stdout",
     "output_type": "stream",
     "text": [
      "🏃 View run delicate-seal-790 at: http://127.0.0.1:8081/#/experiments/887994607810552918/runs/fb94cd8dc7804c5b9f8a26fc1c97f679\n",
      "🧪 View experiment at: http://127.0.0.1:8081/#/experiments/887994607810552918\n"
     ]
    },
    {
     "data": {
      "application/vnd.jupyter.widget-view+json": {
       "model_id": "397f90e484e746c9a8291544b3ba03a1",
       "version_major": 2,
       "version_minor": 0
      },
      "text/plain": [
       "Predicting: 35it [00:00, ?it/s]"
      ]
     },
     "metadata": {},
     "output_type": "display_data"
    },
    {
     "name": "stderr",
     "output_type": "stream",
     "text": [
      "INFO:src.models.gnet:Predictions for test.\n",
      "LOCAL_RANK: 0 - CUDA_VISIBLE_DEVICES: [0,1,2,3]\n"
     ]
    },
    {
     "name": "stdout",
     "output_type": "stream",
     "text": [
      "🏃 View run delicate-seal-790 at: http://127.0.0.1:8081/#/experiments/887994607810552918/runs/fb94cd8dc7804c5b9f8a26fc1c97f679\n",
      "🧪 View experiment at: http://127.0.0.1:8081/#/experiments/887994607810552918\n"
     ]
    },
    {
     "data": {
      "application/vnd.jupyter.widget-view+json": {
       "model_id": "8c3459490ccf4b71b3c45fb4485bf07a",
       "version_major": 2,
       "version_minor": 0
      },
      "text/plain": [
       "Predicting: 35it [00:00, ?it/s]"
      ]
     },
     "metadata": {},
     "output_type": "display_data"
    },
    {
     "name": "stderr",
     "output_type": "stream",
     "text": [
      "INFO:src.models.gnet:Predictions for test.\n",
      "LOCAL_RANK: 0 - CUDA_VISIBLE_DEVICES: [0,1,2,3]\n"
     ]
    },
    {
     "name": "stdout",
     "output_type": "stream",
     "text": [
      "🏃 View run delicate-seal-790 at: http://127.0.0.1:8081/#/experiments/887994607810552918/runs/fb94cd8dc7804c5b9f8a26fc1c97f679\n",
      "🧪 View experiment at: http://127.0.0.1:8081/#/experiments/887994607810552918\n"
     ]
    },
    {
     "data": {
      "application/vnd.jupyter.widget-view+json": {
       "model_id": "ea423ac882424409a95f6bb48d7d23e7",
       "version_major": 2,
       "version_minor": 0
      },
      "text/plain": [
       "Predicting: 35it [00:00, ?it/s]"
      ]
     },
     "metadata": {},
     "output_type": "display_data"
    },
    {
     "name": "stderr",
     "output_type": "stream",
     "text": [
      "INFO:src.models.gnet:Predictions for test.\n",
      "LOCAL_RANK: 0 - CUDA_VISIBLE_DEVICES: [0,1,2,3]\n"
     ]
    },
    {
     "name": "stdout",
     "output_type": "stream",
     "text": [
      "🏃 View run delicate-seal-790 at: http://127.0.0.1:8081/#/experiments/887994607810552918/runs/fb94cd8dc7804c5b9f8a26fc1c97f679\n",
      "🧪 View experiment at: http://127.0.0.1:8081/#/experiments/887994607810552918\n"
     ]
    },
    {
     "data": {
      "application/vnd.jupyter.widget-view+json": {
       "model_id": "a9d34e67bf20452e9145f3c5388cdc6c",
       "version_major": 2,
       "version_minor": 0
      },
      "text/plain": [
       "Predicting: 35it [00:00, ?it/s]"
      ]
     },
     "metadata": {},
     "output_type": "display_data"
    },
    {
     "name": "stderr",
     "output_type": "stream",
     "text": [
      "INFO:src.models.gnet:Predictions for test.\n",
      "LOCAL_RANK: 0 - CUDA_VISIBLE_DEVICES: [0,1,2,3]\n"
     ]
    },
    {
     "name": "stdout",
     "output_type": "stream",
     "text": [
      "🏃 View run delicate-seal-790 at: http://127.0.0.1:8081/#/experiments/887994607810552918/runs/fb94cd8dc7804c5b9f8a26fc1c97f679\n",
      "🧪 View experiment at: http://127.0.0.1:8081/#/experiments/887994607810552918\n"
     ]
    },
    {
     "data": {
      "application/vnd.jupyter.widget-view+json": {
       "model_id": "7bb1aad4df6d4d5f81dbbb19223ae267",
       "version_major": 2,
       "version_minor": 0
      },
      "text/plain": [
       "Predicting: 35it [00:00, ?it/s]"
      ]
     },
     "metadata": {},
     "output_type": "display_data"
    },
    {
     "name": "stderr",
     "output_type": "stream",
     "text": [
      "INFO:src.models.gnet:t = 4\n",
      "INFO:src.models.gnet:Predictions for test.\n",
      "LOCAL_RANK: 0 - CUDA_VISIBLE_DEVICES: [0,1,2,3]\n"
     ]
    },
    {
     "name": "stdout",
     "output_type": "stream",
     "text": [
      "🏃 View run delicate-seal-790 at: http://127.0.0.1:8081/#/experiments/887994607810552918/runs/fb94cd8dc7804c5b9f8a26fc1c97f679\n",
      "🧪 View experiment at: http://127.0.0.1:8081/#/experiments/887994607810552918\n"
     ]
    },
    {
     "data": {
      "application/vnd.jupyter.widget-view+json": {
       "model_id": "c12a5167cc7f4dd2a6ed54b7f287a85e",
       "version_major": 2,
       "version_minor": 0
      },
      "text/plain": [
       "Predicting: 35it [00:00, ?it/s]"
      ]
     },
     "metadata": {},
     "output_type": "display_data"
    },
    {
     "name": "stderr",
     "output_type": "stream",
     "text": [
      "INFO:src.models.gnet:Predictions for test.\n",
      "LOCAL_RANK: 0 - CUDA_VISIBLE_DEVICES: [0,1,2,3]\n"
     ]
    },
    {
     "name": "stdout",
     "output_type": "stream",
     "text": [
      "🏃 View run delicate-seal-790 at: http://127.0.0.1:8081/#/experiments/887994607810552918/runs/fb94cd8dc7804c5b9f8a26fc1c97f679\n",
      "🧪 View experiment at: http://127.0.0.1:8081/#/experiments/887994607810552918\n"
     ]
    },
    {
     "data": {
      "application/vnd.jupyter.widget-view+json": {
       "model_id": "0385e263ced64fd0bb4e7a4ec17109cf",
       "version_major": 2,
       "version_minor": 0
      },
      "text/plain": [
       "Predicting: 35it [00:00, ?it/s]"
      ]
     },
     "metadata": {},
     "output_type": "display_data"
    },
    {
     "name": "stderr",
     "output_type": "stream",
     "text": [
      "INFO:src.models.gnet:Predictions for test.\n",
      "LOCAL_RANK: 0 - CUDA_VISIBLE_DEVICES: [0,1,2,3]\n"
     ]
    },
    {
     "name": "stdout",
     "output_type": "stream",
     "text": [
      "🏃 View run delicate-seal-790 at: http://127.0.0.1:8081/#/experiments/887994607810552918/runs/fb94cd8dc7804c5b9f8a26fc1c97f679\n",
      "🧪 View experiment at: http://127.0.0.1:8081/#/experiments/887994607810552918\n"
     ]
    },
    {
     "data": {
      "application/vnd.jupyter.widget-view+json": {
       "model_id": "751677d43f5a4d8ba5c73173401fd16a",
       "version_major": 2,
       "version_minor": 0
      },
      "text/plain": [
       "Predicting: 35it [00:00, ?it/s]"
      ]
     },
     "metadata": {},
     "output_type": "display_data"
    },
    {
     "name": "stderr",
     "output_type": "stream",
     "text": [
      "INFO:src.models.gnet:Predictions for test.\n",
      "LOCAL_RANK: 0 - CUDA_VISIBLE_DEVICES: [0,1,2,3]\n"
     ]
    },
    {
     "name": "stdout",
     "output_type": "stream",
     "text": [
      "🏃 View run delicate-seal-790 at: http://127.0.0.1:8081/#/experiments/887994607810552918/runs/fb94cd8dc7804c5b9f8a26fc1c97f679\n",
      "🧪 View experiment at: http://127.0.0.1:8081/#/experiments/887994607810552918\n"
     ]
    },
    {
     "data": {
      "application/vnd.jupyter.widget-view+json": {
       "model_id": "d7f654e624714e09a9823da28e86794d",
       "version_major": 2,
       "version_minor": 0
      },
      "text/plain": [
       "Predicting: 35it [00:00, ?it/s]"
      ]
     },
     "metadata": {},
     "output_type": "display_data"
    },
    {
     "name": "stderr",
     "output_type": "stream",
     "text": [
      "INFO:src.models.gnet:Predictions for test.\n",
      "LOCAL_RANK: 0 - CUDA_VISIBLE_DEVICES: [0,1,2,3]\n"
     ]
    },
    {
     "name": "stdout",
     "output_type": "stream",
     "text": [
      "🏃 View run delicate-seal-790 at: http://127.0.0.1:8081/#/experiments/887994607810552918/runs/fb94cd8dc7804c5b9f8a26fc1c97f679\n",
      "🧪 View experiment at: http://127.0.0.1:8081/#/experiments/887994607810552918\n"
     ]
    },
    {
     "data": {
      "application/vnd.jupyter.widget-view+json": {
       "model_id": "5f4af15a70c8447b899751b55397da1a",
       "version_major": 2,
       "version_minor": 0
      },
      "text/plain": [
       "Predicting: 35it [00:00, ?it/s]"
      ]
     },
     "metadata": {},
     "output_type": "display_data"
    },
    {
     "name": "stderr",
     "output_type": "stream",
     "text": [
      "INFO:src.models.gnet:Predictions for test.\n",
      "LOCAL_RANK: 0 - CUDA_VISIBLE_DEVICES: [0,1,2,3]\n"
     ]
    },
    {
     "name": "stdout",
     "output_type": "stream",
     "text": [
      "🏃 View run delicate-seal-790 at: http://127.0.0.1:8081/#/experiments/887994607810552918/runs/fb94cd8dc7804c5b9f8a26fc1c97f679\n",
      "🧪 View experiment at: http://127.0.0.1:8081/#/experiments/887994607810552918\n"
     ]
    },
    {
     "data": {
      "application/vnd.jupyter.widget-view+json": {
       "model_id": "2740eb60db644a88bbbd468645f9b5f2",
       "version_major": 2,
       "version_minor": 0
      },
      "text/plain": [
       "Predicting: 35it [00:00, ?it/s]"
      ]
     },
     "metadata": {},
     "output_type": "display_data"
    },
    {
     "name": "stderr",
     "output_type": "stream",
     "text": [
      "INFO:src.models.gnet:Predictions for test.\n",
      "LOCAL_RANK: 0 - CUDA_VISIBLE_DEVICES: [0,1,2,3]\n"
     ]
    },
    {
     "name": "stdout",
     "output_type": "stream",
     "text": [
      "🏃 View run delicate-seal-790 at: http://127.0.0.1:8081/#/experiments/887994607810552918/runs/fb94cd8dc7804c5b9f8a26fc1c97f679\n",
      "🧪 View experiment at: http://127.0.0.1:8081/#/experiments/887994607810552918\n"
     ]
    },
    {
     "data": {
      "application/vnd.jupyter.widget-view+json": {
       "model_id": "cfc70b1299ae4ddb9abf27f053178b6c",
       "version_major": 2,
       "version_minor": 0
      },
      "text/plain": [
       "Predicting: 35it [00:00, ?it/s]"
      ]
     },
     "metadata": {},
     "output_type": "display_data"
    },
    {
     "name": "stderr",
     "output_type": "stream",
     "text": [
      "INFO:src.models.gnet:Predictions for test.\n",
      "LOCAL_RANK: 0 - CUDA_VISIBLE_DEVICES: [0,1,2,3]\n"
     ]
    },
    {
     "name": "stdout",
     "output_type": "stream",
     "text": [
      "🏃 View run delicate-seal-790 at: http://127.0.0.1:8081/#/experiments/887994607810552918/runs/fb94cd8dc7804c5b9f8a26fc1c97f679\n",
      "🧪 View experiment at: http://127.0.0.1:8081/#/experiments/887994607810552918\n"
     ]
    },
    {
     "data": {
      "application/vnd.jupyter.widget-view+json": {
       "model_id": "947de3275307449c8bf9ac0916043262",
       "version_major": 2,
       "version_minor": 0
      },
      "text/plain": [
       "Predicting: 35it [00:00, ?it/s]"
      ]
     },
     "metadata": {},
     "output_type": "display_data"
    },
    {
     "name": "stderr",
     "output_type": "stream",
     "text": [
      "INFO:src.models.gnet:Predictions for test.\n",
      "LOCAL_RANK: 0 - CUDA_VISIBLE_DEVICES: [0,1,2,3]\n"
     ]
    },
    {
     "name": "stdout",
     "output_type": "stream",
     "text": [
      "🏃 View run delicate-seal-790 at: http://127.0.0.1:8081/#/experiments/887994607810552918/runs/fb94cd8dc7804c5b9f8a26fc1c97f679\n",
      "🧪 View experiment at: http://127.0.0.1:8081/#/experiments/887994607810552918\n"
     ]
    },
    {
     "data": {
      "application/vnd.jupyter.widget-view+json": {
       "model_id": "7fdee73491d44e95ad1e83fa63bfbcda",
       "version_major": 2,
       "version_minor": 0
      },
      "text/plain": [
       "Predicting: 35it [00:00, ?it/s]"
      ]
     },
     "metadata": {},
     "output_type": "display_data"
    },
    {
     "name": "stderr",
     "output_type": "stream",
     "text": [
      "INFO:src.models.gnet:Predictions for test.\n",
      "LOCAL_RANK: 0 - CUDA_VISIBLE_DEVICES: [0,1,2,3]\n"
     ]
    },
    {
     "name": "stdout",
     "output_type": "stream",
     "text": [
      "🏃 View run delicate-seal-790 at: http://127.0.0.1:8081/#/experiments/887994607810552918/runs/fb94cd8dc7804c5b9f8a26fc1c97f679\n",
      "🧪 View experiment at: http://127.0.0.1:8081/#/experiments/887994607810552918\n"
     ]
    },
    {
     "data": {
      "application/vnd.jupyter.widget-view+json": {
       "model_id": "d7671b382bab4669ad7efaa6e819c9b3",
       "version_major": 2,
       "version_minor": 0
      },
      "text/plain": [
       "Predicting: 35it [00:00, ?it/s]"
      ]
     },
     "metadata": {},
     "output_type": "display_data"
    },
    {
     "name": "stderr",
     "output_type": "stream",
     "text": [
      "INFO:src.models.gnet:Predictions for test.\n",
      "LOCAL_RANK: 0 - CUDA_VISIBLE_DEVICES: [0,1,2,3]\n"
     ]
    },
    {
     "name": "stdout",
     "output_type": "stream",
     "text": [
      "🏃 View run delicate-seal-790 at: http://127.0.0.1:8081/#/experiments/887994607810552918/runs/fb94cd8dc7804c5b9f8a26fc1c97f679\n",
      "🧪 View experiment at: http://127.0.0.1:8081/#/experiments/887994607810552918\n"
     ]
    },
    {
     "data": {
      "application/vnd.jupyter.widget-view+json": {
       "model_id": "92a86175e39b4282938aa9191cd60116",
       "version_major": 2,
       "version_minor": 0
      },
      "text/plain": [
       "Predicting: 35it [00:00, ?it/s]"
      ]
     },
     "metadata": {},
     "output_type": "display_data"
    },
    {
     "name": "stderr",
     "output_type": "stream",
     "text": [
      "INFO:src.models.gnet:Predictions for test.\n",
      "LOCAL_RANK: 0 - CUDA_VISIBLE_DEVICES: [0,1,2,3]\n"
     ]
    },
    {
     "name": "stdout",
     "output_type": "stream",
     "text": [
      "🏃 View run delicate-seal-790 at: http://127.0.0.1:8081/#/experiments/887994607810552918/runs/fb94cd8dc7804c5b9f8a26fc1c97f679\n",
      "🧪 View experiment at: http://127.0.0.1:8081/#/experiments/887994607810552918\n"
     ]
    },
    {
     "data": {
      "application/vnd.jupyter.widget-view+json": {
       "model_id": "931c08cb1b81483695246e434ee1e019",
       "version_major": 2,
       "version_minor": 0
      },
      "text/plain": [
       "Predicting: 35it [00:00, ?it/s]"
      ]
     },
     "metadata": {},
     "output_type": "display_data"
    },
    {
     "name": "stderr",
     "output_type": "stream",
     "text": [
      "INFO:src.models.gnet:Predictions for test.\n",
      "LOCAL_RANK: 0 - CUDA_VISIBLE_DEVICES: [0,1,2,3]\n"
     ]
    },
    {
     "name": "stdout",
     "output_type": "stream",
     "text": [
      "🏃 View run delicate-seal-790 at: http://127.0.0.1:8081/#/experiments/887994607810552918/runs/fb94cd8dc7804c5b9f8a26fc1c97f679\n",
      "🧪 View experiment at: http://127.0.0.1:8081/#/experiments/887994607810552918\n"
     ]
    },
    {
     "data": {
      "application/vnd.jupyter.widget-view+json": {
       "model_id": "25a881505d2144a4b9f9f57ba6dfaa18",
       "version_major": 2,
       "version_minor": 0
      },
      "text/plain": [
       "Predicting: 35it [00:00, ?it/s]"
      ]
     },
     "metadata": {},
     "output_type": "display_data"
    },
    {
     "name": "stderr",
     "output_type": "stream",
     "text": [
      "INFO:src.models.gnet:Predictions for test.\n",
      "LOCAL_RANK: 0 - CUDA_VISIBLE_DEVICES: [0,1,2,3]\n"
     ]
    },
    {
     "name": "stdout",
     "output_type": "stream",
     "text": [
      "🏃 View run delicate-seal-790 at: http://127.0.0.1:8081/#/experiments/887994607810552918/runs/fb94cd8dc7804c5b9f8a26fc1c97f679\n",
      "🧪 View experiment at: http://127.0.0.1:8081/#/experiments/887994607810552918\n"
     ]
    },
    {
     "data": {
      "application/vnd.jupyter.widget-view+json": {
       "model_id": "937173e617824eb79fe365c651aa8018",
       "version_major": 2,
       "version_minor": 0
      },
      "text/plain": [
       "Predicting: 35it [00:00, ?it/s]"
      ]
     },
     "metadata": {},
     "output_type": "display_data"
    },
    {
     "name": "stderr",
     "output_type": "stream",
     "text": [
      "INFO:src.models.gnet:Predictions for test.\n",
      "LOCAL_RANK: 0 - CUDA_VISIBLE_DEVICES: [0,1,2,3]\n"
     ]
    },
    {
     "name": "stdout",
     "output_type": "stream",
     "text": [
      "🏃 View run delicate-seal-790 at: http://127.0.0.1:8081/#/experiments/887994607810552918/runs/fb94cd8dc7804c5b9f8a26fc1c97f679\n",
      "🧪 View experiment at: http://127.0.0.1:8081/#/experiments/887994607810552918\n"
     ]
    },
    {
     "data": {
      "application/vnd.jupyter.widget-view+json": {
       "model_id": "ab3181143516435b9e5f42ff78c4b3b2",
       "version_major": 2,
       "version_minor": 0
      },
      "text/plain": [
       "Predicting: 35it [00:00, ?it/s]"
      ]
     },
     "metadata": {},
     "output_type": "display_data"
    },
    {
     "name": "stderr",
     "output_type": "stream",
     "text": [
      "INFO:src.models.gnet:Predictions for test.\n",
      "LOCAL_RANK: 0 - CUDA_VISIBLE_DEVICES: [0,1,2,3]\n"
     ]
    },
    {
     "name": "stdout",
     "output_type": "stream",
     "text": [
      "🏃 View run delicate-seal-790 at: http://127.0.0.1:8081/#/experiments/887994607810552918/runs/fb94cd8dc7804c5b9f8a26fc1c97f679\n",
      "🧪 View experiment at: http://127.0.0.1:8081/#/experiments/887994607810552918\n"
     ]
    },
    {
     "data": {
      "application/vnd.jupyter.widget-view+json": {
       "model_id": "e73294fc14ac48fe83d7f21369ccba79",
       "version_major": 2,
       "version_minor": 0
      },
      "text/plain": [
       "Predicting: 35it [00:00, ?it/s]"
      ]
     },
     "metadata": {},
     "output_type": "display_data"
    },
    {
     "name": "stderr",
     "output_type": "stream",
     "text": [
      "INFO:src.models.gnet:Predictions for test.\n",
      "LOCAL_RANK: 0 - CUDA_VISIBLE_DEVICES: [0,1,2,3]\n"
     ]
    },
    {
     "name": "stdout",
     "output_type": "stream",
     "text": [
      "🏃 View run delicate-seal-790 at: http://127.0.0.1:8081/#/experiments/887994607810552918/runs/fb94cd8dc7804c5b9f8a26fc1c97f679\n",
      "🧪 View experiment at: http://127.0.0.1:8081/#/experiments/887994607810552918\n"
     ]
    },
    {
     "data": {
      "application/vnd.jupyter.widget-view+json": {
       "model_id": "ff2f843cfdea4cfebb3cc02bb51a0025",
       "version_major": 2,
       "version_minor": 0
      },
      "text/plain": [
       "Predicting: 35it [00:00, ?it/s]"
      ]
     },
     "metadata": {},
     "output_type": "display_data"
    },
    {
     "name": "stderr",
     "output_type": "stream",
     "text": [
      "INFO:src.models.gnet:Predictions for test.\n",
      "LOCAL_RANK: 0 - CUDA_VISIBLE_DEVICES: [0,1,2,3]\n"
     ]
    },
    {
     "name": "stdout",
     "output_type": "stream",
     "text": [
      "🏃 View run delicate-seal-790 at: http://127.0.0.1:8081/#/experiments/887994607810552918/runs/fb94cd8dc7804c5b9f8a26fc1c97f679\n",
      "🧪 View experiment at: http://127.0.0.1:8081/#/experiments/887994607810552918\n"
     ]
    },
    {
     "data": {
      "application/vnd.jupyter.widget-view+json": {
       "model_id": "345e987254624ce6b6ae2b58d2c5cb7f",
       "version_major": 2,
       "version_minor": 0
      },
      "text/plain": [
       "Predicting: 35it [00:00, ?it/s]"
      ]
     },
     "metadata": {},
     "output_type": "display_data"
    },
    {
     "name": "stderr",
     "output_type": "stream",
     "text": [
      "INFO:src.models.gnet:Predictions for test.\n",
      "LOCAL_RANK: 0 - CUDA_VISIBLE_DEVICES: [0,1,2,3]\n"
     ]
    },
    {
     "name": "stdout",
     "output_type": "stream",
     "text": [
      "🏃 View run delicate-seal-790 at: http://127.0.0.1:8081/#/experiments/887994607810552918/runs/fb94cd8dc7804c5b9f8a26fc1c97f679\n",
      "🧪 View experiment at: http://127.0.0.1:8081/#/experiments/887994607810552918\n"
     ]
    },
    {
     "data": {
      "application/vnd.jupyter.widget-view+json": {
       "model_id": "7de4ec40b78d473d8ed1df5f693f4781",
       "version_major": 2,
       "version_minor": 0
      },
      "text/plain": [
       "Predicting: 35it [00:00, ?it/s]"
      ]
     },
     "metadata": {},
     "output_type": "display_data"
    },
    {
     "name": "stderr",
     "output_type": "stream",
     "text": [
      "INFO:src.models.gnet:Predictions for test.\n",
      "LOCAL_RANK: 0 - CUDA_VISIBLE_DEVICES: [0,1,2,3]\n"
     ]
    },
    {
     "name": "stdout",
     "output_type": "stream",
     "text": [
      "🏃 View run delicate-seal-790 at: http://127.0.0.1:8081/#/experiments/887994607810552918/runs/fb94cd8dc7804c5b9f8a26fc1c97f679\n",
      "🧪 View experiment at: http://127.0.0.1:8081/#/experiments/887994607810552918\n"
     ]
    },
    {
     "data": {
      "application/vnd.jupyter.widget-view+json": {
       "model_id": "c3fcb3125826464f8d98aca6d6e3ed03",
       "version_major": 2,
       "version_minor": 0
      },
      "text/plain": [
       "Predicting: 35it [00:00, ?it/s]"
      ]
     },
     "metadata": {},
     "output_type": "display_data"
    },
    {
     "name": "stderr",
     "output_type": "stream",
     "text": [
      "INFO:src.models.gnet:Predictions for test.\n",
      "LOCAL_RANK: 0 - CUDA_VISIBLE_DEVICES: [0,1,2,3]\n"
     ]
    },
    {
     "name": "stdout",
     "output_type": "stream",
     "text": [
      "🏃 View run delicate-seal-790 at: http://127.0.0.1:8081/#/experiments/887994607810552918/runs/fb94cd8dc7804c5b9f8a26fc1c97f679\n",
      "🧪 View experiment at: http://127.0.0.1:8081/#/experiments/887994607810552918\n"
     ]
    },
    {
     "data": {
      "application/vnd.jupyter.widget-view+json": {
       "model_id": "a6e4507484014c5bb0c554603090ff8f",
       "version_major": 2,
       "version_minor": 0
      },
      "text/plain": [
       "Predicting: 35it [00:00, ?it/s]"
      ]
     },
     "metadata": {},
     "output_type": "display_data"
    },
    {
     "name": "stderr",
     "output_type": "stream",
     "text": [
      "INFO:src.models.gnet:Predictions for test.\n",
      "LOCAL_RANK: 0 - CUDA_VISIBLE_DEVICES: [0,1,2,3]\n"
     ]
    },
    {
     "name": "stdout",
     "output_type": "stream",
     "text": [
      "🏃 View run delicate-seal-790 at: http://127.0.0.1:8081/#/experiments/887994607810552918/runs/fb94cd8dc7804c5b9f8a26fc1c97f679\n",
      "🧪 View experiment at: http://127.0.0.1:8081/#/experiments/887994607810552918\n"
     ]
    },
    {
     "data": {
      "application/vnd.jupyter.widget-view+json": {
       "model_id": "90f76be2bf574171b503a2db122a0cb9",
       "version_major": 2,
       "version_minor": 0
      },
      "text/plain": [
       "Predicting: 35it [00:00, ?it/s]"
      ]
     },
     "metadata": {},
     "output_type": "display_data"
    },
    {
     "name": "stderr",
     "output_type": "stream",
     "text": [
      "INFO:src.models.gnet:Predictions for test.\n",
      "LOCAL_RANK: 0 - CUDA_VISIBLE_DEVICES: [0,1,2,3]\n"
     ]
    },
    {
     "name": "stdout",
     "output_type": "stream",
     "text": [
      "🏃 View run delicate-seal-790 at: http://127.0.0.1:8081/#/experiments/887994607810552918/runs/fb94cd8dc7804c5b9f8a26fc1c97f679\n",
      "🧪 View experiment at: http://127.0.0.1:8081/#/experiments/887994607810552918\n"
     ]
    },
    {
     "data": {
      "application/vnd.jupyter.widget-view+json": {
       "model_id": "50314707d4f04238821622f1c53c1e7e",
       "version_major": 2,
       "version_minor": 0
      },
      "text/plain": [
       "Predicting: 35it [00:00, ?it/s]"
      ]
     },
     "metadata": {},
     "output_type": "display_data"
    },
    {
     "name": "stderr",
     "output_type": "stream",
     "text": [
      "INFO:src.models.gnet:Predictions for test.\n",
      "LOCAL_RANK: 0 - CUDA_VISIBLE_DEVICES: [0,1,2,3]\n"
     ]
    },
    {
     "name": "stdout",
     "output_type": "stream",
     "text": [
      "🏃 View run delicate-seal-790 at: http://127.0.0.1:8081/#/experiments/887994607810552918/runs/fb94cd8dc7804c5b9f8a26fc1c97f679\n",
      "🧪 View experiment at: http://127.0.0.1:8081/#/experiments/887994607810552918\n"
     ]
    },
    {
     "data": {
      "application/vnd.jupyter.widget-view+json": {
       "model_id": "f31ef13ccab6483d9d526c8099a1af60",
       "version_major": 2,
       "version_minor": 0
      },
      "text/plain": [
       "Predicting: 35it [00:00, ?it/s]"
      ]
     },
     "metadata": {},
     "output_type": "display_data"
    },
    {
     "name": "stderr",
     "output_type": "stream",
     "text": [
      "INFO:src.models.gnet:Predictions for test.\n",
      "LOCAL_RANK: 0 - CUDA_VISIBLE_DEVICES: [0,1,2,3]\n"
     ]
    },
    {
     "name": "stdout",
     "output_type": "stream",
     "text": [
      "🏃 View run delicate-seal-790 at: http://127.0.0.1:8081/#/experiments/887994607810552918/runs/fb94cd8dc7804c5b9f8a26fc1c97f679\n",
      "🧪 View experiment at: http://127.0.0.1:8081/#/experiments/887994607810552918\n"
     ]
    },
    {
     "data": {
      "application/vnd.jupyter.widget-view+json": {
       "model_id": "2eb60708cb6540b2a51f65b6b98ca621",
       "version_major": 2,
       "version_minor": 0
      },
      "text/plain": [
       "Predicting: 35it [00:00, ?it/s]"
      ]
     },
     "metadata": {},
     "output_type": "display_data"
    },
    {
     "name": "stderr",
     "output_type": "stream",
     "text": [
      "INFO:src.models.gnet:Predictions for test.\n",
      "LOCAL_RANK: 0 - CUDA_VISIBLE_DEVICES: [0,1,2,3]\n"
     ]
    },
    {
     "name": "stdout",
     "output_type": "stream",
     "text": [
      "🏃 View run delicate-seal-790 at: http://127.0.0.1:8081/#/experiments/887994607810552918/runs/fb94cd8dc7804c5b9f8a26fc1c97f679\n",
      "🧪 View experiment at: http://127.0.0.1:8081/#/experiments/887994607810552918\n"
     ]
    },
    {
     "data": {
      "application/vnd.jupyter.widget-view+json": {
       "model_id": "f75e9aba51e84a3ba1fbf25dc5e46317",
       "version_major": 2,
       "version_minor": 0
      },
      "text/plain": [
       "Predicting: 35it [00:00, ?it/s]"
      ]
     },
     "metadata": {},
     "output_type": "display_data"
    },
    {
     "name": "stderr",
     "output_type": "stream",
     "text": [
      "INFO:src.models.gnet:Predictions for test.\n",
      "LOCAL_RANK: 0 - CUDA_VISIBLE_DEVICES: [0,1,2,3]\n"
     ]
    },
    {
     "name": "stdout",
     "output_type": "stream",
     "text": [
      "🏃 View run delicate-seal-790 at: http://127.0.0.1:8081/#/experiments/887994607810552918/runs/fb94cd8dc7804c5b9f8a26fc1c97f679\n",
      "🧪 View experiment at: http://127.0.0.1:8081/#/experiments/887994607810552918\n"
     ]
    },
    {
     "data": {
      "application/vnd.jupyter.widget-view+json": {
       "model_id": "e728fa4baf3f4da5a54e0688f3a42118",
       "version_major": 2,
       "version_minor": 0
      },
      "text/plain": [
       "Predicting: 35it [00:00, ?it/s]"
      ]
     },
     "metadata": {},
     "output_type": "display_data"
    },
    {
     "name": "stderr",
     "output_type": "stream",
     "text": [
      "INFO:src.models.gnet:Predictions for test.\n",
      "LOCAL_RANK: 0 - CUDA_VISIBLE_DEVICES: [0,1,2,3]\n"
     ]
    },
    {
     "name": "stdout",
     "output_type": "stream",
     "text": [
      "🏃 View run delicate-seal-790 at: http://127.0.0.1:8081/#/experiments/887994607810552918/runs/fb94cd8dc7804c5b9f8a26fc1c97f679\n",
      "🧪 View experiment at: http://127.0.0.1:8081/#/experiments/887994607810552918\n"
     ]
    },
    {
     "data": {
      "application/vnd.jupyter.widget-view+json": {
       "model_id": "f490794ea11f4331a7b139d9f8c8b459",
       "version_major": 2,
       "version_minor": 0
      },
      "text/plain": [
       "Predicting: 35it [00:00, ?it/s]"
      ]
     },
     "metadata": {},
     "output_type": "display_data"
    },
    {
     "name": "stderr",
     "output_type": "stream",
     "text": [
      "INFO:src.models.gnet:Predictions for test.\n",
      "LOCAL_RANK: 0 - CUDA_VISIBLE_DEVICES: [0,1,2,3]\n"
     ]
    },
    {
     "name": "stdout",
     "output_type": "stream",
     "text": [
      "🏃 View run delicate-seal-790 at: http://127.0.0.1:8081/#/experiments/887994607810552918/runs/fb94cd8dc7804c5b9f8a26fc1c97f679\n",
      "🧪 View experiment at: http://127.0.0.1:8081/#/experiments/887994607810552918\n"
     ]
    },
    {
     "data": {
      "application/vnd.jupyter.widget-view+json": {
       "model_id": "12aa4cfb8287463bb316774cfab34241",
       "version_major": 2,
       "version_minor": 0
      },
      "text/plain": [
       "Predicting: 35it [00:00, ?it/s]"
      ]
     },
     "metadata": {},
     "output_type": "display_data"
    },
    {
     "name": "stderr",
     "output_type": "stream",
     "text": [
      "INFO:src.models.gnet:Predictions for test.\n",
      "LOCAL_RANK: 0 - CUDA_VISIBLE_DEVICES: [0,1,2,3]\n"
     ]
    },
    {
     "name": "stdout",
     "output_type": "stream",
     "text": [
      "🏃 View run delicate-seal-790 at: http://127.0.0.1:8081/#/experiments/887994607810552918/runs/fb94cd8dc7804c5b9f8a26fc1c97f679\n",
      "🧪 View experiment at: http://127.0.0.1:8081/#/experiments/887994607810552918\n"
     ]
    },
    {
     "data": {
      "application/vnd.jupyter.widget-view+json": {
       "model_id": "2231f124206d418f96d2677d4c3a5996",
       "version_major": 2,
       "version_minor": 0
      },
      "text/plain": [
       "Predicting: 35it [00:00, ?it/s]"
      ]
     },
     "metadata": {},
     "output_type": "display_data"
    },
    {
     "name": "stderr",
     "output_type": "stream",
     "text": [
      "INFO:src.models.gnet:Predictions for test.\n",
      "LOCAL_RANK: 0 - CUDA_VISIBLE_DEVICES: [0,1,2,3]\n"
     ]
    },
    {
     "name": "stdout",
     "output_type": "stream",
     "text": [
      "🏃 View run delicate-seal-790 at: http://127.0.0.1:8081/#/experiments/887994607810552918/runs/fb94cd8dc7804c5b9f8a26fc1c97f679\n",
      "🧪 View experiment at: http://127.0.0.1:8081/#/experiments/887994607810552918\n"
     ]
    },
    {
     "data": {
      "application/vnd.jupyter.widget-view+json": {
       "model_id": "6101928ef5e34410b4ec73656d219543",
       "version_major": 2,
       "version_minor": 0
      },
      "text/plain": [
       "Predicting: 35it [00:00, ?it/s]"
      ]
     },
     "metadata": {},
     "output_type": "display_data"
    },
    {
     "name": "stderr",
     "output_type": "stream",
     "text": [
      "INFO:src.models.gnet:Predictions for test.\n",
      "LOCAL_RANK: 0 - CUDA_VISIBLE_DEVICES: [0,1,2,3]\n"
     ]
    },
    {
     "name": "stdout",
     "output_type": "stream",
     "text": [
      "🏃 View run delicate-seal-790 at: http://127.0.0.1:8081/#/experiments/887994607810552918/runs/fb94cd8dc7804c5b9f8a26fc1c97f679\n",
      "🧪 View experiment at: http://127.0.0.1:8081/#/experiments/887994607810552918\n"
     ]
    },
    {
     "data": {
      "application/vnd.jupyter.widget-view+json": {
       "model_id": "37bb8fc938b24c269c377966316b679a",
       "version_major": 2,
       "version_minor": 0
      },
      "text/plain": [
       "Predicting: 35it [00:00, ?it/s]"
      ]
     },
     "metadata": {},
     "output_type": "display_data"
    },
    {
     "name": "stderr",
     "output_type": "stream",
     "text": [
      "INFO:src.models.gnet:Predictions for test.\n",
      "LOCAL_RANK: 0 - CUDA_VISIBLE_DEVICES: [0,1,2,3]\n"
     ]
    },
    {
     "name": "stdout",
     "output_type": "stream",
     "text": [
      "🏃 View run delicate-seal-790 at: http://127.0.0.1:8081/#/experiments/887994607810552918/runs/fb94cd8dc7804c5b9f8a26fc1c97f679\n",
      "🧪 View experiment at: http://127.0.0.1:8081/#/experiments/887994607810552918\n"
     ]
    },
    {
     "data": {
      "application/vnd.jupyter.widget-view+json": {
       "model_id": "2a13659b48bf443ebd5520b3231ae02a",
       "version_major": 2,
       "version_minor": 0
      },
      "text/plain": [
       "Predicting: 35it [00:00, ?it/s]"
      ]
     },
     "metadata": {},
     "output_type": "display_data"
    },
    {
     "name": "stderr",
     "output_type": "stream",
     "text": [
      "INFO:src.models.gnet:Predictions for test.\n",
      "LOCAL_RANK: 0 - CUDA_VISIBLE_DEVICES: [0,1,2,3]\n"
     ]
    },
    {
     "name": "stdout",
     "output_type": "stream",
     "text": [
      "🏃 View run delicate-seal-790 at: http://127.0.0.1:8081/#/experiments/887994607810552918/runs/fb94cd8dc7804c5b9f8a26fc1c97f679\n",
      "🧪 View experiment at: http://127.0.0.1:8081/#/experiments/887994607810552918\n"
     ]
    },
    {
     "data": {
      "application/vnd.jupyter.widget-view+json": {
       "model_id": "91291cd4120e4f678f7425c3e66b5c7c",
       "version_major": 2,
       "version_minor": 0
      },
      "text/plain": [
       "Predicting: 35it [00:00, ?it/s]"
      ]
     },
     "metadata": {},
     "output_type": "display_data"
    },
    {
     "name": "stderr",
     "output_type": "stream",
     "text": [
      "INFO:src.models.gnet:Predictions for test.\n",
      "LOCAL_RANK: 0 - CUDA_VISIBLE_DEVICES: [0,1,2,3]\n"
     ]
    },
    {
     "name": "stdout",
     "output_type": "stream",
     "text": [
      "🏃 View run delicate-seal-790 at: http://127.0.0.1:8081/#/experiments/887994607810552918/runs/fb94cd8dc7804c5b9f8a26fc1c97f679\n",
      "🧪 View experiment at: http://127.0.0.1:8081/#/experiments/887994607810552918\n"
     ]
    },
    {
     "data": {
      "application/vnd.jupyter.widget-view+json": {
       "model_id": "deda5cc71ccc4fb6ae7bb59760ff113a",
       "version_major": 2,
       "version_minor": 0
      },
      "text/plain": [
       "Predicting: 35it [00:00, ?it/s]"
      ]
     },
     "metadata": {},
     "output_type": "display_data"
    },
    {
     "name": "stderr",
     "output_type": "stream",
     "text": [
      "INFO:src.models.gnet:Predictions for test.\n",
      "LOCAL_RANK: 0 - CUDA_VISIBLE_DEVICES: [0,1,2,3]\n"
     ]
    },
    {
     "name": "stdout",
     "output_type": "stream",
     "text": [
      "🏃 View run delicate-seal-790 at: http://127.0.0.1:8081/#/experiments/887994607810552918/runs/fb94cd8dc7804c5b9f8a26fc1c97f679\n",
      "🧪 View experiment at: http://127.0.0.1:8081/#/experiments/887994607810552918\n"
     ]
    },
    {
     "data": {
      "application/vnd.jupyter.widget-view+json": {
       "model_id": "382e253c75524adfb578ede3510e4650",
       "version_major": 2,
       "version_minor": 0
      },
      "text/plain": [
       "Predicting: 35it [00:00, ?it/s]"
      ]
     },
     "metadata": {},
     "output_type": "display_data"
    },
    {
     "name": "stderr",
     "output_type": "stream",
     "text": [
      "INFO:src.models.gnet:Predictions for test.\n",
      "LOCAL_RANK: 0 - CUDA_VISIBLE_DEVICES: [0,1,2,3]\n"
     ]
    },
    {
     "name": "stdout",
     "output_type": "stream",
     "text": [
      "🏃 View run delicate-seal-790 at: http://127.0.0.1:8081/#/experiments/887994607810552918/runs/fb94cd8dc7804c5b9f8a26fc1c97f679\n",
      "🧪 View experiment at: http://127.0.0.1:8081/#/experiments/887994607810552918\n"
     ]
    },
    {
     "data": {
      "application/vnd.jupyter.widget-view+json": {
       "model_id": "4dbd525e99d5458b8678d3f307e27e0b",
       "version_major": 2,
       "version_minor": 0
      },
      "text/plain": [
       "Predicting: 35it [00:00, ?it/s]"
      ]
     },
     "metadata": {},
     "output_type": "display_data"
    },
    {
     "name": "stderr",
     "output_type": "stream",
     "text": [
      "INFO:src.models.gnet:Predictions for test.\n",
      "LOCAL_RANK: 0 - CUDA_VISIBLE_DEVICES: [0,1,2,3]\n"
     ]
    },
    {
     "name": "stdout",
     "output_type": "stream",
     "text": [
      "🏃 View run delicate-seal-790 at: http://127.0.0.1:8081/#/experiments/887994607810552918/runs/fb94cd8dc7804c5b9f8a26fc1c97f679\n",
      "🧪 View experiment at: http://127.0.0.1:8081/#/experiments/887994607810552918\n"
     ]
    },
    {
     "data": {
      "application/vnd.jupyter.widget-view+json": {
       "model_id": "f1873152ffdd4093b20b0c5185d18c6a",
       "version_major": 2,
       "version_minor": 0
      },
      "text/plain": [
       "Predicting: 35it [00:00, ?it/s]"
      ]
     },
     "metadata": {},
     "output_type": "display_data"
    },
    {
     "name": "stderr",
     "output_type": "stream",
     "text": [
      "INFO:src.models.gnet:Predictions for test.\n",
      "LOCAL_RANK: 0 - CUDA_VISIBLE_DEVICES: [0,1,2,3]\n"
     ]
    },
    {
     "name": "stdout",
     "output_type": "stream",
     "text": [
      "🏃 View run delicate-seal-790 at: http://127.0.0.1:8081/#/experiments/887994607810552918/runs/fb94cd8dc7804c5b9f8a26fc1c97f679\n",
      "🧪 View experiment at: http://127.0.0.1:8081/#/experiments/887994607810552918\n"
     ]
    },
    {
     "data": {
      "application/vnd.jupyter.widget-view+json": {
       "model_id": "96338892ef0644789e4892ecb905e64e",
       "version_major": 2,
       "version_minor": 0
      },
      "text/plain": [
       "Predicting: 35it [00:00, ?it/s]"
      ]
     },
     "metadata": {},
     "output_type": "display_data"
    },
    {
     "name": "stderr",
     "output_type": "stream",
     "text": [
      "INFO:src.models.gnet:Predictions for test.\n",
      "LOCAL_RANK: 0 - CUDA_VISIBLE_DEVICES: [0,1,2,3]\n"
     ]
    },
    {
     "name": "stdout",
     "output_type": "stream",
     "text": [
      "🏃 View run delicate-seal-790 at: http://127.0.0.1:8081/#/experiments/887994607810552918/runs/fb94cd8dc7804c5b9f8a26fc1c97f679\n",
      "🧪 View experiment at: http://127.0.0.1:8081/#/experiments/887994607810552918\n"
     ]
    },
    {
     "data": {
      "application/vnd.jupyter.widget-view+json": {
       "model_id": "277e632d55ba4c3aa30fc6afae130d7a",
       "version_major": 2,
       "version_minor": 0
      },
      "text/plain": [
       "Predicting: 35it [00:00, ?it/s]"
      ]
     },
     "metadata": {},
     "output_type": "display_data"
    },
    {
     "name": "stderr",
     "output_type": "stream",
     "text": [
      "INFO:src.models.gnet:Predictions for test.\n",
      "LOCAL_RANK: 0 - CUDA_VISIBLE_DEVICES: [0,1,2,3]\n"
     ]
    },
    {
     "name": "stdout",
     "output_type": "stream",
     "text": [
      "🏃 View run delicate-seal-790 at: http://127.0.0.1:8081/#/experiments/887994607810552918/runs/fb94cd8dc7804c5b9f8a26fc1c97f679\n",
      "🧪 View experiment at: http://127.0.0.1:8081/#/experiments/887994607810552918\n"
     ]
    },
    {
     "data": {
      "application/vnd.jupyter.widget-view+json": {
       "model_id": "8da82f11bc8041a9a87a47d2721e32a5",
       "version_major": 2,
       "version_minor": 0
      },
      "text/plain": [
       "Predicting: 35it [00:00, ?it/s]"
      ]
     },
     "metadata": {},
     "output_type": "display_data"
    },
    {
     "name": "stderr",
     "output_type": "stream",
     "text": [
      "INFO:src.models.gnet:Predictions for test.\n",
      "LOCAL_RANK: 0 - CUDA_VISIBLE_DEVICES: [0,1,2,3]\n"
     ]
    },
    {
     "name": "stdout",
     "output_type": "stream",
     "text": [
      "🏃 View run delicate-seal-790 at: http://127.0.0.1:8081/#/experiments/887994607810552918/runs/fb94cd8dc7804c5b9f8a26fc1c97f679\n",
      "🧪 View experiment at: http://127.0.0.1:8081/#/experiments/887994607810552918\n"
     ]
    },
    {
     "data": {
      "application/vnd.jupyter.widget-view+json": {
       "model_id": "688d756e4a4f4db0a8fcb9825f03dc31",
       "version_major": 2,
       "version_minor": 0
      },
      "text/plain": [
       "Predicting: 35it [00:00, ?it/s]"
      ]
     },
     "metadata": {},
     "output_type": "display_data"
    },
    {
     "name": "stderr",
     "output_type": "stream",
     "text": [
      "INFO:src.models.gnet:Predictions for test.\n",
      "LOCAL_RANK: 0 - CUDA_VISIBLE_DEVICES: [0,1,2,3]\n"
     ]
    },
    {
     "name": "stdout",
     "output_type": "stream",
     "text": [
      "🏃 View run delicate-seal-790 at: http://127.0.0.1:8081/#/experiments/887994607810552918/runs/fb94cd8dc7804c5b9f8a26fc1c97f679\n",
      "🧪 View experiment at: http://127.0.0.1:8081/#/experiments/887994607810552918\n"
     ]
    },
    {
     "data": {
      "application/vnd.jupyter.widget-view+json": {
       "model_id": "0efac421e8e7482184186d9d1610a59b",
       "version_major": 2,
       "version_minor": 0
      },
      "text/plain": [
       "Predicting: 35it [00:00, ?it/s]"
      ]
     },
     "metadata": {},
     "output_type": "display_data"
    },
    {
     "name": "stderr",
     "output_type": "stream",
     "text": [
      "INFO:src.models.gnet:Predictions for test.\n",
      "LOCAL_RANK: 0 - CUDA_VISIBLE_DEVICES: [0,1,2,3]\n"
     ]
    },
    {
     "name": "stdout",
     "output_type": "stream",
     "text": [
      "🏃 View run delicate-seal-790 at: http://127.0.0.1:8081/#/experiments/887994607810552918/runs/fb94cd8dc7804c5b9f8a26fc1c97f679\n",
      "🧪 View experiment at: http://127.0.0.1:8081/#/experiments/887994607810552918\n"
     ]
    },
    {
     "data": {
      "application/vnd.jupyter.widget-view+json": {
       "model_id": "f3dd791fd22a494e8a73cc4735f0f5f7",
       "version_major": 2,
       "version_minor": 0
      },
      "text/plain": [
       "Predicting: 35it [00:00, ?it/s]"
      ]
     },
     "metadata": {},
     "output_type": "display_data"
    },
    {
     "name": "stderr",
     "output_type": "stream",
     "text": [
      "INFO:src.models.gnet:Predictions for test.\n",
      "LOCAL_RANK: 0 - CUDA_VISIBLE_DEVICES: [0,1,2,3]\n"
     ]
    },
    {
     "name": "stdout",
     "output_type": "stream",
     "text": [
      "🏃 View run delicate-seal-790 at: http://127.0.0.1:8081/#/experiments/887994607810552918/runs/fb94cd8dc7804c5b9f8a26fc1c97f679\n",
      "🧪 View experiment at: http://127.0.0.1:8081/#/experiments/887994607810552918\n"
     ]
    },
    {
     "data": {
      "application/vnd.jupyter.widget-view+json": {
       "model_id": "ae5d100a57c44f18b32f26ef2a7dc186",
       "version_major": 2,
       "version_minor": 0
      },
      "text/plain": [
       "Predicting: 35it [00:00, ?it/s]"
      ]
     },
     "metadata": {},
     "output_type": "display_data"
    },
    {
     "name": "stderr",
     "output_type": "stream",
     "text": [
      "INFO:src.models.gnet:Predictions for test.\n",
      "LOCAL_RANK: 0 - CUDA_VISIBLE_DEVICES: [0,1,2,3]\n"
     ]
    },
    {
     "name": "stdout",
     "output_type": "stream",
     "text": [
      "🏃 View run delicate-seal-790 at: http://127.0.0.1:8081/#/experiments/887994607810552918/runs/fb94cd8dc7804c5b9f8a26fc1c97f679\n",
      "🧪 View experiment at: http://127.0.0.1:8081/#/experiments/887994607810552918\n"
     ]
    },
    {
     "data": {
      "application/vnd.jupyter.widget-view+json": {
       "model_id": "5d023ce25dd84077a4143b044952d204",
       "version_major": 2,
       "version_minor": 0
      },
      "text/plain": [
       "Predicting: 35it [00:00, ?it/s]"
      ]
     },
     "metadata": {},
     "output_type": "display_data"
    },
    {
     "name": "stderr",
     "output_type": "stream",
     "text": [
      "INFO:src.models.gnet:Predictions for test.\n",
      "LOCAL_RANK: 0 - CUDA_VISIBLE_DEVICES: [0,1,2,3]\n"
     ]
    },
    {
     "name": "stdout",
     "output_type": "stream",
     "text": [
      "🏃 View run delicate-seal-790 at: http://127.0.0.1:8081/#/experiments/887994607810552918/runs/fb94cd8dc7804c5b9f8a26fc1c97f679\n",
      "🧪 View experiment at: http://127.0.0.1:8081/#/experiments/887994607810552918\n"
     ]
    },
    {
     "data": {
      "application/vnd.jupyter.widget-view+json": {
       "model_id": "39e76ba09da44978b54edcea3546806e",
       "version_major": 2,
       "version_minor": 0
      },
      "text/plain": [
       "Predicting: 35it [00:00, ?it/s]"
      ]
     },
     "metadata": {},
     "output_type": "display_data"
    },
    {
     "name": "stderr",
     "output_type": "stream",
     "text": [
      "INFO:src.models.gnet:Predictions for test.\n",
      "LOCAL_RANK: 0 - CUDA_VISIBLE_DEVICES: [0,1,2,3]\n"
     ]
    },
    {
     "name": "stdout",
     "output_type": "stream",
     "text": [
      "🏃 View run delicate-seal-790 at: http://127.0.0.1:8081/#/experiments/887994607810552918/runs/fb94cd8dc7804c5b9f8a26fc1c97f679\n",
      "🧪 View experiment at: http://127.0.0.1:8081/#/experiments/887994607810552918\n"
     ]
    },
    {
     "data": {
      "application/vnd.jupyter.widget-view+json": {
       "model_id": "0d5aadaadc9c4c028308b387bbb90fa2",
       "version_major": 2,
       "version_minor": 0
      },
      "text/plain": [
       "Predicting: 35it [00:00, ?it/s]"
      ]
     },
     "metadata": {},
     "output_type": "display_data"
    },
    {
     "name": "stderr",
     "output_type": "stream",
     "text": [
      "INFO:src.models.gnet:Predictions for test.\n",
      "LOCAL_RANK: 0 - CUDA_VISIBLE_DEVICES: [0,1,2,3]\n"
     ]
    },
    {
     "name": "stdout",
     "output_type": "stream",
     "text": [
      "🏃 View run delicate-seal-790 at: http://127.0.0.1:8081/#/experiments/887994607810552918/runs/fb94cd8dc7804c5b9f8a26fc1c97f679\n",
      "🧪 View experiment at: http://127.0.0.1:8081/#/experiments/887994607810552918\n"
     ]
    },
    {
     "data": {
      "application/vnd.jupyter.widget-view+json": {
       "model_id": "75b7d85fa4244a4e94a76ffd24bd97cc",
       "version_major": 2,
       "version_minor": 0
      },
      "text/plain": [
       "Predicting: 35it [00:00, ?it/s]"
      ]
     },
     "metadata": {},
     "output_type": "display_data"
    },
    {
     "name": "stderr",
     "output_type": "stream",
     "text": [
      "INFO:src.models.gnet:Predictions for test.\n",
      "LOCAL_RANK: 0 - CUDA_VISIBLE_DEVICES: [0,1,2,3]\n"
     ]
    },
    {
     "name": "stdout",
     "output_type": "stream",
     "text": [
      "🏃 View run delicate-seal-790 at: http://127.0.0.1:8081/#/experiments/887994607810552918/runs/fb94cd8dc7804c5b9f8a26fc1c97f679\n",
      "🧪 View experiment at: http://127.0.0.1:8081/#/experiments/887994607810552918\n"
     ]
    },
    {
     "data": {
      "application/vnd.jupyter.widget-view+json": {
       "model_id": "653ca6da454d4940a0453db161bb96c2",
       "version_major": 2,
       "version_minor": 0
      },
      "text/plain": [
       "Predicting: 35it [00:00, ?it/s]"
      ]
     },
     "metadata": {},
     "output_type": "display_data"
    },
    {
     "name": "stderr",
     "output_type": "stream",
     "text": [
      "INFO:src.models.gnet:t = 5\n",
      "INFO:src.models.gnet:Predictions for test.\n",
      "LOCAL_RANK: 0 - CUDA_VISIBLE_DEVICES: [0,1,2,3]\n"
     ]
    },
    {
     "name": "stdout",
     "output_type": "stream",
     "text": [
      "🏃 View run delicate-seal-790 at: http://127.0.0.1:8081/#/experiments/887994607810552918/runs/fb94cd8dc7804c5b9f8a26fc1c97f679\n",
      "🧪 View experiment at: http://127.0.0.1:8081/#/experiments/887994607810552918\n"
     ]
    },
    {
     "data": {
      "application/vnd.jupyter.widget-view+json": {
       "model_id": "c17fc614a8fe49ec9deefb4db4617e73",
       "version_major": 2,
       "version_minor": 0
      },
      "text/plain": [
       "Predicting: 35it [00:00, ?it/s]"
      ]
     },
     "metadata": {},
     "output_type": "display_data"
    },
    {
     "name": "stderr",
     "output_type": "stream",
     "text": [
      "INFO:src.models.gnet:Predictions for test.\n",
      "LOCAL_RANK: 0 - CUDA_VISIBLE_DEVICES: [0,1,2,3]\n"
     ]
    },
    {
     "name": "stdout",
     "output_type": "stream",
     "text": [
      "🏃 View run delicate-seal-790 at: http://127.0.0.1:8081/#/experiments/887994607810552918/runs/fb94cd8dc7804c5b9f8a26fc1c97f679\n",
      "🧪 View experiment at: http://127.0.0.1:8081/#/experiments/887994607810552918\n"
     ]
    },
    {
     "data": {
      "application/vnd.jupyter.widget-view+json": {
       "model_id": "8b1b4b79cc7145aeaff3e0da64f86b86",
       "version_major": 2,
       "version_minor": 0
      },
      "text/plain": [
       "Predicting: 35it [00:00, ?it/s]"
      ]
     },
     "metadata": {},
     "output_type": "display_data"
    },
    {
     "name": "stderr",
     "output_type": "stream",
     "text": [
      "INFO:src.models.gnet:Predictions for test.\n",
      "LOCAL_RANK: 0 - CUDA_VISIBLE_DEVICES: [0,1,2,3]\n"
     ]
    },
    {
     "name": "stdout",
     "output_type": "stream",
     "text": [
      "🏃 View run delicate-seal-790 at: http://127.0.0.1:8081/#/experiments/887994607810552918/runs/fb94cd8dc7804c5b9f8a26fc1c97f679\n",
      "🧪 View experiment at: http://127.0.0.1:8081/#/experiments/887994607810552918\n"
     ]
    },
    {
     "data": {
      "application/vnd.jupyter.widget-view+json": {
       "model_id": "b7ffc30dce4141c5a0254d27f0e7bfa7",
       "version_major": 2,
       "version_minor": 0
      },
      "text/plain": [
       "Predicting: 35it [00:00, ?it/s]"
      ]
     },
     "metadata": {},
     "output_type": "display_data"
    },
    {
     "name": "stderr",
     "output_type": "stream",
     "text": [
      "INFO:src.models.gnet:Predictions for test.\n",
      "LOCAL_RANK: 0 - CUDA_VISIBLE_DEVICES: [0,1,2,3]\n"
     ]
    },
    {
     "name": "stdout",
     "output_type": "stream",
     "text": [
      "🏃 View run delicate-seal-790 at: http://127.0.0.1:8081/#/experiments/887994607810552918/runs/fb94cd8dc7804c5b9f8a26fc1c97f679\n",
      "🧪 View experiment at: http://127.0.0.1:8081/#/experiments/887994607810552918\n"
     ]
    },
    {
     "data": {
      "application/vnd.jupyter.widget-view+json": {
       "model_id": "e87a255018f14c3bb059a48961f25572",
       "version_major": 2,
       "version_minor": 0
      },
      "text/plain": [
       "Predicting: 35it [00:00, ?it/s]"
      ]
     },
     "metadata": {},
     "output_type": "display_data"
    },
    {
     "name": "stderr",
     "output_type": "stream",
     "text": [
      "INFO:src.models.gnet:Predictions for test.\n",
      "LOCAL_RANK: 0 - CUDA_VISIBLE_DEVICES: [0,1,2,3]\n"
     ]
    },
    {
     "name": "stdout",
     "output_type": "stream",
     "text": [
      "🏃 View run delicate-seal-790 at: http://127.0.0.1:8081/#/experiments/887994607810552918/runs/fb94cd8dc7804c5b9f8a26fc1c97f679\n",
      "🧪 View experiment at: http://127.0.0.1:8081/#/experiments/887994607810552918\n"
     ]
    },
    {
     "data": {
      "application/vnd.jupyter.widget-view+json": {
       "model_id": "79256db421ca4c4a91376a2524e93cd7",
       "version_major": 2,
       "version_minor": 0
      },
      "text/plain": [
       "Predicting: 35it [00:00, ?it/s]"
      ]
     },
     "metadata": {},
     "output_type": "display_data"
    },
    {
     "name": "stderr",
     "output_type": "stream",
     "text": [
      "INFO:src.models.gnet:Predictions for test.\n",
      "LOCAL_RANK: 0 - CUDA_VISIBLE_DEVICES: [0,1,2,3]\n"
     ]
    },
    {
     "name": "stdout",
     "output_type": "stream",
     "text": [
      "🏃 View run delicate-seal-790 at: http://127.0.0.1:8081/#/experiments/887994607810552918/runs/fb94cd8dc7804c5b9f8a26fc1c97f679\n",
      "🧪 View experiment at: http://127.0.0.1:8081/#/experiments/887994607810552918\n"
     ]
    },
    {
     "data": {
      "application/vnd.jupyter.widget-view+json": {
       "model_id": "f7490d03070b45d2afa83ca8b113a554",
       "version_major": 2,
       "version_minor": 0
      },
      "text/plain": [
       "Predicting: 35it [00:00, ?it/s]"
      ]
     },
     "metadata": {},
     "output_type": "display_data"
    },
    {
     "name": "stderr",
     "output_type": "stream",
     "text": [
      "INFO:src.models.gnet:Predictions for test.\n",
      "LOCAL_RANK: 0 - CUDA_VISIBLE_DEVICES: [0,1,2,3]\n"
     ]
    },
    {
     "name": "stdout",
     "output_type": "stream",
     "text": [
      "🏃 View run delicate-seal-790 at: http://127.0.0.1:8081/#/experiments/887994607810552918/runs/fb94cd8dc7804c5b9f8a26fc1c97f679\n",
      "🧪 View experiment at: http://127.0.0.1:8081/#/experiments/887994607810552918\n"
     ]
    },
    {
     "data": {
      "application/vnd.jupyter.widget-view+json": {
       "model_id": "9c5664bed5da4c7d868babbc3c3d4a09",
       "version_major": 2,
       "version_minor": 0
      },
      "text/plain": [
       "Predicting: 35it [00:00, ?it/s]"
      ]
     },
     "metadata": {},
     "output_type": "display_data"
    },
    {
     "name": "stderr",
     "output_type": "stream",
     "text": [
      "INFO:src.models.gnet:Predictions for test.\n",
      "LOCAL_RANK: 0 - CUDA_VISIBLE_DEVICES: [0,1,2,3]\n"
     ]
    },
    {
     "name": "stdout",
     "output_type": "stream",
     "text": [
      "🏃 View run delicate-seal-790 at: http://127.0.0.1:8081/#/experiments/887994607810552918/runs/fb94cd8dc7804c5b9f8a26fc1c97f679\n",
      "🧪 View experiment at: http://127.0.0.1:8081/#/experiments/887994607810552918\n"
     ]
    },
    {
     "data": {
      "application/vnd.jupyter.widget-view+json": {
       "model_id": "28a5a24535f24dc3a59d269edc46f30f",
       "version_major": 2,
       "version_minor": 0
      },
      "text/plain": [
       "Predicting: 35it [00:00, ?it/s]"
      ]
     },
     "metadata": {},
     "output_type": "display_data"
    },
    {
     "name": "stderr",
     "output_type": "stream",
     "text": [
      "INFO:src.models.gnet:Predictions for test.\n",
      "LOCAL_RANK: 0 - CUDA_VISIBLE_DEVICES: [0,1,2,3]\n"
     ]
    },
    {
     "name": "stdout",
     "output_type": "stream",
     "text": [
      "🏃 View run delicate-seal-790 at: http://127.0.0.1:8081/#/experiments/887994607810552918/runs/fb94cd8dc7804c5b9f8a26fc1c97f679\n",
      "🧪 View experiment at: http://127.0.0.1:8081/#/experiments/887994607810552918\n"
     ]
    },
    {
     "data": {
      "application/vnd.jupyter.widget-view+json": {
       "model_id": "c480a4b5884042a4a06547ce1ed67ab4",
       "version_major": 2,
       "version_minor": 0
      },
      "text/plain": [
       "Predicting: 35it [00:00, ?it/s]"
      ]
     },
     "metadata": {},
     "output_type": "display_data"
    },
    {
     "name": "stderr",
     "output_type": "stream",
     "text": [
      "INFO:src.models.gnet:Predictions for test.\n",
      "LOCAL_RANK: 0 - CUDA_VISIBLE_DEVICES: [0,1,2,3]\n"
     ]
    },
    {
     "name": "stdout",
     "output_type": "stream",
     "text": [
      "🏃 View run delicate-seal-790 at: http://127.0.0.1:8081/#/experiments/887994607810552918/runs/fb94cd8dc7804c5b9f8a26fc1c97f679\n",
      "🧪 View experiment at: http://127.0.0.1:8081/#/experiments/887994607810552918\n"
     ]
    },
    {
     "data": {
      "application/vnd.jupyter.widget-view+json": {
       "model_id": "ef0cf4d471e941a0a38588fa9abcca07",
       "version_major": 2,
       "version_minor": 0
      },
      "text/plain": [
       "Predicting: 35it [00:00, ?it/s]"
      ]
     },
     "metadata": {},
     "output_type": "display_data"
    },
    {
     "name": "stderr",
     "output_type": "stream",
     "text": [
      "INFO:src.models.gnet:Predictions for test.\n",
      "LOCAL_RANK: 0 - CUDA_VISIBLE_DEVICES: [0,1,2,3]\n"
     ]
    },
    {
     "name": "stdout",
     "output_type": "stream",
     "text": [
      "🏃 View run delicate-seal-790 at: http://127.0.0.1:8081/#/experiments/887994607810552918/runs/fb94cd8dc7804c5b9f8a26fc1c97f679\n",
      "🧪 View experiment at: http://127.0.0.1:8081/#/experiments/887994607810552918\n"
     ]
    },
    {
     "data": {
      "application/vnd.jupyter.widget-view+json": {
       "model_id": "1bdcfaa5768e4f0188b114152f37d1a0",
       "version_major": 2,
       "version_minor": 0
      },
      "text/plain": [
       "Predicting: 35it [00:00, ?it/s]"
      ]
     },
     "metadata": {},
     "output_type": "display_data"
    },
    {
     "name": "stderr",
     "output_type": "stream",
     "text": [
      "INFO:src.models.gnet:Predictions for test.\n",
      "LOCAL_RANK: 0 - CUDA_VISIBLE_DEVICES: [0,1,2,3]\n"
     ]
    },
    {
     "name": "stdout",
     "output_type": "stream",
     "text": [
      "🏃 View run delicate-seal-790 at: http://127.0.0.1:8081/#/experiments/887994607810552918/runs/fb94cd8dc7804c5b9f8a26fc1c97f679\n",
      "🧪 View experiment at: http://127.0.0.1:8081/#/experiments/887994607810552918\n"
     ]
    },
    {
     "data": {
      "application/vnd.jupyter.widget-view+json": {
       "model_id": "7efafda1a3b3450c92c38dee6d9126fd",
       "version_major": 2,
       "version_minor": 0
      },
      "text/plain": [
       "Predicting: 35it [00:00, ?it/s]"
      ]
     },
     "metadata": {},
     "output_type": "display_data"
    },
    {
     "name": "stderr",
     "output_type": "stream",
     "text": [
      "INFO:src.models.gnet:Predictions for test.\n",
      "LOCAL_RANK: 0 - CUDA_VISIBLE_DEVICES: [0,1,2,3]\n"
     ]
    },
    {
     "name": "stdout",
     "output_type": "stream",
     "text": [
      "🏃 View run delicate-seal-790 at: http://127.0.0.1:8081/#/experiments/887994607810552918/runs/fb94cd8dc7804c5b9f8a26fc1c97f679\n",
      "🧪 View experiment at: http://127.0.0.1:8081/#/experiments/887994607810552918\n"
     ]
    },
    {
     "data": {
      "application/vnd.jupyter.widget-view+json": {
       "model_id": "1621e9935bbd4022ac6403b1609f5174",
       "version_major": 2,
       "version_minor": 0
      },
      "text/plain": [
       "Predicting: 35it [00:00, ?it/s]"
      ]
     },
     "metadata": {},
     "output_type": "display_data"
    },
    {
     "name": "stderr",
     "output_type": "stream",
     "text": [
      "INFO:src.models.gnet:Predictions for test.\n",
      "LOCAL_RANK: 0 - CUDA_VISIBLE_DEVICES: [0,1,2,3]\n"
     ]
    },
    {
     "name": "stdout",
     "output_type": "stream",
     "text": [
      "🏃 View run delicate-seal-790 at: http://127.0.0.1:8081/#/experiments/887994607810552918/runs/fb94cd8dc7804c5b9f8a26fc1c97f679\n",
      "🧪 View experiment at: http://127.0.0.1:8081/#/experiments/887994607810552918\n"
     ]
    },
    {
     "data": {
      "application/vnd.jupyter.widget-view+json": {
       "model_id": "ab2bbca9d34148c2a6063a8bc1659aef",
       "version_major": 2,
       "version_minor": 0
      },
      "text/plain": [
       "Predicting: 35it [00:00, ?it/s]"
      ]
     },
     "metadata": {},
     "output_type": "display_data"
    },
    {
     "name": "stderr",
     "output_type": "stream",
     "text": [
      "INFO:src.models.gnet:Predictions for test.\n",
      "LOCAL_RANK: 0 - CUDA_VISIBLE_DEVICES: [0,1,2,3]\n"
     ]
    },
    {
     "name": "stdout",
     "output_type": "stream",
     "text": [
      "🏃 View run delicate-seal-790 at: http://127.0.0.1:8081/#/experiments/887994607810552918/runs/fb94cd8dc7804c5b9f8a26fc1c97f679\n",
      "🧪 View experiment at: http://127.0.0.1:8081/#/experiments/887994607810552918\n"
     ]
    },
    {
     "data": {
      "application/vnd.jupyter.widget-view+json": {
       "model_id": "101db43ae32e4d4e86e38076b6d9a3ce",
       "version_major": 2,
       "version_minor": 0
      },
      "text/plain": [
       "Predicting: 35it [00:00, ?it/s]"
      ]
     },
     "metadata": {},
     "output_type": "display_data"
    },
    {
     "name": "stderr",
     "output_type": "stream",
     "text": [
      "INFO:src.models.gnet:Predictions for test.\n",
      "LOCAL_RANK: 0 - CUDA_VISIBLE_DEVICES: [0,1,2,3]\n"
     ]
    },
    {
     "name": "stdout",
     "output_type": "stream",
     "text": [
      "🏃 View run delicate-seal-790 at: http://127.0.0.1:8081/#/experiments/887994607810552918/runs/fb94cd8dc7804c5b9f8a26fc1c97f679\n",
      "🧪 View experiment at: http://127.0.0.1:8081/#/experiments/887994607810552918\n"
     ]
    },
    {
     "data": {
      "application/vnd.jupyter.widget-view+json": {
       "model_id": "8d5fea611a234408a68b81c881700c2d",
       "version_major": 2,
       "version_minor": 0
      },
      "text/plain": [
       "Predicting: 35it [00:00, ?it/s]"
      ]
     },
     "metadata": {},
     "output_type": "display_data"
    },
    {
     "name": "stderr",
     "output_type": "stream",
     "text": [
      "INFO:src.models.gnet:Predictions for test.\n",
      "LOCAL_RANK: 0 - CUDA_VISIBLE_DEVICES: [0,1,2,3]\n"
     ]
    },
    {
     "name": "stdout",
     "output_type": "stream",
     "text": [
      "🏃 View run delicate-seal-790 at: http://127.0.0.1:8081/#/experiments/887994607810552918/runs/fb94cd8dc7804c5b9f8a26fc1c97f679\n",
      "🧪 View experiment at: http://127.0.0.1:8081/#/experiments/887994607810552918\n"
     ]
    },
    {
     "data": {
      "application/vnd.jupyter.widget-view+json": {
       "model_id": "f574a83ac15948dcaa0b809e408c299d",
       "version_major": 2,
       "version_minor": 0
      },
      "text/plain": [
       "Predicting: 35it [00:00, ?it/s]"
      ]
     },
     "metadata": {},
     "output_type": "display_data"
    },
    {
     "name": "stderr",
     "output_type": "stream",
     "text": [
      "INFO:src.models.gnet:Predictions for test.\n",
      "LOCAL_RANK: 0 - CUDA_VISIBLE_DEVICES: [0,1,2,3]\n"
     ]
    },
    {
     "name": "stdout",
     "output_type": "stream",
     "text": [
      "🏃 View run delicate-seal-790 at: http://127.0.0.1:8081/#/experiments/887994607810552918/runs/fb94cd8dc7804c5b9f8a26fc1c97f679\n",
      "🧪 View experiment at: http://127.0.0.1:8081/#/experiments/887994607810552918\n"
     ]
    },
    {
     "data": {
      "application/vnd.jupyter.widget-view+json": {
       "model_id": "56a0944c6864445bb8b152fa5706390d",
       "version_major": 2,
       "version_minor": 0
      },
      "text/plain": [
       "Predicting: 35it [00:00, ?it/s]"
      ]
     },
     "metadata": {},
     "output_type": "display_data"
    },
    {
     "name": "stderr",
     "output_type": "stream",
     "text": [
      "INFO:src.models.gnet:Predictions for test.\n",
      "LOCAL_RANK: 0 - CUDA_VISIBLE_DEVICES: [0,1,2,3]\n"
     ]
    },
    {
     "name": "stdout",
     "output_type": "stream",
     "text": [
      "🏃 View run delicate-seal-790 at: http://127.0.0.1:8081/#/experiments/887994607810552918/runs/fb94cd8dc7804c5b9f8a26fc1c97f679\n",
      "🧪 View experiment at: http://127.0.0.1:8081/#/experiments/887994607810552918\n"
     ]
    },
    {
     "data": {
      "application/vnd.jupyter.widget-view+json": {
       "model_id": "3b8943227b49450883601f1da3429d07",
       "version_major": 2,
       "version_minor": 0
      },
      "text/plain": [
       "Predicting: 35it [00:00, ?it/s]"
      ]
     },
     "metadata": {},
     "output_type": "display_data"
    },
    {
     "name": "stderr",
     "output_type": "stream",
     "text": [
      "INFO:src.models.gnet:Predictions for test.\n",
      "LOCAL_RANK: 0 - CUDA_VISIBLE_DEVICES: [0,1,2,3]\n"
     ]
    },
    {
     "name": "stdout",
     "output_type": "stream",
     "text": [
      "🏃 View run delicate-seal-790 at: http://127.0.0.1:8081/#/experiments/887994607810552918/runs/fb94cd8dc7804c5b9f8a26fc1c97f679\n",
      "🧪 View experiment at: http://127.0.0.1:8081/#/experiments/887994607810552918\n"
     ]
    },
    {
     "data": {
      "application/vnd.jupyter.widget-view+json": {
       "model_id": "c2e953cab49f43338e6ede0832868fe8",
       "version_major": 2,
       "version_minor": 0
      },
      "text/plain": [
       "Predicting: 35it [00:00, ?it/s]"
      ]
     },
     "metadata": {},
     "output_type": "display_data"
    },
    {
     "name": "stderr",
     "output_type": "stream",
     "text": [
      "INFO:src.models.gnet:Predictions for test.\n",
      "LOCAL_RANK: 0 - CUDA_VISIBLE_DEVICES: [0,1,2,3]\n"
     ]
    },
    {
     "name": "stdout",
     "output_type": "stream",
     "text": [
      "🏃 View run delicate-seal-790 at: http://127.0.0.1:8081/#/experiments/887994607810552918/runs/fb94cd8dc7804c5b9f8a26fc1c97f679\n",
      "🧪 View experiment at: http://127.0.0.1:8081/#/experiments/887994607810552918\n"
     ]
    },
    {
     "data": {
      "application/vnd.jupyter.widget-view+json": {
       "model_id": "44d7b8cd0e7b4108b8e60d4ca2e5519b",
       "version_major": 2,
       "version_minor": 0
      },
      "text/plain": [
       "Predicting: 35it [00:00, ?it/s]"
      ]
     },
     "metadata": {},
     "output_type": "display_data"
    },
    {
     "name": "stderr",
     "output_type": "stream",
     "text": [
      "INFO:src.models.gnet:Predictions for test.\n",
      "LOCAL_RANK: 0 - CUDA_VISIBLE_DEVICES: [0,1,2,3]\n"
     ]
    },
    {
     "name": "stdout",
     "output_type": "stream",
     "text": [
      "🏃 View run delicate-seal-790 at: http://127.0.0.1:8081/#/experiments/887994607810552918/runs/fb94cd8dc7804c5b9f8a26fc1c97f679\n",
      "🧪 View experiment at: http://127.0.0.1:8081/#/experiments/887994607810552918\n"
     ]
    },
    {
     "data": {
      "application/vnd.jupyter.widget-view+json": {
       "model_id": "e3497626bf424e2092a047b7ad95fdbd",
       "version_major": 2,
       "version_minor": 0
      },
      "text/plain": [
       "Predicting: 35it [00:00, ?it/s]"
      ]
     },
     "metadata": {},
     "output_type": "display_data"
    },
    {
     "name": "stderr",
     "output_type": "stream",
     "text": [
      "INFO:src.models.gnet:Predictions for test.\n",
      "LOCAL_RANK: 0 - CUDA_VISIBLE_DEVICES: [0,1,2,3]\n"
     ]
    },
    {
     "name": "stdout",
     "output_type": "stream",
     "text": [
      "🏃 View run delicate-seal-790 at: http://127.0.0.1:8081/#/experiments/887994607810552918/runs/fb94cd8dc7804c5b9f8a26fc1c97f679\n",
      "🧪 View experiment at: http://127.0.0.1:8081/#/experiments/887994607810552918\n"
     ]
    },
    {
     "data": {
      "application/vnd.jupyter.widget-view+json": {
       "model_id": "2371602e39764593a25033cfd044e57c",
       "version_major": 2,
       "version_minor": 0
      },
      "text/plain": [
       "Predicting: 35it [00:00, ?it/s]"
      ]
     },
     "metadata": {},
     "output_type": "display_data"
    },
    {
     "name": "stderr",
     "output_type": "stream",
     "text": [
      "INFO:src.models.gnet:Predictions for test.\n",
      "LOCAL_RANK: 0 - CUDA_VISIBLE_DEVICES: [0,1,2,3]\n"
     ]
    },
    {
     "name": "stdout",
     "output_type": "stream",
     "text": [
      "🏃 View run delicate-seal-790 at: http://127.0.0.1:8081/#/experiments/887994607810552918/runs/fb94cd8dc7804c5b9f8a26fc1c97f679\n",
      "🧪 View experiment at: http://127.0.0.1:8081/#/experiments/887994607810552918\n"
     ]
    },
    {
     "data": {
      "application/vnd.jupyter.widget-view+json": {
       "model_id": "1859b3f97d934b078dbb6f2235a06a26",
       "version_major": 2,
       "version_minor": 0
      },
      "text/plain": [
       "Predicting: 35it [00:00, ?it/s]"
      ]
     },
     "metadata": {},
     "output_type": "display_data"
    },
    {
     "name": "stderr",
     "output_type": "stream",
     "text": [
      "INFO:src.models.gnet:Predictions for test.\n",
      "LOCAL_RANK: 0 - CUDA_VISIBLE_DEVICES: [0,1,2,3]\n"
     ]
    },
    {
     "name": "stdout",
     "output_type": "stream",
     "text": [
      "🏃 View run delicate-seal-790 at: http://127.0.0.1:8081/#/experiments/887994607810552918/runs/fb94cd8dc7804c5b9f8a26fc1c97f679\n",
      "🧪 View experiment at: http://127.0.0.1:8081/#/experiments/887994607810552918\n"
     ]
    },
    {
     "data": {
      "application/vnd.jupyter.widget-view+json": {
       "model_id": "3e1280c8ce90467e95bde6e205986d82",
       "version_major": 2,
       "version_minor": 0
      },
      "text/plain": [
       "Predicting: 35it [00:00, ?it/s]"
      ]
     },
     "metadata": {},
     "output_type": "display_data"
    },
    {
     "name": "stderr",
     "output_type": "stream",
     "text": [
      "INFO:src.models.gnet:Predictions for test.\n",
      "LOCAL_RANK: 0 - CUDA_VISIBLE_DEVICES: [0,1,2,3]\n"
     ]
    },
    {
     "name": "stdout",
     "output_type": "stream",
     "text": [
      "🏃 View run delicate-seal-790 at: http://127.0.0.1:8081/#/experiments/887994607810552918/runs/fb94cd8dc7804c5b9f8a26fc1c97f679\n",
      "🧪 View experiment at: http://127.0.0.1:8081/#/experiments/887994607810552918\n"
     ]
    },
    {
     "data": {
      "application/vnd.jupyter.widget-view+json": {
       "model_id": "64acba625dcb4a94a646c086ea285af6",
       "version_major": 2,
       "version_minor": 0
      },
      "text/plain": [
       "Predicting: 35it [00:00, ?it/s]"
      ]
     },
     "metadata": {},
     "output_type": "display_data"
    },
    {
     "name": "stderr",
     "output_type": "stream",
     "text": [
      "INFO:src.models.gnet:Predictions for test.\n",
      "LOCAL_RANK: 0 - CUDA_VISIBLE_DEVICES: [0,1,2,3]\n"
     ]
    },
    {
     "name": "stdout",
     "output_type": "stream",
     "text": [
      "🏃 View run delicate-seal-790 at: http://127.0.0.1:8081/#/experiments/887994607810552918/runs/fb94cd8dc7804c5b9f8a26fc1c97f679\n",
      "🧪 View experiment at: http://127.0.0.1:8081/#/experiments/887994607810552918\n"
     ]
    },
    {
     "data": {
      "application/vnd.jupyter.widget-view+json": {
       "model_id": "54f758ef6bc741848559e0be38006b64",
       "version_major": 2,
       "version_minor": 0
      },
      "text/plain": [
       "Predicting: 35it [00:00, ?it/s]"
      ]
     },
     "metadata": {},
     "output_type": "display_data"
    },
    {
     "name": "stderr",
     "output_type": "stream",
     "text": [
      "INFO:src.models.gnet:Predictions for test.\n",
      "LOCAL_RANK: 0 - CUDA_VISIBLE_DEVICES: [0,1,2,3]\n"
     ]
    },
    {
     "name": "stdout",
     "output_type": "stream",
     "text": [
      "🏃 View run delicate-seal-790 at: http://127.0.0.1:8081/#/experiments/887994607810552918/runs/fb94cd8dc7804c5b9f8a26fc1c97f679\n",
      "🧪 View experiment at: http://127.0.0.1:8081/#/experiments/887994607810552918\n"
     ]
    },
    {
     "data": {
      "application/vnd.jupyter.widget-view+json": {
       "model_id": "69ba67d42ac1464eb263c1e9366d838c",
       "version_major": 2,
       "version_minor": 0
      },
      "text/plain": [
       "Predicting: 35it [00:00, ?it/s]"
      ]
     },
     "metadata": {},
     "output_type": "display_data"
    },
    {
     "name": "stderr",
     "output_type": "stream",
     "text": [
      "INFO:src.models.gnet:Predictions for test.\n",
      "LOCAL_RANK: 0 - CUDA_VISIBLE_DEVICES: [0,1,2,3]\n"
     ]
    },
    {
     "name": "stdout",
     "output_type": "stream",
     "text": [
      "🏃 View run delicate-seal-790 at: http://127.0.0.1:8081/#/experiments/887994607810552918/runs/fb94cd8dc7804c5b9f8a26fc1c97f679\n",
      "🧪 View experiment at: http://127.0.0.1:8081/#/experiments/887994607810552918\n"
     ]
    },
    {
     "data": {
      "application/vnd.jupyter.widget-view+json": {
       "model_id": "4dbab07f3ec349d683ac3d9f21356635",
       "version_major": 2,
       "version_minor": 0
      },
      "text/plain": [
       "Predicting: 35it [00:00, ?it/s]"
      ]
     },
     "metadata": {},
     "output_type": "display_data"
    },
    {
     "name": "stderr",
     "output_type": "stream",
     "text": [
      "INFO:src.models.gnet:Predictions for test.\n",
      "LOCAL_RANK: 0 - CUDA_VISIBLE_DEVICES: [0,1,2,3]\n"
     ]
    },
    {
     "name": "stdout",
     "output_type": "stream",
     "text": [
      "🏃 View run delicate-seal-790 at: http://127.0.0.1:8081/#/experiments/887994607810552918/runs/fb94cd8dc7804c5b9f8a26fc1c97f679\n",
      "🧪 View experiment at: http://127.0.0.1:8081/#/experiments/887994607810552918\n"
     ]
    },
    {
     "data": {
      "application/vnd.jupyter.widget-view+json": {
       "model_id": "952258869edc478ea8615fb67db7178f",
       "version_major": 2,
       "version_minor": 0
      },
      "text/plain": [
       "Predicting: 35it [00:00, ?it/s]"
      ]
     },
     "metadata": {},
     "output_type": "display_data"
    },
    {
     "name": "stderr",
     "output_type": "stream",
     "text": [
      "INFO:src.models.gnet:Predictions for test.\n",
      "LOCAL_RANK: 0 - CUDA_VISIBLE_DEVICES: [0,1,2,3]\n"
     ]
    },
    {
     "name": "stdout",
     "output_type": "stream",
     "text": [
      "🏃 View run delicate-seal-790 at: http://127.0.0.1:8081/#/experiments/887994607810552918/runs/fb94cd8dc7804c5b9f8a26fc1c97f679\n",
      "🧪 View experiment at: http://127.0.0.1:8081/#/experiments/887994607810552918\n"
     ]
    },
    {
     "data": {
      "application/vnd.jupyter.widget-view+json": {
       "model_id": "de4d571677bc43bab9899fa762db45ca",
       "version_major": 2,
       "version_minor": 0
      },
      "text/plain": [
       "Predicting: 35it [00:00, ?it/s]"
      ]
     },
     "metadata": {},
     "output_type": "display_data"
    },
    {
     "name": "stderr",
     "output_type": "stream",
     "text": [
      "INFO:src.models.gnet:Predictions for test.\n",
      "LOCAL_RANK: 0 - CUDA_VISIBLE_DEVICES: [0,1,2,3]\n"
     ]
    },
    {
     "name": "stdout",
     "output_type": "stream",
     "text": [
      "🏃 View run delicate-seal-790 at: http://127.0.0.1:8081/#/experiments/887994607810552918/runs/fb94cd8dc7804c5b9f8a26fc1c97f679\n",
      "🧪 View experiment at: http://127.0.0.1:8081/#/experiments/887994607810552918\n"
     ]
    },
    {
     "data": {
      "application/vnd.jupyter.widget-view+json": {
       "model_id": "53d131b0b2564b73a2762ba04c2378fe",
       "version_major": 2,
       "version_minor": 0
      },
      "text/plain": [
       "Predicting: 35it [00:00, ?it/s]"
      ]
     },
     "metadata": {},
     "output_type": "display_data"
    },
    {
     "name": "stderr",
     "output_type": "stream",
     "text": [
      "INFO:src.models.gnet:Predictions for test.\n",
      "LOCAL_RANK: 0 - CUDA_VISIBLE_DEVICES: [0,1,2,3]\n"
     ]
    },
    {
     "name": "stdout",
     "output_type": "stream",
     "text": [
      "🏃 View run delicate-seal-790 at: http://127.0.0.1:8081/#/experiments/887994607810552918/runs/fb94cd8dc7804c5b9f8a26fc1c97f679\n",
      "🧪 View experiment at: http://127.0.0.1:8081/#/experiments/887994607810552918\n"
     ]
    },
    {
     "data": {
      "application/vnd.jupyter.widget-view+json": {
       "model_id": "6625ea7d816b4736a1d367c858dfb780",
       "version_major": 2,
       "version_minor": 0
      },
      "text/plain": [
       "Predicting: 35it [00:00, ?it/s]"
      ]
     },
     "metadata": {},
     "output_type": "display_data"
    },
    {
     "name": "stderr",
     "output_type": "stream",
     "text": [
      "INFO:src.models.gnet:Predictions for test.\n",
      "LOCAL_RANK: 0 - CUDA_VISIBLE_DEVICES: [0,1,2,3]\n"
     ]
    },
    {
     "name": "stdout",
     "output_type": "stream",
     "text": [
      "🏃 View run delicate-seal-790 at: http://127.0.0.1:8081/#/experiments/887994607810552918/runs/fb94cd8dc7804c5b9f8a26fc1c97f679\n",
      "🧪 View experiment at: http://127.0.0.1:8081/#/experiments/887994607810552918\n"
     ]
    },
    {
     "data": {
      "application/vnd.jupyter.widget-view+json": {
       "model_id": "e79791a4c2784975ac38c1c3468ac424",
       "version_major": 2,
       "version_minor": 0
      },
      "text/plain": [
       "Predicting: 35it [00:00, ?it/s]"
      ]
     },
     "metadata": {},
     "output_type": "display_data"
    },
    {
     "name": "stderr",
     "output_type": "stream",
     "text": [
      "INFO:src.models.gnet:Predictions for test.\n",
      "LOCAL_RANK: 0 - CUDA_VISIBLE_DEVICES: [0,1,2,3]\n"
     ]
    },
    {
     "name": "stdout",
     "output_type": "stream",
     "text": [
      "🏃 View run delicate-seal-790 at: http://127.0.0.1:8081/#/experiments/887994607810552918/runs/fb94cd8dc7804c5b9f8a26fc1c97f679\n",
      "🧪 View experiment at: http://127.0.0.1:8081/#/experiments/887994607810552918\n"
     ]
    },
    {
     "data": {
      "application/vnd.jupyter.widget-view+json": {
       "model_id": "15b5d9f49f854718afc23c74c3219a34",
       "version_major": 2,
       "version_minor": 0
      },
      "text/plain": [
       "Predicting: 35it [00:00, ?it/s]"
      ]
     },
     "metadata": {},
     "output_type": "display_data"
    },
    {
     "name": "stderr",
     "output_type": "stream",
     "text": [
      "INFO:src.models.gnet:Predictions for test.\n",
      "LOCAL_RANK: 0 - CUDA_VISIBLE_DEVICES: [0,1,2,3]\n"
     ]
    },
    {
     "name": "stdout",
     "output_type": "stream",
     "text": [
      "🏃 View run delicate-seal-790 at: http://127.0.0.1:8081/#/experiments/887994607810552918/runs/fb94cd8dc7804c5b9f8a26fc1c97f679\n",
      "🧪 View experiment at: http://127.0.0.1:8081/#/experiments/887994607810552918\n"
     ]
    },
    {
     "data": {
      "application/vnd.jupyter.widget-view+json": {
       "model_id": "58d1ea2103464312ac0266b1d1590b03",
       "version_major": 2,
       "version_minor": 0
      },
      "text/plain": [
       "Predicting: 35it [00:00, ?it/s]"
      ]
     },
     "metadata": {},
     "output_type": "display_data"
    },
    {
     "name": "stderr",
     "output_type": "stream",
     "text": [
      "INFO:src.models.gnet:Predictions for test.\n",
      "LOCAL_RANK: 0 - CUDA_VISIBLE_DEVICES: [0,1,2,3]\n"
     ]
    },
    {
     "name": "stdout",
     "output_type": "stream",
     "text": [
      "🏃 View run delicate-seal-790 at: http://127.0.0.1:8081/#/experiments/887994607810552918/runs/fb94cd8dc7804c5b9f8a26fc1c97f679\n",
      "🧪 View experiment at: http://127.0.0.1:8081/#/experiments/887994607810552918\n"
     ]
    },
    {
     "data": {
      "application/vnd.jupyter.widget-view+json": {
       "model_id": "ed16794313b04e59b95bc67901221474",
       "version_major": 2,
       "version_minor": 0
      },
      "text/plain": [
       "Predicting: 35it [00:00, ?it/s]"
      ]
     },
     "metadata": {},
     "output_type": "display_data"
    },
    {
     "name": "stderr",
     "output_type": "stream",
     "text": [
      "INFO:src.models.gnet:Predictions for test.\n",
      "LOCAL_RANK: 0 - CUDA_VISIBLE_DEVICES: [0,1,2,3]\n"
     ]
    },
    {
     "name": "stdout",
     "output_type": "stream",
     "text": [
      "🏃 View run delicate-seal-790 at: http://127.0.0.1:8081/#/experiments/887994607810552918/runs/fb94cd8dc7804c5b9f8a26fc1c97f679\n",
      "🧪 View experiment at: http://127.0.0.1:8081/#/experiments/887994607810552918\n"
     ]
    },
    {
     "data": {
      "application/vnd.jupyter.widget-view+json": {
       "model_id": "c53cd05fce4b4024a431109cc0cf2eb1",
       "version_major": 2,
       "version_minor": 0
      },
      "text/plain": [
       "Predicting: 35it [00:00, ?it/s]"
      ]
     },
     "metadata": {},
     "output_type": "display_data"
    },
    {
     "name": "stderr",
     "output_type": "stream",
     "text": [
      "INFO:src.models.gnet:Predictions for test.\n",
      "LOCAL_RANK: 0 - CUDA_VISIBLE_DEVICES: [0,1,2,3]\n"
     ]
    },
    {
     "name": "stdout",
     "output_type": "stream",
     "text": [
      "🏃 View run delicate-seal-790 at: http://127.0.0.1:8081/#/experiments/887994607810552918/runs/fb94cd8dc7804c5b9f8a26fc1c97f679\n",
      "🧪 View experiment at: http://127.0.0.1:8081/#/experiments/887994607810552918\n"
     ]
    },
    {
     "data": {
      "application/vnd.jupyter.widget-view+json": {
       "model_id": "b061477181d14ba3974fdd14ca38634c",
       "version_major": 2,
       "version_minor": 0
      },
      "text/plain": [
       "Predicting: 35it [00:00, ?it/s]"
      ]
     },
     "metadata": {},
     "output_type": "display_data"
    },
    {
     "name": "stderr",
     "output_type": "stream",
     "text": [
      "INFO:src.models.gnet:Predictions for test.\n",
      "LOCAL_RANK: 0 - CUDA_VISIBLE_DEVICES: [0,1,2,3]\n"
     ]
    },
    {
     "name": "stdout",
     "output_type": "stream",
     "text": [
      "🏃 View run delicate-seal-790 at: http://127.0.0.1:8081/#/experiments/887994607810552918/runs/fb94cd8dc7804c5b9f8a26fc1c97f679\n",
      "🧪 View experiment at: http://127.0.0.1:8081/#/experiments/887994607810552918\n"
     ]
    },
    {
     "data": {
      "application/vnd.jupyter.widget-view+json": {
       "model_id": "9ca6675857084c0f8dac16e3ec2dbbb5",
       "version_major": 2,
       "version_minor": 0
      },
      "text/plain": [
       "Predicting: 35it [00:00, ?it/s]"
      ]
     },
     "metadata": {},
     "output_type": "display_data"
    },
    {
     "name": "stderr",
     "output_type": "stream",
     "text": [
      "INFO:src.models.gnet:Predictions for test.\n",
      "LOCAL_RANK: 0 - CUDA_VISIBLE_DEVICES: [0,1,2,3]\n"
     ]
    },
    {
     "name": "stdout",
     "output_type": "stream",
     "text": [
      "🏃 View run delicate-seal-790 at: http://127.0.0.1:8081/#/experiments/887994607810552918/runs/fb94cd8dc7804c5b9f8a26fc1c97f679\n",
      "🧪 View experiment at: http://127.0.0.1:8081/#/experiments/887994607810552918\n"
     ]
    },
    {
     "data": {
      "application/vnd.jupyter.widget-view+json": {
       "model_id": "d8aaa4fb9b7b48efa1fd1eddbb7a3e9c",
       "version_major": 2,
       "version_minor": 0
      },
      "text/plain": [
       "Predicting: 35it [00:00, ?it/s]"
      ]
     },
     "metadata": {},
     "output_type": "display_data"
    },
    {
     "name": "stderr",
     "output_type": "stream",
     "text": [
      "INFO:src.models.gnet:Predictions for test.\n",
      "LOCAL_RANK: 0 - CUDA_VISIBLE_DEVICES: [0,1,2,3]\n"
     ]
    },
    {
     "name": "stdout",
     "output_type": "stream",
     "text": [
      "🏃 View run delicate-seal-790 at: http://127.0.0.1:8081/#/experiments/887994607810552918/runs/fb94cd8dc7804c5b9f8a26fc1c97f679\n",
      "🧪 View experiment at: http://127.0.0.1:8081/#/experiments/887994607810552918\n"
     ]
    },
    {
     "data": {
      "application/vnd.jupyter.widget-view+json": {
       "model_id": "e17abee78cd948a18a3bec92454f7aab",
       "version_major": 2,
       "version_minor": 0
      },
      "text/plain": [
       "Predicting: 35it [00:00, ?it/s]"
      ]
     },
     "metadata": {},
     "output_type": "display_data"
    },
    {
     "name": "stderr",
     "output_type": "stream",
     "text": [
      "INFO:src.models.gnet:Predictions for test.\n",
      "LOCAL_RANK: 0 - CUDA_VISIBLE_DEVICES: [0,1,2,3]\n"
     ]
    },
    {
     "name": "stdout",
     "output_type": "stream",
     "text": [
      "🏃 View run delicate-seal-790 at: http://127.0.0.1:8081/#/experiments/887994607810552918/runs/fb94cd8dc7804c5b9f8a26fc1c97f679\n",
      "🧪 View experiment at: http://127.0.0.1:8081/#/experiments/887994607810552918\n"
     ]
    },
    {
     "data": {
      "application/vnd.jupyter.widget-view+json": {
       "model_id": "36509a9adb4a4eabb3ee1c7f4287b8e9",
       "version_major": 2,
       "version_minor": 0
      },
      "text/plain": [
       "Predicting: 35it [00:00, ?it/s]"
      ]
     },
     "metadata": {},
     "output_type": "display_data"
    },
    {
     "name": "stderr",
     "output_type": "stream",
     "text": [
      "INFO:src.models.gnet:Predictions for test.\n",
      "LOCAL_RANK: 0 - CUDA_VISIBLE_DEVICES: [0,1,2,3]\n"
     ]
    },
    {
     "name": "stdout",
     "output_type": "stream",
     "text": [
      "🏃 View run delicate-seal-790 at: http://127.0.0.1:8081/#/experiments/887994607810552918/runs/fb94cd8dc7804c5b9f8a26fc1c97f679\n",
      "🧪 View experiment at: http://127.0.0.1:8081/#/experiments/887994607810552918\n"
     ]
    },
    {
     "data": {
      "application/vnd.jupyter.widget-view+json": {
       "model_id": "bca0fef9f34f4d53b4e5f5ed8cf355bd",
       "version_major": 2,
       "version_minor": 0
      },
      "text/plain": [
       "Predicting: 35it [00:00, ?it/s]"
      ]
     },
     "metadata": {},
     "output_type": "display_data"
    },
    {
     "name": "stderr",
     "output_type": "stream",
     "text": [
      "INFO:src.models.gnet:Predictions for test.\n",
      "LOCAL_RANK: 0 - CUDA_VISIBLE_DEVICES: [0,1,2,3]\n"
     ]
    },
    {
     "name": "stdout",
     "output_type": "stream",
     "text": [
      "🏃 View run delicate-seal-790 at: http://127.0.0.1:8081/#/experiments/887994607810552918/runs/fb94cd8dc7804c5b9f8a26fc1c97f679\n",
      "🧪 View experiment at: http://127.0.0.1:8081/#/experiments/887994607810552918\n"
     ]
    },
    {
     "data": {
      "application/vnd.jupyter.widget-view+json": {
       "model_id": "e9c57924d11e4536866bbfd261293640",
       "version_major": 2,
       "version_minor": 0
      },
      "text/plain": [
       "Predicting: 35it [00:00, ?it/s]"
      ]
     },
     "metadata": {},
     "output_type": "display_data"
    },
    {
     "name": "stderr",
     "output_type": "stream",
     "text": [
      "INFO:src.models.gnet:Predictions for test.\n",
      "LOCAL_RANK: 0 - CUDA_VISIBLE_DEVICES: [0,1,2,3]\n"
     ]
    },
    {
     "name": "stdout",
     "output_type": "stream",
     "text": [
      "🏃 View run delicate-seal-790 at: http://127.0.0.1:8081/#/experiments/887994607810552918/runs/fb94cd8dc7804c5b9f8a26fc1c97f679\n",
      "🧪 View experiment at: http://127.0.0.1:8081/#/experiments/887994607810552918\n"
     ]
    },
    {
     "data": {
      "application/vnd.jupyter.widget-view+json": {
       "model_id": "ce28d44827144e56b4b91a1bd9e18b18",
       "version_major": 2,
       "version_minor": 0
      },
      "text/plain": [
       "Predicting: 35it [00:00, ?it/s]"
      ]
     },
     "metadata": {},
     "output_type": "display_data"
    },
    {
     "name": "stderr",
     "output_type": "stream",
     "text": [
      "INFO:src.models.gnet:Predictions for test.\n",
      "LOCAL_RANK: 0 - CUDA_VISIBLE_DEVICES: [0,1,2,3]\n"
     ]
    },
    {
     "name": "stdout",
     "output_type": "stream",
     "text": [
      "🏃 View run delicate-seal-790 at: http://127.0.0.1:8081/#/experiments/887994607810552918/runs/fb94cd8dc7804c5b9f8a26fc1c97f679\n",
      "🧪 View experiment at: http://127.0.0.1:8081/#/experiments/887994607810552918\n"
     ]
    },
    {
     "data": {
      "application/vnd.jupyter.widget-view+json": {
       "model_id": "fd3ae022ee844d20bd9d0ad62e73969d",
       "version_major": 2,
       "version_minor": 0
      },
      "text/plain": [
       "Predicting: 35it [00:00, ?it/s]"
      ]
     },
     "metadata": {},
     "output_type": "display_data"
    },
    {
     "name": "stderr",
     "output_type": "stream",
     "text": [
      "INFO:src.models.gnet:Predictions for test.\n",
      "LOCAL_RANK: 0 - CUDA_VISIBLE_DEVICES: [0,1,2,3]\n"
     ]
    },
    {
     "name": "stdout",
     "output_type": "stream",
     "text": [
      "🏃 View run delicate-seal-790 at: http://127.0.0.1:8081/#/experiments/887994607810552918/runs/fb94cd8dc7804c5b9f8a26fc1c97f679\n",
      "🧪 View experiment at: http://127.0.0.1:8081/#/experiments/887994607810552918\n"
     ]
    },
    {
     "data": {
      "application/vnd.jupyter.widget-view+json": {
       "model_id": "d67c9b2ef5cb4cbe976d1328fd9cb2b6",
       "version_major": 2,
       "version_minor": 0
      },
      "text/plain": [
       "Predicting: 35it [00:00, ?it/s]"
      ]
     },
     "metadata": {},
     "output_type": "display_data"
    },
    {
     "name": "stderr",
     "output_type": "stream",
     "text": [
      "INFO:src.models.gnet:Predictions for test.\n",
      "LOCAL_RANK: 0 - CUDA_VISIBLE_DEVICES: [0,1,2,3]\n"
     ]
    },
    {
     "name": "stdout",
     "output_type": "stream",
     "text": [
      "🏃 View run delicate-seal-790 at: http://127.0.0.1:8081/#/experiments/887994607810552918/runs/fb94cd8dc7804c5b9f8a26fc1c97f679\n",
      "🧪 View experiment at: http://127.0.0.1:8081/#/experiments/887994607810552918\n"
     ]
    },
    {
     "data": {
      "application/vnd.jupyter.widget-view+json": {
       "model_id": "42aca42465f741218b22875843a5ba05",
       "version_major": 2,
       "version_minor": 0
      },
      "text/plain": [
       "Predicting: 35it [00:00, ?it/s]"
      ]
     },
     "metadata": {},
     "output_type": "display_data"
    },
    {
     "name": "stderr",
     "output_type": "stream",
     "text": [
      "INFO:src.models.gnet:Predictions for test.\n",
      "LOCAL_RANK: 0 - CUDA_VISIBLE_DEVICES: [0,1,2,3]\n"
     ]
    },
    {
     "name": "stdout",
     "output_type": "stream",
     "text": [
      "🏃 View run delicate-seal-790 at: http://127.0.0.1:8081/#/experiments/887994607810552918/runs/fb94cd8dc7804c5b9f8a26fc1c97f679\n",
      "🧪 View experiment at: http://127.0.0.1:8081/#/experiments/887994607810552918\n"
     ]
    },
    {
     "data": {
      "application/vnd.jupyter.widget-view+json": {
       "model_id": "5bf2755f7ad14e1ebbe9fe5a6d3a1c6e",
       "version_major": 2,
       "version_minor": 0
      },
      "text/plain": [
       "Predicting: 35it [00:00, ?it/s]"
      ]
     },
     "metadata": {},
     "output_type": "display_data"
    },
    {
     "name": "stderr",
     "output_type": "stream",
     "text": [
      "INFO:src.models.gnet:t = 6\n",
      "INFO:src.models.gnet:Predictions for test.\n",
      "LOCAL_RANK: 0 - CUDA_VISIBLE_DEVICES: [0,1,2,3]\n"
     ]
    },
    {
     "name": "stdout",
     "output_type": "stream",
     "text": [
      "🏃 View run delicate-seal-790 at: http://127.0.0.1:8081/#/experiments/887994607810552918/runs/fb94cd8dc7804c5b9f8a26fc1c97f679\n",
      "🧪 View experiment at: http://127.0.0.1:8081/#/experiments/887994607810552918\n"
     ]
    },
    {
     "data": {
      "application/vnd.jupyter.widget-view+json": {
       "model_id": "9605bbf7393d4174bcf845722ee93d20",
       "version_major": 2,
       "version_minor": 0
      },
      "text/plain": [
       "Predicting: 35it [00:00, ?it/s]"
      ]
     },
     "metadata": {},
     "output_type": "display_data"
    },
    {
     "name": "stderr",
     "output_type": "stream",
     "text": [
      "INFO:src.models.gnet:Predictions for test.\n",
      "LOCAL_RANK: 0 - CUDA_VISIBLE_DEVICES: [0,1,2,3]\n"
     ]
    },
    {
     "name": "stdout",
     "output_type": "stream",
     "text": [
      "🏃 View run delicate-seal-790 at: http://127.0.0.1:8081/#/experiments/887994607810552918/runs/fb94cd8dc7804c5b9f8a26fc1c97f679\n",
      "🧪 View experiment at: http://127.0.0.1:8081/#/experiments/887994607810552918\n"
     ]
    },
    {
     "data": {
      "application/vnd.jupyter.widget-view+json": {
       "model_id": "175c2f8f3fa94227811d05770e404ca7",
       "version_major": 2,
       "version_minor": 0
      },
      "text/plain": [
       "Predicting: 35it [00:00, ?it/s]"
      ]
     },
     "metadata": {},
     "output_type": "display_data"
    },
    {
     "name": "stderr",
     "output_type": "stream",
     "text": [
      "INFO:src.models.gnet:Predictions for test.\n",
      "LOCAL_RANK: 0 - CUDA_VISIBLE_DEVICES: [0,1,2,3]\n"
     ]
    },
    {
     "name": "stdout",
     "output_type": "stream",
     "text": [
      "🏃 View run delicate-seal-790 at: http://127.0.0.1:8081/#/experiments/887994607810552918/runs/fb94cd8dc7804c5b9f8a26fc1c97f679\n",
      "🧪 View experiment at: http://127.0.0.1:8081/#/experiments/887994607810552918\n"
     ]
    },
    {
     "data": {
      "application/vnd.jupyter.widget-view+json": {
       "model_id": "2ef3fd062fd146f2b955fdf213afcbb3",
       "version_major": 2,
       "version_minor": 0
      },
      "text/plain": [
       "Predicting: 35it [00:00, ?it/s]"
      ]
     },
     "metadata": {},
     "output_type": "display_data"
    },
    {
     "name": "stderr",
     "output_type": "stream",
     "text": [
      "INFO:src.models.gnet:Predictions for test.\n",
      "LOCAL_RANK: 0 - CUDA_VISIBLE_DEVICES: [0,1,2,3]\n"
     ]
    },
    {
     "name": "stdout",
     "output_type": "stream",
     "text": [
      "🏃 View run delicate-seal-790 at: http://127.0.0.1:8081/#/experiments/887994607810552918/runs/fb94cd8dc7804c5b9f8a26fc1c97f679\n",
      "🧪 View experiment at: http://127.0.0.1:8081/#/experiments/887994607810552918\n"
     ]
    },
    {
     "data": {
      "application/vnd.jupyter.widget-view+json": {
       "model_id": "41b1f88cd5eb45478f0128b2fb11540f",
       "version_major": 2,
       "version_minor": 0
      },
      "text/plain": [
       "Predicting: 35it [00:00, ?it/s]"
      ]
     },
     "metadata": {},
     "output_type": "display_data"
    },
    {
     "name": "stderr",
     "output_type": "stream",
     "text": [
      "INFO:src.models.gnet:Predictions for test.\n",
      "LOCAL_RANK: 0 - CUDA_VISIBLE_DEVICES: [0,1,2,3]\n"
     ]
    },
    {
     "name": "stdout",
     "output_type": "stream",
     "text": [
      "🏃 View run delicate-seal-790 at: http://127.0.0.1:8081/#/experiments/887994607810552918/runs/fb94cd8dc7804c5b9f8a26fc1c97f679\n",
      "🧪 View experiment at: http://127.0.0.1:8081/#/experiments/887994607810552918\n"
     ]
    },
    {
     "data": {
      "application/vnd.jupyter.widget-view+json": {
       "model_id": "7d7e3e31e8f545e99d0018d5f991ff5e",
       "version_major": 2,
       "version_minor": 0
      },
      "text/plain": [
       "Predicting: 35it [00:00, ?it/s]"
      ]
     },
     "metadata": {},
     "output_type": "display_data"
    },
    {
     "name": "stderr",
     "output_type": "stream",
     "text": [
      "INFO:src.models.gnet:Predictions for test.\n",
      "LOCAL_RANK: 0 - CUDA_VISIBLE_DEVICES: [0,1,2,3]\n"
     ]
    },
    {
     "name": "stdout",
     "output_type": "stream",
     "text": [
      "🏃 View run delicate-seal-790 at: http://127.0.0.1:8081/#/experiments/887994607810552918/runs/fb94cd8dc7804c5b9f8a26fc1c97f679\n",
      "🧪 View experiment at: http://127.0.0.1:8081/#/experiments/887994607810552918\n"
     ]
    },
    {
     "data": {
      "application/vnd.jupyter.widget-view+json": {
       "model_id": "e5f6fb863698423fbcca1e5a34d14149",
       "version_major": 2,
       "version_minor": 0
      },
      "text/plain": [
       "Predicting: 35it [00:00, ?it/s]"
      ]
     },
     "metadata": {},
     "output_type": "display_data"
    },
    {
     "name": "stderr",
     "output_type": "stream",
     "text": [
      "INFO:src.models.gnet:Predictions for test.\n",
      "LOCAL_RANK: 0 - CUDA_VISIBLE_DEVICES: [0,1,2,3]\n"
     ]
    },
    {
     "name": "stdout",
     "output_type": "stream",
     "text": [
      "🏃 View run delicate-seal-790 at: http://127.0.0.1:8081/#/experiments/887994607810552918/runs/fb94cd8dc7804c5b9f8a26fc1c97f679\n",
      "🧪 View experiment at: http://127.0.0.1:8081/#/experiments/887994607810552918\n"
     ]
    },
    {
     "data": {
      "application/vnd.jupyter.widget-view+json": {
       "model_id": "ec7939bc00064ec79aae93022ffb3e7e",
       "version_major": 2,
       "version_minor": 0
      },
      "text/plain": [
       "Predicting: 35it [00:00, ?it/s]"
      ]
     },
     "metadata": {},
     "output_type": "display_data"
    },
    {
     "name": "stderr",
     "output_type": "stream",
     "text": [
      "INFO:src.models.gnet:Predictions for test.\n",
      "LOCAL_RANK: 0 - CUDA_VISIBLE_DEVICES: [0,1,2,3]\n"
     ]
    },
    {
     "name": "stdout",
     "output_type": "stream",
     "text": [
      "🏃 View run delicate-seal-790 at: http://127.0.0.1:8081/#/experiments/887994607810552918/runs/fb94cd8dc7804c5b9f8a26fc1c97f679\n",
      "🧪 View experiment at: http://127.0.0.1:8081/#/experiments/887994607810552918\n"
     ]
    },
    {
     "data": {
      "application/vnd.jupyter.widget-view+json": {
       "model_id": "60dd1fd2506741a78159f9a588b26b27",
       "version_major": 2,
       "version_minor": 0
      },
      "text/plain": [
       "Predicting: 35it [00:00, ?it/s]"
      ]
     },
     "metadata": {},
     "output_type": "display_data"
    },
    {
     "name": "stderr",
     "output_type": "stream",
     "text": [
      "INFO:src.models.gnet:Predictions for test.\n",
      "LOCAL_RANK: 0 - CUDA_VISIBLE_DEVICES: [0,1,2,3]\n"
     ]
    },
    {
     "name": "stdout",
     "output_type": "stream",
     "text": [
      "🏃 View run delicate-seal-790 at: http://127.0.0.1:8081/#/experiments/887994607810552918/runs/fb94cd8dc7804c5b9f8a26fc1c97f679\n",
      "🧪 View experiment at: http://127.0.0.1:8081/#/experiments/887994607810552918\n"
     ]
    },
    {
     "data": {
      "application/vnd.jupyter.widget-view+json": {
       "model_id": "b4538c0dc7874bdab8c4aa611ab4e9fc",
       "version_major": 2,
       "version_minor": 0
      },
      "text/plain": [
       "Predicting: 35it [00:00, ?it/s]"
      ]
     },
     "metadata": {},
     "output_type": "display_data"
    },
    {
     "name": "stderr",
     "output_type": "stream",
     "text": [
      "INFO:src.models.gnet:Predictions for test.\n",
      "LOCAL_RANK: 0 - CUDA_VISIBLE_DEVICES: [0,1,2,3]\n"
     ]
    },
    {
     "name": "stdout",
     "output_type": "stream",
     "text": [
      "🏃 View run delicate-seal-790 at: http://127.0.0.1:8081/#/experiments/887994607810552918/runs/fb94cd8dc7804c5b9f8a26fc1c97f679\n",
      "🧪 View experiment at: http://127.0.0.1:8081/#/experiments/887994607810552918\n"
     ]
    },
    {
     "data": {
      "application/vnd.jupyter.widget-view+json": {
       "model_id": "610b7854f8a84bb1a6f323a3db6ef476",
       "version_major": 2,
       "version_minor": 0
      },
      "text/plain": [
       "Predicting: 35it [00:00, ?it/s]"
      ]
     },
     "metadata": {},
     "output_type": "display_data"
    },
    {
     "name": "stderr",
     "output_type": "stream",
     "text": [
      "INFO:src.models.gnet:Predictions for test.\n",
      "LOCAL_RANK: 0 - CUDA_VISIBLE_DEVICES: [0,1,2,3]\n"
     ]
    },
    {
     "name": "stdout",
     "output_type": "stream",
     "text": [
      "🏃 View run delicate-seal-790 at: http://127.0.0.1:8081/#/experiments/887994607810552918/runs/fb94cd8dc7804c5b9f8a26fc1c97f679\n",
      "🧪 View experiment at: http://127.0.0.1:8081/#/experiments/887994607810552918\n"
     ]
    },
    {
     "data": {
      "application/vnd.jupyter.widget-view+json": {
       "model_id": "32fa2b824cef4c18bc46d8714745cf9d",
       "version_major": 2,
       "version_minor": 0
      },
      "text/plain": [
       "Predicting: 35it [00:00, ?it/s]"
      ]
     },
     "metadata": {},
     "output_type": "display_data"
    },
    {
     "name": "stderr",
     "output_type": "stream",
     "text": [
      "INFO:src.models.gnet:Predictions for test.\n",
      "LOCAL_RANK: 0 - CUDA_VISIBLE_DEVICES: [0,1,2,3]\n"
     ]
    },
    {
     "name": "stdout",
     "output_type": "stream",
     "text": [
      "🏃 View run delicate-seal-790 at: http://127.0.0.1:8081/#/experiments/887994607810552918/runs/fb94cd8dc7804c5b9f8a26fc1c97f679\n",
      "🧪 View experiment at: http://127.0.0.1:8081/#/experiments/887994607810552918\n"
     ]
    },
    {
     "data": {
      "application/vnd.jupyter.widget-view+json": {
       "model_id": "57c46e0b49854152a0a0dd2b283abb22",
       "version_major": 2,
       "version_minor": 0
      },
      "text/plain": [
       "Predicting: 35it [00:00, ?it/s]"
      ]
     },
     "metadata": {},
     "output_type": "display_data"
    },
    {
     "name": "stderr",
     "output_type": "stream",
     "text": [
      "INFO:src.models.gnet:Predictions for test.\n",
      "LOCAL_RANK: 0 - CUDA_VISIBLE_DEVICES: [0,1,2,3]\n"
     ]
    },
    {
     "name": "stdout",
     "output_type": "stream",
     "text": [
      "🏃 View run delicate-seal-790 at: http://127.0.0.1:8081/#/experiments/887994607810552918/runs/fb94cd8dc7804c5b9f8a26fc1c97f679\n",
      "🧪 View experiment at: http://127.0.0.1:8081/#/experiments/887994607810552918\n"
     ]
    },
    {
     "data": {
      "application/vnd.jupyter.widget-view+json": {
       "model_id": "fbedee76696f4645932c2cbcc717ce8d",
       "version_major": 2,
       "version_minor": 0
      },
      "text/plain": [
       "Predicting: 35it [00:00, ?it/s]"
      ]
     },
     "metadata": {},
     "output_type": "display_data"
    },
    {
     "name": "stderr",
     "output_type": "stream",
     "text": [
      "INFO:src.models.gnet:Predictions for test.\n",
      "LOCAL_RANK: 0 - CUDA_VISIBLE_DEVICES: [0,1,2,3]\n"
     ]
    },
    {
     "name": "stdout",
     "output_type": "stream",
     "text": [
      "🏃 View run delicate-seal-790 at: http://127.0.0.1:8081/#/experiments/887994607810552918/runs/fb94cd8dc7804c5b9f8a26fc1c97f679\n",
      "🧪 View experiment at: http://127.0.0.1:8081/#/experiments/887994607810552918\n"
     ]
    },
    {
     "data": {
      "application/vnd.jupyter.widget-view+json": {
       "model_id": "00a7ad37f3a3496cac92b598ac4b91e0",
       "version_major": 2,
       "version_minor": 0
      },
      "text/plain": [
       "Predicting: 35it [00:00, ?it/s]"
      ]
     },
     "metadata": {},
     "output_type": "display_data"
    },
    {
     "name": "stderr",
     "output_type": "stream",
     "text": [
      "INFO:src.models.gnet:Predictions for test.\n",
      "LOCAL_RANK: 0 - CUDA_VISIBLE_DEVICES: [0,1,2,3]\n"
     ]
    },
    {
     "name": "stdout",
     "output_type": "stream",
     "text": [
      "🏃 View run delicate-seal-790 at: http://127.0.0.1:8081/#/experiments/887994607810552918/runs/fb94cd8dc7804c5b9f8a26fc1c97f679\n",
      "🧪 View experiment at: http://127.0.0.1:8081/#/experiments/887994607810552918\n"
     ]
    },
    {
     "data": {
      "application/vnd.jupyter.widget-view+json": {
       "model_id": "21bb3c19e33c4117ad591522db88aa68",
       "version_major": 2,
       "version_minor": 0
      },
      "text/plain": [
       "Predicting: 35it [00:00, ?it/s]"
      ]
     },
     "metadata": {},
     "output_type": "display_data"
    },
    {
     "name": "stderr",
     "output_type": "stream",
     "text": [
      "INFO:src.models.gnet:Predictions for test.\n",
      "LOCAL_RANK: 0 - CUDA_VISIBLE_DEVICES: [0,1,2,3]\n"
     ]
    },
    {
     "name": "stdout",
     "output_type": "stream",
     "text": [
      "🏃 View run delicate-seal-790 at: http://127.0.0.1:8081/#/experiments/887994607810552918/runs/fb94cd8dc7804c5b9f8a26fc1c97f679\n",
      "🧪 View experiment at: http://127.0.0.1:8081/#/experiments/887994607810552918\n"
     ]
    },
    {
     "data": {
      "application/vnd.jupyter.widget-view+json": {
       "model_id": "34a77232a867426d945080d9dc9ac41e",
       "version_major": 2,
       "version_minor": 0
      },
      "text/plain": [
       "Predicting: 35it [00:00, ?it/s]"
      ]
     },
     "metadata": {},
     "output_type": "display_data"
    },
    {
     "name": "stderr",
     "output_type": "stream",
     "text": [
      "INFO:src.models.gnet:Predictions for test.\n",
      "LOCAL_RANK: 0 - CUDA_VISIBLE_DEVICES: [0,1,2,3]\n"
     ]
    },
    {
     "name": "stdout",
     "output_type": "stream",
     "text": [
      "🏃 View run delicate-seal-790 at: http://127.0.0.1:8081/#/experiments/887994607810552918/runs/fb94cd8dc7804c5b9f8a26fc1c97f679\n",
      "🧪 View experiment at: http://127.0.0.1:8081/#/experiments/887994607810552918\n"
     ]
    },
    {
     "data": {
      "application/vnd.jupyter.widget-view+json": {
       "model_id": "66457ebd584649a492ea2a4997f4f7c2",
       "version_major": 2,
       "version_minor": 0
      },
      "text/plain": [
       "Predicting: 35it [00:00, ?it/s]"
      ]
     },
     "metadata": {},
     "output_type": "display_data"
    },
    {
     "name": "stderr",
     "output_type": "stream",
     "text": [
      "INFO:src.models.gnet:Predictions for test.\n",
      "LOCAL_RANK: 0 - CUDA_VISIBLE_DEVICES: [0,1,2,3]\n"
     ]
    },
    {
     "name": "stdout",
     "output_type": "stream",
     "text": [
      "🏃 View run delicate-seal-790 at: http://127.0.0.1:8081/#/experiments/887994607810552918/runs/fb94cd8dc7804c5b9f8a26fc1c97f679\n",
      "🧪 View experiment at: http://127.0.0.1:8081/#/experiments/887994607810552918\n"
     ]
    },
    {
     "data": {
      "application/vnd.jupyter.widget-view+json": {
       "model_id": "978a0405c2454bc2a08f2e807d78bc80",
       "version_major": 2,
       "version_minor": 0
      },
      "text/plain": [
       "Predicting: 35it [00:00, ?it/s]"
      ]
     },
     "metadata": {},
     "output_type": "display_data"
    },
    {
     "name": "stderr",
     "output_type": "stream",
     "text": [
      "INFO:src.models.gnet:Predictions for test.\n",
      "LOCAL_RANK: 0 - CUDA_VISIBLE_DEVICES: [0,1,2,3]\n"
     ]
    },
    {
     "name": "stdout",
     "output_type": "stream",
     "text": [
      "🏃 View run delicate-seal-790 at: http://127.0.0.1:8081/#/experiments/887994607810552918/runs/fb94cd8dc7804c5b9f8a26fc1c97f679\n",
      "🧪 View experiment at: http://127.0.0.1:8081/#/experiments/887994607810552918\n"
     ]
    },
    {
     "data": {
      "application/vnd.jupyter.widget-view+json": {
       "model_id": "96a46ea6c19348a59e829c5c4e4083c4",
       "version_major": 2,
       "version_minor": 0
      },
      "text/plain": [
       "Predicting: 35it [00:00, ?it/s]"
      ]
     },
     "metadata": {},
     "output_type": "display_data"
    },
    {
     "name": "stderr",
     "output_type": "stream",
     "text": [
      "INFO:src.models.gnet:Predictions for test.\n",
      "LOCAL_RANK: 0 - CUDA_VISIBLE_DEVICES: [0,1,2,3]\n"
     ]
    },
    {
     "name": "stdout",
     "output_type": "stream",
     "text": [
      "🏃 View run delicate-seal-790 at: http://127.0.0.1:8081/#/experiments/887994607810552918/runs/fb94cd8dc7804c5b9f8a26fc1c97f679\n",
      "🧪 View experiment at: http://127.0.0.1:8081/#/experiments/887994607810552918\n"
     ]
    },
    {
     "data": {
      "application/vnd.jupyter.widget-view+json": {
       "model_id": "5626955b01974a13a84ed4fe0450a10c",
       "version_major": 2,
       "version_minor": 0
      },
      "text/plain": [
       "Predicting: 35it [00:00, ?it/s]"
      ]
     },
     "metadata": {},
     "output_type": "display_data"
    },
    {
     "name": "stderr",
     "output_type": "stream",
     "text": [
      "INFO:src.models.gnet:Predictions for test.\n",
      "LOCAL_RANK: 0 - CUDA_VISIBLE_DEVICES: [0,1,2,3]\n"
     ]
    },
    {
     "name": "stdout",
     "output_type": "stream",
     "text": [
      "🏃 View run delicate-seal-790 at: http://127.0.0.1:8081/#/experiments/887994607810552918/runs/fb94cd8dc7804c5b9f8a26fc1c97f679\n",
      "🧪 View experiment at: http://127.0.0.1:8081/#/experiments/887994607810552918\n"
     ]
    },
    {
     "data": {
      "application/vnd.jupyter.widget-view+json": {
       "model_id": "affa7f82d983412681108840119a3dea",
       "version_major": 2,
       "version_minor": 0
      },
      "text/plain": [
       "Predicting: 35it [00:00, ?it/s]"
      ]
     },
     "metadata": {},
     "output_type": "display_data"
    },
    {
     "name": "stderr",
     "output_type": "stream",
     "text": [
      "INFO:src.models.gnet:Predictions for test.\n",
      "LOCAL_RANK: 0 - CUDA_VISIBLE_DEVICES: [0,1,2,3]\n"
     ]
    },
    {
     "name": "stdout",
     "output_type": "stream",
     "text": [
      "🏃 View run delicate-seal-790 at: http://127.0.0.1:8081/#/experiments/887994607810552918/runs/fb94cd8dc7804c5b9f8a26fc1c97f679\n",
      "🧪 View experiment at: http://127.0.0.1:8081/#/experiments/887994607810552918\n"
     ]
    },
    {
     "data": {
      "application/vnd.jupyter.widget-view+json": {
       "model_id": "50f08fdf29414766834e5f4979c5ac81",
       "version_major": 2,
       "version_minor": 0
      },
      "text/plain": [
       "Predicting: 35it [00:00, ?it/s]"
      ]
     },
     "metadata": {},
     "output_type": "display_data"
    },
    {
     "name": "stderr",
     "output_type": "stream",
     "text": [
      "INFO:src.models.gnet:Predictions for test.\n",
      "LOCAL_RANK: 0 - CUDA_VISIBLE_DEVICES: [0,1,2,3]\n"
     ]
    },
    {
     "name": "stdout",
     "output_type": "stream",
     "text": [
      "🏃 View run delicate-seal-790 at: http://127.0.0.1:8081/#/experiments/887994607810552918/runs/fb94cd8dc7804c5b9f8a26fc1c97f679\n",
      "🧪 View experiment at: http://127.0.0.1:8081/#/experiments/887994607810552918\n"
     ]
    },
    {
     "data": {
      "application/vnd.jupyter.widget-view+json": {
       "model_id": "2967172e46a44642b2d86e1090fb9f7d",
       "version_major": 2,
       "version_minor": 0
      },
      "text/plain": [
       "Predicting: 35it [00:00, ?it/s]"
      ]
     },
     "metadata": {},
     "output_type": "display_data"
    },
    {
     "name": "stderr",
     "output_type": "stream",
     "text": [
      "INFO:src.models.gnet:Predictions for test.\n",
      "LOCAL_RANK: 0 - CUDA_VISIBLE_DEVICES: [0,1,2,3]\n"
     ]
    },
    {
     "name": "stdout",
     "output_type": "stream",
     "text": [
      "🏃 View run delicate-seal-790 at: http://127.0.0.1:8081/#/experiments/887994607810552918/runs/fb94cd8dc7804c5b9f8a26fc1c97f679\n",
      "🧪 View experiment at: http://127.0.0.1:8081/#/experiments/887994607810552918\n"
     ]
    },
    {
     "data": {
      "application/vnd.jupyter.widget-view+json": {
       "model_id": "097813fe47e144d097f30c0d19259eb6",
       "version_major": 2,
       "version_minor": 0
      },
      "text/plain": [
       "Predicting: 35it [00:00, ?it/s]"
      ]
     },
     "metadata": {},
     "output_type": "display_data"
    },
    {
     "name": "stderr",
     "output_type": "stream",
     "text": [
      "INFO:src.models.gnet:Predictions for test.\n",
      "LOCAL_RANK: 0 - CUDA_VISIBLE_DEVICES: [0,1,2,3]\n"
     ]
    },
    {
     "name": "stdout",
     "output_type": "stream",
     "text": [
      "🏃 View run delicate-seal-790 at: http://127.0.0.1:8081/#/experiments/887994607810552918/runs/fb94cd8dc7804c5b9f8a26fc1c97f679\n",
      "🧪 View experiment at: http://127.0.0.1:8081/#/experiments/887994607810552918\n"
     ]
    },
    {
     "data": {
      "application/vnd.jupyter.widget-view+json": {
       "model_id": "bea66362673841acb50b80a3c02efb87",
       "version_major": 2,
       "version_minor": 0
      },
      "text/plain": [
       "Predicting: 35it [00:00, ?it/s]"
      ]
     },
     "metadata": {},
     "output_type": "display_data"
    },
    {
     "name": "stderr",
     "output_type": "stream",
     "text": [
      "INFO:src.models.gnet:Predictions for test.\n",
      "LOCAL_RANK: 0 - CUDA_VISIBLE_DEVICES: [0,1,2,3]\n"
     ]
    },
    {
     "name": "stdout",
     "output_type": "stream",
     "text": [
      "🏃 View run delicate-seal-790 at: http://127.0.0.1:8081/#/experiments/887994607810552918/runs/fb94cd8dc7804c5b9f8a26fc1c97f679\n",
      "🧪 View experiment at: http://127.0.0.1:8081/#/experiments/887994607810552918\n"
     ]
    },
    {
     "data": {
      "application/vnd.jupyter.widget-view+json": {
       "model_id": "f2ac7eb6c8754efab369e779a53e778b",
       "version_major": 2,
       "version_minor": 0
      },
      "text/plain": [
       "Predicting: 35it [00:00, ?it/s]"
      ]
     },
     "metadata": {},
     "output_type": "display_data"
    },
    {
     "name": "stderr",
     "output_type": "stream",
     "text": [
      "INFO:src.models.gnet:Predictions for test.\n",
      "LOCAL_RANK: 0 - CUDA_VISIBLE_DEVICES: [0,1,2,3]\n"
     ]
    },
    {
     "name": "stdout",
     "output_type": "stream",
     "text": [
      "🏃 View run delicate-seal-790 at: http://127.0.0.1:8081/#/experiments/887994607810552918/runs/fb94cd8dc7804c5b9f8a26fc1c97f679\n",
      "🧪 View experiment at: http://127.0.0.1:8081/#/experiments/887994607810552918\n"
     ]
    },
    {
     "data": {
      "application/vnd.jupyter.widget-view+json": {
       "model_id": "bc925917be1f4309bbe8d940bb2f0564",
       "version_major": 2,
       "version_minor": 0
      },
      "text/plain": [
       "Predicting: 35it [00:00, ?it/s]"
      ]
     },
     "metadata": {},
     "output_type": "display_data"
    },
    {
     "name": "stderr",
     "output_type": "stream",
     "text": [
      "INFO:src.models.gnet:Predictions for test.\n",
      "LOCAL_RANK: 0 - CUDA_VISIBLE_DEVICES: [0,1,2,3]\n"
     ]
    },
    {
     "name": "stdout",
     "output_type": "stream",
     "text": [
      "🏃 View run delicate-seal-790 at: http://127.0.0.1:8081/#/experiments/887994607810552918/runs/fb94cd8dc7804c5b9f8a26fc1c97f679\n",
      "🧪 View experiment at: http://127.0.0.1:8081/#/experiments/887994607810552918\n"
     ]
    },
    {
     "data": {
      "application/vnd.jupyter.widget-view+json": {
       "model_id": "a641f00c06dd4ef58b24e3facae3e87e",
       "version_major": 2,
       "version_minor": 0
      },
      "text/plain": [
       "Predicting: 35it [00:00, ?it/s]"
      ]
     },
     "metadata": {},
     "output_type": "display_data"
    },
    {
     "name": "stderr",
     "output_type": "stream",
     "text": [
      "INFO:src.models.gnet:Predictions for test.\n",
      "LOCAL_RANK: 0 - CUDA_VISIBLE_DEVICES: [0,1,2,3]\n"
     ]
    },
    {
     "name": "stdout",
     "output_type": "stream",
     "text": [
      "🏃 View run delicate-seal-790 at: http://127.0.0.1:8081/#/experiments/887994607810552918/runs/fb94cd8dc7804c5b9f8a26fc1c97f679\n",
      "🧪 View experiment at: http://127.0.0.1:8081/#/experiments/887994607810552918\n"
     ]
    },
    {
     "data": {
      "application/vnd.jupyter.widget-view+json": {
       "model_id": "3c6e136b69514d41bcd888ec777ab0fb",
       "version_major": 2,
       "version_minor": 0
      },
      "text/plain": [
       "Predicting: 35it [00:00, ?it/s]"
      ]
     },
     "metadata": {},
     "output_type": "display_data"
    },
    {
     "name": "stderr",
     "output_type": "stream",
     "text": [
      "INFO:src.models.gnet:Predictions for test.\n",
      "LOCAL_RANK: 0 - CUDA_VISIBLE_DEVICES: [0,1,2,3]\n"
     ]
    },
    {
     "name": "stdout",
     "output_type": "stream",
     "text": [
      "🏃 View run delicate-seal-790 at: http://127.0.0.1:8081/#/experiments/887994607810552918/runs/fb94cd8dc7804c5b9f8a26fc1c97f679\n",
      "🧪 View experiment at: http://127.0.0.1:8081/#/experiments/887994607810552918\n"
     ]
    },
    {
     "data": {
      "application/vnd.jupyter.widget-view+json": {
       "model_id": "0cfd38b9128b414e93c9da8c76414c5c",
       "version_major": 2,
       "version_minor": 0
      },
      "text/plain": [
       "Predicting: 35it [00:00, ?it/s]"
      ]
     },
     "metadata": {},
     "output_type": "display_data"
    },
    {
     "name": "stderr",
     "output_type": "stream",
     "text": [
      "INFO:src.models.gnet:Predictions for test.\n",
      "LOCAL_RANK: 0 - CUDA_VISIBLE_DEVICES: [0,1,2,3]\n"
     ]
    },
    {
     "name": "stdout",
     "output_type": "stream",
     "text": [
      "🏃 View run delicate-seal-790 at: http://127.0.0.1:8081/#/experiments/887994607810552918/runs/fb94cd8dc7804c5b9f8a26fc1c97f679\n",
      "🧪 View experiment at: http://127.0.0.1:8081/#/experiments/887994607810552918\n"
     ]
    },
    {
     "data": {
      "application/vnd.jupyter.widget-view+json": {
       "model_id": "572877929f124ff28fb33914246e8b35",
       "version_major": 2,
       "version_minor": 0
      },
      "text/plain": [
       "Predicting: 35it [00:00, ?it/s]"
      ]
     },
     "metadata": {},
     "output_type": "display_data"
    },
    {
     "name": "stderr",
     "output_type": "stream",
     "text": [
      "INFO:src.models.gnet:Predictions for test.\n",
      "LOCAL_RANK: 0 - CUDA_VISIBLE_DEVICES: [0,1,2,3]\n"
     ]
    },
    {
     "name": "stdout",
     "output_type": "stream",
     "text": [
      "🏃 View run delicate-seal-790 at: http://127.0.0.1:8081/#/experiments/887994607810552918/runs/fb94cd8dc7804c5b9f8a26fc1c97f679\n",
      "🧪 View experiment at: http://127.0.0.1:8081/#/experiments/887994607810552918\n"
     ]
    },
    {
     "data": {
      "application/vnd.jupyter.widget-view+json": {
       "model_id": "7394e71696fc4687bd472c1ee8d3d155",
       "version_major": 2,
       "version_minor": 0
      },
      "text/plain": [
       "Predicting: 35it [00:00, ?it/s]"
      ]
     },
     "metadata": {},
     "output_type": "display_data"
    },
    {
     "name": "stderr",
     "output_type": "stream",
     "text": [
      "INFO:src.models.gnet:Predictions for test.\n",
      "LOCAL_RANK: 0 - CUDA_VISIBLE_DEVICES: [0,1,2,3]\n"
     ]
    },
    {
     "name": "stdout",
     "output_type": "stream",
     "text": [
      "🏃 View run delicate-seal-790 at: http://127.0.0.1:8081/#/experiments/887994607810552918/runs/fb94cd8dc7804c5b9f8a26fc1c97f679\n",
      "🧪 View experiment at: http://127.0.0.1:8081/#/experiments/887994607810552918\n"
     ]
    },
    {
     "data": {
      "application/vnd.jupyter.widget-view+json": {
       "model_id": "5e7494fae7c84eaea3d3c94d65a21955",
       "version_major": 2,
       "version_minor": 0
      },
      "text/plain": [
       "Predicting: 35it [00:00, ?it/s]"
      ]
     },
     "metadata": {},
     "output_type": "display_data"
    },
    {
     "name": "stderr",
     "output_type": "stream",
     "text": [
      "INFO:src.models.gnet:Predictions for test.\n",
      "LOCAL_RANK: 0 - CUDA_VISIBLE_DEVICES: [0,1,2,3]\n"
     ]
    },
    {
     "name": "stdout",
     "output_type": "stream",
     "text": [
      "🏃 View run delicate-seal-790 at: http://127.0.0.1:8081/#/experiments/887994607810552918/runs/fb94cd8dc7804c5b9f8a26fc1c97f679\n",
      "🧪 View experiment at: http://127.0.0.1:8081/#/experiments/887994607810552918\n"
     ]
    },
    {
     "data": {
      "application/vnd.jupyter.widget-view+json": {
       "model_id": "ed717bd4e6404daeb3a3d7a35ab9d445",
       "version_major": 2,
       "version_minor": 0
      },
      "text/plain": [
       "Predicting: 35it [00:00, ?it/s]"
      ]
     },
     "metadata": {},
     "output_type": "display_data"
    },
    {
     "name": "stderr",
     "output_type": "stream",
     "text": [
      "INFO:src.models.gnet:Predictions for test.\n",
      "LOCAL_RANK: 0 - CUDA_VISIBLE_DEVICES: [0,1,2,3]\n"
     ]
    },
    {
     "name": "stdout",
     "output_type": "stream",
     "text": [
      "🏃 View run delicate-seal-790 at: http://127.0.0.1:8081/#/experiments/887994607810552918/runs/fb94cd8dc7804c5b9f8a26fc1c97f679\n",
      "🧪 View experiment at: http://127.0.0.1:8081/#/experiments/887994607810552918\n"
     ]
    },
    {
     "data": {
      "application/vnd.jupyter.widget-view+json": {
       "model_id": "94c3de74e5e6441b9c7c6e4e94e1e970",
       "version_major": 2,
       "version_minor": 0
      },
      "text/plain": [
       "Predicting: 35it [00:00, ?it/s]"
      ]
     },
     "metadata": {},
     "output_type": "display_data"
    },
    {
     "name": "stderr",
     "output_type": "stream",
     "text": [
      "INFO:src.models.gnet:Predictions for test.\n",
      "LOCAL_RANK: 0 - CUDA_VISIBLE_DEVICES: [0,1,2,3]\n"
     ]
    },
    {
     "name": "stdout",
     "output_type": "stream",
     "text": [
      "🏃 View run delicate-seal-790 at: http://127.0.0.1:8081/#/experiments/887994607810552918/runs/fb94cd8dc7804c5b9f8a26fc1c97f679\n",
      "🧪 View experiment at: http://127.0.0.1:8081/#/experiments/887994607810552918\n"
     ]
    },
    {
     "data": {
      "application/vnd.jupyter.widget-view+json": {
       "model_id": "d2625c452bcf4a03805e0fdbc4b2dfc5",
       "version_major": 2,
       "version_minor": 0
      },
      "text/plain": [
       "Predicting: 35it [00:00, ?it/s]"
      ]
     },
     "metadata": {},
     "output_type": "display_data"
    },
    {
     "name": "stderr",
     "output_type": "stream",
     "text": [
      "INFO:src.models.gnet:Predictions for test.\n",
      "LOCAL_RANK: 0 - CUDA_VISIBLE_DEVICES: [0,1,2,3]\n"
     ]
    },
    {
     "name": "stdout",
     "output_type": "stream",
     "text": [
      "🏃 View run delicate-seal-790 at: http://127.0.0.1:8081/#/experiments/887994607810552918/runs/fb94cd8dc7804c5b9f8a26fc1c97f679\n",
      "🧪 View experiment at: http://127.0.0.1:8081/#/experiments/887994607810552918\n"
     ]
    },
    {
     "data": {
      "application/vnd.jupyter.widget-view+json": {
       "model_id": "082fdb9e35f24c07a30b95bebf7db0de",
       "version_major": 2,
       "version_minor": 0
      },
      "text/plain": [
       "Predicting: 35it [00:00, ?it/s]"
      ]
     },
     "metadata": {},
     "output_type": "display_data"
    },
    {
     "name": "stderr",
     "output_type": "stream",
     "text": [
      "INFO:src.models.gnet:Predictions for test.\n",
      "LOCAL_RANK: 0 - CUDA_VISIBLE_DEVICES: [0,1,2,3]\n"
     ]
    },
    {
     "name": "stdout",
     "output_type": "stream",
     "text": [
      "🏃 View run delicate-seal-790 at: http://127.0.0.1:8081/#/experiments/887994607810552918/runs/fb94cd8dc7804c5b9f8a26fc1c97f679\n",
      "🧪 View experiment at: http://127.0.0.1:8081/#/experiments/887994607810552918\n"
     ]
    },
    {
     "data": {
      "application/vnd.jupyter.widget-view+json": {
       "model_id": "3d373b8727f148da956ac43dc647d5be",
       "version_major": 2,
       "version_minor": 0
      },
      "text/plain": [
       "Predicting: 35it [00:00, ?it/s]"
      ]
     },
     "metadata": {},
     "output_type": "display_data"
    },
    {
     "name": "stderr",
     "output_type": "stream",
     "text": [
      "INFO:src.models.gnet:Predictions for test.\n",
      "LOCAL_RANK: 0 - CUDA_VISIBLE_DEVICES: [0,1,2,3]\n"
     ]
    },
    {
     "name": "stdout",
     "output_type": "stream",
     "text": [
      "🏃 View run delicate-seal-790 at: http://127.0.0.1:8081/#/experiments/887994607810552918/runs/fb94cd8dc7804c5b9f8a26fc1c97f679\n",
      "🧪 View experiment at: http://127.0.0.1:8081/#/experiments/887994607810552918\n"
     ]
    },
    {
     "data": {
      "application/vnd.jupyter.widget-view+json": {
       "model_id": "8d164c9a1a0b4d5e8922d3dd0d32cbb4",
       "version_major": 2,
       "version_minor": 0
      },
      "text/plain": [
       "Predicting: 35it [00:00, ?it/s]"
      ]
     },
     "metadata": {},
     "output_type": "display_data"
    },
    {
     "name": "stderr",
     "output_type": "stream",
     "text": [
      "INFO:src.models.gnet:Predictions for test.\n",
      "LOCAL_RANK: 0 - CUDA_VISIBLE_DEVICES: [0,1,2,3]\n"
     ]
    },
    {
     "name": "stdout",
     "output_type": "stream",
     "text": [
      "🏃 View run delicate-seal-790 at: http://127.0.0.1:8081/#/experiments/887994607810552918/runs/fb94cd8dc7804c5b9f8a26fc1c97f679\n",
      "🧪 View experiment at: http://127.0.0.1:8081/#/experiments/887994607810552918\n"
     ]
    },
    {
     "data": {
      "application/vnd.jupyter.widget-view+json": {
       "model_id": "0e85babbd1ae4047be5f14a83eda3c74",
       "version_major": 2,
       "version_minor": 0
      },
      "text/plain": [
       "Predicting: 35it [00:00, ?it/s]"
      ]
     },
     "metadata": {},
     "output_type": "display_data"
    },
    {
     "name": "stderr",
     "output_type": "stream",
     "text": [
      "INFO:src.models.gnet:Predictions for test.\n",
      "LOCAL_RANK: 0 - CUDA_VISIBLE_DEVICES: [0,1,2,3]\n"
     ]
    },
    {
     "name": "stdout",
     "output_type": "stream",
     "text": [
      "🏃 View run delicate-seal-790 at: http://127.0.0.1:8081/#/experiments/887994607810552918/runs/fb94cd8dc7804c5b9f8a26fc1c97f679\n",
      "🧪 View experiment at: http://127.0.0.1:8081/#/experiments/887994607810552918\n"
     ]
    },
    {
     "data": {
      "application/vnd.jupyter.widget-view+json": {
       "model_id": "7b749af3216d43efad0c493487a7e404",
       "version_major": 2,
       "version_minor": 0
      },
      "text/plain": [
       "Predicting: 35it [00:00, ?it/s]"
      ]
     },
     "metadata": {},
     "output_type": "display_data"
    },
    {
     "name": "stderr",
     "output_type": "stream",
     "text": [
      "INFO:src.models.gnet:Predictions for test.\n",
      "LOCAL_RANK: 0 - CUDA_VISIBLE_DEVICES: [0,1,2,3]\n"
     ]
    },
    {
     "name": "stdout",
     "output_type": "stream",
     "text": [
      "🏃 View run delicate-seal-790 at: http://127.0.0.1:8081/#/experiments/887994607810552918/runs/fb94cd8dc7804c5b9f8a26fc1c97f679\n",
      "🧪 View experiment at: http://127.0.0.1:8081/#/experiments/887994607810552918\n"
     ]
    },
    {
     "data": {
      "application/vnd.jupyter.widget-view+json": {
       "model_id": "e32f42a9b2e84c4285af67757bfdedfd",
       "version_major": 2,
       "version_minor": 0
      },
      "text/plain": [
       "Predicting: 35it [00:00, ?it/s]"
      ]
     },
     "metadata": {},
     "output_type": "display_data"
    },
    {
     "name": "stderr",
     "output_type": "stream",
     "text": [
      "INFO:src.models.gnet:Predictions for test.\n",
      "LOCAL_RANK: 0 - CUDA_VISIBLE_DEVICES: [0,1,2,3]\n"
     ]
    },
    {
     "name": "stdout",
     "output_type": "stream",
     "text": [
      "🏃 View run delicate-seal-790 at: http://127.0.0.1:8081/#/experiments/887994607810552918/runs/fb94cd8dc7804c5b9f8a26fc1c97f679\n",
      "🧪 View experiment at: http://127.0.0.1:8081/#/experiments/887994607810552918\n"
     ]
    },
    {
     "data": {
      "application/vnd.jupyter.widget-view+json": {
       "model_id": "17e996b73f744ce88e9487bd341d2fdf",
       "version_major": 2,
       "version_minor": 0
      },
      "text/plain": [
       "Predicting: 35it [00:00, ?it/s]"
      ]
     },
     "metadata": {},
     "output_type": "display_data"
    },
    {
     "name": "stderr",
     "output_type": "stream",
     "text": [
      "INFO:src.models.gnet:Predictions for test.\n",
      "LOCAL_RANK: 0 - CUDA_VISIBLE_DEVICES: [0,1,2,3]\n"
     ]
    },
    {
     "name": "stdout",
     "output_type": "stream",
     "text": [
      "🏃 View run delicate-seal-790 at: http://127.0.0.1:8081/#/experiments/887994607810552918/runs/fb94cd8dc7804c5b9f8a26fc1c97f679\n",
      "🧪 View experiment at: http://127.0.0.1:8081/#/experiments/887994607810552918\n"
     ]
    },
    {
     "data": {
      "application/vnd.jupyter.widget-view+json": {
       "model_id": "9f738dbe2357496e97348ef53f519930",
       "version_major": 2,
       "version_minor": 0
      },
      "text/plain": [
       "Predicting: 35it [00:00, ?it/s]"
      ]
     },
     "metadata": {},
     "output_type": "display_data"
    },
    {
     "name": "stderr",
     "output_type": "stream",
     "text": [
      "INFO:src.models.gnet:Predictions for test.\n",
      "LOCAL_RANK: 0 - CUDA_VISIBLE_DEVICES: [0,1,2,3]\n"
     ]
    },
    {
     "name": "stdout",
     "output_type": "stream",
     "text": [
      "🏃 View run delicate-seal-790 at: http://127.0.0.1:8081/#/experiments/887994607810552918/runs/fb94cd8dc7804c5b9f8a26fc1c97f679\n",
      "🧪 View experiment at: http://127.0.0.1:8081/#/experiments/887994607810552918\n"
     ]
    },
    {
     "data": {
      "application/vnd.jupyter.widget-view+json": {
       "model_id": "277f538cd2a24f139d915da86c59e26e",
       "version_major": 2,
       "version_minor": 0
      },
      "text/plain": [
       "Predicting: 35it [00:00, ?it/s]"
      ]
     },
     "metadata": {},
     "output_type": "display_data"
    },
    {
     "name": "stderr",
     "output_type": "stream",
     "text": [
      "INFO:src.models.gnet:Predictions for test.\n",
      "LOCAL_RANK: 0 - CUDA_VISIBLE_DEVICES: [0,1,2,3]\n"
     ]
    },
    {
     "name": "stdout",
     "output_type": "stream",
     "text": [
      "🏃 View run delicate-seal-790 at: http://127.0.0.1:8081/#/experiments/887994607810552918/runs/fb94cd8dc7804c5b9f8a26fc1c97f679\n",
      "🧪 View experiment at: http://127.0.0.1:8081/#/experiments/887994607810552918\n"
     ]
    },
    {
     "data": {
      "application/vnd.jupyter.widget-view+json": {
       "model_id": "d001727d116f48cc9314f1884a0eb541",
       "version_major": 2,
       "version_minor": 0
      },
      "text/plain": [
       "Predicting: 35it [00:00, ?it/s]"
      ]
     },
     "metadata": {},
     "output_type": "display_data"
    },
    {
     "name": "stderr",
     "output_type": "stream",
     "text": [
      "INFO:src.models.gnet:Predictions for test.\n",
      "LOCAL_RANK: 0 - CUDA_VISIBLE_DEVICES: [0,1,2,3]\n"
     ]
    },
    {
     "name": "stdout",
     "output_type": "stream",
     "text": [
      "🏃 View run delicate-seal-790 at: http://127.0.0.1:8081/#/experiments/887994607810552918/runs/fb94cd8dc7804c5b9f8a26fc1c97f679\n",
      "🧪 View experiment at: http://127.0.0.1:8081/#/experiments/887994607810552918\n"
     ]
    },
    {
     "data": {
      "application/vnd.jupyter.widget-view+json": {
       "model_id": "0950d42cd5734da397845db83d1900db",
       "version_major": 2,
       "version_minor": 0
      },
      "text/plain": [
       "Predicting: 35it [00:00, ?it/s]"
      ]
     },
     "metadata": {},
     "output_type": "display_data"
    },
    {
     "name": "stderr",
     "output_type": "stream",
     "text": [
      "INFO:src.models.gnet:Predictions for test.\n",
      "LOCAL_RANK: 0 - CUDA_VISIBLE_DEVICES: [0,1,2,3]\n"
     ]
    },
    {
     "name": "stdout",
     "output_type": "stream",
     "text": [
      "🏃 View run delicate-seal-790 at: http://127.0.0.1:8081/#/experiments/887994607810552918/runs/fb94cd8dc7804c5b9f8a26fc1c97f679\n",
      "🧪 View experiment at: http://127.0.0.1:8081/#/experiments/887994607810552918\n"
     ]
    },
    {
     "data": {
      "application/vnd.jupyter.widget-view+json": {
       "model_id": "2d17fc8c396b40f5be4add4e6c4705fd",
       "version_major": 2,
       "version_minor": 0
      },
      "text/plain": [
       "Predicting: 35it [00:00, ?it/s]"
      ]
     },
     "metadata": {},
     "output_type": "display_data"
    },
    {
     "name": "stderr",
     "output_type": "stream",
     "text": [
      "INFO:src.models.gnet:Predictions for test.\n",
      "LOCAL_RANK: 0 - CUDA_VISIBLE_DEVICES: [0,1,2,3]\n"
     ]
    },
    {
     "name": "stdout",
     "output_type": "stream",
     "text": [
      "🏃 View run delicate-seal-790 at: http://127.0.0.1:8081/#/experiments/887994607810552918/runs/fb94cd8dc7804c5b9f8a26fc1c97f679\n",
      "🧪 View experiment at: http://127.0.0.1:8081/#/experiments/887994607810552918\n"
     ]
    },
    {
     "data": {
      "application/vnd.jupyter.widget-view+json": {
       "model_id": "8457bb8e1b6448c29b58c1de51f5c0af",
       "version_major": 2,
       "version_minor": 0
      },
      "text/plain": [
       "Predicting: 35it [00:00, ?it/s]"
      ]
     },
     "metadata": {},
     "output_type": "display_data"
    },
    {
     "name": "stderr",
     "output_type": "stream",
     "text": [
      "INFO:src.models.gnet:Predictions for test.\n",
      "LOCAL_RANK: 0 - CUDA_VISIBLE_DEVICES: [0,1,2,3]\n"
     ]
    },
    {
     "name": "stdout",
     "output_type": "stream",
     "text": [
      "🏃 View run delicate-seal-790 at: http://127.0.0.1:8081/#/experiments/887994607810552918/runs/fb94cd8dc7804c5b9f8a26fc1c97f679\n",
      "🧪 View experiment at: http://127.0.0.1:8081/#/experiments/887994607810552918\n"
     ]
    },
    {
     "data": {
      "application/vnd.jupyter.widget-view+json": {
       "model_id": "15651f45e26043f6bc1b92d0b57a8222",
       "version_major": 2,
       "version_minor": 0
      },
      "text/plain": [
       "Predicting: 35it [00:00, ?it/s]"
      ]
     },
     "metadata": {},
     "output_type": "display_data"
    },
    {
     "name": "stderr",
     "output_type": "stream",
     "text": [
      "INFO:__main__:Test normalised RMSE (n-step prediction): {'2-step': 1.4451800245329933, '3-step': 1.8008652533312692, '4-step': 2.0004625959842484, '5-step': 2.1730871523048516, '6-step': 2.343778518295649}\n"
     ]
    },
    {
     "name": "stdout",
     "output_type": "stream",
     "text": [
      "🏃 View run delicate-seal-790 at: http://127.0.0.1:8081/#/experiments/887994607810552918/runs/fb94cd8dc7804c5b9f8a26fc1c97f679\n",
      "🧪 View experiment at: http://127.0.0.1:8081/#/experiments/887994607810552918\n",
      "🏃 View run delicate-seal-790 at: http://127.0.0.1:8081/#/experiments/887994607810552918/runs/fb94cd8dc7804c5b9f8a26fc1c97f679\n",
      "🧪 View experiment at: http://127.0.0.1:8081/#/experiments/887994607810552918\n"
     ]
    },
    {
     "data": {
      "text/plain": [
       "{'encoder_val_rmse_all': 0.6958152216516413,\n",
       " 'encoder_val_rmse_orig': 0.6864977016771162,\n",
       " 'encoder_test_rmse_all': 1.0475353371382192,\n",
       " 'encoder_test_rmse_orig': 0.818291905494028,\n",
       " 'encoder_test_rmse_last': 0.7632298904565646,\n",
       " 'decoder_val_rmse_all': 0.6958152216516413,\n",
       " 'decoder_val_rmse_orig': 0.6864977016771162,\n",
       " 'decoder_test_rmse_2-step': 1.4451800245329933,\n",
       " 'decoder_test_rmse_3-step': 1.8008652533312692,\n",
       " 'decoder_test_rmse_4-step': 2.0004625959842484,\n",
       " 'decoder_test_rmse_5-step': 2.1730871523048516,\n",
       " 'decoder_test_rmse_6-step': 2.343778518295649}"
      ]
     },
     "execution_count": 4,
     "metadata": {},
     "output_type": "execute_result"
    }
   ],
   "source": [
    "import logging\n",
    "import hydra\n",
    "import torch\n",
    "from omegaconf import DictConfig, OmegaConf\n",
    "from hydra.utils import instantiate\n",
    "from torch.utils.data import DataLoader\n",
    "from pytorch_lightning import Trainer\n",
    "from pytorch_lightning.utilities.seed import seed_everything\n",
    "from pytorch_lightning.callbacks import LearningRateMonitor\n",
    "\n",
    "from src.models.utils import AlphaRise, FilteringMlFlowLogger\n",
    "\n",
    "logging.basicConfig(level=logging.INFO)\n",
    "logger = logging.getLogger(__name__)\n",
    "torch.set_default_dtype(torch.double)\n",
    "\n",
    "\n",
    "# Load the configuration file\n",
    "config_path = '/work/postresearch/Shared/Researchers/Farbod/cancer/code/CausalDiff/config/cancer_sim_gnet.yaml'\n",
    "args = OmegaConf.load(config_path)\n",
    "\n",
    "\n",
    "def main(args: DictConfig):\n",
    "    \"\"\"\n",
    "    Training / evaluation script for G-Net\n",
    "    Args:\n",
    "        args: arguments of run as DictConfig\n",
    "\n",
    "    Returns: dict with results (one and nultiple-step-ahead RMSEs)\n",
    "    \"\"\"\n",
    "\n",
    "    results = {}\n",
    "\n",
    "    # Non-strict access to fields\n",
    "    OmegaConf.set_struct(args, False)\n",
    "    OmegaConf.register_new_resolver(\"sum\", lambda x, y: x + y, replace=True)\n",
    "    logger.info('\\n' + OmegaConf.to_yaml(args, resolve=True))\n",
    "\n",
    "    # Initialisation of data\n",
    "    seed_everything(args.exp.seed)\n",
    "    dataset_collection = instantiate(args.dataset, _recursive_=True)\n",
    "    dataset_collection.process_data_multi()\n",
    "    args.model.dim_outcomes = dataset_collection.train_f.data['outputs'].shape[-1]\n",
    "    args.model.dim_treatments = dataset_collection.train_f.data['current_treatments'].shape[-1]\n",
    "    args.model.dim_vitals = dataset_collection.train_f.data[\n",
    "        'vitals'].shape[-1] if dataset_collection.has_vitals else 0\n",
    "    args.model.dim_static_features = dataset_collection.train_f.data['static_features'].shape[-1]\n",
    "\n",
    "    # Conditional networks outputs are of uniform dim between (dim_outcomes + dim_vitals)\n",
    "    args.model.g_net.comp_sizes = \\\n",
    "        [(args.model.dim_outcomes + args.model.dim_vitals) //\n",
    "         args.model.g_net.num_comp] * args.model.g_net.num_comp\n",
    "\n",
    "    # MlFlow Logger\n",
    "    if args.exp.logging:\n",
    "        experiment_name = f'{args.model.name}/{args.dataset.name}'\n",
    "        mlf_logger = FilteringMlFlowLogger(\n",
    "            filter_submodels=[], experiment_name=experiment_name, tracking_uri=args.exp.mlflow_uri)\n",
    "        model_callbacks = [LearningRateMonitor(logging_interval='epoch')]\n",
    "        artifacts_path = hydra.utils.to_absolute_path(\n",
    "            mlf_logger.experiment.get_run(mlf_logger.run_id).info.artifact_uri)\n",
    "    else:\n",
    "        mlf_logger = None\n",
    "        artifacts_path = None\n",
    "        model_callbacks = []\n",
    "\n",
    "    # ============================== Initialisation & Training of G-Net ==============================\n",
    "    model = instantiate(args.model.g_net, args,\n",
    "                        dataset_collection, _recursive_=False)\n",
    "    if args.model.g_net.tune_hparams:\n",
    "        model.finetune(\n",
    "            resources_per_trial=args.model.g_net.resources_per_trial)\n",
    "\n",
    "    trainer = Trainer(gpus=eval(str(args.exp.gpus)), logger=mlf_logger, max_epochs=args.exp.max_epochs, callbacks=model_callbacks,\n",
    "                      terminate_on_nan=True)\n",
    "    trainer.fit(model)\n",
    "\n",
    "    # Validation factual rmse\n",
    "    val_rmse_orig, val_rmse_all = model.get_normalised_masked_rmse(\n",
    "        dataset_collection.val_f)\n",
    "    logger.info(\n",
    "        f'Val normalised RMSE (all): {val_rmse_all}; Val normalised RMSE (orig): {val_rmse_orig}')\n",
    "\n",
    "    encoder_results = {}\n",
    "    if hasattr(dataset_collection, 'test_cf_one_step'):  # Test one_step_counterfactual rmse\n",
    "        test_rmse_orig, test_rmse_all, test_rmse_last = model.get_normalised_masked_rmse(dataset_collection.test_cf_one_step,\n",
    "                                                                                         one_step_counterfactual=True)\n",
    "        logger.info(f'Test normalised RMSE (all): {test_rmse_all}; '\n",
    "                    f'Test normalised RMSE (orig): {test_rmse_orig}; '\n",
    "                    f'Test normalised RMSE (only counterfactual): {test_rmse_last}')\n",
    "        encoder_results = {\n",
    "            'encoder_val_rmse_all': val_rmse_all,\n",
    "            'encoder_val_rmse_orig': val_rmse_orig,\n",
    "            'encoder_test_rmse_all': test_rmse_all,\n",
    "            'encoder_test_rmse_orig': test_rmse_orig,\n",
    "            'encoder_test_rmse_last': test_rmse_last\n",
    "        }\n",
    "    elif hasattr(dataset_collection, 'test_f'):  # Test factual rmse\n",
    "        test_rmse_orig, test_rmse_all = model.get_normalised_masked_rmse(\n",
    "            dataset_collection.test_f)\n",
    "        logger.info(\n",
    "            f'Test normalised RMSE (all): {test_rmse_all}; Test normalised RMSE (orig): {test_rmse_orig}.')\n",
    "        encoder_results = {\n",
    "            'encoder_val_rmse_all': val_rmse_all,\n",
    "            'encoder_val_rmse_orig': val_rmse_orig,\n",
    "            'encoder_test_rmse_all': test_rmse_all,\n",
    "            'encoder_test_rmse_orig': test_rmse_orig\n",
    "        }\n",
    "\n",
    "    mlf_logger.log_metrics(encoder_results) if args.exp.logging else None\n",
    "    results.update(encoder_results)\n",
    "\n",
    "    test_rmses = {}\n",
    "    if hasattr(dataset_collection, 'test_cf_treatment_seq_mc'):  # Test n_step_counterfactual rmse\n",
    "        test_rmses = model.get_normalised_n_step_rmses(dataset_collection.test_cf_treatment_seq,\n",
    "                                                       dataset_collection.test_cf_treatment_seq_mc)\n",
    "    elif hasattr(dataset_collection, 'test_f_mc'):  # Test n_step_factual rmse\n",
    "        test_rmses = model.get_normalised_n_step_rmses(\n",
    "            dataset_collection.test_f, dataset_collection.test_f_mc)\n",
    "\n",
    "    test_rmses = {f'{k+2}-step': v for (k, v) in enumerate(test_rmses)}\n",
    "\n",
    "    logger.info(f'Test normalised RMSE (n-step prediction): {test_rmses}')\n",
    "    decoder_results = {\n",
    "        'decoder_val_rmse_all': val_rmse_all,\n",
    "        'decoder_val_rmse_orig': val_rmse_orig\n",
    "    }\n",
    "    decoder_results.update(\n",
    "        {('decoder_test_rmse_' + k): v for (k, v) in test_rmses.items()})\n",
    "\n",
    "    mlf_logger.log_metrics(decoder_results) if args.exp.logging else None\n",
    "    results.update(decoder_results)\n",
    "    mlf_logger.experiment.set_terminated(\n",
    "        mlf_logger.run_id) if args.exp.logging else None\n",
    "\n",
    "    return results\n",
    "\n",
    "\n",
    "if __name__ == \"__main__\":\n",
    "    main(args)"
   ]
  },
  {
   "cell_type": "code",
   "execution_count": null,
   "metadata": {},
   "outputs": [],
   "source": []
  }
 ],
 "metadata": {
  "kernelspec": {
   "display_name": "torch_old",
   "language": "python",
   "name": "python3"
  },
  "language_info": {
   "codemirror_mode": {
    "name": "ipython",
    "version": 3
   },
   "file_extension": ".py",
   "mimetype": "text/x-python",
   "name": "python",
   "nbconvert_exporter": "python",
   "pygments_lexer": "ipython3",
   "version": "3.11.11"
  }
 },
 "nbformat": 4,
 "nbformat_minor": 2
}
